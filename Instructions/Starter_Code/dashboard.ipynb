{
 "cells": [
  {
   "cell_type": "markdown",
   "metadata": {},
   "source": [
    "# Toronto Dwellings Analysis Dashboard\n",
    "\n",
    "In this notebook, you will compile the visualizations from the previous analysis into functions to create a Panel dashboard."
   ]
  },
  {
   "cell_type": "code",
   "execution_count": 104,
   "metadata": {},
   "outputs": [],
   "source": [
    "# imports\n",
    "import panel as pn\n",
    "pn.extension('plotly')\n",
    "import plotly.express as px\n",
    "import pandas as pd\n",
    "import hvplot.pandas\n",
    "import matplotlib.pyplot as plt\n",
    "import os\n",
    "from pathlib import Path\n",
    "from dotenv import load_dotenv"
   ]
  },
  {
   "cell_type": "code",
   "execution_count": 105,
   "metadata": {},
   "outputs": [],
   "source": [
    "# Initialize the Panel Extensions (for Plotly)\n",
    "import panel as pn\n",
    "pn.extension(\"plotly\")"
   ]
  },
  {
   "cell_type": "code",
   "execution_count": 106,
   "metadata": {},
   "outputs": [],
   "source": [
    "# Read the Mapbox API key\n",
    "load_dotenv()\n",
    "map_box_api = os.getenv(\"mapbox\")\n",
    "px.set_mapbox_access_token(map_box_api)"
   ]
  },
  {
   "cell_type": "markdown",
   "metadata": {},
   "source": [
    "# Import Data"
   ]
  },
  {
   "cell_type": "code",
   "execution_count": 107,
   "metadata": {},
   "outputs": [],
   "source": [
    "# Import the CSVs to Pandas DataFrames\n",
    "file_path = Path(\"Data/toronto_neighbourhoods_census_data.csv\")\n",
    "to_data = pd.read_csv(file_path, index_col=\"year\")\n",
    "\n",
    "file_path = Path(\"Data/toronto_neighbourhoods_coordinates.csv\")\n",
    "df_neighbourhood_locations = pd.read_csv(file_path)"
   ]
  },
  {
   "cell_type": "markdown",
   "metadata": {},
   "source": [
    "- - -"
   ]
  },
  {
   "cell_type": "markdown",
   "metadata": {},
   "source": [
    "## Panel Visualizations\n",
    "\n",
    "In this section, you will copy the code for each plot type from your analysis notebook and place it into separate functions that Panel can use to create panes for the dashboard. \n",
    "\n",
    "These functions will convert the plot object to a Panel pane.\n",
    "\n",
    "Be sure to include any DataFrame transformation/manipulation code required along with the plotting code.\n",
    "\n",
    "Return a Panel pane object from each function that can be used to build the dashboard.\n",
    "\n",
    "Note: Remove any `.show()` lines from the code. We want to return the plots instead of showing them. The Panel dashboard will then display the plots."
   ]
  },
  {
   "cell_type": "markdown",
   "metadata": {},
   "source": [
    "### Global available data"
   ]
  },
  {
   "cell_type": "code",
   "execution_count": 108,
   "metadata": {},
   "outputs": [],
   "source": [
    "# Getting the data from the top 10 expensive neighbourhoods\n",
    "top_10 = to_data.groupby('neighbourhood').mean().reset_index().sort_values('average_house_value', ascending=False).reset_index().drop(columns=['index'])\n",
    "top_10 = top_10[:10]\n",
    "top_10_expensive_neighbourhoods = top_10[['neighbourhood', 'average_house_value']]\n",
    "\n",
    "# Calculate the mean number of dwelling types units per year\n",
    "mean_dwelling_types_ = to_data.groupby('year').mean()[['single_detached_house', 'apartment_five_storeys_plus', 'movable_dwelling', 'semi_detached_house', 'row_house', 'duplex', 'apartment_five_storeys_less', 'other_house']]\n",
    "mean_dwelling_types_.reset_index()\n",
    "\n",
    "# Calculate the average monthly shelter costs for owned and rented dwellings\n",
    "shelter_costs = to_data.groupby('year').mean()[['shelter_costs_owned', 'shelter_costs_rented']].reset_index()\n",
    "\n",
    "\n",
    "#--------------------------------------------------------------------#\n",
    "\n",
    "\n",
    "##Calculations for each chart?\n",
    "\n",
    "#sorted data and set varibales from rental_anaysis\n",
    "#neighbourhood map df\n",
    "#grabbing ave values sorted by neighbourhood then combining it with locations dropping duplicated columns\n",
    "values_neighbourhood = to_data[['neighbourhood', 'average_house_value']]\n",
    "values_neighbourhood.reset_index().groupby('neighbourhood')\n",
    "\n",
    "ave_neighbourhood_values = values_neighbourhood.groupby('neighbourhood').mean()\n",
    "ave_neighbourhood_values = ave_neighbourhood_values.reset_index()\n",
    "    \n",
    "#combined_location_values = pd.concat([df_neighbourhood_locations, ave_neighbourhood_values], axis=1)\n",
    "#combined_location_values = combined_location_values.loc[:,~combined_location_values.columns.duplicated()]\n",
    "\n",
    "#bar chart calculations \n",
    "#sum of dwellings df \n",
    "num_dwel_per_yr = to_data.groupby('year').sum()\n",
    "num_dwel_per_yr = num_dwel_per_yr[['single_detached_house', 'apartment_five_storeys_plus', 'movable_dwelling', 'semi_detached_house', 'row_house', 'duplex', 'apartment_five_storeys_less', 'other_house']]\n",
    "\n",
    "\n",
    "#average house value df \n",
    "#average_house_value is already an average \n",
    "values_neighbourhood = to_data[['neighbourhood', 'average_house_value']]\n",
    "values_neighbourhood.reset_index().groupby('neighbourhood')\n",
    "\n",
    "#ave house value per year df\n",
    "ave_house_value_yr = to_data['average_house_value'].groupby('year').mean()\n",
    "\n",
    "#number dwelling types, just grabbing dwelling type columns\n",
    "dwelling_types = to_data[['neighbourhood', 'single_detached_house', 'apartment_five_storeys_plus', 'movable_dwelling', 'semi_detached_house', 'row_house', 'duplex', 'apartment_five_storeys_less', 'other_house']]\n",
    "\n"
   ]
  },
  {
   "cell_type": "markdown",
   "metadata": {},
   "source": [
    "### Panel Visualization Functions"
   ]
  },
  {
   "cell_type": "code",
   "execution_count": 193,
   "metadata": {},
   "outputs": [],
   "source": [
    "# Define Panel visualization functions\n",
    "def neighbourhood_map(): \n",
    "    \"\"\"Neighbourhood Map\"\"\"\n",
    "    combined_location_values = pd.concat([df_neighbourhood_locations, ave_neighbourhood_values], axis=1)\n",
    "    combined_location_values = combined_location_values.loc[:,~combined_location_values.columns.duplicated()]\n",
    "    map_plot = px.scatter_mapbox(combined_location_values, lat='lat', lon='lon', color='neighbourhood', size='average_house_value', zoom=4)\n",
    "    return map_plot\n",
    "\n",
    "\n",
    "\n",
    "def create_bar_chart(data, title, xlabel, ylabel, color):\n",
    "    \"\"\"\n",
    "    Create a barplot based in the data argument.\n",
    "    \"\"\"\n",
    "    fig = data.hvplot.bar(title=title, xlabel=xlabel, ylabel=ylabel, rot=90, height=400, width=500, color=color)\n",
    "    return fig\n",
    "#\n",
    "    \n",
    "    \n",
    "def create_line_chart(data, title, xlabel, ylabel, color):\n",
    "    \"\"\"\n",
    "    Create a line chart based in the data argument.\n",
    "    \"\"\"\n",
    "    chart = data.hvplot.line(title = title, x=xlabel, y=ylabel, xlabel=xlabel, ylabel=ylabel, color=color)\n",
    "    return chart\n",
    "    #\n",
    "    \n",
    "def average_house_value():\n",
    "    \"\"\"Average house values per year.\"\"\"\n",
    "    ave_house_value_plot = ave_house_value_yr.hvplot.line(title='Average House Value in Toronto')\n",
    "    return ave_house_value_plot\n",
    "    \n",
    "    \n",
    "    \n",
    "def average_value_by_neighbourhood():\n",
    "    \"\"\"Average house values by neighbourhood.\"\"\"\n",
    "    plot = values_neighbourhood.hvplot.line(\n",
    "    \"year\",\n",
    "    \"average_house_value\",\n",
    "    xlabel=\"year\",\n",
    "    ylabel=\"average_house_value\",\n",
    "    groupby=\"neighbourhood\")\n",
    "    return plot\n",
    "    #\n",
    "    \n",
    "def number_dwelling_types():\n",
    "    \"\"\"Number of dwelling types per year\"\"\"\n",
    "    \n",
    "    num_types = dwelling_types.hvplot.bar(\n",
    "    \"year\",\n",
    "    xlabel=\"year\",\n",
    "    ylabel=\"number of dwelling types\",\n",
    "    groupby=\"neighbourhood\",\n",
    "    rot=90)\n",
    "    return num_types\n",
    "#\n",
    "    \n",
    "def average_house_value_snapshot():\n",
    "    \"\"\"Average house value for all Toronto's neighbourhoods per year.\"\"\"\n",
    "\n",
    "    # I would plot a bar chart for average house value by neighbourhood, then do a groupby=\"year\"=\n",
    "    ave_house_val = ave_house_value_yr.reset_index()\n",
    "    return ave_house_val\n",
    "    \n",
    "    \n",
    "def top_most_expensive_neighbourhoods():\n",
    "    \"\"\"Top 10 most expensive neighbourhoods.\"\"\"\n",
    "    \n",
    "    plot = top_10_expensive_neighbourhoods.hvplot.bar(\n",
    "    'neighbourhood',\n",
    "    title='Most Expensive Neighbourhoods by House Value',\n",
    "    xlabel=\"Neighbourhoods\",\n",
    "    ylabel=\"Average House Value(Price)\",\n",
    "    rot=30,\n",
    "    color='green')\n",
    "    return plot\n",
    "    \n",
    "    \n",
    "def sunburts_cost_analysis():\n",
    "    \"\"\"Sunburst chart to conduct a costs analysis of most expensive neighbourhoods in Toronto per year.\"\"\"\n",
    "    \n",
    "    # NA\n",
    "    \n",
    "    "
   ]
  },
  {
   "cell_type": "code",
   "execution_count": null,
   "metadata": {},
   "outputs": [],
   "source": []
  },
  {
   "cell_type": "markdown",
   "metadata": {},
   "source": [
    "## Panel Dashboard\n",
    "\n",
    "In this section, you will combine all of the plots into a single dashboard view using Panel. Be creative with your dashboard design!"
   ]
  },
  {
   "cell_type": "code",
   "execution_count": 195,
   "metadata": {},
   "outputs": [],
   "source": [
    "# Create a Title for the Dashboard\n",
    "title = pn.Column(\n",
    "    '#Real Estate Investment Analysis Dashboard',\n",
    "    '##Toronto Canada'\n",
    ")\n",
    "\n",
    "# Define a welcome text\n",
    "welcome = pn.Column(\n",
    "    '*Welcome, this dashboard contains: *'\n",
    ")\n",
    "\n",
    "# Create a tab layout for the dashboard\n",
    "#num_dwel_per_yr tabs\n",
    "tabs = pn.Tabs(\n",
    "    ('2001',create_bar_chart(num_dwel_per_yr.loc[2001], 'Dwelling types in Toronto in 2001', '2001', 'dwelling type units', 'red')),\n",
    "    ('2006',create_bar_chart(num_dwel_per_yr.loc[2006], 'Dwelling types in Toronto in 2006', '2006', 'dwelling type units', 'blue')),\n",
    "    ('2011',create_bar_chart(num_dwel_per_yr.loc[2011], 'Dwelling types in Toronto in 2011', '2011', 'dwelling type units', 'orange')),\n",
    "    ('2016', create_bar_chart(num_dwel_per_yr.loc[2016], 'Dwelling types in Toronto in 2016', '2016', 'dwelling type units', 'pink'))\n",
    ")\n",
    "\n",
    "#line chart of ave monthly shelter costs\n",
    "line_chart_rows = pn.Tabs(\n",
    "    ('Owned Dwellings', create_line_chart(shelter_costs, title=\"Average Monthly Shelter Cost for Owned Dwellings in Toronto\", xlabel='year', ylabel='shelter_costs_owned', color='green')),\n",
    "    ('Rented Dwellings', create_line_chart(shelter_costs, title=\"Average Monthly Shelter Cost for Rented Dwellings in Toronto\", xlabel='year', ylabel='shelter_costs_rented', color='orange'))\n",
    ")\n",
    "\n",
    "# Create the main dashboard:\n",
    "dashboard = pn.Column(\n",
    "    title,\n",
    "    welcome,    \n",
    "    '##Number of Dwelling Types Per Year',\n",
    "    tabs,\n",
    "    '##Average Monthly Shelter Cost for Owned Dwellings in Toronto',\n",
    "    line_chart_rows,\n",
    "    average_house_value(), \n",
    "    '##Neighbourhood Average Value and Number of Dwellings',\n",
    "    average_value_by_neighbourhood(),\n",
    "    number_dwelling_types(),\n",
    "    top_most_expensive_neighbourhoods(),\n",
    "    '##Average for each year',\n",
    "    average_house_value_snapshot(),\n",
    "    '##Average House Value By Neighbourhood',\n",
    "    neighbourhood_map()\n",
    ")"
   ]
  },
  {
   "cell_type": "markdown",
   "metadata": {},
   "source": [
    "## Serve the Panel Dashboard"
   ]
  },
  {
   "cell_type": "code",
   "execution_count": 196,
   "metadata": {},
   "outputs": [
    {
     "data": {},
     "metadata": {},
     "output_type": "display_data"
    },
    {
     "data": {},
     "metadata": {},
     "output_type": "display_data"
    },
    {
     "data": {
      "application/vnd.holoviews_exec.v0+json": "",
      "text/html": [
       "<div id='53750'>\n",
       "\n",
       "\n",
       "\n",
       "\n",
       "\n",
       "  <div class=\"bk-root\" id=\"d3657737-4d44-4018-979d-78df90685317\" data-root-id=\"53750\"></div>\n",
       "</div>\n",
       "<script type=\"application/javascript\">(function(root) {\n",
       "  function embed_document(root) {\n",
       "    var docs_json = {\"641ba3c7-13f0-4407-bbd3-9955eee9f1ec\":{\"defs\":[{\"extends\":null,\"module\":null,\"name\":\"ReactiveHTML1\",\"overrides\":[],\"properties\":[]},{\"extends\":null,\"module\":null,\"name\":\"FlexBox1\",\"overrides\":[],\"properties\":[{\"default\":\"flex-start\",\"kind\":null,\"name\":\"align_content\"},{\"default\":\"flex-start\",\"kind\":null,\"name\":\"align_items\"},{\"default\":\"row\",\"kind\":null,\"name\":\"flex_direction\"},{\"default\":\"wrap\",\"kind\":null,\"name\":\"flex_wrap\"},{\"default\":\"flex-start\",\"kind\":null,\"name\":\"justify_content\"}]},{\"extends\":null,\"module\":null,\"name\":\"TemplateActions1\",\"overrides\":[],\"properties\":[{\"default\":0,\"kind\":null,\"name\":\"open_modal\"},{\"default\":0,\"kind\":null,\"name\":\"close_modal\"}]},{\"extends\":null,\"module\":null,\"name\":\"MaterialTemplateActions1\",\"overrides\":[],\"properties\":[{\"default\":0,\"kind\":null,\"name\":\"open_modal\"},{\"default\":0,\"kind\":null,\"name\":\"close_modal\"}]}],\"roots\":{\"references\":[{\"attributes\":{},\"id\":\"54742\",\"type\":\"UnionRenderers\"},{\"attributes\":{\"tools\":[{\"id\":\"54242\"},{\"id\":\"54260\"},{\"id\":\"54261\"},{\"id\":\"54262\"},{\"id\":\"54263\"},{\"id\":\"54264\"}]},\"id\":\"54266\",\"type\":\"Toolbar\"},{\"attributes\":{},\"id\":\"54740\",\"type\":\"UnionRenderers\"},{\"attributes\":{\"data\":{\"lat\":[{\"__ndarray__\":\"hKk9V6HdRUA=\",\"dtype\":\"float64\",\"order\":\"little\",\"shape\":[1]}],\"lon\":[{\"__ndarray__\":\"oEhBAeXaU8A=\",\"dtype\":\"float64\",\"order\":\"little\",\"shape\":[1]}],\"marker.size\":[{\"__ndarray__\":\"AAAAgN5kLEE=\",\"dtype\":\"float64\",\"order\":\"little\",\"shape\":[1]}]},\"selected\":{\"id\":\"54643\"},\"selection_policy\":{\"id\":\"54642\"}},\"id\":\"54476\",\"type\":\"ColumnDataSource\"},{\"attributes\":{},\"id\":\"54751\",\"type\":\"Selection\"},{\"attributes\":{\"overlay\":{\"id\":\"54265\"}},\"id\":\"54263\",\"type\":\"BoxZoomTool\"},{\"attributes\":{},\"id\":\"54380\",\"type\":\"UnionRenderers\"},{\"attributes\":{\"source\":{\"id\":\"53926\"}},\"id\":\"53933\",\"type\":\"CDSView\"},{\"attributes\":{},\"id\":\"54765\",\"type\":\"Selection\"},{\"attributes\":{},\"id\":\"54264\",\"type\":\"ResetTool\"},{\"attributes\":{\"data\":{\"lat\":[{\"__ndarray__\":\"lz1kJUHVRUA=\",\"dtype\":\"float64\",\"order\":\"little\",\"shape\":[1]}],\"lon\":[{\"__ndarray__\":\"HFI1D9riU8A=\",\"dtype\":\"float64\",\"order\":\"little\",\"shape\":[1]}],\"marker.size\":[{\"__ndarray__\":\"AAAAAGVeJ0E=\",\"dtype\":\"float64\",\"order\":\"little\",\"shape\":[1]}]},\"selected\":{\"id\":\"54823\"},\"selection_policy\":{\"id\":\"54822\"}},\"id\":\"54566\",\"type\":\"ColumnDataSource\"},{\"attributes\":{},\"id\":\"54758\",\"type\":\"UnionRenderers\"},{\"attributes\":{\"children\":[{\"id\":\"54394\"},{\"id\":\"54396\"}],\"margin\":[0,0,0,0],\"name\":\"Column33706\"},\"id\":\"54393\",\"type\":\"Column\"},{\"attributes\":{\"data\":{\"lat\":[{\"__ndarray__\":\"4vBZCaPcRUA=\",\"dtype\":\"float64\",\"order\":\"little\",\"shape\":[1]}],\"lon\":[{\"__ndarray__\":\"B8EVFj3kU8A=\",\"dtype\":\"float64\",\"order\":\"little\",\"shape\":[1]}],\"marker.size\":[{\"__ndarray__\":\"AAAAAJ0IFkE=\",\"dtype\":\"float64\",\"order\":\"little\",\"shape\":[1]}]},\"selected\":{\"id\":\"54827\"},\"selection_policy\":{\"id\":\"54826\"}},\"id\":\"54568\",\"type\":\"ColumnDataSource\"},{\"attributes\":{\"factors\":[\"single_detached_house\",\"apartment_five_storeys_plus\",\"movable_dwelling\",\"semi_detached_house\",\"row_house\",\"duplex\",\"apartment_five_storeys_less\",\"other_house\"],\"palette\":[\"#30a2da\",\"#fc4f30\",\"#e5ae38\",\"#6d904f\",\"#8b8b8b\",\"#17becf\",\"#9467bd\",\"#d62728\"]},\"id\":\"54351\",\"type\":\"CategoricalColorMapper\"},{\"attributes\":{},\"id\":\"54262\",\"type\":\"WheelZoomTool\"},{\"attributes\":{\"fill_color\":{\"field\":\"Variable\",\"transform\":{\"id\":\"54351\"}},\"hatch_color\":{\"field\":\"Variable\",\"transform\":{\"id\":\"54351\"}},\"top\":{\"field\":\"value\"},\"width\":{\"value\":0.8},\"x\":{\"field\":\"xoffsets\"}},\"id\":\"54355\",\"type\":\"VBar\"},{\"attributes\":{\"data\":{\"lat\":[{\"__ndarray__\":\"uff0ARbbRUA=\",\"dtype\":\"float64\",\"order\":\"little\",\"shape\":[1]}],\"lon\":[{\"__ndarray__\":\"Q4QLu+DfU8A=\",\"dtype\":\"float64\",\"order\":\"little\",\"shape\":[1]}],\"marker.size\":[{\"__ndarray__\":\"AAAAAMpPGkE=\",\"dtype\":\"float64\",\"order\":\"little\",\"shape\":[1]}]},\"selected\":{\"id\":\"54839\"},\"selection_policy\":{\"id\":\"54838\"}},\"id\":\"54574\",\"type\":\"ColumnDataSource\"},{\"attributes\":{},\"id\":\"54753\",\"type\":\"Selection\"},{\"attributes\":{\"data\":{\"lat\":[{\"__ndarray__\":\"O3ZIGKPiRUA=\",\"dtype\":\"float64\",\"order\":\"little\",\"shape\":[1]}],\"lon\":[{\"__ndarray__\":\"JfsQ6bHZU8A=\",\"dtype\":\"float64\",\"order\":\"little\",\"shape\":[1]}],\"marker.size\":[{\"__ndarray__\":\"AAAAANagHEE=\",\"dtype\":\"float64\",\"order\":\"little\",\"shape\":[1]}]},\"selected\":{\"id\":\"54883\"},\"selection_policy\":{\"id\":\"54882\"}},\"id\":\"54596\",\"type\":\"ColumnDataSource\"},{\"attributes\":{},\"id\":\"54746\",\"type\":\"UnionRenderers\"},{\"attributes\":{},\"id\":\"54741\",\"type\":\"Selection\"},{\"attributes\":{},\"id\":\"54759\",\"type\":\"Selection\"},{\"attributes\":{},\"id\":\"54628\",\"type\":\"UnionRenderers\"},{\"attributes\":{},\"id\":\"54747\",\"type\":\"Selection\"},{\"attributes\":{},\"id\":\"54771\",\"type\":\"Selection\"},{\"attributes\":{},\"id\":\"54769\",\"type\":\"Selection\"},{\"attributes\":{\"data\":{\"lat\":[{\"__ndarray__\":\"AfLrqGbXRUA=\",\"dtype\":\"float64\",\"order\":\"little\",\"shape\":[1]}],\"lon\":[{\"__ndarray__\":\"rxLigEzYU8A=\",\"dtype\":\"float64\",\"order\":\"little\",\"shape\":[1]}],\"marker.size\":[{\"__ndarray__\":\"AAAAAAiwMEE=\",\"dtype\":\"float64\",\"order\":\"little\",\"shape\":[1]}]},\"selected\":{\"id\":\"54833\"},\"selection_policy\":{\"id\":\"54832\"}},\"id\":\"54571\",\"type\":\"ColumnDataSource\"},{\"attributes\":{},\"id\":\"54734\",\"type\":\"UnionRenderers\"},{\"attributes\":{},\"id\":\"54054\",\"type\":\"WheelZoomTool\"},{\"attributes\":{\"data\":{\"shelter_costs_owned\":{\"__ndarray__\":\"UAd1UAd3ikAzMzMzM5OUQG7btm3boJZA1EEd1EGFm0A=\",\"dtype\":\"float64\",\"order\":\"little\",\"shape\":[4]},\"year\":[2001,2006,2011,2016]},\"selected\":{\"id\":\"54066\"},\"selection_policy\":{\"id\":\"54087\"}},\"id\":\"54065\",\"type\":\"ColumnDataSource\"},{\"attributes\":{\"data\":{\"lat\":[{\"__ndarray__\":\"K38Iu/LkRUA=\",\"dtype\":\"float64\",\"order\":\"little\",\"shape\":[1]}],\"lon\":[{\"__ndarray__\":\"oZuiyP/QU8A=\",\"dtype\":\"float64\",\"order\":\"little\",\"shape\":[1]}],\"marker.size\":[{\"__ndarray__\":\"AAAAALRlFEE=\",\"dtype\":\"float64\",\"order\":\"little\",\"shape\":[1]}]},\"selected\":{\"id\":\"54627\"},\"selection_policy\":{\"id\":\"54626\"}},\"id\":\"54468\",\"type\":\"ColumnDataSource\"},{\"attributes\":{\"data\":{\"lat\":[{\"__ndarray__\":\"mjORiF/WRUA=\",\"dtype\":\"float64\",\"order\":\"little\",\"shape\":[1]}],\"lon\":[{\"__ndarray__\":\"UM6rlaTfU8A=\",\"dtype\":\"float64\",\"order\":\"little\",\"shape\":[1]}],\"marker.size\":[{\"__ndarray__\":\"AAAAAPEYFUE=\",\"dtype\":\"float64\",\"order\":\"little\",\"shape\":[1]}]},\"selected\":{\"id\":\"54829\"},\"selection_policy\":{\"id\":\"54828\"}},\"id\":\"54569\",\"type\":\"ColumnDataSource\"},{\"attributes\":{\"data\":{\"lat\":[{\"__ndarray__\":\"UldnSqXWRUA=\",\"dtype\":\"float64\",\"order\":\"little\",\"shape\":[1]}],\"lon\":[{\"__ndarray__\":\"YY0OozvbU8A=\",\"dtype\":\"float64\",\"order\":\"little\",\"shape\":[1]}],\"marker.size\":[{\"__ndarray__\":\"AAAAALFFIUE=\",\"dtype\":\"float64\",\"order\":\"little\",\"shape\":[1]}]},\"selected\":{\"id\":\"54895\"},\"selection_policy\":{\"id\":\"54894\"}},\"id\":\"54602\",\"type\":\"ColumnDataSource\"},{\"attributes\":{\"bottom_units\":\"screen\",\"coordinates\":null,\"fill_alpha\":0.5,\"fill_color\":\"lightgrey\",\"group\":null,\"left_units\":\"screen\",\"level\":\"overlay\",\"line_alpha\":1.0,\"line_color\":\"black\",\"line_dash\":[4,4],\"line_width\":2,\"right_units\":\"screen\",\"syncable\":false,\"top_units\":\"screen\"},\"id\":\"54265\",\"type\":\"BoxAnnotation\"},{\"attributes\":{\"data\":{\"lat\":[{\"__ndarray__\":\"6Y96mfLZRUA=\",\"dtype\":\"float64\",\"order\":\"little\",\"shape\":[1]}],\"lon\":[{\"__ndarray__\":\"04MnmQHhU8A=\",\"dtype\":\"float64\",\"order\":\"little\",\"shape\":[1]}],\"marker.size\":[{\"__ndarray__\":\"AAAAAJ/MEkE=\",\"dtype\":\"float64\",\"order\":\"little\",\"shape\":[1]}]},\"selected\":{\"id\":\"54877\"},\"selection_policy\":{\"id\":\"54876\"}},\"id\":\"54593\",\"type\":\"ColumnDataSource\"},{\"attributes\":{},\"id\":\"54745\",\"type\":\"Selection\"},{\"attributes\":{\"axis_label\":\"dwelling type units\",\"coordinates\":null,\"formatter\":{\"id\":\"54007\"},\"group\":null,\"major_label_policy\":{\"id\":\"54008\"},\"ticker\":{\"id\":\"53978\"}},\"id\":\"53977\",\"type\":\"LinearAxis\"},{\"attributes\":{\"data\":{\"lat\":[{\"__ndarray__\":\"kv7iQjPaRUA=\",\"dtype\":\"float64\",\"order\":\"little\",\"shape\":[1]}],\"lon\":[{\"__ndarray__\":\"xkjda9TZU8A=\",\"dtype\":\"float64\",\"order\":\"little\",\"shape\":[1]}],\"marker.size\":[{\"__ndarray__\":\"AAAAgCO2KEE=\",\"dtype\":\"float64\",\"order\":\"little\",\"shape\":[1]}]},\"selected\":{\"id\":\"54897\"},\"selection_policy\":{\"id\":\"54896\"}},\"id\":\"54603\",\"type\":\"ColumnDataSource\"},{\"attributes\":{},\"id\":\"54834\",\"type\":\"UnionRenderers\"},{\"attributes\":{\"data\":{\"lat\":[{\"__ndarray__\":\"J5F1Hx3pRUA=\",\"dtype\":\"float64\",\"order\":\"little\",\"shape\":[1]}],\"lon\":[{\"__ndarray__\":\"ueQTDe3LU8A=\",\"dtype\":\"float64\",\"order\":\"little\",\"shape\":[1]}],\"marker.size\":[{\"__ndarray__\":\"AAAAAHv3FkE=\",\"dtype\":\"float64\",\"order\":\"little\",\"shape\":[1]}]},\"selected\":{\"id\":\"54835\"},\"selection_policy\":{\"id\":\"54834\"}},\"id\":\"54572\",\"type\":\"ColumnDataSource\"},{\"attributes\":{\"data\":{\"lat\":[{\"__ndarray__\":\"s+OvXn/RRUA=\",\"dtype\":\"float64\",\"order\":\"little\",\"shape\":[1]}],\"lon\":[{\"__ndarray__\":\"uO9qHB7cU8A=\",\"dtype\":\"float64\",\"order\":\"little\",\"shape\":[1]}],\"marker.size\":[{\"__ndarray__\":\"AAAAANpPG0E=\",\"dtype\":\"float64\",\"order\":\"little\",\"shape\":[1]}]},\"selected\":{\"id\":\"54843\"},\"selection_policy\":{\"id\":\"54842\"}},\"id\":\"54576\",\"type\":\"ColumnDataSource\"},{\"attributes\":{\"data\":{\"lat\":[{\"__ndarray__\":\"/INQ9+TVRUA=\",\"dtype\":\"float64\",\"order\":\"little\",\"shape\":[1]}],\"lon\":[{\"__ndarray__\":\"tFXuqizTU8A=\",\"dtype\":\"float64\",\"order\":\"little\",\"shape\":[1]}],\"marker.size\":[{\"__ndarray__\":\"AAAAAIRVJEE=\",\"dtype\":\"float64\",\"order\":\"little\",\"shape\":[1]}]},\"selected\":{\"id\":\"54857\"},\"selection_policy\":{\"id\":\"54856\"}},\"id\":\"54583\",\"type\":\"ColumnDataSource\"},{\"attributes\":{\"data\":{\"lat\":[{\"__ndarray__\":\"9Ru7fqDWRUA=\",\"dtype\":\"float64\",\"order\":\"little\",\"shape\":[1]}],\"lon\":[{\"__ndarray__\":\"F4Fvoi/UU8A=\",\"dtype\":\"float64\",\"order\":\"little\",\"shape\":[1]}],\"marker.size\":[{\"__ndarray__\":\"AAAAABsvG0E=\",\"dtype\":\"float64\",\"order\":\"little\",\"shape\":[1]}]},\"selected\":{\"id\":\"54891\"},\"selection_policy\":{\"id\":\"54890\"}},\"id\":\"54600\",\"type\":\"ColumnDataSource\"},{\"attributes\":{},\"id\":\"54802\",\"type\":\"UnionRenderers\"},{\"attributes\":{\"factors\":[\"Bridle Path-Sunnybrook-York Mills\",\"Forest Hill South\",\"Lawrence Park South\",\"Rosedale-Moore Park\",\"St.Andrew-Windfields\",\"Casa Loma\",\"Bedford Park-Nortown\",\"Forest Hill North\",\"Kingsway South\",\"Yonge-St.Clair\"],\"tags\":[[[\"neighbourhood\",\"neighbourhood\",null]]]},\"id\":\"54397\",\"type\":\"FactorRange\"},{\"attributes\":{},\"id\":\"54754\",\"type\":\"UnionRenderers\"},{\"attributes\":{},\"id\":\"54799\",\"type\":\"Selection\"},{\"attributes\":{\"axis\":{\"id\":\"53974\"},\"coordinates\":null,\"grid_line_color\":null,\"group\":null,\"ticker\":null},\"id\":\"53976\",\"type\":\"Grid\"},{\"attributes\":{\"data\":{\"lat\":[{\"__ndarray__\":\"hrO2hNfbRUA=\",\"dtype\":\"float64\",\"order\":\"little\",\"shape\":[1]}],\"lon\":[{\"__ndarray__\":\"xgMlYM/hU8A=\",\"dtype\":\"float64\",\"order\":\"little\",\"shape\":[1]}],\"marker.size\":[{\"__ndarray__\":\"AAAAAN2+GEE=\",\"dtype\":\"float64\",\"order\":\"little\",\"shape\":[1]}]},\"selected\":{\"id\":\"54817\"},\"selection_policy\":{\"id\":\"54816\"}},\"id\":\"54563\",\"type\":\"ColumnDataSource\"},{\"attributes\":{\"data\":{\"lat\":[{\"__ndarray__\":\"6nB8BrfiRUA=\",\"dtype\":\"float64\",\"order\":\"little\",\"shape\":[1]}],\"lon\":[{\"__ndarray__\":\"lQlkG13bU8A=\",\"dtype\":\"float64\",\"order\":\"little\",\"shape\":[1]}],\"marker.size\":[{\"__ndarray__\":\"AAAAAFtzHEE=\",\"dtype\":\"float64\",\"order\":\"little\",\"shape\":[1]}]},\"selected\":{\"id\":\"54885\"},\"selection_policy\":{\"id\":\"54884\"}},\"id\":\"54597\",\"type\":\"ColumnDataSource\"},{\"attributes\":{},\"id\":\"54217\",\"type\":\"AllLabels\"},{\"attributes\":{\"data\":{\"lat\":[{\"__ndarray__\":\"HqN+D8XZRUA=\",\"dtype\":\"float64\",\"order\":\"little\",\"shape\":[1]}],\"lon\":[{\"__ndarray__\":\"Sb/55BPfU8A=\",\"dtype\":\"float64\",\"order\":\"little\",\"shape\":[1]}],\"marker.size\":[{\"__ndarray__\":\"AAAAAHxrFUE=\",\"dtype\":\"float64\",\"order\":\"little\",\"shape\":[1]}]},\"selected\":{\"id\":\"54661\"},\"selection_policy\":{\"id\":\"54660\"}},\"id\":\"54485\",\"type\":\"ColumnDataSource\"},{\"attributes\":{\"data\":{\"lat\":[{\"__ndarray__\":\"M597KLTSRUA=\",\"dtype\":\"float64\",\"order\":\"little\",\"shape\":[1]}],\"lon\":[{\"__ndarray__\":\"/0cB/VncU8A=\",\"dtype\":\"float64\",\"order\":\"little\",\"shape\":[1]}],\"marker.size\":[{\"__ndarray__\":\"AAAAACUQH0E=\",\"dtype\":\"float64\",\"order\":\"little\",\"shape\":[1]}]},\"selected\":{\"id\":\"54831\"},\"selection_policy\":{\"id\":\"54830\"}},\"id\":\"54570\",\"type\":\"ColumnDataSource\"},{\"attributes\":{\"data\":{\"lat\":[{\"__ndarray__\":\"LWO//lbbRUA=\",\"dtype\":\"float64\",\"order\":\"little\",\"shape\":[1]}],\"lon\":[{\"__ndarray__\":\"lLK5KALSU8A=\",\"dtype\":\"float64\",\"order\":\"little\",\"shape\":[1]}],\"marker.size\":[{\"__ndarray__\":\"AAAAAO2jFUE=\",\"dtype\":\"float64\",\"order\":\"little\",\"shape\":[1]}]},\"selected\":{\"id\":\"54673\"},\"selection_policy\":{\"id\":\"54672\"}},\"id\":\"54491\",\"type\":\"ColumnDataSource\"},{\"attributes\":{\"data\":{\"lat\":[{\"__ndarray__\":\"MJEc+jjTRUA=\",\"dtype\":\"float64\",\"order\":\"little\",\"shape\":[1]}],\"lon\":[{\"__ndarray__\":\"ZnZI95TaU8A=\",\"dtype\":\"float64\",\"order\":\"little\",\"shape\":[1]}],\"marker.size\":[{\"__ndarray__\":\"AAAAgINPIEE=\",\"dtype\":\"float64\",\"order\":\"little\",\"shape\":[1]}]},\"selected\":{\"id\":\"54863\"},\"selection_policy\":{\"id\":\"54862\"}},\"id\":\"54586\",\"type\":\"ColumnDataSource\"},{\"attributes\":{},\"id\":\"54756\",\"type\":\"UnionRenderers\"},{\"attributes\":{},\"id\":\"54766\",\"type\":\"UnionRenderers\"},{\"attributes\":{\"data\":{\"A_2016\":[269680,493270,95,71200,61565,48585,165575,2845],\"index\":[\"single_detached_house\",\"apartment_five_storeys_plus\",\"movable_dwelling\",\"semi_detached_house\",\"row_house\",\"duplex\",\"apartment_five_storeys_less\",\"other_house\"]},\"selected\":{\"id\":\"53995\"},\"selection_policy\":{\"id\":\"54016\"}},\"id\":\"53994\",\"type\":\"ColumnDataSource\"},{\"attributes\":{\"child\":{\"id\":\"53965\"},\"name\":\"2016\",\"title\":\"2016\"},\"id\":\"54029\",\"type\":\"Panel\"},{\"attributes\":{\"data\":{\"lat\":[{\"__ndarray__\":\"vhr77UbXRUA=\",\"dtype\":\"float64\",\"order\":\"little\",\"shape\":[1]}],\"lon\":[{\"__ndarray__\":\"PJPsxxzaU8A=\",\"dtype\":\"float64\",\"order\":\"little\",\"shape\":[1]}],\"marker.size\":[{\"__ndarray__\":\"AAAAgJDwLUE=\",\"dtype\":\"float64\",\"order\":\"little\",\"shape\":[1]}]},\"selected\":{\"id\":\"54667\"},\"selection_policy\":{\"id\":\"54666\"}},\"id\":\"54488\",\"type\":\"ColumnDataSource\"},{\"attributes\":{},\"id\":\"54801\",\"type\":\"Selection\"},{\"attributes\":{},\"id\":\"53978\",\"type\":\"BasicTicker\"},{\"attributes\":{\"data\":{\"lat\":[{\"__ndarray__\":\"kjLSID/dRUA=\",\"dtype\":\"float64\",\"order\":\"little\",\"shape\":[1]}],\"lon\":[{\"__ndarray__\":\"142Q5CbUU8A=\",\"dtype\":\"float64\",\"order\":\"little\",\"shape\":[1]}],\"marker.size\":[{\"__ndarray__\":\"AAAAABR+FUE=\",\"dtype\":\"float64\",\"order\":\"little\",\"shape\":[1]}]},\"selected\":{\"id\":\"54867\"},\"selection_policy\":{\"id\":\"54866\"}},\"id\":\"54588\",\"type\":\"ColumnDataSource\"},{\"attributes\":{},\"id\":\"54803\",\"type\":\"Selection\"},{\"attributes\":{},\"id\":\"54735\",\"type\":\"Selection\"},{\"attributes\":{},\"id\":\"54833\",\"type\":\"Selection\"},{\"attributes\":{\"data\":{\"lat\":[{\"__ndarray__\":\"u11QW3rbRUA=\",\"dtype\":\"float64\",\"order\":\"little\",\"shape\":[1]}],\"lon\":[{\"__ndarray__\":\"0Ng0QkHdU8A=\",\"dtype\":\"float64\",\"order\":\"little\",\"shape\":[1]}],\"marker.size\":[{\"__ndarray__\":\"AAAAADVMGkE=\",\"dtype\":\"float64\",\"order\":\"little\",\"shape\":[1]}]},\"selected\":{\"id\":\"54903\"},\"selection_policy\":{\"id\":\"54902\"}},\"id\":\"54606\",\"type\":\"ColumnDataSource\"},{\"attributes\":{},\"id\":\"54743\",\"type\":\"Selection\"},{\"attributes\":{},\"id\":\"54770\",\"type\":\"UnionRenderers\"},{\"attributes\":{\"end\":1289.412142857143,\"reset_end\":1289.412142857143,\"reset_start\":892.3235714285714,\"start\":892.3235714285714,\"tags\":[[[\"shelter_costs_rented\",\"shelter_costs_rented\",null]]]},\"id\":\"54102\",\"type\":\"Range1d\"},{\"attributes\":{\"below\":[{\"id\":\"54044\"}],\"center\":[{\"id\":\"54047\"},{\"id\":\"54051\"}],\"height\":300,\"left\":[{\"id\":\"54048\"}],\"margin\":[5,5,5,5],\"min_border_bottom\":10,\"min_border_left\":10,\"min_border_right\":10,\"min_border_top\":10,\"renderers\":[{\"id\":\"54071\"}],\"sizing_mode\":\"fixed\",\"title\":{\"id\":\"54036\"},\"toolbar\":{\"id\":\"54058\"},\"width\":700,\"x_range\":{\"id\":\"54032\"},\"x_scale\":{\"id\":\"54040\"},\"y_range\":{\"id\":\"54033\"},\"y_scale\":{\"id\":\"54042\"}},\"id\":\"54035\",\"subtype\":\"Figure\",\"type\":\"Plot\"},{\"attributes\":{\"data\":{\"lat\":[{\"__ndarray__\":\"hp+s1pHdRUA=\",\"dtype\":\"float64\",\"order\":\"little\",\"shape\":[1]}],\"lon\":[{\"__ndarray__\":\"vFpR9z/YU8A=\",\"dtype\":\"float64\",\"order\":\"little\",\"shape\":[1]}],\"marker.size\":[{\"__ndarray__\":\"AAAAwNVKN0E=\",\"dtype\":\"float64\",\"order\":\"little\",\"shape\":[1]}]},\"selected\":{\"id\":\"54657\"},\"selection_policy\":{\"id\":\"54656\"}},\"id\":\"54483\",\"type\":\"ColumnDataSource\"},{\"attributes\":{\"data\":{\"lat\":[{\"__ndarray__\":\"HZ9eY3beRUA=\",\"dtype\":\"float64\",\"order\":\"little\",\"shape\":[1]}],\"lon\":[{\"__ndarray__\":\"V5+jPBDkU8A=\",\"dtype\":\"float64\",\"order\":\"little\",\"shape\":[1]}],\"marker.size\":[{\"__ndarray__\":\"AAAAAODwFkE=\",\"dtype\":\"float64\",\"order\":\"little\",\"shape\":[1]}]},\"selected\":{\"id\":\"54859\"},\"selection_policy\":{\"id\":\"54858\"}},\"id\":\"54584\",\"type\":\"ColumnDataSource\"},{\"attributes\":{},\"id\":\"54736\",\"type\":\"UnionRenderers\"},{\"attributes\":{},\"id\":\"54835\",\"type\":\"Selection\"},{\"attributes\":{\"data\":{\"lat\":[{\"__ndarray__\":\"2R1afdjYRUA=\",\"dtype\":\"float64\",\"order\":\"little\",\"shape\":[1]}],\"lon\":[{\"__ndarray__\":\"tUNwGurTU8A=\",\"dtype\":\"float64\",\"order\":\"little\",\"shape\":[1]}],\"marker.size\":[{\"__ndarray__\":\"AAAAAPqTFkE=\",\"dtype\":\"float64\",\"order\":\"little\",\"shape\":[1]}]},\"selected\":{\"id\":\"54893\"},\"selection_policy\":{\"id\":\"54892\"}},\"id\":\"54601\",\"type\":\"ColumnDataSource\"},{\"attributes\":{\"data\":{\"average_house_value\":{\"__ndarray__\":\"AAAAwNVKN0EAAACA2D8yQQAAAMCLsTBBAAAAAAiwMEEAAAAAhn0uQQAAAICQ8C1BAAAAgN5kLEEAAAAAwf0pQQAAAIDEuylBAAAAgEjRKEE=\",\"dtype\":\"float64\",\"order\":\"little\",\"shape\":[10]},\"neighbourhood\":[\"Bridle Path-Sunnybrook-York Mills\",\"Forest Hill South\",\"Lawrence Park South\",\"Rosedale-Moore Park\",\"St.Andrew-Windfields\",\"Casa Loma\",\"Bedford Park-Nortown\",\"Forest Hill North\",\"Kingsway South\",\"Yonge-St.Clair\"]},\"selected\":{\"id\":\"54430\"},\"selection_policy\":{\"id\":\"54451\"}},\"id\":\"54429\",\"type\":\"ColumnDataSource\"},{\"attributes\":{},\"id\":\"54748\",\"type\":\"UnionRenderers\"},{\"attributes\":{},\"id\":\"54772\",\"type\":\"UnionRenderers\"},{\"attributes\":{\"data\":{\"lat\":[{\"__ndarray__\":\"1svOJrDjRUA=\",\"dtype\":\"float64\",\"order\":\"little\",\"shape\":[1]}],\"lon\":[{\"__ndarray__\":\"tn2Xa/TcU8A=\",\"dtype\":\"float64\",\"order\":\"little\",\"shape\":[1]}],\"marker.size\":[{\"__ndarray__\":\"AAAAACFSFUE=\",\"dtype\":\"float64\",\"order\":\"little\",\"shape\":[1]}]},\"selected\":{\"id\":\"54875\"},\"selection_policy\":{\"id\":\"54874\"}},\"id\":\"54592\",\"type\":\"ColumnDataSource\"},{\"attributes\":{},\"id\":\"54752\",\"type\":\"UnionRenderers\"},{\"attributes\":{\"data\":{\"lat\":[{\"__ndarray__\":\"2TLPAM3URUA=\",\"dtype\":\"float64\",\"order\":\"little\",\"shape\":[1]}],\"lon\":[{\"__ndarray__\":\"UYTU7azZU8A=\",\"dtype\":\"float64\",\"order\":\"little\",\"shape\":[1]}],\"marker.size\":[{\"__ndarray__\":\"AAAAgJneIkE=\",\"dtype\":\"float64\",\"order\":\"little\",\"shape\":[1]}]},\"selected\":{\"id\":\"54865\"},\"selection_policy\":{\"id\":\"54864\"}},\"id\":\"54587\",\"type\":\"ColumnDataSource\"},{\"attributes\":{\"data\":{\"lat\":[{\"__ndarray__\":\"sfM+pwPiRUA=\",\"dtype\":\"float64\",\"order\":\"little\",\"shape\":[1]}],\"lon\":[{\"__ndarray__\":\"Dfug20nfU8A=\",\"dtype\":\"float64\",\"order\":\"little\",\"shape\":[1]}],\"marker.size\":[{\"__ndarray__\":\"AAAAAK6rEkE=\",\"dtype\":\"float64\",\"order\":\"little\",\"shape\":[1]}]},\"selected\":{\"id\":\"54901\"},\"selection_policy\":{\"id\":\"54900\"}},\"id\":\"54605\",\"type\":\"ColumnDataSource\"},{\"attributes\":{},\"id\":\"54737\",\"type\":\"Selection\"},{\"attributes\":{},\"id\":\"54761\",\"type\":\"Selection\"},{\"attributes\":{\"data\":{\"lat\":[{\"__ndarray__\":\"DsvRqczgRUA=\",\"dtype\":\"float64\",\"order\":\"little\",\"shape\":[1]}],\"lon\":[{\"__ndarray__\":\"WGHIJELYU8A=\",\"dtype\":\"float64\",\"order\":\"little\",\"shape\":[1]}],\"marker.size\":[{\"__ndarray__\":\"AAAAAIZ9LkE=\",\"dtype\":\"float64\",\"order\":\"little\",\"shape\":[1]}]},\"selected\":{\"id\":\"54847\"},\"selection_policy\":{\"id\":\"54846\"}},\"id\":\"54578\",\"type\":\"ColumnDataSource\"},{\"attributes\":{},\"id\":\"54767\",\"type\":\"Selection\"},{\"attributes\":{},\"id\":\"54804\",\"type\":\"UnionRenderers\"},{\"attributes\":{},\"id\":\"54805\",\"type\":\"Selection\"},{\"attributes\":{},\"id\":\"54764\",\"type\":\"UnionRenderers\"},{\"attributes\":{\"data\":[{\"hovertemplate\":\"neighbourhood=Agincourt North<br>average_house_value=%{marker.size}<br>lat=%{lat}<br>lon=%{lon}<extra></extra>\",\"legendgroup\":\"Agincourt North\",\"marker\":{\"color\":\"#636efa\",\"sizemode\":\"area\",\"sizeref\":3816.214375},\"mode\":\"markers\",\"name\":\"Agincourt North\",\"showlegend\":true,\"subplot\":\"mapbox\",\"type\":\"scattermapbox\"},{\"hovertemplate\":\"neighbourhood=Agincourt South-Malvern West<br>average_house_value=%{marker.size}<br>lat=%{lat}<br>lon=%{lon}<extra></extra>\",\"legendgroup\":\"Agincourt South-Malvern West\",\"marker\":{\"color\":\"#EF553B\",\"sizemode\":\"area\",\"sizeref\":3816.214375},\"mode\":\"markers\",\"name\":\"Agincourt South-Malvern West\",\"showlegend\":true,\"subplot\":\"mapbox\",\"type\":\"scattermapbox\"},{\"hovertemplate\":\"neighbourhood=Alderwood<br>average_house_value=%{marker.size}<br>lat=%{lat}<br>lon=%{lon}<extra></extra>\",\"legendgroup\":\"Alderwood\",\"marker\":{\"color\":\"#00cc96\",\"sizemode\":\"area\",\"sizeref\":3816.214375},\"mode\":\"markers\",\"name\":\"Alderwood\",\"showlegend\":true,\"subplot\":\"mapbox\",\"type\":\"scattermapbox\"},{\"hovertemplate\":\"neighbourhood=Annex<br>average_house_value=%{marker.size}<br>lat=%{lat}<br>lon=%{lon}<extra></extra>\",\"legendgroup\":\"Annex\",\"marker\":{\"color\":\"#ab63fa\",\"sizemode\":\"area\",\"sizeref\":3816.214375},\"mode\":\"markers\",\"name\":\"Annex\",\"showlegend\":true,\"subplot\":\"mapbox\",\"type\":\"scattermapbox\"},{\"hovertemplate\":\"neighbourhood=Banbury-Don Mills<br>average_house_value=%{marker.size}<br>lat=%{lat}<br>lon=%{lon}<extra></extra>\",\"legendgroup\":\"Banbury-Don Mills\",\"marker\":{\"color\":\"#FFA15A\",\"sizemode\":\"area\",\"sizeref\":3816.214375},\"mode\":\"markers\",\"name\":\"Banbury-Don Mills\",\"showlegend\":true,\"subplot\":\"mapbox\",\"type\":\"scattermapbox\"},{\"hovertemplate\":\"neighbourhood=Bathurst Manor<br>average_house_value=%{marker.size}<br>lat=%{lat}<br>lon=%{lon}<extra></extra>\",\"legendgroup\":\"Bathurst Manor\",\"marker\":{\"color\":\"#19d3f3\",\"sizemode\":\"area\",\"sizeref\":3816.214375},\"mode\":\"markers\",\"name\":\"Bathurst Manor\",\"showlegend\":true,\"subplot\":\"mapbox\",\"type\":\"scattermapbox\"},{\"hovertemplate\":\"neighbourhood=Bay Street Corridor<br>average_house_value=%{marker.size}<br>lat=%{lat}<br>lon=%{lon}<extra></extra>\",\"legendgroup\":\"Bay Street Corridor\",\"marker\":{\"color\":\"#FF6692\",\"sizemode\":\"area\",\"sizeref\":3816.214375},\"mode\":\"markers\",\"name\":\"Bay Street Corridor\",\"showlegend\":true,\"subplot\":\"mapbox\",\"type\":\"scattermapbox\"},{\"hovertemplate\":\"neighbourhood=Bayview Village<br>average_house_value=%{marker.size}<br>lat=%{lat}<br>lon=%{lon}<extra></extra>\",\"legendgroup\":\"Bayview Village\",\"marker\":{\"color\":\"#B6E880\",\"sizemode\":\"area\",\"sizeref\":3816.214375},\"mode\":\"markers\",\"name\":\"Bayview Village\",\"showlegend\":true,\"subplot\":\"mapbox\",\"type\":\"scattermapbox\"},{\"hovertemplate\":\"neighbourhood=Bayview Woods-Steeles<br>average_house_value=%{marker.size}<br>lat=%{lat}<br>lon=%{lon}<extra></extra>\",\"legendgroup\":\"Bayview Woods-Steeles\",\"marker\":{\"color\":\"#FF97FF\",\"sizemode\":\"area\",\"sizeref\":3816.214375},\"mode\":\"markers\",\"name\":\"Bayview Woods-Steeles\",\"showlegend\":true,\"subplot\":\"mapbox\",\"type\":\"scattermapbox\"},{\"hovertemplate\":\"neighbourhood=Bedford Park-Nortown<br>average_house_value=%{marker.size}<br>lat=%{lat}<br>lon=%{lon}<extra></extra>\",\"legendgroup\":\"Bedford Park-Nortown\",\"marker\":{\"color\":\"#FECB52\",\"sizemode\":\"area\",\"sizeref\":3816.214375},\"mode\":\"markers\",\"name\":\"Bedford Park-Nortown\",\"showlegend\":true,\"subplot\":\"mapbox\",\"type\":\"scattermapbox\"},{\"hovertemplate\":\"neighbourhood=Beechborough-Greenbrook<br>average_house_value=%{marker.size}<br>lat=%{lat}<br>lon=%{lon}<extra></extra>\",\"legendgroup\":\"Beechborough-Greenbrook\",\"marker\":{\"color\":\"#636efa\",\"sizemode\":\"area\",\"sizeref\":3816.214375},\"mode\":\"markers\",\"name\":\"Beechborough-Greenbrook\",\"showlegend\":true,\"subplot\":\"mapbox\",\"type\":\"scattermapbox\"},{\"hovertemplate\":\"neighbourhood=Bendale<br>average_house_value=%{marker.size}<br>lat=%{lat}<br>lon=%{lon}<extra></extra>\",\"legendgroup\":\"Bendale\",\"marker\":{\"color\":\"#EF553B\",\"sizemode\":\"area\",\"sizeref\":3816.214375},\"mode\":\"markers\",\"name\":\"Bendale\",\"showlegend\":true,\"subplot\":\"mapbox\",\"type\":\"scattermapbox\"},{\"hovertemplate\":\"neighbourhood=Birchcliffe-Cliffside<br>average_house_value=%{marker.size}<br>lat=%{lat}<br>lon=%{lon}<extra></extra>\",\"legendgroup\":\"Birchcliffe-Cliffside\",\"marker\":{\"color\":\"#00cc96\",\"sizemode\":\"area\",\"sizeref\":3816.214375},\"mode\":\"markers\",\"name\":\"Birchcliffe-Cliffside\",\"showlegend\":true,\"subplot\":\"mapbox\",\"type\":\"scattermapbox\"},{\"hovertemplate\":\"neighbourhood=Black Creek<br>average_house_value=%{marker.size}<br>lat=%{lat}<br>lon=%{lon}<extra></extra>\",\"legendgroup\":\"Black Creek\",\"marker\":{\"color\":\"#ab63fa\",\"sizemode\":\"area\",\"sizeref\":3816.214375},\"mode\":\"markers\",\"name\":\"Black Creek\",\"showlegend\":true,\"subplot\":\"mapbox\",\"type\":\"scattermapbox\"},{\"hovertemplate\":\"neighbourhood=Blake-Jones<br>average_house_value=%{marker.size}<br>lat=%{lat}<br>lon=%{lon}<extra></extra>\",\"legendgroup\":\"Blake-Jones\",\"marker\":{\"color\":\"#FFA15A\",\"sizemode\":\"area\",\"sizeref\":3816.214375},\"mode\":\"markers\",\"name\":\"Blake-Jones\",\"showlegend\":true,\"subplot\":\"mapbox\",\"type\":\"scattermapbox\"},{\"hovertemplate\":\"neighbourhood=Briar Hill-Belgravia<br>average_house_value=%{marker.size}<br>lat=%{lat}<br>lon=%{lon}<extra></extra>\",\"legendgroup\":\"Briar Hill-Belgravia\",\"marker\":{\"color\":\"#19d3f3\",\"sizemode\":\"area\",\"sizeref\":3816.214375},\"mode\":\"markers\",\"name\":\"Briar Hill-Belgravia\",\"showlegend\":true,\"subplot\":\"mapbox\",\"type\":\"scattermapbox\"},{\"hovertemplate\":\"neighbourhood=Bridle Path-Sunnybrook-York Mills<br>average_house_value=%{marker.size}<br>lat=%{lat}<br>lon=%{lon}<extra></extra>\",\"legendgroup\":\"Bridle Path-Sunnybrook-York Mills\",\"marker\":{\"color\":\"#FF6692\",\"sizemode\":\"area\",\"sizeref\":3816.214375},\"mode\":\"markers\",\"name\":\"Bridle Path-Sunnybrook-York Mills\",\"showlegend\":true,\"subplot\":\"mapbox\",\"type\":\"scattermapbox\"},{\"hovertemplate\":\"neighbourhood=Broadview North<br>average_house_value=%{marker.size}<br>lat=%{lat}<br>lon=%{lon}<extra></extra>\",\"legendgroup\":\"Broadview North\",\"marker\":{\"color\":\"#B6E880\",\"sizemode\":\"area\",\"sizeref\":3816.214375},\"mode\":\"markers\",\"name\":\"Broadview North\",\"showlegend\":true,\"subplot\":\"mapbox\",\"type\":\"scattermapbox\"},{\"hovertemplate\":\"neighbourhood=Brookhaven-Amesbury<br>average_house_value=%{marker.size}<br>lat=%{lat}<br>lon=%{lon}<extra></extra>\",\"legendgroup\":\"Brookhaven-Amesbury\",\"marker\":{\"color\":\"#FF97FF\",\"sizemode\":\"area\",\"sizeref\":3816.214375},\"mode\":\"markers\",\"name\":\"Brookhaven-Amesbury\",\"showlegend\":true,\"subplot\":\"mapbox\",\"type\":\"scattermapbox\"},{\"hovertemplate\":\"neighbourhood=Cabbagetown-South St.James Town<br>average_house_value=%{marker.size}<br>lat=%{lat}<br>lon=%{lon}<extra></extra>\",\"legendgroup\":\"Cabbagetown-South St.James Town\",\"marker\":{\"color\":\"#FECB52\",\"sizemode\":\"area\",\"sizeref\":3816.214375},\"mode\":\"markers\",\"name\":\"Cabbagetown-South St.James Town\",\"showlegend\":true,\"subplot\":\"mapbox\",\"type\":\"scattermapbox\"},{\"hovertemplate\":\"neighbourhood=Caledonia-Fairbank<br>average_house_value=%{marker.size}<br>lat=%{lat}<br>lon=%{lon}<extra></extra>\",\"legendgroup\":\"Caledonia-Fairbank\",\"marker\":{\"color\":\"#636efa\",\"sizemode\":\"area\",\"sizeref\":3816.214375},\"mode\":\"markers\",\"name\":\"Caledonia-Fairbank\",\"showlegend\":true,\"subplot\":\"mapbox\",\"type\":\"scattermapbox\"},{\"hovertemplate\":\"neighbourhood=Casa Loma<br>average_house_value=%{marker.size}<br>lat=%{lat}<br>lon=%{lon}<extra></extra>\",\"legendgroup\":\"Casa Loma\",\"marker\":{\"color\":\"#EF553B\",\"sizemode\":\"area\",\"sizeref\":3816.214375},\"mode\":\"markers\",\"name\":\"Casa Loma\",\"showlegend\":true,\"subplot\":\"mapbox\",\"type\":\"scattermapbox\"},{\"hovertemplate\":\"neighbourhood=Centennial Scarborough<br>average_house_value=%{marker.size}<br>lat=%{lat}<br>lon=%{lon}<extra></extra>\",\"legendgroup\":\"Centennial Scarborough\",\"marker\":{\"color\":\"#00cc96\",\"sizemode\":\"area\",\"sizeref\":3816.214375},\"mode\":\"markers\",\"name\":\"Centennial Scarborough\",\"showlegend\":true,\"subplot\":\"mapbox\",\"type\":\"scattermapbox\"},{\"hovertemplate\":\"neighbourhood=Church-Yonge Corridor<br>average_house_value=%{marker.size}<br>lat=%{lat}<br>lon=%{lon}<extra></extra>\",\"legendgroup\":\"Church-Yonge Corridor\",\"marker\":{\"color\":\"#ab63fa\",\"sizemode\":\"area\",\"sizeref\":3816.214375},\"mode\":\"markers\",\"name\":\"Church-Yonge Corridor\",\"showlegend\":true,\"subplot\":\"mapbox\",\"type\":\"scattermapbox\"},{\"hovertemplate\":\"neighbourhood=Clairlea-Birchmount<br>average_house_value=%{marker.size}<br>lat=%{lat}<br>lon=%{lon}<extra></extra>\",\"legendgroup\":\"Clairlea-Birchmount\",\"marker\":{\"color\":\"#FFA15A\",\"sizemode\":\"area\",\"sizeref\":3816.214375},\"mode\":\"markers\",\"name\":\"Clairlea-Birchmount\",\"showlegend\":true,\"subplot\":\"mapbox\",\"type\":\"scattermapbox\"},{\"hovertemplate\":\"neighbourhood=Clanton Park<br>average_house_value=%{marker.size}<br>lat=%{lat}<br>lon=%{lon}<extra></extra>\",\"legendgroup\":\"Clanton Park\",\"marker\":{\"color\":\"#19d3f3\",\"sizemode\":\"area\",\"sizeref\":3816.214375},\"mode\":\"markers\",\"name\":\"Clanton Park\",\"showlegend\":true,\"subplot\":\"mapbox\",\"type\":\"scattermapbox\"},{\"hovertemplate\":\"neighbourhood=Cliffcrest<br>average_house_value=%{marker.size}<br>lat=%{lat}<br>lon=%{lon}<extra></extra>\",\"legendgroup\":\"Cliffcrest\",\"marker\":{\"color\":\"#FF6692\",\"sizemode\":\"area\",\"sizeref\":3816.214375},\"mode\":\"markers\",\"name\":\"Cliffcrest\",\"showlegend\":true,\"subplot\":\"mapbox\",\"type\":\"scattermapbox\"},{\"hovertemplate\":\"neighbourhood=Corso Italia-Davenport<br>average_house_value=%{marker.size}<br>lat=%{lat}<br>lon=%{lon}<extra></extra>\",\"legendgroup\":\"Corso Italia-Davenport\",\"marker\":{\"color\":\"#B6E880\",\"sizemode\":\"area\",\"sizeref\":3816.214375},\"mode\":\"markers\",\"name\":\"Corso Italia-Davenport\",\"showlegend\":true,\"subplot\":\"mapbox\",\"type\":\"scattermapbox\"},{\"hovertemplate\":\"neighbourhood=Danforth<br>average_house_value=%{marker.size}<br>lat=%{lat}<br>lon=%{lon}<extra></extra>\",\"legendgroup\":\"Danforth\",\"marker\":{\"color\":\"#FF97FF\",\"sizemode\":\"area\",\"sizeref\":3816.214375},\"mode\":\"markers\",\"name\":\"Danforth\",\"showlegend\":true,\"subplot\":\"mapbox\",\"type\":\"scattermapbox\"},{\"hovertemplate\":\"neighbourhood=Danforth-East York<br>average_house_value=%{marker.size}<br>lat=%{lat}<br>lon=%{lon}<extra></extra>\",\"legendgroup\":\"Danforth-East York\",\"marker\":{\"color\":\"#FECB52\",\"sizemode\":\"area\",\"sizeref\":3816.214375},\"mode\":\"markers\",\"name\":\"Danforth-East York\",\"showlegend\":true,\"subplot\":\"mapbox\",\"type\":\"scattermapbox\"},{\"hovertemplate\":\"neighbourhood=Don Valley Village<br>average_house_value=%{marker.size}<br>lat=%{lat}<br>lon=%{lon}<extra></extra>\",\"legendgroup\":\"Don Valley Village\",\"marker\":{\"color\":\"#636efa\",\"sizemode\":\"area\",\"sizeref\":3816.214375},\"mode\":\"markers\",\"name\":\"Don Valley Village\",\"showlegend\":true,\"subplot\":\"mapbox\",\"type\":\"scattermapbox\"},{\"hovertemplate\":\"neighbourhood=Dorset Park<br>average_house_value=%{marker.size}<br>lat=%{lat}<br>lon=%{lon}<extra></extra>\",\"legendgroup\":\"Dorset Park\",\"marker\":{\"color\":\"#EF553B\",\"sizemode\":\"area\",\"sizeref\":3816.214375},\"mode\":\"markers\",\"name\":\"Dorset Park\",\"showlegend\":true,\"subplot\":\"mapbox\",\"type\":\"scattermapbox\"},{\"hovertemplate\":\"neighbourhood=Dovercourt-Wallace Emerson-Juncti<br>average_house_value=%{marker.size}<br>lat=%{lat}<br>lon=%{lon}<extra></extra>\",\"legendgroup\":\"Dovercourt-Wallace Emerson-Juncti\",\"marker\":{\"color\":\"#00cc96\",\"sizemode\":\"area\",\"sizeref\":3816.214375},\"mode\":\"markers\",\"name\":\"Dovercourt-Wallace Emerson-Juncti\",\"showlegend\":true,\"subplot\":\"mapbox\",\"type\":\"scattermapbox\"},{\"hovertemplate\":\"neighbourhood=Downsview-Roding-CFB<br>average_house_value=%{marker.size}<br>lat=%{lat}<br>lon=%{lon}<extra></extra>\",\"legendgroup\":\"Downsview-Roding-CFB\",\"marker\":{\"color\":\"#ab63fa\",\"sizemode\":\"area\",\"sizeref\":3816.214375},\"mode\":\"markers\",\"name\":\"Downsview-Roding-CFB\",\"showlegend\":true,\"subplot\":\"mapbox\",\"type\":\"scattermapbox\"},{\"hovertemplate\":\"neighbourhood=Dufferin Grove<br>average_house_value=%{marker.size}<br>lat=%{lat}<br>lon=%{lon}<extra></extra>\",\"legendgroup\":\"Dufferin Grove\",\"marker\":{\"color\":\"#FFA15A\",\"sizemode\":\"area\",\"sizeref\":3816.214375},\"mode\":\"markers\",\"name\":\"Dufferin Grove\",\"showlegend\":true,\"subplot\":\"mapbox\",\"type\":\"scattermapbox\"},{\"hovertemplate\":\"neighbourhood=East End-Danforth<br>average_house_value=%{marker.size}<br>lat=%{lat}<br>lon=%{lon}<extra></extra>\",\"legendgroup\":\"East End-Danforth\",\"marker\":{\"color\":\"#19d3f3\",\"sizemode\":\"area\",\"sizeref\":3816.214375},\"mode\":\"markers\",\"name\":\"East End-Danforth\",\"showlegend\":true,\"subplot\":\"mapbox\",\"type\":\"scattermapbox\"},{\"hovertemplate\":\"neighbourhood=Edenbridge-Humber Valley<br>average_house_value=%{marker.size}<br>lat=%{lat}<br>lon=%{lon}<extra></extra>\",\"legendgroup\":\"Edenbridge-Humber Valley\",\"marker\":{\"color\":\"#FF6692\",\"sizemode\":\"area\",\"sizeref\":3816.214375},\"mode\":\"markers\",\"name\":\"Edenbridge-Humber Valley\",\"showlegend\":true,\"subplot\":\"mapbox\",\"type\":\"scattermapbox\"},{\"hovertemplate\":\"neighbourhood=Eglinton East<br>average_house_value=%{marker.size}<br>lat=%{lat}<br>lon=%{lon}<extra></extra>\",\"legendgroup\":\"Eglinton East\",\"marker\":{\"color\":\"#B6E880\",\"sizemode\":\"area\",\"sizeref\":3816.214375},\"mode\":\"markers\",\"name\":\"Eglinton East\",\"showlegend\":true,\"subplot\":\"mapbox\",\"type\":\"scattermapbox\"},{\"hovertemplate\":\"neighbourhood=Elms-Old Rexdale<br>average_house_value=%{marker.size}<br>lat=%{lat}<br>lon=%{lon}<extra></extra>\",\"legendgroup\":\"Elms-Old Rexdale\",\"marker\":{\"color\":\"#FF97FF\",\"sizemode\":\"area\",\"sizeref\":3816.214375},\"mode\":\"markers\",\"name\":\"Elms-Old Rexdale\",\"showlegend\":true,\"subplot\":\"mapbox\",\"type\":\"scattermapbox\"},{\"hovertemplate\":\"neighbourhood=Englemount-Lawrence<br>average_house_value=%{marker.size}<br>lat=%{lat}<br>lon=%{lon}<extra></extra>\",\"legendgroup\":\"Englemount-Lawrence\",\"marker\":{\"color\":\"#FECB52\",\"sizemode\":\"area\",\"sizeref\":3816.214375},\"mode\":\"markers\",\"name\":\"Englemount-Lawrence\",\"showlegend\":true,\"subplot\":\"mapbox\",\"type\":\"scattermapbox\"},{\"hovertemplate\":\"neighbourhood=Eringate-Centennial-West Deane<br>average_house_value=%{marker.size}<br>lat=%{lat}<br>lon=%{lon}<extra></extra>\",\"legendgroup\":\"Eringate-Centennial-West Deane\",\"marker\":{\"color\":\"#636efa\",\"sizemode\":\"area\",\"sizeref\":3816.214375},\"mode\":\"markers\",\"name\":\"Eringate-Centennial-West Deane\",\"showlegend\":true,\"subplot\":\"mapbox\",\"type\":\"scattermapbox\"},{\"hovertemplate\":\"neighbourhood=Etobicoke West Mall<br>average_house_value=%{marker.size}<br>lat=%{lat}<br>lon=%{lon}<extra></extra>\",\"legendgroup\":\"Etobicoke West Mall\",\"marker\":{\"color\":\"#EF553B\",\"sizemode\":\"area\",\"sizeref\":3816.214375},\"mode\":\"markers\",\"name\":\"Etobicoke West Mall\",\"showlegend\":true,\"subplot\":\"mapbox\",\"type\":\"scattermapbox\"},{\"hovertemplate\":\"neighbourhood=Flemingdon Park<br>average_house_value=%{marker.size}<br>lat=%{lat}<br>lon=%{lon}<extra></extra>\",\"legendgroup\":\"Flemingdon Park\",\"marker\":{\"color\":\"#00cc96\",\"sizemode\":\"area\",\"sizeref\":3816.214375},\"mode\":\"markers\",\"name\":\"Flemingdon Park\",\"showlegend\":true,\"subplot\":\"mapbox\",\"type\":\"scattermapbox\"},{\"hovertemplate\":\"neighbourhood=Forest Hill North<br>average_house_value=%{marker.size}<br>lat=%{lat}<br>lon=%{lon}<extra></extra>\",\"legendgroup\":\"Forest Hill North\",\"marker\":{\"color\":\"#ab63fa\",\"sizemode\":\"area\",\"sizeref\":3816.214375},\"mode\":\"markers\",\"name\":\"Forest Hill North\",\"showlegend\":true,\"subplot\":\"mapbox\",\"type\":\"scattermapbox\"},{\"hovertemplate\":\"neighbourhood=Forest Hill South<br>average_house_value=%{marker.size}<br>lat=%{lat}<br>lon=%{lon}<extra></extra>\",\"legendgroup\":\"Forest Hill South\",\"marker\":{\"color\":\"#FFA15A\",\"sizemode\":\"area\",\"sizeref\":3816.214375},\"mode\":\"markers\",\"name\":\"Forest Hill South\",\"showlegend\":true,\"subplot\":\"mapbox\",\"type\":\"scattermapbox\"},{\"hovertemplate\":\"neighbourhood=Glenfield-Jane Heights<br>average_house_value=%{marker.size}<br>lat=%{lat}<br>lon=%{lon}<extra></extra>\",\"legendgroup\":\"Glenfield-Jane Heights\",\"marker\":{\"color\":\"#19d3f3\",\"sizemode\":\"area\",\"sizeref\":3816.214375},\"mode\":\"markers\",\"name\":\"Glenfield-Jane Heights\",\"showlegend\":true,\"subplot\":\"mapbox\",\"type\":\"scattermapbox\"},{\"hovertemplate\":\"neighbourhood=Greenwood-Coxwell<br>average_house_value=%{marker.size}<br>lat=%{lat}<br>lon=%{lon}<extra></extra>\",\"legendgroup\":\"Greenwood-Coxwell\",\"marker\":{\"color\":\"#FF6692\",\"sizemode\":\"area\",\"sizeref\":3816.214375},\"mode\":\"markers\",\"name\":\"Greenwood-Coxwell\",\"showlegend\":true,\"subplot\":\"mapbox\",\"type\":\"scattermapbox\"},{\"hovertemplate\":\"neighbourhood=Guildwood<br>average_house_value=%{marker.size}<br>lat=%{lat}<br>lon=%{lon}<extra></extra>\",\"legendgroup\":\"Guildwood\",\"marker\":{\"color\":\"#B6E880\",\"sizemode\":\"area\",\"sizeref\":3816.214375},\"mode\":\"markers\",\"name\":\"Guildwood\",\"showlegend\":true,\"subplot\":\"mapbox\",\"type\":\"scattermapbox\"},{\"hovertemplate\":\"neighbourhood=Henry Farm<br>average_house_value=%{marker.size}<br>lat=%{lat}<br>lon=%{lon}<extra></extra>\",\"legendgroup\":\"Henry Farm\",\"marker\":{\"color\":\"#FF97FF\",\"sizemode\":\"area\",\"sizeref\":3816.214375},\"mode\":\"markers\",\"name\":\"Henry Farm\",\"showlegend\":true,\"subplot\":\"mapbox\",\"type\":\"scattermapbox\"},{\"hovertemplate\":\"neighbourhood=High Park North<br>average_house_value=%{marker.size}<br>lat=%{lat}<br>lon=%{lon}<extra></extra>\",\"legendgroup\":\"High Park North\",\"marker\":{\"color\":\"#FECB52\",\"sizemode\":\"area\",\"sizeref\":3816.214375},\"mode\":\"markers\",\"name\":\"High Park North\",\"showlegend\":true,\"subplot\":\"mapbox\",\"type\":\"scattermapbox\"},{\"hovertemplate\":\"neighbourhood=High Park-Swansea<br>average_house_value=%{marker.size}<br>lat=%{lat}<br>lon=%{lon}<extra></extra>\",\"legendgroup\":\"High Park-Swansea\",\"marker\":{\"color\":\"#636efa\",\"sizemode\":\"area\",\"sizeref\":3816.214375},\"mode\":\"markers\",\"name\":\"High Park-Swansea\",\"showlegend\":true,\"subplot\":\"mapbox\",\"type\":\"scattermapbox\"},{\"hovertemplate\":\"neighbourhood=Highland Creek<br>average_house_value=%{marker.size}<br>lat=%{lat}<br>lon=%{lon}<extra></extra>\",\"legendgroup\":\"Highland Creek\",\"marker\":{\"color\":\"#EF553B\",\"sizemode\":\"area\",\"sizeref\":3816.214375},\"mode\":\"markers\",\"name\":\"Highland Creek\",\"showlegend\":true,\"subplot\":\"mapbox\",\"type\":\"scattermapbox\"},{\"hovertemplate\":\"neighbourhood=Hillcrest Village<br>average_house_value=%{marker.size}<br>lat=%{lat}<br>lon=%{lon}<extra></extra>\",\"legendgroup\":\"Hillcrest Village\",\"marker\":{\"color\":\"#00cc96\",\"sizemode\":\"area\",\"sizeref\":3816.214375},\"mode\":\"markers\",\"name\":\"Hillcrest Village\",\"showlegend\":true,\"subplot\":\"mapbox\",\"type\":\"scattermapbox\"},{\"hovertemplate\":\"neighbourhood=Humber Heights-Westmount<br>average_house_value=%{marker.size}<br>lat=%{lat}<br>lon=%{lon}<extra></extra>\",\"legendgroup\":\"Humber Heights-Westmount\",\"marker\":{\"color\":\"#ab63fa\",\"sizemode\":\"area\",\"sizeref\":3816.214375},\"mode\":\"markers\",\"name\":\"Humber Heights-Westmount\",\"showlegend\":true,\"subplot\":\"mapbox\",\"type\":\"scattermapbox\"},{\"hovertemplate\":\"neighbourhood=Humber Summit<br>average_house_value=%{marker.size}<br>lat=%{lat}<br>lon=%{lon}<extra></extra>\",\"legendgroup\":\"Humber Summit\",\"marker\":{\"color\":\"#FFA15A\",\"sizemode\":\"area\",\"sizeref\":3816.214375},\"mode\":\"markers\",\"name\":\"Humber Summit\",\"showlegend\":true,\"subplot\":\"mapbox\",\"type\":\"scattermapbox\"},{\"hovertemplate\":\"neighbourhood=Humbermede<br>average_house_value=%{marker.size}<br>lat=%{lat}<br>lon=%{lon}<extra></extra>\",\"legendgroup\":\"Humbermede\",\"marker\":{\"color\":\"#19d3f3\",\"sizemode\":\"area\",\"sizeref\":3816.214375},\"mode\":\"markers\",\"name\":\"Humbermede\",\"showlegend\":true,\"subplot\":\"mapbox\",\"type\":\"scattermapbox\"},{\"hovertemplate\":\"neighbourhood=Humewood-Cedarvale<br>average_house_value=%{marker.size}<br>lat=%{lat}<br>lon=%{lon}<extra></extra>\",\"legendgroup\":\"Humewood-Cedarvale\",\"marker\":{\"color\":\"#FF6692\",\"sizemode\":\"area\",\"sizeref\":3816.214375},\"mode\":\"markers\",\"name\":\"Humewood-Cedarvale\",\"showlegend\":true,\"subplot\":\"mapbox\",\"type\":\"scattermapbox\"},{\"hovertemplate\":\"neighbourhood=Ionview<br>average_house_value=%{marker.size}<br>lat=%{lat}<br>lon=%{lon}<extra></extra>\",\"legendgroup\":\"Ionview\",\"marker\":{\"color\":\"#B6E880\",\"sizemode\":\"area\",\"sizeref\":3816.214375},\"mode\":\"markers\",\"name\":\"Ionview\",\"showlegend\":true,\"subplot\":\"mapbox\",\"type\":\"scattermapbox\"},{\"hovertemplate\":\"neighbourhood=Islington-City Centre West<br>average_house_value=%{marker.size}<br>lat=%{lat}<br>lon=%{lon}<extra></extra>\",\"legendgroup\":\"Islington-City Centre West\",\"marker\":{\"color\":\"#FF97FF\",\"sizemode\":\"area\",\"sizeref\":3816.214375},\"mode\":\"markers\",\"name\":\"Islington-City Centre West\",\"showlegend\":true,\"subplot\":\"mapbox\",\"type\":\"scattermapbox\"},{\"hovertemplate\":\"neighbourhood=Junction Area<br>average_house_value=%{marker.size}<br>lat=%{lat}<br>lon=%{lon}<extra></extra>\",\"legendgroup\":\"Junction Area\",\"marker\":{\"color\":\"#FECB52\",\"sizemode\":\"area\",\"sizeref\":3816.214375},\"mode\":\"markers\",\"name\":\"Junction Area\",\"showlegend\":true,\"subplot\":\"mapbox\",\"type\":\"scattermapbox\"},{\"hovertemplate\":\"neighbourhood=Keelesdale-Eglinton West<br>average_house_value=%{marker.size}<br>lat=%{lat}<br>lon=%{lon}<extra></extra>\",\"legendgroup\":\"Keelesdale-Eglinton West\",\"marker\":{\"color\":\"#636efa\",\"sizemode\":\"area\",\"sizeref\":3816.214375},\"mode\":\"markers\",\"name\":\"Keelesdale-Eglinton West\",\"showlegend\":true,\"subplot\":\"mapbox\",\"type\":\"scattermapbox\"},{\"hovertemplate\":\"neighbourhood=Kennedy Park<br>average_house_value=%{marker.size}<br>lat=%{lat}<br>lon=%{lon}<extra></extra>\",\"legendgroup\":\"Kennedy Park\",\"marker\":{\"color\":\"#EF553B\",\"sizemode\":\"area\",\"sizeref\":3816.214375},\"mode\":\"markers\",\"name\":\"Kennedy Park\",\"showlegend\":true,\"subplot\":\"mapbox\",\"type\":\"scattermapbox\"},{\"hovertemplate\":\"neighbourhood=Kensington-Chinatown<br>average_house_value=%{marker.size}<br>lat=%{lat}<br>lon=%{lon}<extra></extra>\",\"legendgroup\":\"Kensington-Chinatown\",\"marker\":{\"color\":\"#00cc96\",\"sizemode\":\"area\",\"sizeref\":3816.214375},\"mode\":\"markers\",\"name\":\"Kensington-Chinatown\",\"showlegend\":true,\"subplot\":\"mapbox\",\"type\":\"scattermapbox\"},{\"hovertemplate\":\"neighbourhood=Kingsview Village-The Westway<br>average_house_value=%{marker.size}<br>lat=%{lat}<br>lon=%{lon}<extra></extra>\",\"legendgroup\":\"Kingsview Village-The Westway\",\"marker\":{\"color\":\"#ab63fa\",\"sizemode\":\"area\",\"sizeref\":3816.214375},\"mode\":\"markers\",\"name\":\"Kingsview Village-The Westway\",\"showlegend\":true,\"subplot\":\"mapbox\",\"type\":\"scattermapbox\"},{\"hovertemplate\":\"neighbourhood=Kingsway South<br>average_house_value=%{marker.size}<br>lat=%{lat}<br>lon=%{lon}<extra></extra>\",\"legendgroup\":\"Kingsway South\",\"marker\":{\"color\":\"#FFA15A\",\"sizemode\":\"area\",\"sizeref\":3816.214375},\"mode\":\"markers\",\"name\":\"Kingsway South\",\"showlegend\":true,\"subplot\":\"mapbox\",\"type\":\"scattermapbox\"},{\"hovertemplate\":\"neighbourhood=L'Amoreaux<br>average_house_value=%{marker.size}<br>lat=%{lat}<br>lon=%{lon}<extra></extra>\",\"legendgroup\":\"L'Amoreaux\",\"marker\":{\"color\":\"#19d3f3\",\"sizemode\":\"area\",\"sizeref\":3816.214375},\"mode\":\"markers\",\"name\":\"L'Amoreaux\",\"showlegend\":true,\"subplot\":\"mapbox\",\"type\":\"scattermapbox\"},{\"hovertemplate\":\"neighbourhood=Lambton Baby Point<br>average_house_value=%{marker.size}<br>lat=%{lat}<br>lon=%{lon}<extra></extra>\",\"legendgroup\":\"Lambton Baby Point\",\"marker\":{\"color\":\"#FF6692\",\"sizemode\":\"area\",\"sizeref\":3816.214375},\"mode\":\"markers\",\"name\":\"Lambton Baby Point\",\"showlegend\":true,\"subplot\":\"mapbox\",\"type\":\"scattermapbox\"},{\"hovertemplate\":\"neighbourhood=Lansing-Westgate<br>average_house_value=%{marker.size}<br>lat=%{lat}<br>lon=%{lon}<extra></extra>\",\"legendgroup\":\"Lansing-Westgate\",\"marker\":{\"color\":\"#B6E880\",\"sizemode\":\"area\",\"sizeref\":3816.214375},\"mode\":\"markers\",\"name\":\"Lansing-Westgate\",\"showlegend\":true,\"subplot\":\"mapbox\",\"type\":\"scattermapbox\"},{\"hovertemplate\":\"neighbourhood=Lawrence Park North<br>average_house_value=%{marker.size}<br>lat=%{lat}<br>lon=%{lon}<extra></extra>\",\"legendgroup\":\"Lawrence Park North\",\"marker\":{\"color\":\"#FF97FF\",\"sizemode\":\"area\",\"sizeref\":3816.214375},\"mode\":\"markers\",\"name\":\"Lawrence Park North\",\"showlegend\":true,\"subplot\":\"mapbox\",\"type\":\"scattermapbox\"},{\"hovertemplate\":\"neighbourhood=Lawrence Park South<br>average_house_value=%{marker.size}<br>lat=%{lat}<br>lon=%{lon}<extra></extra>\",\"legendgroup\":\"Lawrence Park South\",\"marker\":{\"color\":\"#FECB52\",\"sizemode\":\"area\",\"sizeref\":3816.214375},\"mode\":\"markers\",\"name\":\"Lawrence Park South\",\"showlegend\":true,\"subplot\":\"mapbox\",\"type\":\"scattermapbox\"},{\"hovertemplate\":\"neighbourhood=Leaside-Bennington<br>average_house_value=%{marker.size}<br>lat=%{lat}<br>lon=%{lon}<extra></extra>\",\"legendgroup\":\"Leaside-Bennington\",\"marker\":{\"color\":\"#636efa\",\"sizemode\":\"area\",\"sizeref\":3816.214375},\"mode\":\"markers\",\"name\":\"Leaside-Bennington\",\"showlegend\":true,\"subplot\":\"mapbox\",\"type\":\"scattermapbox\"},{\"hovertemplate\":\"neighbourhood=Little Portugal<br>average_house_value=%{marker.size}<br>lat=%{lat}<br>lon=%{lon}<extra></extra>\",\"legendgroup\":\"Little Portugal\",\"marker\":{\"color\":\"#EF553B\",\"sizemode\":\"area\",\"sizeref\":3816.214375},\"mode\":\"markers\",\"name\":\"Little Portugal\",\"showlegend\":true,\"subplot\":\"mapbox\",\"type\":\"scattermapbox\"},{\"hovertemplate\":\"neighbourhood=Long Branch<br>average_house_value=%{marker.size}<br>lat=%{lat}<br>lon=%{lon}<extra></extra>\",\"legendgroup\":\"Long Branch\",\"marker\":{\"color\":\"#00cc96\",\"sizemode\":\"area\",\"sizeref\":3816.214375},\"mode\":\"markers\",\"name\":\"Long Branch\",\"showlegend\":true,\"subplot\":\"mapbox\",\"type\":\"scattermapbox\"},{\"hovertemplate\":\"neighbourhood=Malvern<br>average_house_value=%{marker.size}<br>lat=%{lat}<br>lon=%{lon}<extra></extra>\",\"legendgroup\":\"Malvern\",\"marker\":{\"color\":\"#ab63fa\",\"sizemode\":\"area\",\"sizeref\":3816.214375},\"mode\":\"markers\",\"name\":\"Malvern\",\"showlegend\":true,\"subplot\":\"mapbox\",\"type\":\"scattermapbox\"},{\"hovertemplate\":\"neighbourhood=Maple Leaf<br>average_house_value=%{marker.size}<br>lat=%{lat}<br>lon=%{lon}<extra></extra>\",\"legendgroup\":\"Maple Leaf\",\"marker\":{\"color\":\"#FFA15A\",\"sizemode\":\"area\",\"sizeref\":3816.214375},\"mode\":\"markers\",\"name\":\"Maple Leaf\",\"showlegend\":true,\"subplot\":\"mapbox\",\"type\":\"scattermapbox\"},{\"hovertemplate\":\"neighbourhood=Markland Wood<br>average_house_value=%{marker.size}<br>lat=%{lat}<br>lon=%{lon}<extra></extra>\",\"legendgroup\":\"Markland Wood\",\"marker\":{\"color\":\"#19d3f3\",\"sizemode\":\"area\",\"sizeref\":3816.214375},\"mode\":\"markers\",\"name\":\"Markland Wood\",\"showlegend\":true,\"subplot\":\"mapbox\",\"type\":\"scattermapbox\"},{\"hovertemplate\":\"neighbourhood=Milliken<br>average_house_value=%{marker.size}<br>lat=%{lat}<br>lon=%{lon}<extra></extra>\",\"legendgroup\":\"Milliken\",\"marker\":{\"color\":\"#FF6692\",\"sizemode\":\"area\",\"sizeref\":3816.214375},\"mode\":\"markers\",\"name\":\"Milliken\",\"showlegend\":true,\"subplot\":\"mapbox\",\"type\":\"scattermapbox\"},{\"hovertemplate\":\"neighbourhood=Mimico<br>average_house_value=%{marker.size}<br>lat=%{lat}<br>lon=%{lon}<extra></extra>\",\"legendgroup\":\"Mimico\",\"marker\":{\"color\":\"#B6E880\",\"sizemode\":\"area\",\"sizeref\":3816.214375},\"mode\":\"markers\",\"name\":\"Mimico\",\"showlegend\":true,\"subplot\":\"mapbox\",\"type\":\"scattermapbox\"},{\"hovertemplate\":\"neighbourhood=Morningside<br>average_house_value=%{marker.size}<br>lat=%{lat}<br>lon=%{lon}<extra></extra>\",\"legendgroup\":\"Morningside\",\"marker\":{\"color\":\"#FF97FF\",\"sizemode\":\"area\",\"sizeref\":3816.214375},\"mode\":\"markers\",\"name\":\"Morningside\",\"showlegend\":true,\"subplot\":\"mapbox\",\"type\":\"scattermapbox\"},{\"hovertemplate\":\"neighbourhood=Moss Park<br>average_house_value=%{marker.size}<br>lat=%{lat}<br>lon=%{lon}<extra></extra>\",\"legendgroup\":\"Moss Park\",\"marker\":{\"color\":\"#FECB52\",\"sizemode\":\"area\",\"sizeref\":3816.214375},\"mode\":\"markers\",\"name\":\"Moss Park\",\"showlegend\":true,\"subplot\":\"mapbox\",\"type\":\"scattermapbox\"},{\"hovertemplate\":\"neighbourhood=Mount Dennis<br>average_house_value=%{marker.size}<br>lat=%{lat}<br>lon=%{lon}<extra></extra>\",\"legendgroup\":\"Mount Dennis\",\"marker\":{\"color\":\"#636efa\",\"sizemode\":\"area\",\"sizeref\":3816.214375},\"mode\":\"markers\",\"name\":\"Mount Dennis\",\"showlegend\":true,\"subplot\":\"mapbox\",\"type\":\"scattermapbox\"},{\"hovertemplate\":\"neighbourhood=Mount Olive-Silverstone-Jamestown<br>average_house_value=%{marker.size}<br>lat=%{lat}<br>lon=%{lon}<extra></extra>\",\"legendgroup\":\"Mount Olive-Silverstone-Jamestown\",\"marker\":{\"color\":\"#EF553B\",\"sizemode\":\"area\",\"sizeref\":3816.214375},\"mode\":\"markers\",\"name\":\"Mount Olive-Silverstone-Jamestown\",\"showlegend\":true,\"subplot\":\"mapbox\",\"type\":\"scattermapbox\"},{\"hovertemplate\":\"neighbourhood=Mount Pleasant East<br>average_house_value=%{marker.size}<br>lat=%{lat}<br>lon=%{lon}<extra></extra>\",\"legendgroup\":\"Mount Pleasant East\",\"marker\":{\"color\":\"#00cc96\",\"sizemode\":\"area\",\"sizeref\":3816.214375},\"mode\":\"markers\",\"name\":\"Mount Pleasant East\",\"showlegend\":true,\"subplot\":\"mapbox\",\"type\":\"scattermapbox\"},{\"hovertemplate\":\"neighbourhood=Mount Pleasant West<br>average_house_value=%{marker.size}<br>lat=%{lat}<br>lon=%{lon}<extra></extra>\",\"legendgroup\":\"Mount Pleasant West\",\"marker\":{\"color\":\"#ab63fa\",\"sizemode\":\"area\",\"sizeref\":3816.214375},\"mode\":\"markers\",\"name\":\"Mount Pleasant West\",\"showlegend\":true,\"subplot\":\"mapbox\",\"type\":\"scattermapbox\"},{\"hovertemplate\":\"neighbourhood=New Toronto<br>average_house_value=%{marker.size}<br>lat=%{lat}<br>lon=%{lon}<extra></extra>\",\"legendgroup\":\"New Toronto\",\"marker\":{\"color\":\"#FFA15A\",\"sizemode\":\"area\",\"sizeref\":3816.214375},\"mode\":\"markers\",\"name\":\"New Toronto\",\"showlegend\":true,\"subplot\":\"mapbox\",\"type\":\"scattermapbox\"},{\"hovertemplate\":\"neighbourhood=Newtonbrook East<br>average_house_value=%{marker.size}<br>lat=%{lat}<br>lon=%{lon}<extra></extra>\",\"legendgroup\":\"Newtonbrook East\",\"marker\":{\"color\":\"#19d3f3\",\"sizemode\":\"area\",\"sizeref\":3816.214375},\"mode\":\"markers\",\"name\":\"Newtonbrook East\",\"showlegend\":true,\"subplot\":\"mapbox\",\"type\":\"scattermapbox\"},{\"hovertemplate\":\"neighbourhood=Newtonbrook West<br>average_house_value=%{marker.size}<br>lat=%{lat}<br>lon=%{lon}<extra></extra>\",\"legendgroup\":\"Newtonbrook West\",\"marker\":{\"color\":\"#FF6692\",\"sizemode\":\"area\",\"sizeref\":3816.214375},\"mode\":\"markers\",\"name\":\"Newtonbrook West\",\"showlegend\":true,\"subplot\":\"mapbox\",\"type\":\"scattermapbox\"},{\"hovertemplate\":\"neighbourhood=Niagara<br>average_house_value=%{marker.size}<br>lat=%{lat}<br>lon=%{lon}<extra></extra>\",\"legendgroup\":\"Niagara\",\"marker\":{\"color\":\"#B6E880\",\"sizemode\":\"area\",\"sizeref\":3816.214375},\"mode\":\"markers\",\"name\":\"Niagara\",\"showlegend\":true,\"subplot\":\"mapbox\",\"type\":\"scattermapbox\"},{\"hovertemplate\":\"neighbourhood=North Riverdale<br>average_house_value=%{marker.size}<br>lat=%{lat}<br>lon=%{lon}<extra></extra>\",\"legendgroup\":\"North Riverdale\",\"marker\":{\"color\":\"#FF97FF\",\"sizemode\":\"area\",\"sizeref\":3816.214375},\"mode\":\"markers\",\"name\":\"North Riverdale\",\"showlegend\":true,\"subplot\":\"mapbox\",\"type\":\"scattermapbox\"},{\"hovertemplate\":\"neighbourhood=North St.James Town<br>average_house_value=%{marker.size}<br>lat=%{lat}<br>lon=%{lon}<extra></extra>\",\"legendgroup\":\"North St.James Town\",\"marker\":{\"color\":\"#FECB52\",\"sizemode\":\"area\",\"sizeref\":3816.214375},\"mode\":\"markers\",\"name\":\"North St.James Town\",\"showlegend\":true,\"subplot\":\"mapbox\",\"type\":\"scattermapbox\"},{\"hovertemplate\":\"neighbourhood=O'Connor-Parkview<br>average_house_value=%{marker.size}<br>lat=%{lat}<br>lon=%{lon}<extra></extra>\",\"legendgroup\":\"O'Connor-Parkview\",\"marker\":{\"color\":\"#636efa\",\"sizemode\":\"area\",\"sizeref\":3816.214375},\"mode\":\"markers\",\"name\":\"O'Connor-Parkview\",\"showlegend\":true,\"subplot\":\"mapbox\",\"type\":\"scattermapbox\"},{\"hovertemplate\":\"neighbourhood=Oakridge<br>average_house_value=%{marker.size}<br>lat=%{lat}<br>lon=%{lon}<extra></extra>\",\"legendgroup\":\"Oakridge\",\"marker\":{\"color\":\"#EF553B\",\"sizemode\":\"area\",\"sizeref\":3816.214375},\"mode\":\"markers\",\"name\":\"Oakridge\",\"showlegend\":true,\"subplot\":\"mapbox\",\"type\":\"scattermapbox\"},{\"hovertemplate\":\"neighbourhood=Oakwood Village<br>average_house_value=%{marker.size}<br>lat=%{lat}<br>lon=%{lon}<extra></extra>\",\"legendgroup\":\"Oakwood Village\",\"marker\":{\"color\":\"#00cc96\",\"sizemode\":\"area\",\"sizeref\":3816.214375},\"mode\":\"markers\",\"name\":\"Oakwood Village\",\"showlegend\":true,\"subplot\":\"mapbox\",\"type\":\"scattermapbox\"},{\"hovertemplate\":\"neighbourhood=Old East York<br>average_house_value=%{marker.size}<br>lat=%{lat}<br>lon=%{lon}<extra></extra>\",\"legendgroup\":\"Old East York\",\"marker\":{\"color\":\"#ab63fa\",\"sizemode\":\"area\",\"sizeref\":3816.214375},\"mode\":\"markers\",\"name\":\"Old East York\",\"showlegend\":true,\"subplot\":\"mapbox\",\"type\":\"scattermapbox\"},{\"hovertemplate\":\"neighbourhood=Palmerston-Little Italy<br>average_house_value=%{marker.size}<br>lat=%{lat}<br>lon=%{lon}<extra></extra>\",\"legendgroup\":\"Palmerston-Little Italy\",\"marker\":{\"color\":\"#FFA15A\",\"sizemode\":\"area\",\"sizeref\":3816.214375},\"mode\":\"markers\",\"name\":\"Palmerston-Little Italy\",\"showlegend\":true,\"subplot\":\"mapbox\",\"type\":\"scattermapbox\"},{\"hovertemplate\":\"neighbourhood=Parkwoods-Donalda<br>average_house_value=%{marker.size}<br>lat=%{lat}<br>lon=%{lon}<extra></extra>\",\"legendgroup\":\"Parkwoods-Donalda\",\"marker\":{\"color\":\"#19d3f3\",\"sizemode\":\"area\",\"sizeref\":3816.214375},\"mode\":\"markers\",\"name\":\"Parkwoods-Donalda\",\"showlegend\":true,\"subplot\":\"mapbox\",\"type\":\"scattermapbox\"},{\"hovertemplate\":\"neighbourhood=Pelmo Park-Humberlea<br>average_house_value=%{marker.size}<br>lat=%{lat}<br>lon=%{lon}<extra></extra>\",\"legendgroup\":\"Pelmo Park-Humberlea\",\"marker\":{\"color\":\"#FF6692\",\"sizemode\":\"area\",\"sizeref\":3816.214375},\"mode\":\"markers\",\"name\":\"Pelmo Park-Humberlea\",\"showlegend\":true,\"subplot\":\"mapbox\",\"type\":\"scattermapbox\"},{\"hovertemplate\":\"neighbourhood=Playter Estates-Danforth<br>average_house_value=%{marker.size}<br>lat=%{lat}<br>lon=%{lon}<extra></extra>\",\"legendgroup\":\"Playter Estates-Danforth\",\"marker\":{\"color\":\"#B6E880\",\"sizemode\":\"area\",\"sizeref\":3816.214375},\"mode\":\"markers\",\"name\":\"Playter Estates-Danforth\",\"showlegend\":true,\"subplot\":\"mapbox\",\"type\":\"scattermapbox\"},{\"hovertemplate\":\"neighbourhood=Pleasant View<br>average_house_value=%{marker.size}<br>lat=%{lat}<br>lon=%{lon}<extra></extra>\",\"legendgroup\":\"Pleasant View\",\"marker\":{\"color\":\"#FF97FF\",\"sizemode\":\"area\",\"sizeref\":3816.214375},\"mode\":\"markers\",\"name\":\"Pleasant View\",\"showlegend\":true,\"subplot\":\"mapbox\",\"type\":\"scattermapbox\"},{\"hovertemplate\":\"neighbourhood=Princess-Rosethorn<br>average_house_value=%{marker.size}<br>lat=%{lat}<br>lon=%{lon}<extra></extra>\",\"legendgroup\":\"Princess-Rosethorn\",\"marker\":{\"color\":\"#FECB52\",\"sizemode\":\"area\",\"sizeref\":3816.214375},\"mode\":\"markers\",\"name\":\"Princess-Rosethorn\",\"showlegend\":true,\"subplot\":\"mapbox\",\"type\":\"scattermapbox\"},{\"hovertemplate\":\"neighbourhood=Regent Park<br>average_house_value=%{marker.size}<br>lat=%{lat}<br>lon=%{lon}<extra></extra>\",\"legendgroup\":\"Regent Park\",\"marker\":{\"color\":\"#636efa\",\"sizemode\":\"area\",\"sizeref\":3816.214375},\"mode\":\"markers\",\"name\":\"Regent Park\",\"showlegend\":true,\"subplot\":\"mapbox\",\"type\":\"scattermapbox\"},{\"hovertemplate\":\"neighbourhood=Rexdale-Kipling<br>average_house_value=%{marker.size}<br>lat=%{lat}<br>lon=%{lon}<extra></extra>\",\"legendgroup\":\"Rexdale-Kipling\",\"marker\":{\"color\":\"#EF553B\",\"sizemode\":\"area\",\"sizeref\":3816.214375},\"mode\":\"markers\",\"name\":\"Rexdale-Kipling\",\"showlegend\":true,\"subplot\":\"mapbox\",\"type\":\"scattermapbox\"},{\"hovertemplate\":\"neighbourhood=Rockcliffe-Smythe<br>average_house_value=%{marker.size}<br>lat=%{lat}<br>lon=%{lon}<extra></extra>\",\"legendgroup\":\"Rockcliffe-Smythe\",\"marker\":{\"color\":\"#00cc96\",\"sizemode\":\"area\",\"sizeref\":3816.214375},\"mode\":\"markers\",\"name\":\"Rockcliffe-Smythe\",\"showlegend\":true,\"subplot\":\"mapbox\",\"type\":\"scattermapbox\"},{\"hovertemplate\":\"neighbourhood=Roncesvalles<br>average_house_value=%{marker.size}<br>lat=%{lat}<br>lon=%{lon}<extra></extra>\",\"legendgroup\":\"Roncesvalles\",\"marker\":{\"color\":\"#ab63fa\",\"sizemode\":\"area\",\"sizeref\":3816.214375},\"mode\":\"markers\",\"name\":\"Roncesvalles\",\"showlegend\":true,\"subplot\":\"mapbox\",\"type\":\"scattermapbox\"},{\"hovertemplate\":\"neighbourhood=Rosedale-Moore Park<br>average_house_value=%{marker.size}<br>lat=%{lat}<br>lon=%{lon}<extra></extra>\",\"legendgroup\":\"Rosedale-Moore Park\",\"marker\":{\"color\":\"#FFA15A\",\"sizemode\":\"area\",\"sizeref\":3816.214375},\"mode\":\"markers\",\"name\":\"Rosedale-Moore Park\",\"showlegend\":true,\"subplot\":\"mapbox\",\"type\":\"scattermapbox\"},{\"hovertemplate\":\"neighbourhood=Rouge<br>average_house_value=%{marker.size}<br>lat=%{lat}<br>lon=%{lon}<extra></extra>\",\"legendgroup\":\"Rouge\",\"marker\":{\"color\":\"#19d3f3\",\"sizemode\":\"area\",\"sizeref\":3816.214375},\"mode\":\"markers\",\"name\":\"Rouge\",\"showlegend\":true,\"subplot\":\"mapbox\",\"type\":\"scattermapbox\"},{\"hovertemplate\":\"neighbourhood=Runnymede-Bloor West Village<br>average_house_value=%{marker.size}<br>lat=%{lat}<br>lon=%{lon}<extra></extra>\",\"legendgroup\":\"Runnymede-Bloor West Village\",\"marker\":{\"color\":\"#FF6692\",\"sizemode\":\"area\",\"sizeref\":3816.214375},\"mode\":\"markers\",\"name\":\"Runnymede-Bloor West Village\",\"showlegend\":true,\"subplot\":\"mapbox\",\"type\":\"scattermapbox\"},{\"hovertemplate\":\"neighbourhood=Rustic<br>average_house_value=%{marker.size}<br>lat=%{lat}<br>lon=%{lon}<extra></extra>\",\"legendgroup\":\"Rustic\",\"marker\":{\"color\":\"#B6E880\",\"sizemode\":\"area\",\"sizeref\":3816.214375},\"mode\":\"markers\",\"name\":\"Rustic\",\"showlegend\":true,\"subplot\":\"mapbox\",\"type\":\"scattermapbox\"},{\"hovertemplate\":\"neighbourhood=Scarborough Village<br>average_house_value=%{marker.size}<br>lat=%{lat}<br>lon=%{lon}<extra></extra>\",\"legendgroup\":\"Scarborough Village\",\"marker\":{\"color\":\"#FF97FF\",\"sizemode\":\"area\",\"sizeref\":3816.214375},\"mode\":\"markers\",\"name\":\"Scarborough Village\",\"showlegend\":true,\"subplot\":\"mapbox\",\"type\":\"scattermapbox\"},{\"hovertemplate\":\"neighbourhood=South Parkdale<br>average_house_value=%{marker.size}<br>lat=%{lat}<br>lon=%{lon}<extra></extra>\",\"legendgroup\":\"South Parkdale\",\"marker\":{\"color\":\"#FECB52\",\"sizemode\":\"area\",\"sizeref\":3816.214375},\"mode\":\"markers\",\"name\":\"South Parkdale\",\"showlegend\":true,\"subplot\":\"mapbox\",\"type\":\"scattermapbox\"},{\"hovertemplate\":\"neighbourhood=South Riverdale<br>average_house_value=%{marker.size}<br>lat=%{lat}<br>lon=%{lon}<extra></extra>\",\"legendgroup\":\"South Riverdale\",\"marker\":{\"color\":\"#636efa\",\"sizemode\":\"area\",\"sizeref\":3816.214375},\"mode\":\"markers\",\"name\":\"South Riverdale\",\"showlegend\":true,\"subplot\":\"mapbox\",\"type\":\"scattermapbox\"},{\"hovertemplate\":\"neighbourhood=St.Andrew-Windfields<br>average_house_value=%{marker.size}<br>lat=%{lat}<br>lon=%{lon}<extra></extra>\",\"legendgroup\":\"St.Andrew-Windfields\",\"marker\":{\"color\":\"#EF553B\",\"sizemode\":\"area\",\"sizeref\":3816.214375},\"mode\":\"markers\",\"name\":\"St.Andrew-Windfields\",\"showlegend\":true,\"subplot\":\"mapbox\",\"type\":\"scattermapbox\"},{\"hovertemplate\":\"neighbourhood=Steeles<br>average_house_value=%{marker.size}<br>lat=%{lat}<br>lon=%{lon}<extra></extra>\",\"legendgroup\":\"Steeles\",\"marker\":{\"color\":\"#00cc96\",\"sizemode\":\"area\",\"sizeref\":3816.214375},\"mode\":\"markers\",\"name\":\"Steeles\",\"showlegend\":true,\"subplot\":\"mapbox\",\"type\":\"scattermapbox\"},{\"hovertemplate\":\"neighbourhood=Stonegate-Queensway<br>average_house_value=%{marker.size}<br>lat=%{lat}<br>lon=%{lon}<extra></extra>\",\"legendgroup\":\"Stonegate-Queensway\",\"marker\":{\"color\":\"#ab63fa\",\"sizemode\":\"area\",\"sizeref\":3816.214375},\"mode\":\"markers\",\"name\":\"Stonegate-Queensway\",\"showlegend\":true,\"subplot\":\"mapbox\",\"type\":\"scattermapbox\"},{\"hovertemplate\":\"neighbourhood=Tam O'Shanter-Sullivan<br>average_house_value=%{marker.size}<br>lat=%{lat}<br>lon=%{lon}<extra></extra>\",\"legendgroup\":\"Tam O'Shanter-Sullivan\",\"marker\":{\"color\":\"#FFA15A\",\"sizemode\":\"area\",\"sizeref\":3816.214375},\"mode\":\"markers\",\"name\":\"Tam O'Shanter-Sullivan\",\"showlegend\":true,\"subplot\":\"mapbox\",\"type\":\"scattermapbox\"},{\"hovertemplate\":\"neighbourhood=Taylor-Massey<br>average_house_value=%{marker.size}<br>lat=%{lat}<br>lon=%{lon}<extra></extra>\",\"legendgroup\":\"Taylor-Massey\",\"marker\":{\"color\":\"#19d3f3\",\"sizemode\":\"area\",\"sizeref\":3816.214375},\"mode\":\"markers\",\"name\":\"Taylor-Massey\",\"showlegend\":true,\"subplot\":\"mapbox\",\"type\":\"scattermapbox\"},{\"hovertemplate\":\"neighbourhood=The Beaches<br>average_house_value=%{marker.size}<br>lat=%{lat}<br>lon=%{lon}<extra></extra>\",\"legendgroup\":\"The Beaches\",\"marker\":{\"color\":\"#FF6692\",\"sizemode\":\"area\",\"sizeref\":3816.214375},\"mode\":\"markers\",\"name\":\"The Beaches\",\"showlegend\":true,\"subplot\":\"mapbox\",\"type\":\"scattermapbox\"},{\"hovertemplate\":\"neighbourhood=Thistletown-Beaumond Heights<br>average_house_value=%{marker.size}<br>lat=%{lat}<br>lon=%{lon}<extra></extra>\",\"legendgroup\":\"Thistletown-Beaumond Heights\",\"marker\":{\"color\":\"#B6E880\",\"sizemode\":\"area\",\"sizeref\":3816.214375},\"mode\":\"markers\",\"name\":\"Thistletown-Beaumond Heights\",\"showlegend\":true,\"subplot\":\"mapbox\",\"type\":\"scattermapbox\"},{\"hovertemplate\":\"neighbourhood=Thorncliffe Park<br>average_house_value=%{marker.size}<br>lat=%{lat}<br>lon=%{lon}<extra></extra>\",\"legendgroup\":\"Thorncliffe Park\",\"marker\":{\"color\":\"#FF97FF\",\"sizemode\":\"area\",\"sizeref\":3816.214375},\"mode\":\"markers\",\"name\":\"Thorncliffe Park\",\"showlegend\":true,\"subplot\":\"mapbox\",\"type\":\"scattermapbox\"},{\"hovertemplate\":\"neighbourhood=Trinity-Bellwoods<br>average_house_value=%{marker.size}<br>lat=%{lat}<br>lon=%{lon}<extra></extra>\",\"legendgroup\":\"Trinity-Bellwoods\",\"marker\":{\"color\":\"#FECB52\",\"sizemode\":\"area\",\"sizeref\":3816.214375},\"mode\":\"markers\",\"name\":\"Trinity-Bellwoods\",\"showlegend\":true,\"subplot\":\"mapbox\",\"type\":\"scattermapbox\"},{\"hovertemplate\":\"neighbourhood=University<br>average_house_value=%{marker.size}<br>lat=%{lat}<br>lon=%{lon}<extra></extra>\",\"legendgroup\":\"University\",\"marker\":{\"color\":\"#636efa\",\"sizemode\":\"area\",\"sizeref\":3816.214375},\"mode\":\"markers\",\"name\":\"University\",\"showlegend\":true,\"subplot\":\"mapbox\",\"type\":\"scattermapbox\"},{\"hovertemplate\":\"neighbourhood=Victoria Village<br>average_house_value=%{marker.size}<br>lat=%{lat}<br>lon=%{lon}<extra></extra>\",\"legendgroup\":\"Victoria Village\",\"marker\":{\"color\":\"#EF553B\",\"sizemode\":\"area\",\"sizeref\":3816.214375},\"mode\":\"markers\",\"name\":\"Victoria Village\",\"showlegend\":true,\"subplot\":\"mapbox\",\"type\":\"scattermapbox\"},{\"hovertemplate\":\"neighbourhood=Waterfront Communities-The Island<br>average_house_value=%{marker.size}<br>lat=%{lat}<br>lon=%{lon}<extra></extra>\",\"legendgroup\":\"Waterfront Communities-The Island\",\"marker\":{\"color\":\"#00cc96\",\"sizemode\":\"area\",\"sizeref\":3816.214375},\"mode\":\"markers\",\"name\":\"Waterfront Communities-The Island\",\"showlegend\":true,\"subplot\":\"mapbox\",\"type\":\"scattermapbox\"},{\"hovertemplate\":\"neighbourhood=West Hill<br>average_house_value=%{marker.size}<br>lat=%{lat}<br>lon=%{lon}<extra></extra>\",\"legendgroup\":\"West Hill\",\"marker\":{\"color\":\"#ab63fa\",\"sizemode\":\"area\",\"sizeref\":3816.214375},\"mode\":\"markers\",\"name\":\"West Hill\",\"showlegend\":true,\"subplot\":\"mapbox\",\"type\":\"scattermapbox\"},{\"hovertemplate\":\"neighbourhood=West Humber-Clairville<br>average_house_value=%{marker.size}<br>lat=%{lat}<br>lon=%{lon}<extra></extra>\",\"legendgroup\":\"West Humber-Clairville\",\"marker\":{\"color\":\"#FFA15A\",\"sizemode\":\"area\",\"sizeref\":3816.214375},\"mode\":\"markers\",\"name\":\"West Humber-Clairville\",\"showlegend\":true,\"subplot\":\"mapbox\",\"type\":\"scattermapbox\"},{\"hovertemplate\":\"neighbourhood=Westminster-Branson<br>average_house_value=%{marker.size}<br>lat=%{lat}<br>lon=%{lon}<extra></extra>\",\"legendgroup\":\"Westminster-Branson\",\"marker\":{\"color\":\"#19d3f3\",\"sizemode\":\"area\",\"sizeref\":3816.214375},\"mode\":\"markers\",\"name\":\"Westminster-Branson\",\"showlegend\":true,\"subplot\":\"mapbox\",\"type\":\"scattermapbox\"},{\"hovertemplate\":\"neighbourhood=Weston<br>average_house_value=%{marker.size}<br>lat=%{lat}<br>lon=%{lon}<extra></extra>\",\"legendgroup\":\"Weston\",\"marker\":{\"color\":\"#FF6692\",\"sizemode\":\"area\",\"sizeref\":3816.214375},\"mode\":\"markers\",\"name\":\"Weston\",\"showlegend\":true,\"subplot\":\"mapbox\",\"type\":\"scattermapbox\"},{\"hovertemplate\":\"neighbourhood=Weston-Pellam Park<br>average_house_value=%{marker.size}<br>lat=%{lat}<br>lon=%{lon}<extra></extra>\",\"legendgroup\":\"Weston-Pellam Park\",\"marker\":{\"color\":\"#B6E880\",\"sizemode\":\"area\",\"sizeref\":3816.214375},\"mode\":\"markers\",\"name\":\"Weston-Pellam Park\",\"showlegend\":true,\"subplot\":\"mapbox\",\"type\":\"scattermapbox\"},{\"hovertemplate\":\"neighbourhood=Wexford/Maryvale<br>average_house_value=%{marker.size}<br>lat=%{lat}<br>lon=%{lon}<extra></extra>\",\"legendgroup\":\"Wexford/Maryvale\",\"marker\":{\"color\":\"#FF97FF\",\"sizemode\":\"area\",\"sizeref\":3816.214375},\"mode\":\"markers\",\"name\":\"Wexford/Maryvale\",\"showlegend\":true,\"subplot\":\"mapbox\",\"type\":\"scattermapbox\"},{\"hovertemplate\":\"neighbourhood=Willowdale East<br>average_house_value=%{marker.size}<br>lat=%{lat}<br>lon=%{lon}<extra></extra>\",\"legendgroup\":\"Willowdale East\",\"marker\":{\"color\":\"#FECB52\",\"sizemode\":\"area\",\"sizeref\":3816.214375},\"mode\":\"markers\",\"name\":\"Willowdale East\",\"showlegend\":true,\"subplot\":\"mapbox\",\"type\":\"scattermapbox\"},{\"hovertemplate\":\"neighbourhood=Willowdale West<br>average_house_value=%{marker.size}<br>lat=%{lat}<br>lon=%{lon}<extra></extra>\",\"legendgroup\":\"Willowdale West\",\"marker\":{\"color\":\"#636efa\",\"sizemode\":\"area\",\"sizeref\":3816.214375},\"mode\":\"markers\",\"name\":\"Willowdale West\",\"showlegend\":true,\"subplot\":\"mapbox\",\"type\":\"scattermapbox\"},{\"hovertemplate\":\"neighbourhood=Willowridge-Martingrove-Richview<br>average_house_value=%{marker.size}<br>lat=%{lat}<br>lon=%{lon}<extra></extra>\",\"legendgroup\":\"Willowridge-Martingrove-Richview\",\"marker\":{\"color\":\"#EF553B\",\"sizemode\":\"area\",\"sizeref\":3816.214375},\"mode\":\"markers\",\"name\":\"Willowridge-Martingrove-Richview\",\"showlegend\":true,\"subplot\":\"mapbox\",\"type\":\"scattermapbox\"},{\"hovertemplate\":\"neighbourhood=Woburn<br>average_house_value=%{marker.size}<br>lat=%{lat}<br>lon=%{lon}<extra></extra>\",\"legendgroup\":\"Woburn\",\"marker\":{\"color\":\"#00cc96\",\"sizemode\":\"area\",\"sizeref\":3816.214375},\"mode\":\"markers\",\"name\":\"Woburn\",\"showlegend\":true,\"subplot\":\"mapbox\",\"type\":\"scattermapbox\"},{\"hovertemplate\":\"neighbourhood=Woodbine Corridor<br>average_house_value=%{marker.size}<br>lat=%{lat}<br>lon=%{lon}<extra></extra>\",\"legendgroup\":\"Woodbine Corridor\",\"marker\":{\"color\":\"#ab63fa\",\"sizemode\":\"area\",\"sizeref\":3816.214375},\"mode\":\"markers\",\"name\":\"Woodbine Corridor\",\"showlegend\":true,\"subplot\":\"mapbox\",\"type\":\"scattermapbox\"},{\"hovertemplate\":\"neighbourhood=Woodbine-Lumsden<br>average_house_value=%{marker.size}<br>lat=%{lat}<br>lon=%{lon}<extra></extra>\",\"legendgroup\":\"Woodbine-Lumsden\",\"marker\":{\"color\":\"#FFA15A\",\"sizemode\":\"area\",\"sizeref\":3816.214375},\"mode\":\"markers\",\"name\":\"Woodbine-Lumsden\",\"showlegend\":true,\"subplot\":\"mapbox\",\"type\":\"scattermapbox\"},{\"hovertemplate\":\"neighbourhood=Wychwood<br>average_house_value=%{marker.size}<br>lat=%{lat}<br>lon=%{lon}<extra></extra>\",\"legendgroup\":\"Wychwood\",\"marker\":{\"color\":\"#19d3f3\",\"sizemode\":\"area\",\"sizeref\":3816.214375},\"mode\":\"markers\",\"name\":\"Wychwood\",\"showlegend\":true,\"subplot\":\"mapbox\",\"type\":\"scattermapbox\"},{\"hovertemplate\":\"neighbourhood=Yonge-Eglinton<br>average_house_value=%{marker.size}<br>lat=%{lat}<br>lon=%{lon}<extra></extra>\",\"legendgroup\":\"Yonge-Eglinton\",\"marker\":{\"color\":\"#FF6692\",\"sizemode\":\"area\",\"sizeref\":3816.214375},\"mode\":\"markers\",\"name\":\"Yonge-Eglinton\",\"showlegend\":true,\"subplot\":\"mapbox\",\"type\":\"scattermapbox\"},{\"hovertemplate\":\"neighbourhood=Yonge-St.Clair<br>average_house_value=%{marker.size}<br>lat=%{lat}<br>lon=%{lon}<extra></extra>\",\"legendgroup\":\"Yonge-St.Clair\",\"marker\":{\"color\":\"#B6E880\",\"sizemode\":\"area\",\"sizeref\":3816.214375},\"mode\":\"markers\",\"name\":\"Yonge-St.Clair\",\"showlegend\":true,\"subplot\":\"mapbox\",\"type\":\"scattermapbox\"},{\"hovertemplate\":\"neighbourhood=York University Heights<br>average_house_value=%{marker.size}<br>lat=%{lat}<br>lon=%{lon}<extra></extra>\",\"legendgroup\":\"York University Heights\",\"marker\":{\"color\":\"#FF97FF\",\"sizemode\":\"area\",\"sizeref\":3816.214375},\"mode\":\"markers\",\"name\":\"York University Heights\",\"showlegend\":true,\"subplot\":\"mapbox\",\"type\":\"scattermapbox\"},{\"hovertemplate\":\"neighbourhood=Yorkdale-Glen Park<br>average_house_value=%{marker.size}<br>lat=%{lat}<br>lon=%{lon}<extra></extra>\",\"legendgroup\":\"Yorkdale-Glen Park\",\"marker\":{\"color\":\"#FECB52\",\"sizemode\":\"area\",\"sizeref\":3816.214375},\"mode\":\"markers\",\"name\":\"Yorkdale-Glen Park\",\"showlegend\":true,\"subplot\":\"mapbox\",\"type\":\"scattermapbox\"}],\"data_sources\":[{\"id\":\"54467\"},{\"id\":\"54468\"},{\"id\":\"54469\"},{\"id\":\"54470\"},{\"id\":\"54471\"},{\"id\":\"54472\"},{\"id\":\"54473\"},{\"id\":\"54474\"},{\"id\":\"54475\"},{\"id\":\"54476\"},{\"id\":\"54477\"},{\"id\":\"54478\"},{\"id\":\"54479\"},{\"id\":\"54480\"},{\"id\":\"54481\"},{\"id\":\"54482\"},{\"id\":\"54483\"},{\"id\":\"54484\"},{\"id\":\"54485\"},{\"id\":\"54486\"},{\"id\":\"54487\"},{\"id\":\"54488\"},{\"id\":\"54489\"},{\"id\":\"54490\"},{\"id\":\"54491\"},{\"id\":\"54492\"},{\"id\":\"54493\"},{\"id\":\"54494\"},{\"id\":\"54495\"},{\"id\":\"54496\"},{\"id\":\"54497\"},{\"id\":\"54498\"},{\"id\":\"54499\"},{\"id\":\"54500\"},{\"id\":\"54501\"},{\"id\":\"54502\"},{\"id\":\"54503\"},{\"id\":\"54504\"},{\"id\":\"54505\"},{\"id\":\"54506\"},{\"id\":\"54507\"},{\"id\":\"54508\"},{\"id\":\"54509\"},{\"id\":\"54510\"},{\"id\":\"54511\"},{\"id\":\"54512\"},{\"id\":\"54513\"},{\"id\":\"54514\"},{\"id\":\"54515\"},{\"id\":\"54516\"},{\"id\":\"54517\"},{\"id\":\"54518\"},{\"id\":\"54519\"},{\"id\":\"54520\"},{\"id\":\"54521\"},{\"id\":\"54522\"},{\"id\":\"54523\"},{\"id\":\"54524\"},{\"id\":\"54525\"},{\"id\":\"54526\"},{\"id\":\"54527\"},{\"id\":\"54528\"},{\"id\":\"54529\"},{\"id\":\"54530\"},{\"id\":\"54531\"},{\"id\":\"54532\"},{\"id\":\"54533\"},{\"id\":\"54534\"},{\"id\":\"54535\"},{\"id\":\"54536\"},{\"id\":\"54537\"},{\"id\":\"54538\"},{\"id\":\"54539\"},{\"id\":\"54540\"},{\"id\":\"54541\"},{\"id\":\"54542\"},{\"id\":\"54543\"},{\"id\":\"54544\"},{\"id\":\"54545\"},{\"id\":\"54546\"},{\"id\":\"54547\"},{\"id\":\"54548\"},{\"id\":\"54549\"},{\"id\":\"54550\"},{\"id\":\"54551\"},{\"id\":\"54552\"},{\"id\":\"54553\"},{\"id\":\"54554\"},{\"id\":\"54555\"},{\"id\":\"54556\"},{\"id\":\"54557\"},{\"id\":\"54558\"},{\"id\":\"54559\"},{\"id\":\"54560\"},{\"id\":\"54561\"},{\"id\":\"54562\"},{\"id\":\"54563\"},{\"id\":\"54564\"},{\"id\":\"54565\"},{\"id\":\"54566\"},{\"id\":\"54567\"},{\"id\":\"54568\"},{\"id\":\"54569\"},{\"id\":\"54570\"},{\"id\":\"54571\"},{\"id\":\"54572\"},{\"id\":\"54573\"},{\"id\":\"54574\"},{\"id\":\"54575\"},{\"id\":\"54576\"},{\"id\":\"54577\"},{\"id\":\"54578\"},{\"id\":\"54579\"},{\"id\":\"54580\"},{\"id\":\"54581\"},{\"id\":\"54582\"},{\"id\":\"54583\"},{\"id\":\"54584\"},{\"id\":\"54585\"},{\"id\":\"54586\"},{\"id\":\"54587\"},{\"id\":\"54588\"},{\"id\":\"54589\"},{\"id\":\"54590\"},{\"id\":\"54591\"},{\"id\":\"54592\"},{\"id\":\"54593\"},{\"id\":\"54594\"},{\"id\":\"54595\"},{\"id\":\"54596\"},{\"id\":\"54597\"},{\"id\":\"54598\"},{\"id\":\"54599\"},{\"id\":\"54600\"},{\"id\":\"54601\"},{\"id\":\"54602\"},{\"id\":\"54603\"},{\"id\":\"54604\"},{\"id\":\"54605\"},{\"id\":\"54606\"}],\"layout\":{\"legend\":{\"itemsizing\":\"constant\",\"title\":{\"text\":\"neighbourhood\"},\"tracegroupgap\":0},\"mapbox\":{\"accesstoken\":\"pk.eyJ1IjoibWFuc29ua2VhbnUiLCJhIjoiY2wwcm1zdTJhMDUwczNkbnh3M29kYTR1ZSJ9.s2CKIZH91gp-Zh0R6GtZxg\",\"center\":{\"lat\":43.708840577642846,\"lon\":-79.4001855035},\"domain\":{\"x\":[0.0,1.0],\"y\":[0.0,1.0]},\"zoom\":4},\"margin\":{\"t\":60},\"template\":{\"data\":{\"bar\":[{\"error_x\":{\"color\":\"#2a3f5f\"},\"error_y\":{\"color\":\"#2a3f5f\"},\"marker\":{\"line\":{\"color\":\"#E5ECF6\",\"width\":0.5},\"pattern\":{\"fillmode\":\"overlay\",\"size\":10,\"solidity\":0.2}},\"type\":\"bar\"}],\"barpolar\":[{\"marker\":{\"line\":{\"color\":\"#E5ECF6\",\"width\":0.5},\"pattern\":{\"fillmode\":\"overlay\",\"size\":10,\"solidity\":0.2}},\"type\":\"barpolar\"}],\"carpet\":[{\"aaxis\":{\"endlinecolor\":\"#2a3f5f\",\"gridcolor\":\"white\",\"linecolor\":\"white\",\"minorgridcolor\":\"white\",\"startlinecolor\":\"#2a3f5f\"},\"baxis\":{\"endlinecolor\":\"#2a3f5f\",\"gridcolor\":\"white\",\"linecolor\":\"white\",\"minorgridcolor\":\"white\",\"startlinecolor\":\"#2a3f5f\"},\"type\":\"carpet\"}],\"choropleth\":[{\"colorbar\":{\"outlinewidth\":0,\"ticks\":\"\"},\"type\":\"choropleth\"}],\"contour\":[{\"colorbar\":{\"outlinewidth\":0,\"ticks\":\"\"},\"colorscale\":[[0.0,\"#0d0887\"],[0.1111111111111111,\"#46039f\"],[0.2222222222222222,\"#7201a8\"],[0.3333333333333333,\"#9c179e\"],[0.4444444444444444,\"#bd3786\"],[0.5555555555555556,\"#d8576b\"],[0.6666666666666666,\"#ed7953\"],[0.7777777777777778,\"#fb9f3a\"],[0.8888888888888888,\"#fdca26\"],[1.0,\"#f0f921\"]],\"type\":\"contour\"}],\"contourcarpet\":[{\"colorbar\":{\"outlinewidth\":0,\"ticks\":\"\"},\"type\":\"contourcarpet\"}],\"heatmap\":[{\"colorbar\":{\"outlinewidth\":0,\"ticks\":\"\"},\"colorscale\":[[0.0,\"#0d0887\"],[0.1111111111111111,\"#46039f\"],[0.2222222222222222,\"#7201a8\"],[0.3333333333333333,\"#9c179e\"],[0.4444444444444444,\"#bd3786\"],[0.5555555555555556,\"#d8576b\"],[0.6666666666666666,\"#ed7953\"],[0.7777777777777778,\"#fb9f3a\"],[0.8888888888888888,\"#fdca26\"],[1.0,\"#f0f921\"]],\"type\":\"heatmap\"}],\"heatmapgl\":[{\"colorbar\":{\"outlinewidth\":0,\"ticks\":\"\"},\"colorscale\":[[0.0,\"#0d0887\"],[0.1111111111111111,\"#46039f\"],[0.2222222222222222,\"#7201a8\"],[0.3333333333333333,\"#9c179e\"],[0.4444444444444444,\"#bd3786\"],[0.5555555555555556,\"#d8576b\"],[0.6666666666666666,\"#ed7953\"],[0.7777777777777778,\"#fb9f3a\"],[0.8888888888888888,\"#fdca26\"],[1.0,\"#f0f921\"]],\"type\":\"heatmapgl\"}],\"histogram\":[{\"marker\":{\"pattern\":{\"fillmode\":\"overlay\",\"size\":10,\"solidity\":0.2}},\"type\":\"histogram\"}],\"histogram2d\":[{\"colorbar\":{\"outlinewidth\":0,\"ticks\":\"\"},\"colorscale\":[[0.0,\"#0d0887\"],[0.1111111111111111,\"#46039f\"],[0.2222222222222222,\"#7201a8\"],[0.3333333333333333,\"#9c179e\"],[0.4444444444444444,\"#bd3786\"],[0.5555555555555556,\"#d8576b\"],[0.6666666666666666,\"#ed7953\"],[0.7777777777777778,\"#fb9f3a\"],[0.8888888888888888,\"#fdca26\"],[1.0,\"#f0f921\"]],\"type\":\"histogram2d\"}],\"histogram2dcontour\":[{\"colorbar\":{\"outlinewidth\":0,\"ticks\":\"\"},\"colorscale\":[[0.0,\"#0d0887\"],[0.1111111111111111,\"#46039f\"],[0.2222222222222222,\"#7201a8\"],[0.3333333333333333,\"#9c179e\"],[0.4444444444444444,\"#bd3786\"],[0.5555555555555556,\"#d8576b\"],[0.6666666666666666,\"#ed7953\"],[0.7777777777777778,\"#fb9f3a\"],[0.8888888888888888,\"#fdca26\"],[1.0,\"#f0f921\"]],\"type\":\"histogram2dcontour\"}],\"mesh3d\":[{\"colorbar\":{\"outlinewidth\":0,\"ticks\":\"\"},\"type\":\"mesh3d\"}],\"parcoords\":[{\"line\":{\"colorbar\":{\"outlinewidth\":0,\"ticks\":\"\"}},\"type\":\"parcoords\"}],\"pie\":[{\"automargin\":true,\"type\":\"pie\"}],\"scatter\":[{\"marker\":{\"colorbar\":{\"outlinewidth\":0,\"ticks\":\"\"}},\"type\":\"scatter\"}],\"scatter3d\":[{\"line\":{\"colorbar\":{\"outlinewidth\":0,\"ticks\":\"\"}},\"marker\":{\"colorbar\":{\"outlinewidth\":0,\"ticks\":\"\"}},\"type\":\"scatter3d\"}],\"scattercarpet\":[{\"marker\":{\"colorbar\":{\"outlinewidth\":0,\"ticks\":\"\"}},\"type\":\"scattercarpet\"}],\"scattergeo\":[{\"marker\":{\"colorbar\":{\"outlinewidth\":0,\"ticks\":\"\"}},\"type\":\"scattergeo\"}],\"scattergl\":[{\"marker\":{\"colorbar\":{\"outlinewidth\":0,\"ticks\":\"\"}},\"type\":\"scattergl\"}],\"scattermapbox\":[{\"marker\":{\"colorbar\":{\"outlinewidth\":0,\"ticks\":\"\"}},\"type\":\"scattermapbox\"}],\"scatterpolar\":[{\"marker\":{\"colorbar\":{\"outlinewidth\":0,\"ticks\":\"\"}},\"type\":\"scatterpolar\"}],\"scatterpolargl\":[{\"marker\":{\"colorbar\":{\"outlinewidth\":0,\"ticks\":\"\"}},\"type\":\"scatterpolargl\"}],\"scatterternary\":[{\"marker\":{\"colorbar\":{\"outlinewidth\":0,\"ticks\":\"\"}},\"type\":\"scatterternary\"}],\"surface\":[{\"colorbar\":{\"outlinewidth\":0,\"ticks\":\"\"},\"colorscale\":[[0.0,\"#0d0887\"],[0.1111111111111111,\"#46039f\"],[0.2222222222222222,\"#7201a8\"],[0.3333333333333333,\"#9c179e\"],[0.4444444444444444,\"#bd3786\"],[0.5555555555555556,\"#d8576b\"],[0.6666666666666666,\"#ed7953\"],[0.7777777777777778,\"#fb9f3a\"],[0.8888888888888888,\"#fdca26\"],[1.0,\"#f0f921\"]],\"type\":\"surface\"}],\"table\":[{\"cells\":{\"fill\":{\"color\":\"#EBF0F8\"},\"line\":{\"color\":\"white\"}},\"header\":{\"fill\":{\"color\":\"#C8D4E3\"},\"line\":{\"color\":\"white\"}},\"type\":\"table\"}]},\"layout\":{\"annotationdefaults\":{\"arrowcolor\":\"#2a3f5f\",\"arrowhead\":0,\"arrowwidth\":1},\"autotypenumbers\":\"strict\",\"coloraxis\":{\"colorbar\":{\"outlinewidth\":0,\"ticks\":\"\"}},\"colorscale\":{\"diverging\":[[0,\"#8e0152\"],[0.1,\"#c51b7d\"],[0.2,\"#de77ae\"],[0.3,\"#f1b6da\"],[0.4,\"#fde0ef\"],[0.5,\"#f7f7f7\"],[0.6,\"#e6f5d0\"],[0.7,\"#b8e186\"],[0.8,\"#7fbc41\"],[0.9,\"#4d9221\"],[1,\"#276419\"]],\"sequential\":[[0.0,\"#0d0887\"],[0.1111111111111111,\"#46039f\"],[0.2222222222222222,\"#7201a8\"],[0.3333333333333333,\"#9c179e\"],[0.4444444444444444,\"#bd3786\"],[0.5555555555555556,\"#d8576b\"],[0.6666666666666666,\"#ed7953\"],[0.7777777777777778,\"#fb9f3a\"],[0.8888888888888888,\"#fdca26\"],[1.0,\"#f0f921\"]],\"sequentialminus\":[[0.0,\"#0d0887\"],[0.1111111111111111,\"#46039f\"],[0.2222222222222222,\"#7201a8\"],[0.3333333333333333,\"#9c179e\"],[0.4444444444444444,\"#bd3786\"],[0.5555555555555556,\"#d8576b\"],[0.6666666666666666,\"#ed7953\"],[0.7777777777777778,\"#fb9f3a\"],[0.8888888888888888,\"#fdca26\"],[1.0,\"#f0f921\"]]},\"colorway\":[\"#636efa\",\"#EF553B\",\"#00cc96\",\"#ab63fa\",\"#FFA15A\",\"#19d3f3\",\"#FF6692\",\"#B6E880\",\"#FF97FF\",\"#FECB52\"],\"font\":{\"color\":\"#2a3f5f\"},\"geo\":{\"bgcolor\":\"white\",\"lakecolor\":\"white\",\"landcolor\":\"#E5ECF6\",\"showlakes\":true,\"showland\":true,\"subunitcolor\":\"white\"},\"hoverlabel\":{\"align\":\"left\"},\"hovermode\":\"closest\",\"mapbox\":{\"style\":\"light\"},\"paper_bgcolor\":\"white\",\"plot_bgcolor\":\"#E5ECF6\",\"polar\":{\"angularaxis\":{\"gridcolor\":\"white\",\"linecolor\":\"white\",\"ticks\":\"\"},\"bgcolor\":\"#E5ECF6\",\"radialaxis\":{\"gridcolor\":\"white\",\"linecolor\":\"white\",\"ticks\":\"\"}},\"scene\":{\"xaxis\":{\"backgroundcolor\":\"#E5ECF6\",\"gridcolor\":\"white\",\"gridwidth\":2,\"linecolor\":\"white\",\"showbackground\":true,\"ticks\":\"\",\"zerolinecolor\":\"white\"},\"yaxis\":{\"backgroundcolor\":\"#E5ECF6\",\"gridcolor\":\"white\",\"gridwidth\":2,\"linecolor\":\"white\",\"showbackground\":true,\"ticks\":\"\",\"zerolinecolor\":\"white\"},\"zaxis\":{\"backgroundcolor\":\"#E5ECF6\",\"gridcolor\":\"white\",\"gridwidth\":2,\"linecolor\":\"white\",\"showbackground\":true,\"ticks\":\"\",\"zerolinecolor\":\"white\"}},\"shapedefaults\":{\"line\":{\"color\":\"#2a3f5f\"}},\"ternary\":{\"aaxis\":{\"gridcolor\":\"white\",\"linecolor\":\"white\",\"ticks\":\"\"},\"baxis\":{\"gridcolor\":\"white\",\"linecolor\":\"white\",\"ticks\":\"\"},\"bgcolor\":\"#E5ECF6\",\"caxis\":{\"gridcolor\":\"white\",\"linecolor\":\"white\",\"ticks\":\"\"}},\"title\":{\"x\":0.05},\"xaxis\":{\"automargin\":true,\"gridcolor\":\"white\",\"linecolor\":\"white\",\"ticks\":\"\",\"title\":{\"standoff\":15},\"zerolinecolor\":\"white\",\"zerolinewidth\":2},\"yaxis\":{\"automargin\":true,\"gridcolor\":\"white\",\"linecolor\":\"white\",\"ticks\":\"\",\"title\":{\"standoff\":15},\"zerolinecolor\":\"white\",\"zerolinewidth\":2}}}},\"margin\":[5,5,5,5],\"name\":\"Plotly33718\",\"viewport_update_throttle\":200},\"id\":\"54607\",\"type\":\"panel.models.plotly.PlotlyPlot\"},{\"attributes\":{\"data\":{\"lat\":[{\"__ndarray__\":\"L+rmJIzeRUA=\",\"dtype\":\"float64\",\"order\":\"little\",\"shape\":[1]}],\"lon\":[{\"__ndarray__\":\"pRAKQuDNU8A=\",\"dtype\":\"float64\",\"order\":\"little\",\"shape\":[1]}],\"marker.size\":[{\"__ndarray__\":\"AAAAAK8hFEE=\",\"dtype\":\"float64\",\"order\":\"little\",\"shape\":[1]}]},\"selected\":{\"id\":\"54841\"},\"selection_policy\":{\"id\":\"54840\"}},\"id\":\"54575\",\"type\":\"ColumnDataSource\"},{\"attributes\":{\"data\":{\"lat\":[{\"__ndarray__\":\"O6OUrYHXRUA=\",\"dtype\":\"float64\",\"order\":\"little\",\"shape\":[1]}],\"lon\":[{\"__ndarray__\":\"TiCRW3jjU8A=\",\"dtype\":\"float64\",\"order\":\"little\",\"shape\":[1]}],\"marker.size\":[{\"__ndarray__\":\"AAAAAFhWHEE=\",\"dtype\":\"float64\",\"order\":\"little\",\"shape\":[1]}]},\"selected\":{\"id\":\"54887\"},\"selection_policy\":{\"id\":\"54886\"}},\"id\":\"54598\",\"type\":\"ColumnDataSource\"},{\"attributes\":{},\"id\":\"54760\",\"type\":\"UnionRenderers\"},{\"attributes\":{\"data\":{\"lat\":[{\"__ndarray__\":\"iKL+gvbVRUA=\",\"dtype\":\"float64\",\"order\":\"little\",\"shape\":[1]}],\"lon\":[{\"__ndarray__\":\"rp1qJdvZU8A=\",\"dtype\":\"float64\",\"order\":\"little\",\"shape\":[1]}],\"marker.size\":[{\"__ndarray__\":\"AAAAAMLLJkE=\",\"dtype\":\"float64\",\"order\":\"little\",\"shape\":[1]}]},\"selected\":{\"id\":\"54631\"},\"selection_policy\":{\"id\":\"54630\"}},\"id\":\"54470\",\"type\":\"ColumnDataSource\"},{\"attributes\":{\"data\":{\"lat\":[{\"__ndarray__\":\"/pcxJvneRUA=\",\"dtype\":\"float64\",\"order\":\"little\",\"shape\":[1]}],\"lon\":[{\"__ndarray__\":\"G06yOJDcU8A=\",\"dtype\":\"float64\",\"order\":\"little\",\"shape\":[1]}],\"marker.size\":[{\"__ndarray__\":\"AAAAgBLVIEE=\",\"dtype\":\"float64\",\"order\":\"little\",\"shape\":[1]}]},\"selected\":{\"id\":\"54675\"},\"selection_policy\":{\"id\":\"54674\"}},\"id\":\"54492\",\"type\":\"ColumnDataSource\"},{\"attributes\":{\"data\":{\"lat\":[{\"__ndarray__\":\"uy54qFjRRUA=\",\"dtype\":\"float64\",\"order\":\"little\",\"shape\":[1]}],\"lon\":[{\"__ndarray__\":\"ZUMOfBLgU8A=\",\"dtype\":\"float64\",\"order\":\"little\",\"shape\":[1]}],\"marker.size\":[{\"__ndarray__\":\"AAAAgEDMIEE=\",\"dtype\":\"float64\",\"order\":\"little\",\"shape\":[1]}]},\"selected\":{\"id\":\"54851\"},\"selection_policy\":{\"id\":\"54850\"}},\"id\":\"54580\",\"type\":\"ColumnDataSource\"},{\"attributes\":{\"data\":{\"lat\":[{\"__ndarray__\":\"4alPiyTiRUA=\",\"dtype\":\"float64\",\"order\":\"little\",\"shape\":[1]}],\"lon\":[{\"__ndarray__\":\"yJ41JqHOU8A=\",\"dtype\":\"float64\",\"order\":\"little\",\"shape\":[1]}],\"marker.size\":[{\"__ndarray__\":\"AAAAACc4EkE=\",\"dtype\":\"float64\",\"order\":\"little\",\"shape\":[1]}]},\"selected\":{\"id\":\"54889\"},\"selection_policy\":{\"id\":\"54888\"}},\"id\":\"54599\",\"type\":\"ColumnDataSource\"},{\"attributes\":{\"data\":{\"lat\":[{\"__ndarray__\":\"alnvHj3iRUA=\",\"dtype\":\"float64\",\"order\":\"little\",\"shape\":[1]}],\"lon\":[{\"__ndarray__\":\"k7X6qE7LU8A=\",\"dtype\":\"float64\",\"order\":\"little\",\"shape\":[1]}],\"marker.size\":[{\"__ndarray__\":\"AAAAAJ5fEUE=\",\"dtype\":\"float64\",\"order\":\"little\",\"shape\":[1]}]},\"selected\":{\"id\":\"54871\"},\"selection_policy\":{\"id\":\"54870\"}},\"id\":\"54590\",\"type\":\"ColumnDataSource\"},{\"attributes\":{},\"id\":\"54768\",\"type\":\"UnionRenderers\"},{\"attributes\":{\"line_alpha\":0.2,\"line_color\":\"green\",\"line_width\":2,\"x\":{\"field\":\"year\"},\"y\":{\"field\":\"shelter_costs_owned\"}},\"id\":\"54070\",\"type\":\"Line\"},{\"attributes\":{\"reload\":false},\"id\":\"58089\",\"type\":\"panel.models.location.Location\"},{\"attributes\":{\"data\":{\"lat\":[{\"__ndarray__\":\"GYjpayvYRUA=\",\"dtype\":\"float64\",\"order\":\"little\",\"shape\":[1]}],\"lon\":[{\"__ndarray__\":\"UrxGosLWU8A=\",\"dtype\":\"float64\",\"order\":\"little\",\"shape\":[1]}],\"marker.size\":[{\"__ndarray__\":\"AAAAALUPG0E=\",\"dtype\":\"float64\",\"order\":\"little\",\"shape\":[1]}]},\"selected\":{\"id\":\"54659\"},\"selection_policy\":{\"id\":\"54658\"}},\"id\":\"54484\",\"type\":\"ColumnDataSource\"},{\"attributes\":{},\"id\":\"54625\",\"type\":\"Selection\"},{\"attributes\":{},\"id\":\"54750\",\"type\":\"UnionRenderers\"},{\"attributes\":{\"data\":{\"lat\":[{\"__ndarray__\":\"a+Pb/SLRRUA=\",\"dtype\":\"float64\",\"order\":\"little\",\"shape\":[1]}],\"lon\":[{\"__ndarray__\":\"PlsoFSTYU8A=\",\"dtype\":\"float64\",\"order\":\"little\",\"shape\":[1]}],\"marker.size\":[{\"__ndarray__\":\"AAAAAHwAF0E=\",\"dtype\":\"float64\",\"order\":\"little\",\"shape\":[1]}]},\"selected\":{\"id\":\"54869\"},\"selection_policy\":{\"id\":\"54868\"}},\"id\":\"54589\",\"type\":\"ColumnDataSource\"},{\"attributes\":{},\"id\":\"54773\",\"type\":\"Selection\"},{\"attributes\":{\"data\":{\"Variable\":[\"single_detached_house\",\"single_detached_house\",\"single_detached_house\",\"single_detached_house\",\"apartment_five_storeys_plus\",\"apartment_five_storeys_plus\",\"apartment_five_storeys_plus\",\"apartment_five_storeys_plus\",\"movable_dwelling\",\"movable_dwelling\",\"movable_dwelling\",\"movable_dwelling\",\"semi_detached_house\",\"semi_detached_house\",\"semi_detached_house\",\"semi_detached_house\",\"row_house\",\"row_house\",\"row_house\",\"row_house\",\"duplex\",\"duplex\",\"duplex\",\"duplex\",\"apartment_five_storeys_less\",\"apartment_five_storeys_less\",\"apartment_five_storeys_less\",\"apartment_five_storeys_less\",\"other_house\",\"other_house\",\"other_house\",\"other_house\"],\"value\":[3715,3295,3385,3345,1480,2060,2130,2120,0,0,5,5,1055,775,820,805,1295,1425,1465,1440,195,600,610,645,185,565,705,735,5,0,20,15],\"xoffsets\":[[\"2001\",\"single_detached_house\"],[\"2006\",\"single_detached_house\"],[\"2011\",\"single_detached_house\"],[\"2016\",\"single_detached_house\"],[\"2001\",\"apartment_five_storeys_plus\"],[\"2006\",\"apartment_five_storeys_plus\"],[\"2011\",\"apartment_five_storeys_plus\"],[\"2016\",\"apartment_five_storeys_plus\"],[\"2001\",\"movable_dwelling\"],[\"2006\",\"movable_dwelling\"],[\"2011\",\"movable_dwelling\"],[\"2016\",\"movable_dwelling\"],[\"2001\",\"semi_detached_house\"],[\"2006\",\"semi_detached_house\"],[\"2011\",\"semi_detached_house\"],[\"2016\",\"semi_detached_house\"],[\"2001\",\"row_house\"],[\"2006\",\"row_house\"],[\"2011\",\"row_house\"],[\"2016\",\"row_house\"],[\"2001\",\"duplex\"],[\"2006\",\"duplex\"],[\"2011\",\"duplex\"],[\"2016\",\"duplex\"],[\"2001\",\"apartment_five_storeys_less\"],[\"2006\",\"apartment_five_storeys_less\"],[\"2011\",\"apartment_five_storeys_less\"],[\"2016\",\"apartment_five_storeys_less\"],[\"2001\",\"other_house\"],[\"2006\",\"other_house\"],[\"2011\",\"other_house\"],[\"2016\",\"other_house\"]],\"year\":[\"2001\",\"2006\",\"2011\",\"2016\",\"2001\",\"2006\",\"2011\",\"2016\",\"2001\",\"2006\",\"2011\",\"2016\",\"2001\",\"2006\",\"2011\",\"2016\",\"2001\",\"2006\",\"2011\",\"2016\",\"2001\",\"2006\",\"2011\",\"2016\",\"2001\",\"2006\",\"2011\",\"2016\",\"2001\",\"2006\",\"2011\",\"2016\"]},\"selected\":{\"id\":\"54353\"},\"selection_policy\":{\"id\":\"54380\"}},\"id\":\"54352\",\"type\":\"ColumnDataSource\"},{\"attributes\":{\"data\":{\"lat\":[{\"__ndarray__\":\"ogSizKvbRUA=\",\"dtype\":\"float64\",\"order\":\"little\",\"shape\":[1]}],\"lon\":[{\"__ndarray__\":\"jmA+tCrmU8A=\",\"dtype\":\"float64\",\"order\":\"little\",\"shape\":[1]}],\"marker.size\":[{\"__ndarray__\":\"AAAAAFnzFEE=\",\"dtype\":\"float64\",\"order\":\"little\",\"shape\":[1]}]},\"selected\":{\"id\":\"54873\"},\"selection_policy\":{\"id\":\"54872\"}},\"id\":\"54591\",\"type\":\"ColumnDataSource\"},{\"attributes\":{},\"id\":\"54738\",\"type\":\"UnionRenderers\"},{\"attributes\":{},\"id\":\"54762\",\"type\":\"UnionRenderers\"},{\"attributes\":{\"source\":{\"id\":\"53994\"}},\"id\":\"54001\",\"type\":\"CDSView\"},{\"attributes\":{\"data\":{\"lat\":[{\"__ndarray__\":\"FZay62LURUA=\",\"dtype\":\"float64\",\"order\":\"little\",\"shape\":[1]}],\"lon\":[{\"__ndarray__\":\"+x/D1xXfU8A=\",\"dtype\":\"float64\",\"order\":\"little\",\"shape\":[1]}],\"marker.size\":[{\"__ndarray__\":\"AAAAACTZIEE=\",\"dtype\":\"float64\",\"order\":\"little\",\"shape\":[1]}]},\"selected\":{\"id\":\"54837\"},\"selection_policy\":{\"id\":\"54836\"}},\"id\":\"54573\",\"type\":\"ColumnDataSource\"},{\"attributes\":{},\"id\":\"54806\",\"type\":\"UnionRenderers\"},{\"attributes\":{\"data\":{\"lat\":[{\"__ndarray__\":\"l0W0X2/URUA=\",\"dtype\":\"float64\",\"order\":\"little\",\"shape\":[1]}],\"lon\":[{\"__ndarray__\":\"cHE70UHYU8A=\",\"dtype\":\"float64\",\"order\":\"little\",\"shape\":[1]}],\"marker.size\":[{\"__ndarray__\":\"AAAAAJbJGEE=\",\"dtype\":\"float64\",\"order\":\"little\",\"shape\":[1]}]},\"selected\":{\"id\":\"54671\"},\"selection_policy\":{\"id\":\"54670\"}},\"id\":\"54490\",\"type\":\"ColumnDataSource\"},{\"attributes\":{\"data\":{\"lat\":[{\"__ndarray__\":\"YnVYn3rURUA=\",\"dtype\":\"float64\",\"order\":\"little\",\"shape\":[1]}],\"lon\":[{\"__ndarray__\":\"rDeLkxLXU8A=\",\"dtype\":\"float64\",\"order\":\"little\",\"shape\":[1]}],\"marker.size\":[{\"__ndarray__\":\"AAAAAAn2F0E=\",\"dtype\":\"float64\",\"order\":\"little\",\"shape\":[1]}]},\"selected\":{\"id\":\"54825\"},\"selection_policy\":{\"id\":\"54824\"}},\"id\":\"54567\",\"type\":\"ColumnDataSource\"},{\"attributes\":{},\"id\":\"54749\",\"type\":\"Selection\"},{\"attributes\":{},\"id\":\"54774\",\"type\":\"UnionRenderers\"},{\"attributes\":{\"data\":{\"lat\":[{\"__ndarray__\":\"UaCRABzTRUA=\",\"dtype\":\"float64\",\"order\":\"little\",\"shape\":[1]}],\"lon\":[{\"__ndarray__\":\"l5CsT3vVU8A=\",\"dtype\":\"float64\",\"order\":\"little\",\"shape\":[1]}],\"marker.size\":[{\"__ndarray__\":\"AAAAALLFG0E=\",\"dtype\":\"float64\",\"order\":\"little\",\"shape\":[1]}]},\"selected\":{\"id\":\"54845\"},\"selection_policy\":{\"id\":\"54844\"}},\"id\":\"54577\",\"type\":\"ColumnDataSource\"},{\"attributes\":{},\"id\":\"54627\",\"type\":\"Selection\"},{\"attributes\":{},\"id\":\"54763\",\"type\":\"Selection\"},{\"attributes\":{},\"id\":\"54807\",\"type\":\"Selection\"},{\"attributes\":{\"css_classes\":[\"markdown\"],\"margin\":[5,5,5,5],\"name\":\"Markdown33716\",\"text\":\"&lt;h2&gt;Average House Value By Neighbourhood&lt;/h2&gt;\"},\"id\":\"54466\",\"type\":\"panel.models.markup.HTML\"},{\"attributes\":{\"data\":{\"lat\":[{\"__ndarray__\":\"0UVcY0TWRUA=\",\"dtype\":\"float64\",\"order\":\"little\",\"shape\":[1]}],\"lon\":[{\"__ndarray__\":\"hmjfonTdU8A=\",\"dtype\":\"float64\",\"order\":\"little\",\"shape\":[1]}],\"marker.size\":[{\"__ndarray__\":\"AAAAAOh4FUE=\",\"dtype\":\"float64\",\"order\":\"little\",\"shape\":[1]}]},\"selected\":{\"id\":\"54879\"},\"selection_policy\":{\"id\":\"54878\"}},\"id\":\"54594\",\"type\":\"ColumnDataSource\"},{\"attributes\":{\"data\":{\"lat\":[{\"__ndarray__\":\"7nRrwgvYRUA=\",\"dtype\":\"float64\",\"order\":\"little\",\"shape\":[1]}],\"lon\":[{\"__ndarray__\":\"zEv2tnbZU8A=\",\"dtype\":\"float64\",\"order\":\"little\",\"shape\":[1]}],\"marker.size\":[{\"__ndarray__\":\"AAAAgEjRKEE=\",\"dtype\":\"float64\",\"order\":\"little\",\"shape\":[1]}]},\"selected\":{\"id\":\"54899\"},\"selection_policy\":{\"id\":\"54898\"}},\"id\":\"54604\",\"type\":\"ColumnDataSource\"},{\"attributes\":{\"data\":{\"lat\":[{\"__ndarray__\":\"WFTE6STkRUA=\",\"dtype\":\"float64\",\"order\":\"little\",\"shape\":[1]}],\"lon\":[{\"__ndarray__\":\"MN6HaqfJU8A=\",\"dtype\":\"float64\",\"order\":\"little\",\"shape\":[1]}],\"marker.size\":[{\"__ndarray__\":\"AAAAABsEGUE=\",\"dtype\":\"float64\",\"order\":\"little\",\"shape\":[1]}]},\"selected\":{\"id\":\"54669\"},\"selection_policy\":{\"id\":\"54668\"}},\"id\":\"54489\",\"type\":\"ColumnDataSource\"},{\"attributes\":{\"data\":{\"lat\":[{\"__ndarray__\":\"bf8MZ+XhRUA=\",\"dtype\":\"float64\",\"order\":\"little\",\"shape\":[1]}],\"lon\":[{\"__ndarray__\":\"0Ff7ATDdU8A=\",\"dtype\":\"float64\",\"order\":\"little\",\"shape\":[1]}],\"marker.size\":[{\"__ndarray__\":\"AAAAACOdHkE=\",\"dtype\":\"float64\",\"order\":\"little\",\"shape\":[1]}]},\"selected\":{\"id\":\"54635\"},\"selection_policy\":{\"id\":\"54634\"}},\"id\":\"54472\",\"type\":\"ColumnDataSource\"},{\"attributes\":{\"data\":{\"lat\":[{\"__ndarray__\":\"lf89NtHfRUA=\",\"dtype\":\"float64\",\"order\":\"little\",\"shape\":[1]}],\"lon\":[{\"__ndarray__\":\"iWKP3BzTU8A=\",\"dtype\":\"float64\",\"order\":\"little\",\"shape\":[1]}],\"marker.size\":[{\"__ndarray__\":\"AAAAAH1CFUE=\",\"dtype\":\"float64\",\"order\":\"little\",\"shape\":[1]}]},\"selected\":{\"id\":\"54881\"},\"selection_policy\":{\"id\":\"54880\"}},\"id\":\"54595\",\"type\":\"ColumnDataSource\"},{\"attributes\":{\"data\":{\"lat\":[{\"__ndarray__\":\"g2Z8BCPYRUA=\",\"dtype\":\"float64\",\"order\":\"little\",\"shape\":[1]}],\"lon\":[{\"__ndarray__\":\"BhbZMSLdU8A=\",\"dtype\":\"float64\",\"order\":\"little\",\"shape\":[1]}],\"marker.size\":[{\"__ndarray__\":\"AAAAAMkTFkE=\",\"dtype\":\"float64\",\"order\":\"little\",\"shape\":[1]}]},\"selected\":{\"id\":\"54665\"},\"selection_policy\":{\"id\":\"54664\"}},\"id\":\"54487\",\"type\":\"ColumnDataSource\"},{\"attributes\":{\"data\":{\"lat\":[{\"__ndarray__\":\"JFyvhpfaRUA=\",\"dtype\":\"float64\",\"order\":\"little\",\"shape\":[1]}],\"lon\":[{\"__ndarray__\":\"gcWnIWbWU8A=\",\"dtype\":\"float64\",\"order\":\"little\",\"shape\":[1]}],\"marker.size\":[{\"__ndarray__\":\"AAAAAAYpD0E=\",\"dtype\":\"float64\",\"order\":\"little\",\"shape\":[1]}]},\"selected\":{\"id\":\"54861\"},\"selection_policy\":{\"id\":\"54860\"}},\"id\":\"54585\",\"type\":\"ColumnDataSource\"},{\"attributes\":{},\"id\":\"54757\",\"type\":\"Selection\"},{\"attributes\":{},\"id\":\"54778\",\"type\":\"UnionRenderers\"},{\"attributes\":{\"data\":{\"lat\":[{\"__ndarray__\":\"oMwWe3XVRUA=\",\"dtype\":\"float64\",\"order\":\"little\",\"shape\":[1]}],\"lon\":[{\"__ndarray__\":\"D+OgSm7XU8A=\",\"dtype\":\"float64\",\"order\":\"little\",\"shape\":[1]}],\"marker.size\":[{\"__ndarray__\":\"AAAAAHooHkE=\",\"dtype\":\"float64\",\"order\":\"little\",\"shape\":[1]}]},\"selected\":{\"id\":\"54663\"},\"selection_policy\":{\"id\":\"54662\"}},\"id\":\"54486\",\"type\":\"ColumnDataSource\"},{\"attributes\":{},\"id\":\"54775\",\"type\":\"Selection\"},{\"attributes\":{},\"id\":\"54624\",\"type\":\"UnionRenderers\"},{\"attributes\":{},\"id\":\"54744\",\"type\":\"UnionRenderers\"},{\"attributes\":{},\"id\":\"54777\",\"type\":\"Selection\"},{\"attributes\":{},\"id\":\"54274\",\"type\":\"Selection\"},{\"attributes\":{},\"id\":\"54225\",\"type\":\"UnionRenderers\"},{\"attributes\":{\"data\":{\"lat\":[{\"__ndarray__\":\"FuzxCA/oRUA=\",\"dtype\":\"float64\",\"order\":\"little\",\"shape\":[1]}],\"lon\":[{\"__ndarray__\":\"iszYp47UU8A=\",\"dtype\":\"float64\",\"order\":\"little\",\"shape\":[1]}],\"marker.size\":[{\"__ndarray__\":\"AAAAADrzFkE=\",\"dtype\":\"float64\",\"order\":\"little\",\"shape\":[1]}]},\"selected\":{\"id\":\"54849\"},\"selection_policy\":{\"id\":\"54848\"}},\"id\":\"54579\",\"type\":\"ColumnDataSource\"},{\"attributes\":{},\"id\":\"54626\",\"type\":\"UnionRenderers\"},{\"attributes\":{},\"id\":\"54755\",\"type\":\"Selection\"},{\"attributes\":{},\"id\":\"54800\",\"type\":\"UnionRenderers\"},{\"attributes\":{\"data\":{\"lat\":[{\"__ndarray__\":\"Ih27l73WRUA=\",\"dtype\":\"float64\",\"order\":\"little\",\"shape\":[1]}],\"lon\":[{\"__ndarray__\":\"CZRmVqPcU8A=\",\"dtype\":\"float64\",\"order\":\"little\",\"shape\":[1]}],\"marker.size\":[{\"__ndarray__\":\"AAAAAGqhGUE=\",\"dtype\":\"float64\",\"order\":\"little\",\"shape\":[1]}]},\"selected\":{\"id\":\"54679\"},\"selection_policy\":{\"id\":\"54678\"}},\"id\":\"54494\",\"type\":\"ColumnDataSource\"},{\"attributes\":{},\"id\":\"54739\",\"type\":\"Selection\"},{\"attributes\":{},\"id\":\"54776\",\"type\":\"UnionRenderers\"},{\"attributes\":{},\"id\":\"54087\",\"type\":\"UnionRenderers\"},{\"attributes\":{\"data\":{\"lat\":[{\"__ndarray__\":\"QkJSE5bkRUA=\",\"dtype\":\"float64\",\"order\":\"little\",\"shape\":[1]}],\"lon\":[{\"__ndarray__\":\"bA/3aJzbU8A=\",\"dtype\":\"float64\",\"order\":\"little\",\"shape\":[1]}],\"marker.size\":[{\"__ndarray__\":\"AAAAAGIcHEE=\",\"dtype\":\"float64\",\"order\":\"little\",\"shape\":[1]}]},\"selected\":{\"id\":\"54797\"},\"selection_policy\":{\"id\":\"54796\"}},\"id\":\"54553\",\"type\":\"ColumnDataSource\"},{\"attributes\":{},\"id\":\"54849\",\"type\":\"Selection\"},{\"attributes\":{\"fill_color\":{\"value\":\"pink\"},\"hatch_color\":{\"value\":\"pink\"},\"top\":{\"field\":\"A_2016\"},\"width\":{\"value\":0.8},\"x\":{\"field\":\"index\"}},\"id\":\"53997\",\"type\":\"VBar\"},{\"attributes\":{\"data\":{\"lat\":[{\"__ndarray__\":\"Qihrq0TZRUA=\",\"dtype\":\"float64\",\"order\":\"little\",\"shape\":[1]}],\"lon\":[{\"__ndarray__\":\"+y3PvebRU8A=\",\"dtype\":\"float64\",\"order\":\"little\",\"shape\":[1]}],\"marker.size\":[{\"__ndarray__\":\"AAAAAMbFGUE=\",\"dtype\":\"float64\",\"order\":\"little\",\"shape\":[1]}]},\"selected\":{\"id\":\"54807\"},\"selection_policy\":{\"id\":\"54806\"}},\"id\":\"54558\",\"type\":\"ColumnDataSource\"},{\"attributes\":{\"coordinates\":null,\"data_source\":{\"id\":\"54273\"},\"glyph\":{\"id\":\"54276\"},\"group\":null,\"hover_glyph\":null,\"muted_glyph\":{\"id\":\"54278\"},\"nonselection_glyph\":{\"id\":\"54277\"},\"selection_glyph\":{\"id\":\"54281\"},\"view\":{\"id\":\"54280\"}},\"id\":\"54279\",\"type\":\"GlyphRenderer\"},{\"attributes\":{},\"id\":\"54016\",\"type\":\"UnionRenderers\"},{\"attributes\":{},\"id\":\"54846\",\"type\":\"UnionRenderers\"},{\"attributes\":{\"end\":1852.7578571428571,\"reset_end\":1852.7578571428571,\"reset_start\":755.435,\"start\":755.435,\"tags\":[[[\"shelter_costs_owned\",\"shelter_costs_owned\",null]]]},\"id\":\"54033\",\"type\":\"Range1d\"},{\"attributes\":{\"tools\":[{\"id\":\"54321\"},{\"id\":\"54338\"},{\"id\":\"54339\"},{\"id\":\"54340\"},{\"id\":\"54341\"},{\"id\":\"54342\"}]},\"id\":\"54344\",\"type\":\"Toolbar\"},{\"attributes\":{},\"id\":\"54257\",\"type\":\"BasicTicker\"},{\"attributes\":{\"data\":{\"shelter_costs_rented\":{\"__ndarray__\":\"LL7iK773kEB1UAd1UOuMQMVXfMVX3o9AJUmSJEmhk0A=\",\"dtype\":\"float64\",\"order\":\"little\",\"shape\":[4]},\"year\":[2001,2006,2011,2016]},\"selected\":{\"id\":\"54135\"},\"selection_policy\":{\"id\":\"54156\"}},\"id\":\"54134\",\"type\":\"ColumnDataSource\"},{\"attributes\":{\"data\":{\"lat\":[{\"__ndarray__\":\"DK2Q6iLYRUA=\",\"dtype\":\"float64\",\"order\":\"little\",\"shape\":[1]}],\"lon\":[{\"__ndarray__\":\"w3b/cSXcU8A=\",\"dtype\":\"float64\",\"order\":\"little\",\"shape\":[1]}],\"marker.size\":[{\"__ndarray__\":\"AAAAAMvtGkE=\",\"dtype\":\"float64\",\"order\":\"little\",\"shape\":[1]}]},\"selected\":{\"id\":\"54809\"},\"selection_policy\":{\"id\":\"54808\"}},\"id\":\"54559\",\"type\":\"ColumnDataSource\"},{\"attributes\":{\"line_color\":\"orange\",\"line_width\":2,\"x\":{\"field\":\"year\"},\"y\":{\"field\":\"shelter_costs_rented\"}},\"id\":\"54137\",\"type\":\"Line\"},{\"attributes\":{\"data\":{\"lat\":[{\"__ndarray__\":\"BbwOzSPaRUA=\",\"dtype\":\"float64\",\"order\":\"little\",\"shape\":[1]}],\"lon\":[{\"__ndarray__\":\"MY2RsmbbU8A=\",\"dtype\":\"float64\",\"order\":\"little\",\"shape\":[1]}],\"marker.size\":[{\"__ndarray__\":\"AAAAAMH9KUE=\",\"dtype\":\"float64\",\"order\":\"little\",\"shape\":[1]}]},\"selected\":{\"id\":\"54711\"},\"selection_policy\":{\"id\":\"54710\"}},\"id\":\"54510\",\"type\":\"ColumnDataSource\"},{\"attributes\":{\"data\":{\"lat\":[{\"__ndarray__\":\"xI7vIDDZRUA=\",\"dtype\":\"float64\",\"order\":\"little\",\"shape\":[1]}],\"lon\":[{\"__ndarray__\":\"4JgrpHjVU8A=\",\"dtype\":\"float64\",\"order\":\"little\",\"shape\":[1]}],\"marker.size\":[{\"__ndarray__\":\"AAAAAFYQG0E=\",\"dtype\":\"float64\",\"order\":\"little\",\"shape\":[1]}]},\"selected\":{\"id\":\"54811\"},\"selection_policy\":{\"id\":\"54810\"}},\"id\":\"54560\",\"type\":\"ColumnDataSource\"},{\"attributes\":{\"axis\":{\"id\":\"54256\"},\"coordinates\":null,\"dimension\":1,\"grid_line_color\":null,\"group\":null,\"ticker\":null},\"id\":\"54259\",\"type\":\"Grid\"},{\"attributes\":{},\"id\":\"54838\",\"type\":\"UnionRenderers\"},{\"attributes\":{},\"id\":\"54845\",\"type\":\"Selection\"},{\"attributes\":{\"axis_label\":\"year\",\"coordinates\":null,\"formatter\":{\"id\":\"54075\"},\"group\":null,\"major_label_policy\":{\"id\":\"54076\"},\"ticker\":{\"id\":\"54045\"}},\"id\":\"54044\",\"type\":\"LinearAxis\"},{\"attributes\":{\"data\":{\"lat\":[{\"__ndarray__\":\"vbczXZnfRUA=\",\"dtype\":\"float64\",\"order\":\"little\",\"shape\":[1]}],\"lon\":[{\"__ndarray__\":\"SP7cp5XlU8A=\",\"dtype\":\"float64\",\"order\":\"little\",\"shape\":[1]}],\"marker.size\":[{\"__ndarray__\":\"AAAAAPLnDkE=\",\"dtype\":\"float64\",\"order\":\"little\",\"shape\":[1]}]},\"selected\":{\"id\":\"54787\"},\"selection_policy\":{\"id\":\"54786\"}},\"id\":\"54548\",\"type\":\"ColumnDataSource\"},{\"attributes\":{\"below\":[{\"id\":\"54113\"}],\"center\":[{\"id\":\"54116\"},{\"id\":\"54120\"}],\"height\":300,\"left\":[{\"id\":\"54117\"}],\"margin\":[5,5,5,5],\"min_border_bottom\":10,\"min_border_left\":10,\"min_border_right\":10,\"min_border_top\":10,\"renderers\":[{\"id\":\"54140\"}],\"sizing_mode\":\"fixed\",\"title\":{\"id\":\"54105\"},\"toolbar\":{\"id\":\"54127\"},\"width\":700,\"x_range\":{\"id\":\"54032\"},\"x_scale\":{\"id\":\"54109\"},\"y_range\":{\"id\":\"54102\"},\"y_scale\":{\"id\":\"54111\"}},\"id\":\"54104\",\"subtype\":\"Figure\",\"type\":\"Plot\"},{\"attributes\":{\"data\":{\"lat\":[{\"__ndarray__\":\"6NzMbADXRUA=\",\"dtype\":\"float64\",\"order\":\"little\",\"shape\":[1]}],\"lon\":[{\"__ndarray__\":\"OhQuebbWU8A=\",\"dtype\":\"float64\",\"order\":\"little\",\"shape\":[1]}],\"marker.size\":[{\"__ndarray__\":\"AAAAgDbNI0E=\",\"dtype\":\"float64\",\"order\":\"little\",\"shape\":[1]}]},\"selected\":{\"id\":\"54819\"},\"selection_policy\":{\"id\":\"54818\"}},\"id\":\"54564\",\"type\":\"ColumnDataSource\"},{\"attributes\":{\"callback\":null,\"renderers\":[{\"id\":\"54140\"}],\"tags\":[\"hv_created\"],\"tooltips\":[[\"year\",\"@{year}\"],[\"shelter_costs_rented\",\"@{shelter_costs_rented}\"]]},\"id\":\"54103\",\"type\":\"HoverTool\"},{\"attributes\":{\"margin\":[5,5,5,5],\"name\":\"VSpacer33696\",\"sizing_mode\":\"stretch_height\"},\"id\":\"54317\",\"type\":\"Spacer\"},{\"attributes\":{},\"id\":\"54844\",\"type\":\"UnionRenderers\"},{\"attributes\":{},\"id\":\"54837\",\"type\":\"Selection\"},{\"attributes\":{\"data\":{\"lat\":[{\"__ndarray__\":\"6pL1xAjURUA=\",\"dtype\":\"float64\",\"order\":\"little\",\"shape\":[1]}],\"lon\":[{\"__ndarray__\":\"JvFmy4HXU8A=\",\"dtype\":\"float64\",\"order\":\"little\",\"shape\":[1]}],\"marker.size\":[{\"__ndarray__\":\"AAAAAMD9GEE=\",\"dtype\":\"float64\",\"order\":\"little\",\"shape\":[1]}]},\"selected\":{\"id\":\"54783\"},\"selection_policy\":{\"id\":\"54782\"}},\"id\":\"54546\",\"type\":\"ColumnDataSource\"},{\"attributes\":{},\"id\":\"54342\",\"type\":\"ResetTool\"},{\"attributes\":{\"fill_color\":{\"value\":\"orange\"},\"hatch_color\":{\"value\":\"orange\"},\"top\":{\"field\":\"A_2011\"},\"width\":{\"value\":0.8},\"x\":{\"field\":\"index\"}},\"id\":\"53929\",\"type\":\"VBar\"},{\"attributes\":{\"axis\":{\"id\":\"54048\"},\"coordinates\":null,\"dimension\":1,\"grid_line_color\":null,\"group\":null,\"ticker\":null},\"id\":\"54051\",\"type\":\"Grid\"},{\"attributes\":{\"fill_alpha\":{\"value\":0.1},\"fill_color\":{\"value\":\"orange\"},\"hatch_alpha\":{\"value\":0.1},\"hatch_color\":{\"value\":\"orange\"},\"line_alpha\":{\"value\":0.1},\"top\":{\"field\":\"A_2011\"},\"width\":{\"value\":0.8},\"x\":{\"field\":\"index\"}},\"id\":\"53930\",\"type\":\"VBar\"},{\"attributes\":{\"callback\":null,\"renderers\":[{\"id\":\"54000\"}],\"tags\":[\"hv_created\"],\"tooltips\":[[\"index\",\"@{index}\"],[\"2016\",\"@{A_2016}\"]]},\"id\":\"53964\",\"type\":\"HoverTool\"},{\"attributes\":{\"data\":{\"lat\":[{\"__ndarray__\":\"K74EGxXYRUA=\",\"dtype\":\"float64\",\"order\":\"little\",\"shape\":[1]}],\"lon\":[{\"__ndarray__\":\"s0Md0v/fU8A=\",\"dtype\":\"float64\",\"order\":\"little\",\"shape\":[1]}],\"marker.size\":[{\"__ndarray__\":\"AAAAAJMCEEE=\",\"dtype\":\"float64\",\"order\":\"little\",\"shape\":[1]}]},\"selected\":{\"id\":\"54785\"},\"selection_policy\":{\"id\":\"54784\"}},\"id\":\"54547\",\"type\":\"ColumnDataSource\"},{\"attributes\":{},\"id\":\"54836\",\"type\":\"UnionRenderers\"},{\"attributes\":{},\"id\":\"54287\",\"type\":\"AllLabels\"},{\"attributes\":{},\"id\":\"54841\",\"type\":\"Selection\"},{\"attributes\":{},\"id\":\"54843\",\"type\":\"Selection\"},{\"attributes\":{\"bottom_units\":\"screen\",\"coordinates\":null,\"fill_alpha\":0.5,\"fill_color\":\"lightgrey\",\"group\":null,\"left_units\":\"screen\",\"level\":\"overlay\",\"line_alpha\":1.0,\"line_color\":\"black\",\"line_dash\":[4,4],\"line_width\":2,\"right_units\":\"screen\",\"syncable\":false,\"top_units\":\"screen\"},\"id\":\"54343\",\"type\":\"BoxAnnotation\"},{\"attributes\":{\"below\":[{\"id\":\"54252\"}],\"center\":[{\"id\":\"54255\"},{\"id\":\"54259\"}],\"height\":300,\"left\":[{\"id\":\"54256\"}],\"margin\":[5,5,5,5],\"min_border_bottom\":10,\"min_border_left\":10,\"min_border_right\":10,\"min_border_top\":10,\"renderers\":[{\"id\":\"54279\"}],\"sizing_mode\":\"fixed\",\"title\":{\"id\":\"54244\"},\"toolbar\":{\"id\":\"54266\"},\"width\":700,\"x_range\":{\"id\":\"54032\"},\"x_scale\":{\"id\":\"54248\"},\"y_range\":{\"id\":\"54171\"},\"y_scale\":{\"id\":\"54250\"}},\"id\":\"54243\",\"subtype\":\"Figure\",\"type\":\"Plot\"},{\"attributes\":{\"end\":542587.5,\"reset_end\":542587.5,\"reset_start\":0.0,\"tags\":[[[\"2016\",\"2016\",null]]]},\"id\":\"53963\",\"type\":\"Range1d\"},{\"attributes\":{\"children\":[{\"id\":\"54322\"},{\"id\":\"54393\"}],\"margin\":[0,0,0,0],\"name\":\"Row33699\"},\"id\":\"54318\",\"type\":\"Row\"},{\"attributes\":{\"data\":{\"lat\":[{\"__ndarray__\":\"I2pgs/XYRUA=\",\"dtype\":\"float64\",\"order\":\"little\",\"shape\":[1]}],\"lon\":[{\"__ndarray__\":\"/E9AC/DSU8A=\",\"dtype\":\"float64\",\"order\":\"little\",\"shape\":[1]}],\"marker.size\":[{\"__ndarray__\":\"AAAAALA5DUE=\",\"dtype\":\"float64\",\"order\":\"little\",\"shape\":[1]}]},\"selected\":{\"id\":\"54855\"},\"selection_policy\":{\"id\":\"54854\"}},\"id\":\"54582\",\"type\":\"ColumnDataSource\"},{\"attributes\":{},\"id\":\"54851\",\"type\":\"Selection\"},{\"attributes\":{\"data\":{\"lat\":[{\"__ndarray__\":\"E1WNmDjaRUA=\",\"dtype\":\"float64\",\"order\":\"little\",\"shape\":[1]}],\"lon\":[{\"__ndarray__\":\"niwQmKLYU8A=\",\"dtype\":\"float64\",\"order\":\"little\",\"shape\":[1]}],\"marker.size\":[{\"__ndarray__\":\"AAAAgPSrJEE=\",\"dtype\":\"float64\",\"order\":\"little\",\"shape\":[1]}]},\"selected\":{\"id\":\"54789\"},\"selection_policy\":{\"id\":\"54788\"}},\"id\":\"54549\",\"type\":\"ColumnDataSource\"},{\"attributes\":{\"axis_label\":\"year\",\"coordinates\":null,\"formatter\":{\"id\":\"54283\"},\"group\":null,\"major_label_policy\":{\"id\":\"54284\"},\"ticker\":{\"id\":\"54253\"}},\"id\":\"54252\",\"type\":\"LinearAxis\"},{\"attributes\":{\"factors\":[[\"2001\",\"other_house\"],[\"2001\",\"apartment_five_storeys_less\"],[\"2001\",\"duplex\"],[\"2001\",\"row_house\"],[\"2001\",\"semi_detached_house\"],[\"2001\",\"movable_dwelling\"],[\"2001\",\"apartment_five_storeys_plus\"],[\"2001\",\"single_detached_house\"],[\"2006\",\"other_house\"],[\"2006\",\"apartment_five_storeys_less\"],[\"2006\",\"duplex\"],[\"2006\",\"row_house\"],[\"2006\",\"semi_detached_house\"],[\"2006\",\"movable_dwelling\"],[\"2006\",\"apartment_five_storeys_plus\"],[\"2006\",\"single_detached_house\"],[\"2011\",\"other_house\"],[\"2011\",\"apartment_five_storeys_less\"],[\"2011\",\"duplex\"],[\"2011\",\"row_house\"],[\"2011\",\"semi_detached_house\"],[\"2011\",\"movable_dwelling\"],[\"2011\",\"apartment_five_storeys_plus\"],[\"2011\",\"single_detached_house\"],[\"2016\",\"other_house\"],[\"2016\",\"apartment_five_storeys_less\"],[\"2016\",\"duplex\"],[\"2016\",\"row_house\"],[\"2016\",\"semi_detached_house\"],[\"2016\",\"movable_dwelling\"],[\"2016\",\"apartment_five_storeys_plus\"],[\"2016\",\"single_detached_house\"]],\"tags\":[[[\"year\",\"year\",null],[\"Variable\",\"Variable\",null]]]},\"id\":\"54319\",\"type\":\"FactorRange\"},{\"attributes\":{\"data\":{\"lat\":[{\"__ndarray__\":\"r6aA7iraRUA=\",\"dtype\":\"float64\",\"order\":\"little\",\"shape\":[1]}],\"lon\":[{\"__ndarray__\":\"b7SIzSzZU8A=\",\"dtype\":\"float64\",\"order\":\"little\",\"shape\":[1]}],\"marker.size\":[{\"__ndarray__\":\"AAAAAFeTHEE=\",\"dtype\":\"float64\",\"order\":\"little\",\"shape\":[1]}]},\"selected\":{\"id\":\"54791\"},\"selection_policy\":{\"id\":\"54790\"}},\"id\":\"54550\",\"type\":\"ColumnDataSource\"},{\"attributes\":{},\"id\":\"54840\",\"type\":\"UnionRenderers\"},{\"attributes\":{\"end\":2016.0,\"reset_end\":2016.0,\"reset_start\":2001.0,\"start\":2001.0,\"tags\":[[[\"year\",\"year\",null]]]},\"id\":\"54032\",\"type\":\"Range1d\"},{\"attributes\":{},\"id\":\"54850\",\"type\":\"UnionRenderers\"},{\"attributes\":{\"data\":{\"lat\":[{\"__ndarray__\":\"26xVFuDMRUA=\",\"dtype\":\"float64\",\"order\":\"little\",\"shape\":[1]}],\"lon\":[{\"__ndarray__\":\"I3P6tKngU8A=\",\"dtype\":\"float64\",\"order\":\"little\",\"shape\":[1]}],\"marker.size\":[{\"__ndarray__\":\"AAAAABDkGEE=\",\"dtype\":\"float64\",\"order\":\"little\",\"shape\":[1]}]},\"selected\":{\"id\":\"54793\"},\"selection_policy\":{\"id\":\"54792\"}},\"id\":\"54551\",\"type\":\"ColumnDataSource\"},{\"attributes\":{},\"id\":\"53766\",\"type\":\"CategoricalScale\"},{\"attributes\":{\"data\":{\"lat\":[{\"__ndarray__\":\"Cink7wPWRUA=\",\"dtype\":\"float64\",\"order\":\"little\",\"shape\":[1]}],\"lon\":[{\"__ndarray__\":\"F1XxDHvWU8A=\",\"dtype\":\"float64\",\"order\":\"little\",\"shape\":[1]}],\"marker.size\":[{\"__ndarray__\":\"AAAAgK50JUE=\",\"dtype\":\"float64\",\"order\":\"little\",\"shape\":[1]}]},\"selected\":{\"id\":\"54801\"},\"selection_policy\":{\"id\":\"54800\"}},\"id\":\"54555\",\"type\":\"ColumnDataSource\"},{\"attributes\":{},\"id\":\"54847\",\"type\":\"Selection\"},{\"attributes\":{\"overlay\":{\"id\":\"54343\"}},\"id\":\"54341\",\"type\":\"BoxZoomTool\"},{\"attributes\":{\"data\":{\"lat\":[{\"__ndarray__\":\"AktLOLbVRUA=\",\"dtype\":\"float64\",\"order\":\"little\",\"shape\":[1]}],\"lon\":[{\"__ndarray__\":\"S0I7CgTYU8A=\",\"dtype\":\"float64\",\"order\":\"little\",\"shape\":[1]}],\"marker.size\":[{\"__ndarray__\":\"AAAAAP8cGUE=\",\"dtype\":\"float64\",\"order\":\"little\",\"shape\":[1]}]},\"selected\":{\"id\":\"54803\"},\"selection_policy\":{\"id\":\"54802\"}},\"id\":\"54556\",\"type\":\"ColumnDataSource\"},{\"attributes\":{\"data\":{\"lat\":[{\"__ndarray__\":\"VMtSwn7RRUA=\",\"dtype\":\"float64\",\"order\":\"little\",\"shape\":[1]}],\"lon\":[{\"__ndarray__\":\"Ao2IGGXaU8A=\",\"dtype\":\"float64\",\"order\":\"little\",\"shape\":[1]}],\"marker.size\":[{\"__ndarray__\":\"AAAAACSVFkE=\",\"dtype\":\"float64\",\"order\":\"little\",\"shape\":[1]}]},\"selected\":{\"id\":\"54799\"},\"selection_policy\":{\"id\":\"54798\"}},\"id\":\"54554\",\"type\":\"ColumnDataSource\"},{\"attributes\":{},\"id\":\"53995\",\"type\":\"Selection\"},{\"attributes\":{\"callback\":null,\"renderers\":[{\"id\":\"54279\"}],\"tags\":[\"hv_created\"],\"tooltips\":[[\"year\",\"@{year}\"],[\"average_house_value\",\"@{average_house_value}\"]]},\"id\":\"54242\",\"type\":\"HoverTool\"},{\"attributes\":{\"data\":{\"lat\":[{\"__ndarray__\":\"7tR1C1HlRUA=\",\"dtype\":\"float64\",\"order\":\"little\",\"shape\":[1]}],\"lon\":[{\"__ndarray__\":\"L/4R4frZU8A=\",\"dtype\":\"float64\",\"order\":\"little\",\"shape\":[1]}],\"marker.size\":[{\"__ndarray__\":\"AAAAgKoTIUE=\",\"dtype\":\"float64\",\"order\":\"little\",\"shape\":[1]}]},\"selected\":{\"id\":\"54795\"},\"selection_policy\":{\"id\":\"54794\"}},\"id\":\"54552\",\"type\":\"ColumnDataSource\"},{\"attributes\":{},\"id\":\"54848\",\"type\":\"UnionRenderers\"},{\"attributes\":{\"line_alpha\":0.2,\"line_color\":\"#30a2da\",\"line_width\":2,\"x\":{\"field\":\"year\"},\"y\":{\"field\":\"average_house_value\"}},\"id\":\"54278\",\"type\":\"Line\"},{\"attributes\":{},\"id\":\"54248\",\"type\":\"LinearScale\"},{\"attributes\":{},\"id\":\"54839\",\"type\":\"Selection\"},{\"attributes\":{\"data\":{\"A_2001\":[300930,355015,75,90995,52355,23785,116900,3040],\"index\":[\"single_detached_house\",\"apartment_five_storeys_plus\",\"movable_dwelling\",\"semi_detached_house\",\"row_house\",\"duplex\",\"apartment_five_storeys_less\",\"other_house\"]},\"selected\":{\"id\":\"53791\"},\"selection_policy\":{\"id\":\"53812\"}},\"id\":\"53790\",\"type\":\"ColumnDataSource\"},{\"attributes\":{},\"id\":\"54339\",\"type\":\"PanTool\"},{\"attributes\":{\"data\":{\"lat\":[{\"__ndarray__\":\"Y6w+cHjaRUA=\",\"dtype\":\"float64\",\"order\":\"little\",\"shape\":[1]}],\"lon\":[{\"__ndarray__\":\"ZUMvivvTU8A=\",\"dtype\":\"float64\",\"order\":\"little\",\"shape\":[1]}],\"marker.size\":[{\"__ndarray__\":\"AAAAAC81EkE=\",\"dtype\":\"float64\",\"order\":\"little\",\"shape\":[1]}]},\"selected\":{\"id\":\"54805\"},\"selection_policy\":{\"id\":\"54804\"}},\"id\":\"54557\",\"type\":\"ColumnDataSource\"},{\"attributes\":{\"axis\":{\"id\":\"54252\"},\"coordinates\":null,\"grid_line_color\":null,\"group\":null,\"ticker\":null},\"id\":\"54255\",\"type\":\"Grid\"},{\"attributes\":{\"children\":[{\"id\":\"54315\"},{\"id\":\"54317\"}],\"margin\":[0,0,0,0],\"name\":\"Column33697\"},\"id\":\"54314\",\"type\":\"Column\"},{\"attributes\":{},\"id\":\"54842\",\"type\":\"UnionRenderers\"},{\"attributes\":{\"line_color\":\"#30a2da\",\"line_width\":2,\"x\":{\"field\":\"year\"},\"y\":{\"field\":\"average_house_value\"}},\"id\":\"54281\",\"type\":\"Line\"},{\"attributes\":{},\"id\":\"54261\",\"type\":\"PanTool\"},{\"attributes\":{\"coordinates\":null,\"group\":null,\"text\":\"neighbourhood: Agincourt North\",\"text_color\":\"black\",\"text_font_size\":\"12pt\"},\"id\":\"54244\",\"type\":\"Title\"},{\"attributes\":{},\"id\":\"54049\",\"type\":\"BasicTicker\"},{\"attributes\":{},\"id\":\"54284\",\"type\":\"AllLabels\"},{\"attributes\":{},\"id\":\"54353\",\"type\":\"Selection\"},{\"attributes\":{},\"id\":\"54052\",\"type\":\"SaveTool\"},{\"attributes\":{\"data\":{\"lat\":[{\"__ndarray__\":\"EzGAS9vjRUA=\",\"dtype\":\"float64\",\"order\":\"little\",\"shape\":[1]}],\"lon\":[{\"__ndarray__\":\"+jIoBWPTU8A=\",\"dtype\":\"float64\",\"order\":\"little\",\"shape\":[1]}],\"marker.size\":[{\"__ndarray__\":\"AAAAABqaFUE=\",\"dtype\":\"float64\",\"order\":\"little\",\"shape\":[1]}]},\"selected\":{\"id\":\"54853\"},\"selection_policy\":{\"id\":\"54852\"}},\"id\":\"54581\",\"type\":\"ColumnDataSource\"},{\"attributes\":{},\"id\":\"54253\",\"type\":\"BasicTicker\"},{\"attributes\":{},\"id\":\"53940\",\"type\":\"AllLabels\"},{\"attributes\":{\"children\":[{\"id\":\"54395\"}],\"css_classes\":[\"panel-widget-box\"],\"margin\":[5,5,5,5],\"name\":\"WidgetBox33700\"},\"id\":\"54394\",\"type\":\"Column\"},{\"attributes\":{},\"id\":\"54286\",\"type\":\"BasicTickFormatter\"},{\"attributes\":{\"source\":{\"id\":\"54065\"}},\"id\":\"54072\",\"type\":\"CDSView\"},{\"attributes\":{\"source\":{\"id\":\"54273\"}},\"id\":\"54280\",\"type\":\"CDSView\"},{\"attributes\":{\"bottom_units\":\"screen\",\"coordinates\":null,\"fill_alpha\":0.5,\"fill_color\":\"lightgrey\",\"group\":null,\"left_units\":\"screen\",\"level\":\"overlay\",\"line_alpha\":1.0,\"line_color\":\"black\",\"line_dash\":[4,4],\"line_width\":2,\"right_units\":\"screen\",\"syncable\":false,\"top_units\":\"screen\"},\"id\":\"54057\",\"type\":\"BoxAnnotation\"},{\"attributes\":{\"axis_label\":\"average_house_value\",\"coordinates\":null,\"formatter\":{\"id\":\"54286\"},\"group\":null,\"major_label_policy\":{\"id\":\"54287\"},\"ticker\":{\"id\":\"54257\"}},\"id\":\"54256\",\"type\":\"LinearAxis\"},{\"attributes\":{},\"id\":\"54340\",\"type\":\"WheelZoomTool\"},{\"attributes\":{\"margin\":[20,20,20,20],\"min_width\":250,\"options\":[\"Agincourt North\",\"Agincourt South-Malvern West\",\"Alderwood\",\"Annex\",\"Banbury-Don Mills\",\"Bathurst Manor\",\"Bay Street Corridor\",\"Bayview Village\",\"Bayview Woods-Steeles\",\"Bedford Park-Nortown\",\"Beechborough-Greenbrook\",\"Bendale\",\"Birchcliffe-Cliffside\",\"Black Creek\",\"Blake-Jones\",\"Briar Hill-Belgravia\",\"Bridle Path-Sunnybrook-York Mills\",\"Broadview North\",\"Brookhaven-Amesbury\",\"Cabbagetown-South St.James Town\",\"Caledonia-Fairbank\",\"Casa Loma\",\"Centennial Scarborough\",\"Church-Yonge Corridor\",\"Clairlea-Birchmount\",\"Clanton Park\",\"Cliffcrest\",\"Corso Italia-Davenport\",\"Danforth\",\"Danforth-East York\",\"Don Valley Village\",\"Dorset Park\",\"Dovercourt-Wallace Emerson-Juncti\",\"Downsview-Roding-CFB\",\"Dufferin Grove\",\"East End-Danforth\",\"Edenbridge-Humber Valley\",\"Eglinton East\",\"Elms-Old Rexdale\",\"Englemount-Lawrence\",\"Eringate-Centennial-West Deane\",\"Etobicoke West Mall\",\"Flemingdon Park\",\"Forest Hill North\",\"Forest Hill South\",\"Glenfield-Jane Heights\",\"Greenwood-Coxwell\",\"Guildwood\",\"Henry Farm\",\"High Park North\",\"High Park-Swansea\",\"Highland Creek\",\"Hillcrest Village\",\"Humber Heights-Westmount\",\"Humber Summit\",\"Humbermede\",\"Humewood-Cedarvale\",\"Ionview\",\"Islington-City Centre West\",\"Junction Area\",\"Keelesdale-Eglinton West\",\"Kennedy Park\",\"Kensington-Chinatown\",\"Kingsview Village-The Westway\",\"Kingsway South\",\"L'Amoreaux\",\"Lambton Baby Point\",\"Lansing-Westgate\",\"Lawrence Park North\",\"Lawrence Park South\",\"Leaside-Bennington\",\"Little Portugal\",\"Long Branch\",\"Malvern\",\"Maple Leaf\",\"Markland Wood\",\"Milliken\",\"Mimico\",\"Morningside\",\"Moss Park\",\"Mount Dennis\",\"Mount Olive-Silverstone-Jamestown\",\"Mount Pleasant East\",\"Mount Pleasant West\",\"New Toronto\",\"Newtonbrook East\",\"Newtonbrook West\",\"Niagara\",\"North Riverdale\",\"North St.James Town\",\"O'Connor-Parkview\",\"Oakridge\",\"Oakwood Village\",\"Old East York\",\"Palmerston-Little Italy\",\"Parkwoods-Donalda\",\"Pelmo Park-Humberlea\",\"Playter Estates-Danforth\",\"Pleasant View\",\"Princess-Rosethorn\",\"Regent Park\",\"Rexdale-Kipling\",\"Rockcliffe-Smythe\",\"Roncesvalles\",\"Rosedale-Moore Park\",\"Rouge\",\"Runnymede-Bloor West Village\",\"Rustic\",\"Scarborough Village\",\"South Parkdale\",\"South Riverdale\",\"St.Andrew-Windfields\",\"Steeles\",\"Stonegate-Queensway\",\"Tam O'Shanter-Sullivan\",\"Taylor-Massey\",\"The Beaches\",\"Thistletown-Beaumond Heights\",\"Thorncliffe Park\",\"Trinity-Bellwoods\",\"University\",\"Victoria Village\",\"Waterfront Communities-The Island\",\"West Hill\",\"West Humber-Clairville\",\"Westminster-Branson\",\"Weston\",\"Weston-Pellam Park\",\"Wexford/Maryvale\",\"Willowdale East\",\"Willowdale West\",\"Willowridge-Martingrove-Richview\",\"Woburn\",\"Woodbine Corridor\",\"Woodbine-Lumsden\",\"Wychwood\",\"Yonge-Eglinton\",\"Yonge-St.Clair\",\"York University Heights\",\"Yorkdale-Glen Park\"],\"title\":\"neighbourhood\",\"value\":\"Agincourt North\",\"width\":250},\"id\":\"54395\",\"type\":\"Select\"},{\"attributes\":{\"bottom_units\":\"screen\",\"coordinates\":null,\"fill_alpha\":0.5,\"fill_color\":\"lightgrey\",\"group\":null,\"left_units\":\"screen\",\"level\":\"overlay\",\"line_alpha\":1.0,\"line_color\":\"black\",\"line_dash\":[4,4],\"line_width\":2,\"right_units\":\"screen\",\"syncable\":false,\"top_units\":\"screen\"},\"id\":\"53918\",\"type\":\"BoxAnnotation\"},{\"attributes\":{},\"id\":\"54260\",\"type\":\"SaveTool\"},{\"attributes\":{},\"id\":\"54283\",\"type\":\"BasicTickFormatter\"},{\"attributes\":{},\"id\":\"54634\",\"type\":\"UnionRenderers\"},{\"attributes\":{},\"id\":\"54637\",\"type\":\"Selection\"},{\"attributes\":{},\"id\":\"54636\",\"type\":\"UnionRenderers\"},{\"attributes\":{\"children\":[{\"id\":\"54316\"}],\"css_classes\":[\"panel-widget-box\"],\"margin\":[5,5,5,5],\"name\":\"WidgetBox33691\"},\"id\":\"54315\",\"type\":\"Column\"},{\"attributes\":{\"bottom\":{\"value\":0},\"fill_alpha\":{\"value\":1.0},\"fill_color\":{\"value\":\"pink\"},\"hatch_alpha\":{\"value\":1.0},\"hatch_color\":{\"value\":\"pink\"},\"hatch_scale\":{\"value\":12.0},\"hatch_weight\":{\"value\":1.0},\"line_alpha\":{\"value\":1.0},\"line_cap\":{\"value\":\"butt\"},\"line_color\":{\"value\":\"black\"},\"line_dash\":{\"value\":[]},\"line_dash_offset\":{\"value\":0},\"line_join\":{\"value\":\"bevel\"},\"line_width\":{\"value\":1},\"top\":{\"field\":\"A_2016\"},\"width\":{\"value\":0.8},\"x\":{\"field\":\"index\"}},\"id\":\"54002\",\"type\":\"VBar\"},{\"attributes\":{},\"id\":\"54301\",\"type\":\"UnionRenderers\"},{\"attributes\":{},\"id\":\"54635\",\"type\":\"Selection\"},{\"attributes\":{},\"id\":\"53936\",\"type\":\"CategoricalTickFormatter\"},{\"attributes\":{},\"id\":\"53983\",\"type\":\"WheelZoomTool\"},{\"attributes\":{},\"id\":\"54007\",\"type\":\"BasicTickFormatter\"},{\"attributes\":{\"axis\":{\"id\":\"54044\"},\"coordinates\":null,\"grid_line_color\":null,\"group\":null,\"ticker\":null},\"id\":\"54047\",\"type\":\"Grid\"},{\"attributes\":{\"child\":{\"id\":\"53897\"},\"name\":\"2011\",\"title\":\"2011\"},\"id\":\"53961\",\"type\":\"Panel\"},{\"attributes\":{\"data\":{\"lat\":[{\"__ndarray__\":\"0N980bvkRUA=\",\"dtype\":\"float64\",\"order\":\"little\",\"shape\":[1]}],\"lon\":[{\"__ndarray__\":\"lCyKy2/VU8A=\",\"dtype\":\"float64\",\"order\":\"little\",\"shape\":[1]}],\"marker.size\":[{\"__ndarray__\":\"AAAAAP3JFkE=\",\"dtype\":\"float64\",\"order\":\"little\",\"shape\":[1]}]},\"selected\":{\"id\":\"54821\"},\"selection_policy\":{\"id\":\"54820\"}},\"id\":\"54565\",\"type\":\"ColumnDataSource\"},{\"attributes\":{\"below\":[{\"id\":\"53974\"}],\"center\":[{\"id\":\"53976\"},{\"id\":\"53980\"}],\"height\":400,\"left\":[{\"id\":\"53977\"}],\"margin\":[5,5,5,5],\"min_border_bottom\":10,\"min_border_left\":10,\"min_border_right\":10,\"min_border_top\":10,\"renderers\":[{\"id\":\"54000\"}],\"sizing_mode\":\"fixed\",\"title\":{\"id\":\"53966\"},\"toolbar\":{\"id\":\"53987\"},\"width\":500,\"x_range\":{\"id\":\"53758\"},\"x_scale\":{\"id\":\"53970\"},\"y_range\":{\"id\":\"53963\"},\"y_scale\":{\"id\":\"53972\"}},\"id\":\"53965\",\"subtype\":\"Figure\",\"type\":\"Plot\"},{\"attributes\":{},\"id\":\"53982\",\"type\":\"PanTool\"},{\"attributes\":{},\"id\":\"54040\",\"type\":\"LinearScale\"},{\"attributes\":{\"coordinates\":null,\"data_source\":{\"id\":\"53926\"},\"glyph\":{\"id\":\"53929\"},\"group\":null,\"hover_glyph\":null,\"muted_glyph\":{\"id\":\"53931\"},\"nonselection_glyph\":{\"id\":\"53930\"},\"selection_glyph\":{\"id\":\"53934\"},\"view\":{\"id\":\"53933\"}},\"id\":\"53932\",\"type\":\"GlyphRenderer\"},{\"attributes\":{\"line_alpha\":0.1,\"line_color\":\"#30a2da\",\"line_width\":2,\"x\":{\"field\":\"year\"},\"y\":{\"field\":\"average_house_value\"}},\"id\":\"54277\",\"type\":\"Line\"},{\"attributes\":{\"margin\":[5,5,5,5],\"name\":\"DataFrame33714\",\"text\":\"&lt;table border=&quot;0&quot; class=&quot;dataframe panel-df&quot;&gt;\\n  &lt;thead&gt;\\n    &lt;tr style=&quot;text-align: right;&quot;&gt;\\n      &lt;th&gt;&lt;/th&gt;\\n      &lt;th&gt;year&lt;/th&gt;\\n      &lt;th&gt;average_house_value&lt;/th&gt;\\n    &lt;/tr&gt;\\n  &lt;/thead&gt;\\n  &lt;tbody&gt;\\n    &lt;tr&gt;\\n      &lt;th&gt;0&lt;/th&gt;\\n      &lt;td&gt;2001&lt;/td&gt;\\n      &lt;td&gt;289882.885714&lt;/td&gt;\\n    &lt;/tr&gt;\\n    &lt;tr&gt;\\n      &lt;th&gt;1&lt;/th&gt;\\n      &lt;td&gt;2006&lt;/td&gt;\\n      &lt;td&gt;424059.664286&lt;/td&gt;\\n    &lt;/tr&gt;\\n    &lt;tr&gt;\\n      &lt;th&gt;2&lt;/th&gt;\\n      &lt;td&gt;2011&lt;/td&gt;\\n      &lt;td&gt;530424.721429&lt;/td&gt;\\n    &lt;/tr&gt;\\n    &lt;tr&gt;\\n      &lt;th&gt;3&lt;/th&gt;\\n      &lt;td&gt;2016&lt;/td&gt;\\n      &lt;td&gt;664068.328571&lt;/td&gt;\\n    &lt;/tr&gt;\\n  &lt;/tbody&gt;\\n&lt;/table&gt;\"},\"id\":\"54465\",\"type\":\"panel.models.markup.HTML\"},{\"attributes\":{\"tools\":[{\"id\":\"53964\"},{\"id\":\"53981\"},{\"id\":\"53982\"},{\"id\":\"53983\"},{\"id\":\"53984\"},{\"id\":\"53985\"}]},\"id\":\"53987\",\"type\":\"Toolbar\"},{\"attributes\":{\"line_color\":\"#30a2da\",\"line_width\":2,\"x\":{\"field\":\"year\"},\"y\":{\"field\":\"average_house_value\"}},\"id\":\"54276\",\"type\":\"Line\"},{\"attributes\":{},\"id\":\"53913\",\"type\":\"SaveTool\"},{\"attributes\":{},\"id\":\"54005\",\"type\":\"AllLabels\"},{\"attributes\":{\"bottom\":{\"value\":0},\"fill_alpha\":{\"value\":1.0},\"fill_color\":{\"value\":\"orange\"},\"hatch_alpha\":{\"value\":1.0},\"hatch_color\":{\"value\":\"orange\"},\"hatch_scale\":{\"value\":12.0},\"hatch_weight\":{\"value\":1.0},\"line_alpha\":{\"value\":1.0},\"line_cap\":{\"value\":\"butt\"},\"line_color\":{\"value\":\"black\"},\"line_dash\":{\"value\":[]},\"line_dash_offset\":{\"value\":0},\"line_join\":{\"value\":\"bevel\"},\"line_width\":{\"value\":1},\"top\":{\"field\":\"A_2011\"},\"width\":{\"value\":0.8},\"x\":{\"field\":\"index\"}},\"id\":\"53934\",\"type\":\"VBar\"},{\"attributes\":{},\"id\":\"53981\",\"type\":\"SaveTool\"},{\"attributes\":{},\"id\":\"54809\",\"type\":\"Selection\"},{\"attributes\":{},\"id\":\"54784\",\"type\":\"UnionRenderers\"},{\"attributes\":{},\"id\":\"53972\",\"type\":\"LinearScale\"},{\"attributes\":{},\"id\":\"54812\",\"type\":\"UnionRenderers\"},{\"attributes\":{\"tools\":[{\"id\":\"53760\"},{\"id\":\"53777\"},{\"id\":\"53778\"},{\"id\":\"53779\"},{\"id\":\"53780\"},{\"id\":\"53781\"}]},\"id\":\"53783\",\"type\":\"Toolbar\"},{\"attributes\":{},\"id\":\"53868\",\"type\":\"CategoricalTickFormatter\"},{\"attributes\":{\"data\":{\"lat\":[{\"__ndarray__\":\"nQbS5jTVRUA=\",\"dtype\":\"float64\",\"order\":\"little\",\"shape\":[1]}],\"lon\":[{\"__ndarray__\":\"wh0DDRHcU8A=\",\"dtype\":\"float64\",\"order\":\"little\",\"shape\":[1]}],\"marker.size\":[{\"__ndarray__\":\"AAAAAC6IGkE=\",\"dtype\":\"float64\",\"order\":\"little\",\"shape\":[1]}]},\"selected\":{\"id\":\"54689\"},\"selection_policy\":{\"id\":\"54688\"}},\"id\":\"54499\",\"type\":\"ColumnDataSource\"},{\"attributes\":{\"callback\":null,\"renderers\":[{\"id\":\"53864\"}],\"tags\":[\"hv_created\"],\"tooltips\":[[\"index\",\"@{index}\"],[\"2006\",\"@{A_2006}\"]]},\"id\":\"53828\",\"type\":\"HoverTool\"},{\"attributes\":{},\"id\":\"54786\",\"type\":\"UnionRenderers\"},{\"attributes\":{\"tools\":[{\"id\":\"54034\"},{\"id\":\"54052\"},{\"id\":\"54053\"},{\"id\":\"54054\"},{\"id\":\"54055\"},{\"id\":\"54056\"}]},\"id\":\"54058\",\"type\":\"Toolbar\"},{\"attributes\":{\"fill_alpha\":{\"value\":0.2},\"fill_color\":{\"value\":\"orange\"},\"hatch_alpha\":{\"value\":0.2},\"hatch_color\":{\"value\":\"orange\"},\"line_alpha\":{\"value\":0.2},\"top\":{\"field\":\"A_2011\"},\"width\":{\"value\":0.8},\"x\":{\"field\":\"index\"}},\"id\":\"53931\",\"type\":\"VBar\"},{\"attributes\":{},\"id\":\"54440\",\"type\":\"AllLabels\"},{\"attributes\":{},\"id\":\"54811\",\"type\":\"Selection\"},{\"attributes\":{},\"id\":\"54790\",\"type\":\"UnionRenderers\"},{\"attributes\":{\"fill_alpha\":{\"value\":0.2},\"fill_color\":{\"value\":\"pink\"},\"hatch_alpha\":{\"value\":0.2},\"hatch_color\":{\"value\":\"pink\"},\"line_alpha\":{\"value\":0.2},\"top\":{\"field\":\"A_2016\"},\"width\":{\"value\":0.8},\"x\":{\"field\":\"index\"}},\"id\":\"53999\",\"type\":\"VBar\"},{\"attributes\":{},\"id\":\"54791\",\"type\":\"Selection\"},{\"attributes\":{\"bottom\":{\"value\":0},\"fill_alpha\":{\"value\":1.0},\"fill_color\":{\"value\":\"red\"},\"hatch_alpha\":{\"value\":1.0},\"hatch_color\":{\"value\":\"red\"},\"hatch_scale\":{\"value\":12.0},\"hatch_weight\":{\"value\":1.0},\"line_alpha\":{\"value\":1.0},\"line_cap\":{\"value\":\"butt\"},\"line_color\":{\"value\":\"black\"},\"line_dash\":{\"value\":[]},\"line_dash_offset\":{\"value\":0},\"line_join\":{\"value\":\"bevel\"},\"line_width\":{\"value\":1},\"top\":{\"field\":\"A_2001\"},\"width\":{\"value\":0.8},\"x\":{\"field\":\"index\"}},\"id\":\"53798\",\"type\":\"VBar\"},{\"attributes\":{},\"id\":\"54782\",\"type\":\"UnionRenderers\"},{\"attributes\":{\"axis\":{\"id\":\"53909\"},\"coordinates\":null,\"dimension\":1,\"grid_line_color\":null,\"group\":null,\"ticker\":null},\"id\":\"53912\",\"type\":\"Grid\"},{\"attributes\":{\"data\":{\"lat\":[{\"__ndarray__\":\"ULB7ApPXRUA=\",\"dtype\":\"float64\",\"order\":\"little\",\"shape\":[1]}],\"lon\":[{\"__ndarray__\":\"JFtEsSjTU8A=\",\"dtype\":\"float64\",\"order\":\"little\",\"shape\":[1]}],\"marker.size\":[{\"__ndarray__\":\"AAAAAJktHUE=\",\"dtype\":\"float64\",\"order\":\"little\",\"shape\":[1]}]},\"selected\":{\"id\":\"54695\"},\"selection_policy\":{\"id\":\"54694\"}},\"id\":\"54502\",\"type\":\"ColumnDataSource\"},{\"attributes\":{},\"id\":\"53859\",\"type\":\"Selection\"},{\"attributes\":{\"below\":[{\"id\":\"53838\"}],\"center\":[{\"id\":\"53840\"},{\"id\":\"53844\"}],\"height\":400,\"left\":[{\"id\":\"53841\"}],\"margin\":[5,5,5,5],\"min_border_bottom\":10,\"min_border_left\":10,\"min_border_right\":10,\"min_border_top\":10,\"renderers\":[{\"id\":\"53864\"}],\"sizing_mode\":\"fixed\",\"title\":{\"id\":\"53830\"},\"toolbar\":{\"id\":\"53851\"},\"width\":500,\"x_range\":{\"id\":\"53758\"},\"x_scale\":{\"id\":\"53834\"},\"y_range\":{\"id\":\"53827\"},\"y_scale\":{\"id\":\"53836\"}},\"id\":\"53829\",\"subtype\":\"Figure\",\"type\":\"Plot\"},{\"attributes\":{\"coordinates\":null,\"group\":null,\"text\":\"Dwelling types in Toronto in 2006\",\"text_color\":\"black\",\"text_font_size\":\"12pt\"},\"id\":\"53830\",\"type\":\"Title\"},{\"attributes\":{},\"id\":\"54789\",\"type\":\"Selection\"},{\"attributes\":{},\"id\":\"53836\",\"type\":\"LinearScale\"},{\"attributes\":{\"axis\":{\"id\":\"53841\"},\"coordinates\":null,\"dimension\":1,\"grid_line_color\":null,\"group\":null,\"ticker\":null},\"id\":\"53844\",\"type\":\"Grid\"},{\"attributes\":{},\"id\":\"54808\",\"type\":\"UnionRenderers\"},{\"attributes\":{},\"id\":\"54787\",\"type\":\"Selection\"},{\"attributes\":{},\"id\":\"54792\",\"type\":\"UnionRenderers\"},{\"attributes\":{\"fill_alpha\":{\"value\":0.2},\"fill_color\":{\"value\":\"blue\"},\"hatch_alpha\":{\"value\":0.2},\"hatch_color\":{\"value\":\"blue\"},\"line_alpha\":{\"value\":0.2},\"top\":{\"field\":\"A_2006\"},\"width\":{\"value\":0.8},\"x\":{\"field\":\"index\"}},\"id\":\"53863\",\"type\":\"VBar\"},{\"attributes\":{\"css_classes\":[\"markdown\"],\"margin\":[5,5,5,5],\"name\":\"Markdown33009\",\"text\":\"&lt;p&gt;*Welcome, this dashboard contains: *&lt;/p&gt;\"},\"id\":\"53755\",\"type\":\"panel.models.markup.HTML\"},{\"attributes\":{},\"id\":\"54779\",\"type\":\"Selection\"},{\"attributes\":{},\"id\":\"54794\",\"type\":\"UnionRenderers\"},{\"attributes\":{},\"id\":\"53834\",\"type\":\"CategoricalScale\"},{\"attributes\":{\"fill_alpha\":{\"value\":0.1},\"fill_color\":{\"value\":\"pink\"},\"hatch_alpha\":{\"value\":0.1},\"hatch_color\":{\"value\":\"pink\"},\"line_alpha\":{\"value\":0.1},\"top\":{\"field\":\"A_2016\"},\"width\":{\"value\":0.8},\"x\":{\"field\":\"index\"}},\"id\":\"53998\",\"type\":\"VBar\"},{\"attributes\":{\"data\":{\"lat\":[{\"__ndarray__\":\"RbC7itbeRUA=\",\"dtype\":\"float64\",\"order\":\"little\",\"shape\":[1]}],\"lon\":[{\"__ndarray__\":\"wHDX4LfPU8A=\",\"dtype\":\"float64\",\"order\":\"little\",\"shape\":[1]}],\"marker.size\":[{\"__ndarray__\":\"AAAAAJpqEEE=\",\"dtype\":\"float64\",\"order\":\"little\",\"shape\":[1]}]},\"selected\":{\"id\":\"54699\"},\"selection_policy\":{\"id\":\"54698\"}},\"id\":\"54504\",\"type\":\"ColumnDataSource\"},{\"attributes\":{},\"id\":\"54814\",\"type\":\"UnionRenderers\"},{\"attributes\":{\"axis_label\":\"2006\",\"coordinates\":null,\"formatter\":{\"id\":\"53868\"},\"group\":null,\"major_label_orientation\":1.5707963267948966,\"major_label_policy\":{\"id\":\"53869\"},\"ticker\":{\"id\":\"53839\"}},\"id\":\"53838\",\"type\":\"CategoricalAxis\"},{\"attributes\":{},\"id\":\"54442\",\"type\":\"BasicTickFormatter\"},{\"attributes\":{},\"id\":\"53839\",\"type\":\"CategoricalTicker\"},{\"attributes\":{\"data\":{\"lat\":[{\"__ndarray__\":\"vzWo5DnURUA=\",\"dtype\":\"float64\",\"order\":\"little\",\"shape\":[1]}],\"lon\":[{\"__ndarray__\":\"z7rKAyblU8A=\",\"dtype\":\"float64\",\"order\":\"little\",\"shape\":[1]}],\"marker.size\":[{\"__ndarray__\":\"AAAAAFdHGEE=\",\"dtype\":\"float64\",\"order\":\"little\",\"shape\":[1]}]},\"selected\":{\"id\":\"54705\"},\"selection_policy\":{\"id\":\"54704\"}},\"id\":\"54507\",\"type\":\"ColumnDataSource\"},{\"attributes\":{},\"id\":\"54785\",\"type\":\"Selection\"},{\"attributes\":{\"axis\":{\"id\":\"53838\"},\"coordinates\":null,\"grid_line_color\":null,\"group\":null,\"ticker\":null},\"id\":\"53840\",\"type\":\"Grid\"},{\"attributes\":{\"data\":{\"lat\":[{\"__ndarray__\":\"+7ZYOObYRUA=\",\"dtype\":\"float64\",\"order\":\"little\",\"shape\":[1]}],\"lon\":[{\"__ndarray__\":\"UbYOL4TaU8A=\",\"dtype\":\"float64\",\"order\":\"little\",\"shape\":[1]}],\"marker.size\":[{\"__ndarray__\":\"AAAAgNg/MkE=\",\"dtype\":\"float64\",\"order\":\"little\",\"shape\":[1]}]},\"selected\":{\"id\":\"54713\"},\"selection_policy\":{\"id\":\"54712\"}},\"id\":\"54511\",\"type\":\"ColumnDataSource\"},{\"attributes\":{},\"id\":\"54813\",\"type\":\"Selection\"},{\"attributes\":{},\"id\":\"53842\",\"type\":\"BasicTicker\"},{\"attributes\":{\"data\":{\"lat\":[{\"__ndarray__\":\"Zgz3ulrcRUA=\",\"dtype\":\"float64\",\"order\":\"little\",\"shape\":[1]}],\"lon\":[{\"__ndarray__\":\"Bh5riCLjU8A=\",\"dtype\":\"float64\",\"order\":\"little\",\"shape\":[1]}],\"marker.size\":[{\"__ndarray__\":\"AAAAANVgEEE=\",\"dtype\":\"float64\",\"order\":\"little\",\"shape\":[1]}]},\"selected\":{\"id\":\"54701\"},\"selection_policy\":{\"id\":\"54700\"}},\"id\":\"54505\",\"type\":\"ColumnDataSource\"},{\"attributes\":{\"axis_label\":\"dwelling type units\",\"coordinates\":null,\"formatter\":{\"id\":\"53871\"},\"group\":null,\"major_label_policy\":{\"id\":\"53872\"},\"ticker\":{\"id\":\"53842\"}},\"id\":\"53841\",\"type\":\"LinearAxis\"},{\"attributes\":{\"data\":{\"lat\":[{\"__ndarray__\":\"vL8PQTTcRUA=\",\"dtype\":\"float64\",\"order\":\"little\",\"shape\":[1]}],\"lon\":[{\"__ndarray__\":\"aU9ugP7bU8A=\",\"dtype\":\"float64\",\"order\":\"little\",\"shape\":[1]}],\"marker.size\":[{\"__ndarray__\":\"AAAAgNFcIUE=\",\"dtype\":\"float64\",\"order\":\"little\",\"shape\":[1]}]},\"selected\":{\"id\":\"54703\"},\"selection_policy\":{\"id\":\"54702\"}},\"id\":\"54506\",\"type\":\"ColumnDataSource\"},{\"attributes\":{\"overlay\":{\"id\":\"54057\"}},\"id\":\"54055\",\"type\":\"BoxZoomTool\"},{\"attributes\":{\"source\":{\"id\":\"53858\"}},\"id\":\"53865\",\"type\":\"CDSView\"},{\"attributes\":{},\"id\":\"54780\",\"type\":\"UnionRenderers\"},{\"attributes\":{\"fill_alpha\":{\"value\":0.2},\"fill_color\":{\"value\":\"red\"},\"hatch_alpha\":{\"value\":0.2},\"hatch_color\":{\"value\":\"red\"},\"line_alpha\":{\"value\":0.2},\"top\":{\"field\":\"A_2001\"},\"width\":{\"value\":0.8},\"x\":{\"field\":\"index\"}},\"id\":\"53795\",\"type\":\"VBar\"},{\"attributes\":{\"data\":{\"lat\":[{\"__ndarray__\":\"U/xKrRjnRUA=\",\"dtype\":\"float64\",\"order\":\"little\",\"shape\":[1]}],\"lon\":[{\"__ndarray__\":\"GObrzxHRU8A=\",\"dtype\":\"float64\",\"order\":\"little\",\"shape\":[1]}],\"marker.size\":[{\"__ndarray__\":\"AAAAAE4hFEE=\",\"dtype\":\"float64\",\"order\":\"little\",\"shape\":[1]}]},\"selected\":{\"id\":\"54625\"},\"selection_policy\":{\"id\":\"54624\"}},\"id\":\"54467\",\"type\":\"ColumnDataSource\"},{\"attributes\":{\"data\":{\"lat\":[{\"__ndarray__\":\"ZxxVE+XTRUA=\",\"dtype\":\"float64\",\"order\":\"little\",\"shape\":[1]}],\"lon\":[{\"__ndarray__\":\"6v9FZf3bU8A=\",\"dtype\":\"float64\",\"order\":\"little\",\"shape\":[1]}],\"marker.size\":[{\"__ndarray__\":\"AAAAANPtG0E=\",\"dtype\":\"float64\",\"order\":\"little\",\"shape\":[1]}]},\"selected\":{\"id\":\"54693\"},\"selection_policy\":{\"id\":\"54692\"}},\"id\":\"54501\",\"type\":\"ColumnDataSource\"},{\"attributes\":{\"data\":{\"lat\":[{\"__ndarray__\":\"YtKEkm7NRUA=\",\"dtype\":\"float64\",\"order\":\"little\",\"shape\":[1]}],\"lon\":[{\"__ndarray__\":\"ZeDjwKniU8A=\",\"dtype\":\"float64\",\"order\":\"little\",\"shape\":[1]}],\"marker.size\":[{\"__ndarray__\":\"AAAAAEoeGkE=\",\"dtype\":\"float64\",\"order\":\"little\",\"shape\":[1]}]},\"selected\":{\"id\":\"54629\"},\"selection_policy\":{\"id\":\"54628\"}},\"id\":\"54469\",\"type\":\"ColumnDataSource\"},{\"attributes\":{\"data\":{\"lat\":[{\"__ndarray__\":\"02J0aZHSRUA=\",\"dtype\":\"float64\",\"order\":\"little\",\"shape\":[1]}],\"lon\":[{\"__ndarray__\":\"5aQofmnkU8A=\",\"dtype\":\"float64\",\"order\":\"little\",\"shape\":[1]}],\"marker.size\":[{\"__ndarray__\":\"AAAAAJDiEkE=\",\"dtype\":\"float64\",\"order\":\"little\",\"shape\":[1]}]},\"selected\":{\"id\":\"54707\"},\"selection_policy\":{\"id\":\"54706\"}},\"id\":\"54508\",\"type\":\"ColumnDataSource\"},{\"attributes\":{\"data\":{\"lat\":[{\"__ndarray__\":\"Sdu290LkRUA=\",\"dtype\":\"float64\",\"order\":\"little\",\"shape\":[1]}],\"lon\":[{\"__ndarray__\":\"bzH9GqLWU8A=\",\"dtype\":\"float64\",\"order\":\"little\",\"shape\":[1]}],\"marker.size\":[{\"__ndarray__\":\"AAAAAOlKGEE=\",\"dtype\":\"float64\",\"order\":\"little\",\"shape\":[1]}]},\"selected\":{\"id\":\"54685\"},\"selection_policy\":{\"id\":\"54684\"}},\"id\":\"54497\",\"type\":\"ColumnDataSource\"},{\"attributes\":{\"end\":4086.5,\"reset_end\":4086.5,\"reset_start\":0.0,\"tags\":[[[\"value\",\"value\",null]]]},\"id\":\"54320\",\"type\":\"Range1d\"},{\"attributes\":{},\"id\":\"54815\",\"type\":\"Selection\"},{\"attributes\":{\"bottom\":{\"value\":0},\"fill_alpha\":{\"value\":1.0},\"fill_color\":{\"value\":\"blue\"},\"hatch_alpha\":{\"value\":1.0},\"hatch_color\":{\"value\":\"blue\"},\"hatch_scale\":{\"value\":12.0},\"hatch_weight\":{\"value\":1.0},\"line_alpha\":{\"value\":1.0},\"line_cap\":{\"value\":\"butt\"},\"line_color\":{\"value\":\"black\"},\"line_dash\":{\"value\":[]},\"line_dash_offset\":{\"value\":0},\"line_join\":{\"value\":\"bevel\"},\"line_width\":{\"value\":1},\"top\":{\"field\":\"A_2006\"},\"width\":{\"value\":0.8},\"x\":{\"field\":\"index\"}},\"id\":\"53866\",\"type\":\"VBar\"},{\"attributes\":{\"children\":[{\"id\":\"53755\"}],\"margin\":[0,0,0,0],\"name\":\"Column33011\"},\"id\":\"53754\",\"type\":\"Column\"},{\"attributes\":{},\"id\":\"53845\",\"type\":\"SaveTool\"},{\"attributes\":{\"bottom_units\":\"screen\",\"coordinates\":null,\"fill_alpha\":0.5,\"fill_color\":\"lightgrey\",\"group\":null,\"left_units\":\"screen\",\"level\":\"overlay\",\"line_alpha\":1.0,\"line_color\":\"black\",\"line_dash\":[4,4],\"line_width\":2,\"right_units\":\"screen\",\"syncable\":false,\"top_units\":\"screen\"},\"id\":\"53986\",\"type\":\"BoxAnnotation\"},{\"attributes\":{},\"id\":\"53781\",\"type\":\"ResetTool\"},{\"attributes\":{},\"id\":\"53846\",\"type\":\"PanTool\"},{\"attributes\":{\"data\":{\"lat\":[{\"__ndarray__\":\"C2bplt/VRUA=\",\"dtype\":\"float64\",\"order\":\"little\",\"shape\":[1]}],\"lon\":[{\"__ndarray__\":\"cy+s8m/hU8A=\",\"dtype\":\"float64\",\"order\":\"little\",\"shape\":[1]}],\"marker.size\":[{\"__ndarray__\":\"AAAAAAVMKEE=\",\"dtype\":\"float64\",\"order\":\"little\",\"shape\":[1]}]},\"selected\":{\"id\":\"54697\"},\"selection_policy\":{\"id\":\"54696\"}},\"id\":\"54503\",\"type\":\"ColumnDataSource\"},{\"attributes\":{\"data\":{\"lat\":[{\"__ndarray__\":\"iITO76TgRUA=\",\"dtype\":\"float64\",\"order\":\"little\",\"shape\":[1]}],\"lon\":[{\"__ndarray__\":\"YA1IqSHVU8A=\",\"dtype\":\"float64\",\"order\":\"little\",\"shape\":[1]}],\"marker.size\":[{\"__ndarray__\":\"AAAAAPK/G0E=\",\"dtype\":\"float64\",\"order\":\"little\",\"shape\":[1]}]},\"selected\":{\"id\":\"54815\"},\"selection_policy\":{\"id\":\"54814\"}},\"id\":\"54562\",\"type\":\"ColumnDataSource\"},{\"attributes\":{},\"id\":\"53847\",\"type\":\"WheelZoomTool\"},{\"attributes\":{\"bottom_units\":\"screen\",\"coordinates\":null,\"fill_alpha\":0.5,\"fill_color\":\"lightgrey\",\"group\":null,\"left_units\":\"screen\",\"level\":\"overlay\",\"line_alpha\":1.0,\"line_color\":\"black\",\"line_dash\":[4,4],\"line_width\":2,\"right_units\":\"screen\",\"syncable\":false,\"top_units\":\"screen\"},\"id\":\"53782\",\"type\":\"BoxAnnotation\"},{\"attributes\":{},\"id\":\"54443\",\"type\":\"AllLabels\"},{\"attributes\":{\"tools\":[{\"id\":\"53828\"},{\"id\":\"53845\"},{\"id\":\"53846\"},{\"id\":\"53847\"},{\"id\":\"53848\"},{\"id\":\"53849\"}]},\"id\":\"53851\",\"type\":\"Toolbar\"},{\"attributes\":{\"overlay\":{\"id\":\"53850\"}},\"id\":\"53848\",\"type\":\"BoxZoomTool\"},{\"attributes\":{\"data\":{\"lat\":[{\"__ndarray__\":\"jraFQl/URUA=\",\"dtype\":\"float64\",\"order\":\"little\",\"shape\":[1]}],\"lon\":[{\"__ndarray__\":\"f+1oNcfaU8A=\",\"dtype\":\"float64\",\"order\":\"little\",\"shape\":[1]}],\"marker.size\":[{\"__ndarray__\":\"AAAAgN/8IkE=\",\"dtype\":\"float64\",\"order\":\"little\",\"shape\":[1]}]},\"selected\":{\"id\":\"54813\"},\"selection_policy\":{\"id\":\"54812\"}},\"id\":\"54561\",\"type\":\"ColumnDataSource\"},{\"attributes\":{},\"id\":\"54788\",\"type\":\"UnionRenderers\"},{\"attributes\":{\"coordinates\":null,\"data_source\":{\"id\":\"53858\"},\"glyph\":{\"id\":\"53861\"},\"group\":null,\"hover_glyph\":null,\"muted_glyph\":{\"id\":\"53863\"},\"nonselection_glyph\":{\"id\":\"53862\"},\"selection_glyph\":{\"id\":\"53866\"},\"view\":{\"id\":\"53865\"}},\"id\":\"53864\",\"type\":\"GlyphRenderer\"},{\"attributes\":{},\"id\":\"54451\",\"type\":\"UnionRenderers\"},{\"attributes\":{\"css_classes\":[\"markdown\"],\"margin\":[5,5,5,5],\"name\":\"Markdown33004\",\"text\":\"&lt;h1&gt;Real Estate Investment Analysis Dashboard&lt;/h1&gt;\"},\"id\":\"53752\",\"type\":\"panel.models.markup.HTML\"},{\"attributes\":{},\"id\":\"54810\",\"type\":\"UnionRenderers\"},{\"attributes\":{},\"id\":\"54056\",\"type\":\"ResetTool\"},{\"attributes\":{},\"id\":\"53849\",\"type\":\"ResetTool\"},{\"attributes\":{},\"id\":\"54795\",\"type\":\"Selection\"},{\"attributes\":{\"axis_label\":\"dwelling type units\",\"coordinates\":null,\"formatter\":{\"id\":\"53939\"},\"group\":null,\"major_label_policy\":{\"id\":\"53940\"},\"ticker\":{\"id\":\"53910\"}},\"id\":\"53909\",\"type\":\"LinearAxis\"},{\"attributes\":{\"bottom_units\":\"screen\",\"coordinates\":null,\"fill_alpha\":0.5,\"fill_color\":\"lightgrey\",\"group\":null,\"left_units\":\"screen\",\"level\":\"overlay\",\"line_alpha\":1.0,\"line_color\":\"black\",\"line_dash\":[4,4],\"line_width\":2,\"right_units\":\"screen\",\"syncable\":false,\"top_units\":\"screen\"},\"id\":\"53850\",\"type\":\"BoxAnnotation\"},{\"attributes\":{\"fill_alpha\":{\"value\":0.1},\"fill_color\":{\"value\":\"blue\"},\"hatch_alpha\":{\"value\":0.1},\"hatch_color\":{\"value\":\"blue\"},\"line_alpha\":{\"value\":0.1},\"top\":{\"field\":\"A_2006\"},\"width\":{\"value\":0.8},\"x\":{\"field\":\"index\"}},\"id\":\"53862\",\"type\":\"VBar\"},{\"attributes\":{\"data\":{\"lat\":[{\"__ndarray__\":\"GNQShtzdRUA=\",\"dtype\":\"float64\",\"order\":\"little\",\"shape\":[1]}],\"lon\":[{\"__ndarray__\":\"lEH/TmTfU8A=\",\"dtype\":\"float64\",\"order\":\"little\",\"shape\":[1]}],\"marker.size\":[{\"__ndarray__\":\"AAAAAJ5HF0E=\",\"dtype\":\"float64\",\"order\":\"little\",\"shape\":[1]}]},\"selected\":{\"id\":\"54691\"},\"selection_policy\":{\"id\":\"54690\"}},\"id\":\"54500\",\"type\":\"ColumnDataSource\"},{\"attributes\":{\"fill_color\":{\"value\":\"blue\"},\"hatch_color\":{\"value\":\"blue\"},\"top\":{\"field\":\"A_2006\"},\"width\":{\"value\":0.8},\"x\":{\"field\":\"index\"}},\"id\":\"53861\",\"type\":\"VBar\"},{\"attributes\":{\"data\":{\"lat\":[{\"__ndarray__\":\"pusN5y/hRUA=\",\"dtype\":\"float64\",\"order\":\"little\",\"shape\":[1]}],\"lon\":[{\"__ndarray__\":\"QzmwoNnRU8A=\",\"dtype\":\"float64\",\"order\":\"little\",\"shape\":[1]}],\"marker.size\":[{\"__ndarray__\":\"AAAAAIL7D0E=\",\"dtype\":\"float64\",\"order\":\"little\",\"shape\":[1]}]},\"selected\":{\"id\":\"54687\"},\"selection_policy\":{\"id\":\"54686\"}},\"id\":\"54498\",\"type\":\"ColumnDataSource\"},{\"attributes\":{},\"id\":\"53869\",\"type\":\"AllLabels\"},{\"attributes\":{},\"id\":\"54793\",\"type\":\"Selection\"},{\"attributes\":{},\"id\":\"54783\",\"type\":\"Selection\"},{\"attributes\":{},\"id\":\"53910\",\"type\":\"BasicTicker\"},{\"attributes\":{\"axis\":{\"id\":\"53906\"},\"coordinates\":null,\"grid_line_color\":null,\"group\":null,\"ticker\":null},\"id\":\"53908\",\"type\":\"Grid\"},{\"attributes\":{},\"id\":\"54781\",\"type\":\"Selection\"},{\"attributes\":{},\"id\":\"53872\",\"type\":\"AllLabels\"},{\"attributes\":{\"data\":{\"lat\":[{\"__ndarray__\":\"SHEKAhbaRUA=\",\"dtype\":\"float64\",\"order\":\"little\",\"shape\":[1]}],\"lon\":[{\"__ndarray__\":\"SxGuum3XU8A=\",\"dtype\":\"float64\",\"order\":\"little\",\"shape\":[1]}],\"marker.size\":[{\"__ndarray__\":\"AAAAgI+cKEE=\",\"dtype\":\"float64\",\"order\":\"little\",\"shape\":[1]}]},\"selected\":{\"id\":\"54765\"},\"selection_policy\":{\"id\":\"54764\"}},\"id\":\"54537\",\"type\":\"ColumnDataSource\"},{\"attributes\":{},\"id\":\"54864\",\"type\":\"UnionRenderers\"},{\"attributes\":{\"bottom\":{\"value\":0},\"fill_alpha\":{\"value\":1.0},\"fill_color\":{\"field\":\"Variable\",\"transform\":{\"id\":\"54351\"}},\"hatch_alpha\":{\"value\":1.0},\"hatch_color\":{\"field\":\"Variable\",\"transform\":{\"id\":\"54351\"}},\"hatch_scale\":{\"value\":12.0},\"hatch_weight\":{\"value\":1.0},\"line_alpha\":{\"value\":1.0},\"line_cap\":{\"value\":\"butt\"},\"line_color\":{\"value\":\"black\"},\"line_dash\":{\"value\":[]},\"line_dash_offset\":{\"value\":0},\"line_join\":{\"value\":\"bevel\"},\"line_width\":{\"value\":1},\"top\":{\"field\":\"value\"},\"width\":{\"value\":0.8},\"x\":{\"field\":\"xoffsets\"}},\"id\":\"54360\",\"type\":\"VBar\"},{\"attributes\":{},\"id\":\"54725\",\"type\":\"Selection\"},{\"attributes\":{},\"id\":\"54867\",\"type\":\"Selection\"},{\"attributes\":{},\"id\":\"53927\",\"type\":\"Selection\"},{\"attributes\":{\"data\":{\"lat\":[{\"__ndarray__\":\"iMxkUbvYRUA=\",\"dtype\":\"float64\",\"order\":\"little\",\"shape\":[1]}],\"lon\":[{\"__ndarray__\":\"/HF3ra/eU8A=\",\"dtype\":\"float64\",\"order\":\"little\",\"shape\":[1]}],\"marker.size\":[{\"__ndarray__\":\"AAAAAL+jFkE=\",\"dtype\":\"float64\",\"order\":\"little\",\"shape\":[1]}]},\"selected\":{\"id\":\"54645\"},\"selection_policy\":{\"id\":\"54644\"}},\"id\":\"54477\",\"type\":\"ColumnDataSource\"},{\"attributes\":{\"data\":{\"lat\":[{\"__ndarray__\":\"3yoVdeLSRUA=\",\"dtype\":\"float64\",\"order\":\"little\",\"shape\":[1]}],\"lon\":[{\"__ndarray__\":\"RYtDaIrbU8A=\",\"dtype\":\"float64\",\"order\":\"little\",\"shape\":[1]}],\"marker.size\":[{\"__ndarray__\":\"AAAAAEF8IEE=\",\"dtype\":\"float64\",\"order\":\"little\",\"shape\":[1]}]},\"selected\":{\"id\":\"54767\"},\"selection_policy\":{\"id\":\"54766\"}},\"id\":\"54538\",\"type\":\"ColumnDataSource\"},{\"attributes\":{},\"id\":\"54869\",\"type\":\"Selection\"},{\"attributes\":{\"children\":[{\"id\":\"54243\"},{\"id\":\"54314\"}],\"margin\":[0,0,0,0],\"name\":\"Row33690\"},\"id\":\"54239\",\"type\":\"Row\"},{\"attributes\":{},\"id\":\"54135\",\"type\":\"Selection\"},{\"attributes\":{},\"id\":\"54863\",\"type\":\"Selection\"},{\"attributes\":{\"data\":{\"lat\":[{\"__ndarray__\":\"ZDE9oyXkRUA=\",\"dtype\":\"float64\",\"order\":\"little\",\"shape\":[1]}],\"lon\":[{\"__ndarray__\":\"Zf6wKUDNU8A=\",\"dtype\":\"float64\",\"order\":\"little\",\"shape\":[1]}],\"marker.size\":[{\"__ndarray__\":\"AAAAAFZlEUE=\",\"dtype\":\"float64\",\"order\":\"little\",\"shape\":[1]}]},\"selected\":{\"id\":\"54781\"},\"selection_policy\":{\"id\":\"54780\"}},\"id\":\"54545\",\"type\":\"ColumnDataSource\"},{\"attributes\":{\"data\":{\"lat\":[{\"__ndarray__\":\"V8PRl9bORUA=\",\"dtype\":\"float64\",\"order\":\"little\",\"shape\":[1]}],\"lon\":[{\"__ndarray__\":\"NBUcPQLgU8A=\",\"dtype\":\"float64\",\"order\":\"little\",\"shape\":[1]}],\"marker.size\":[{\"__ndarray__\":\"AAAAAEoEGEE=\",\"dtype\":\"float64\",\"order\":\"little\",\"shape\":[1]}]},\"selected\":{\"id\":\"54779\"},\"selection_policy\":{\"id\":\"54778\"}},\"id\":\"54544\",\"type\":\"ColumnDataSource\"},{\"attributes\":{},\"id\":\"53970\",\"type\":\"CategoricalScale\"},{\"attributes\":{},\"id\":\"54865\",\"type\":\"Selection\"},{\"attributes\":{\"data\":{\"average_house_value\":[200388,293140,366667,459051],\"year\":[2001,2006,2011,2016]},\"selected\":{\"id\":\"54274\"},\"selection_policy\":{\"id\":\"54301\"}},\"id\":\"54273\",\"type\":\"ColumnDataSource\"},{\"attributes\":{},\"id\":\"54053\",\"type\":\"PanTool\"},{\"attributes\":{\"data\":{\"lat\":[{\"__ndarray__\":\"YeDaBdrlRUA=\",\"dtype\":\"float64\",\"order\":\"little\",\"shape\":[1]}],\"lon\":[{\"__ndarray__\":\"TL/I9BnUU8A=\",\"dtype\":\"float64\",\"order\":\"little\",\"shape\":[1]}],\"marker.size\":[{\"__ndarray__\":\"AAAAgIfYI0E=\",\"dtype\":\"float64\",\"order\":\"little\",\"shape\":[1]}]},\"selected\":{\"id\":\"54755\"},\"selection_policy\":{\"id\":\"54754\"}},\"id\":\"54532\",\"type\":\"ColumnDataSource\"},{\"attributes\":{},\"id\":\"54868\",\"type\":\"UnionRenderers\"},{\"attributes\":{},\"id\":\"54075\",\"type\":\"BasicTickFormatter\"},{\"attributes\":{},\"id\":\"54870\",\"type\":\"UnionRenderers\"},{\"attributes\":{\"data\":{\"lat\":[{\"__ndarray__\":\"gQrDVybURUA=\",\"dtype\":\"float64\",\"order\":\"little\",\"shape\":[1]}],\"lon\":[{\"__ndarray__\":\"S0KeNL/fU8A=\",\"dtype\":\"float64\",\"order\":\"little\",\"shape\":[1]}],\"marker.size\":[{\"__ndarray__\":\"AAAAAKeLFEE=\",\"dtype\":\"float64\",\"order\":\"little\",\"shape\":[1]}]},\"selected\":{\"id\":\"54757\"},\"selection_policy\":{\"id\":\"54756\"}},\"id\":\"54533\",\"type\":\"ColumnDataSource\"},{\"attributes\":{\"data\":{\"lat\":[{\"__ndarray__\":\"fcgA9YvgRUA=\",\"dtype\":\"float64\",\"order\":\"little\",\"shape\":[1]}],\"lon\":[{\"__ndarray__\":\"1pwPES/bU8A=\",\"dtype\":\"float64\",\"order\":\"little\",\"shape\":[1]}],\"marker.size\":[{\"__ndarray__\":\"AAAAAMG2IkE=\",\"dtype\":\"float64\",\"order\":\"little\",\"shape\":[1]}]},\"selected\":{\"id\":\"54759\"},\"selection_policy\":{\"id\":\"54758\"}},\"id\":\"54534\",\"type\":\"ColumnDataSource\"},{\"attributes\":{},\"id\":\"54008\",\"type\":\"AllLabels\"},{\"attributes\":{\"css_classes\":[\"markdown\"],\"margin\":[5,5,5,5],\"name\":\"Markdown33006\",\"text\":\"&lt;h2&gt;Toronto Canada&lt;/h2&gt;\"},\"id\":\"53753\",\"type\":\"panel.models.markup.HTML\"},{\"attributes\":{},\"id\":\"54827\",\"type\":\"Selection\"},{\"attributes\":{},\"id\":\"53800\",\"type\":\"CategoricalTickFormatter\"},{\"attributes\":{},\"id\":\"53804\",\"type\":\"AllLabels\"},{\"attributes\":{\"callback\":null,\"renderers\":[{\"id\":\"54071\"}],\"tags\":[\"hv_created\"],\"tooltips\":[[\"year\",\"@{year}\"],[\"shelter_costs_owned\",\"@{shelter_costs_owned}\"]]},\"id\":\"54034\",\"type\":\"HoverTool\"},{\"attributes\":{},\"id\":\"54727\",\"type\":\"Selection\"},{\"attributes\":{},\"id\":\"54204\",\"type\":\"Selection\"},{\"attributes\":{\"css_classes\":[\"markdown\"],\"margin\":[5,5,5,5],\"name\":\"Markdown33687\",\"text\":\"&lt;h2&gt;Neighbourhood Average Value and Number of Dwellings&lt;/h2&gt;\"},\"id\":\"54238\",\"type\":\"panel.models.markup.HTML\"},{\"attributes\":{\"data\":{\"lat\":[{\"__ndarray__\":\"kCGVnHLdRUA=\",\"dtype\":\"float64\",\"order\":\"little\",\"shape\":[1]}],\"lon\":[{\"__ndarray__\":\"eB8NyNrZU8A=\",\"dtype\":\"float64\",\"order\":\"little\",\"shape\":[1]}],\"marker.size\":[{\"__ndarray__\":\"AAAAAMEsJ0E=\",\"dtype\":\"float64\",\"order\":\"little\",\"shape\":[1]}]},\"selected\":{\"id\":\"54761\"},\"selection_policy\":{\"id\":\"54760\"}},\"id\":\"54535\",\"type\":\"ColumnDataSource\"},{\"attributes\":{},\"id\":\"54829\",\"type\":\"Selection\"},{\"attributes\":{},\"id\":\"54831\",\"type\":\"Selection\"},{\"attributes\":{},\"id\":\"54076\",\"type\":\"AllLabels\"},{\"attributes\":{},\"id\":\"54721\",\"type\":\"Selection\"},{\"attributes\":{\"data\":{\"lat\":[{\"__ndarray__\":\"f+fNl83bRUA=\",\"dtype\":\"float64\",\"order\":\"little\",\"shape\":[1]}],\"lon\":[{\"__ndarray__\":\"lLW4jPzZU8A=\",\"dtype\":\"float64\",\"order\":\"little\",\"shape\":[1]}],\"marker.size\":[{\"__ndarray__\":\"AAAAwIuxMEE=\",\"dtype\":\"float64\",\"order\":\"little\",\"shape\":[1]}]},\"selected\":{\"id\":\"54763\"},\"selection_policy\":{\"id\":\"54762\"}},\"id\":\"54536\",\"type\":\"ColumnDataSource\"},{\"attributes\":{},\"id\":\"54729\",\"type\":\"Selection\"},{\"attributes\":{},\"id\":\"54871\",\"type\":\"Selection\"},{\"attributes\":{},\"id\":\"53880\",\"type\":\"UnionRenderers\"},{\"attributes\":{},\"id\":\"54866\",\"type\":\"UnionRenderers\"},{\"attributes\":{},\"id\":\"54147\",\"type\":\"BasicTickFormatter\"},{\"attributes\":{},\"id\":\"53812\",\"type\":\"UnionRenderers\"},{\"attributes\":{},\"id\":\"54156\",\"type\":\"UnionRenderers\"},{\"attributes\":{},\"id\":\"54722\",\"type\":\"UnionRenderers\"},{\"attributes\":{},\"id\":\"54816\",\"type\":\"UnionRenderers\"},{\"attributes\":{},\"id\":\"54079\",\"type\":\"AllLabels\"},{\"attributes\":{\"data\":{\"lat\":[{\"__ndarray__\":\"BfoCgtLLRUA=\",\"dtype\":\"float64\",\"order\":\"little\",\"shape\":[1]}],\"lon\":[{\"__ndarray__\":\"G070VCLiU8A=\",\"dtype\":\"float64\",\"order\":\"little\",\"shape\":[1]}],\"marker.size\":[{\"__ndarray__\":\"AAAAAJmMF0E=\",\"dtype\":\"float64\",\"order\":\"little\",\"shape\":[1]}]},\"selected\":{\"id\":\"54769\"},\"selection_policy\":{\"id\":\"54768\"}},\"id\":\"54539\",\"type\":\"ColumnDataSource\"},{\"attributes\":{},\"id\":\"54714\",\"type\":\"UnionRenderers\"},{\"attributes\":{},\"id\":\"54817\",\"type\":\"Selection\"},{\"attributes\":{\"child\":{\"id\":\"54035\"},\"name\":\"Owned Dwellings\",\"title\":\"Owned Dwellings\"},\"id\":\"54100\",\"type\":\"Panel\"},{\"attributes\":{},\"id\":\"54715\",\"type\":\"Selection\"},{\"attributes\":{},\"id\":\"54818\",\"type\":\"UnionRenderers\"},{\"attributes\":{},\"id\":\"53803\",\"type\":\"BasicTickFormatter\"},{\"attributes\":{\"data\":{\"lat\":[{\"__ndarray__\":\"VYWKmv3lRUA=\",\"dtype\":\"float64\",\"order\":\"little\",\"shape\":[1]}],\"lon\":[{\"__ndarray__\":\"u53YnnTYU8A=\",\"dtype\":\"float64\",\"order\":\"little\",\"shape\":[1]}],\"marker.size\":[{\"__ndarray__\":\"AAAAAEtBIUE=\",\"dtype\":\"float64\",\"order\":\"little\",\"shape\":[1]}]},\"selected\":{\"id\":\"54641\"},\"selection_policy\":{\"id\":\"54640\"}},\"id\":\"54475\",\"type\":\"ColumnDataSource\"},{\"attributes\":{\"data\":{\"lat\":[{\"__ndarray__\":\"xBSbRd7mRUA=\",\"dtype\":\"float64\",\"order\":\"little\",\"shape\":[1]}],\"lon\":[{\"__ndarray__\":\"2m1Ztj3OU8A=\",\"dtype\":\"float64\",\"order\":\"little\",\"shape\":[1]}],\"marker.size\":[{\"__ndarray__\":\"AAAAAIJbD0E=\",\"dtype\":\"float64\",\"order\":\"little\",\"shape\":[1]}]},\"selected\":{\"id\":\"54771\"},\"selection_policy\":{\"id\":\"54770\"}},\"id\":\"54540\",\"type\":\"ColumnDataSource\"},{\"attributes\":{\"data\":{\"lat\":[{\"__ndarray__\":\"OM3Qsk3cRUA=\",\"dtype\":\"float64\",\"order\":\"little\",\"shape\":[1]}],\"lon\":[{\"__ndarray__\":\"BRme6hLPU8A=\",\"dtype\":\"float64\",\"order\":\"little\",\"shape\":[1]}],\"marker.size\":[{\"__ndarray__\":\"AAAAADh6GUE=\",\"dtype\":\"float64\",\"order\":\"little\",\"shape\":[1]}]},\"selected\":{\"id\":\"54677\"},\"selection_policy\":{\"id\":\"54676\"}},\"id\":\"54493\",\"type\":\"ColumnDataSource\"},{\"attributes\":{\"data\":{\"lat\":[{\"__ndarray__\":\"vhVH7ZfbRUA=\",\"dtype\":\"float64\",\"order\":\"little\",\"shape\":[1]}],\"lon\":[{\"__ndarray__\":\"JExJvcTeU8A=\",\"dtype\":\"float64\",\"order\":\"little\",\"shape\":[1]}],\"marker.size\":[{\"__ndarray__\":\"AAAAALSpG0E=\",\"dtype\":\"float64\",\"order\":\"little\",\"shape\":[1]}]},\"selected\":{\"id\":\"54773\"},\"selection_policy\":{\"id\":\"54772\"}},\"id\":\"54541\",\"type\":\"ColumnDataSource\"},{\"attributes\":{},\"id\":\"54819\",\"type\":\"Selection\"},{\"attributes\":{},\"id\":\"54717\",\"type\":\"Selection\"},{\"attributes\":{},\"id\":\"54716\",\"type\":\"UnionRenderers\"},{\"attributes\":{},\"id\":\"54823\",\"type\":\"Selection\"},{\"attributes\":{\"below\":[{\"id\":\"54182\"}],\"center\":[{\"id\":\"54185\"},{\"id\":\"54189\"}],\"height\":300,\"left\":[{\"id\":\"54186\"}],\"margin\":[5,5,5,5],\"min_border_bottom\":10,\"min_border_left\":10,\"min_border_right\":10,\"min_border_top\":10,\"renderers\":[{\"id\":\"54209\"}],\"sizing_mode\":\"fixed\",\"title\":{\"id\":\"54174\"},\"toolbar\":{\"id\":\"54196\"},\"width\":700,\"x_range\":{\"id\":\"54032\"},\"x_scale\":{\"id\":\"54178\"},\"y_range\":{\"id\":\"54171\"},\"y_scale\":{\"id\":\"54180\"}},\"id\":\"54173\",\"subtype\":\"Figure\",\"type\":\"Plot\"},{\"attributes\":{},\"id\":\"54822\",\"type\":\"UnionRenderers\"},{\"attributes\":{},\"id\":\"54720\",\"type\":\"UnionRenderers\"},{\"attributes\":{},\"id\":\"54821\",\"type\":\"Selection\"},{\"attributes\":{},\"id\":\"54825\",\"type\":\"Selection\"},{\"attributes\":{\"data\":{\"A_2006\":[266860,379400,165,69430,54690,44095,162850,1335],\"index\":[\"single_detached_house\",\"apartment_five_storeys_plus\",\"movable_dwelling\",\"semi_detached_house\",\"row_house\",\"duplex\",\"apartment_five_storeys_less\",\"other_house\"]},\"selected\":{\"id\":\"53859\"},\"selection_policy\":{\"id\":\"53880\"}},\"id\":\"53858\",\"type\":\"ColumnDataSource\"},{\"attributes\":{\"line_color\":\"#30a2da\",\"line_width\":2,\"x\":{\"field\":\"year\"},\"y\":{\"field\":\"average_house_value\"}},\"id\":\"54206\",\"type\":\"Line\"},{\"attributes\":{},\"id\":\"54724\",\"type\":\"UnionRenderers\"},{\"attributes\":{},\"id\":\"54832\",\"type\":\"UnionRenderers\"},{\"attributes\":{},\"id\":\"54728\",\"type\":\"UnionRenderers\"},{\"attributes\":{},\"id\":\"54045\",\"type\":\"BasicTicker\"},{\"attributes\":{},\"id\":\"54730\",\"type\":\"UnionRenderers\"},{\"attributes\":{\"data\":{\"lat\":[{\"__ndarray__\":\"R3Nk5RfRRUA=\",\"dtype\":\"float64\",\"order\":\"little\",\"shape\":[1]}],\"lon\":[{\"__ndarray__\":\"p28+GrPkU8A=\",\"dtype\":\"float64\",\"order\":\"little\",\"shape\":[1]}],\"marker.size\":[{\"__ndarray__\":\"AAAAABsZG0E=\",\"dtype\":\"float64\",\"order\":\"little\",\"shape\":[1]}]},\"selected\":{\"id\":\"54775\"},\"selection_policy\":{\"id\":\"54774\"}},\"id\":\"54542\",\"type\":\"ColumnDataSource\"},{\"attributes\":{},\"id\":\"54719\",\"type\":\"Selection\"},{\"attributes\":{},\"id\":\"54824\",\"type\":\"UnionRenderers\"},{\"attributes\":{\"end\":390509.0,\"reset_end\":390509.0,\"reset_start\":0.0,\"tags\":[[[\"2001\",\"2001\",null]]]},\"id\":\"53759\",\"type\":\"Range1d\"},{\"attributes\":{},\"id\":\"54723\",\"type\":\"Selection\"},{\"attributes\":{},\"id\":\"54078\",\"type\":\"BasicTickFormatter\"},{\"attributes\":{\"data\":{\"lat\":[{\"__ndarray__\":\"1pZTZQzpRUA=\",\"dtype\":\"float64\",\"order\":\"little\",\"shape\":[1]}],\"lon\":[{\"__ndarray__\":\"iGADv5nRU8A=\",\"dtype\":\"float64\",\"order\":\"little\",\"shape\":[1]}],\"marker.size\":[{\"__ndarray__\":\"AAAAAHEOFUE=\",\"dtype\":\"float64\",\"order\":\"little\",\"shape\":[1]}]},\"selected\":{\"id\":\"54777\"},\"selection_policy\":{\"id\":\"54776\"}},\"id\":\"54543\",\"type\":\"ColumnDataSource\"},{\"attributes\":{},\"id\":\"54826\",\"type\":\"UnionRenderers\"},{\"attributes\":{\"end\":417323.5,\"reset_end\":417323.5,\"reset_start\":0.0,\"tags\":[[[\"2006\",\"2006\",null]]]},\"id\":\"53827\",\"type\":\"Range1d\"},{\"attributes\":{},\"id\":\"54828\",\"type\":\"UnionRenderers\"},{\"attributes\":{\"line_color\":\"green\",\"line_width\":2,\"x\":{\"field\":\"year\"},\"y\":{\"field\":\"shelter_costs_owned\"}},\"id\":\"54068\",\"type\":\"Line\"},{\"attributes\":{},\"id\":\"54820\",\"type\":\"UnionRenderers\"},{\"attributes\":{},\"id\":\"54718\",\"type\":\"UnionRenderers\"},{\"attributes\":{},\"id\":\"53801\",\"type\":\"AllLabels\"},{\"attributes\":{},\"id\":\"54726\",\"type\":\"UnionRenderers\"},{\"attributes\":{},\"id\":\"54830\",\"type\":\"UnionRenderers\"},{\"attributes\":{\"axis_label\":\"shelter_costs_owned\",\"coordinates\":null,\"formatter\":{\"id\":\"54078\"},\"group\":null,\"major_label_policy\":{\"id\":\"54079\"},\"ticker\":{\"id\":\"54049\"}},\"id\":\"54048\",\"type\":\"LinearAxis\"},{\"attributes\":{\"data\":{\"A_2011\":[274940,429220,100,72480,60355,44750,163895,2165],\"index\":[\"single_detached_house\",\"apartment_five_storeys_plus\",\"movable_dwelling\",\"semi_detached_house\",\"row_house\",\"duplex\",\"apartment_five_storeys_less\",\"other_house\"]},\"selected\":{\"id\":\"53927\"},\"selection_policy\":{\"id\":\"53948\"}},\"id\":\"53926\",\"type\":\"ColumnDataSource\"},{\"attributes\":{},\"id\":\"53985\",\"type\":\"ResetTool\"},{\"attributes\":{},\"id\":\"54733\",\"type\":\"Selection\"},{\"attributes\":{},\"id\":\"54889\",\"type\":\"Selection\"},{\"attributes\":{},\"id\":\"54898\",\"type\":\"UnionRenderers\"},{\"attributes\":{},\"id\":\"54884\",\"type\":\"UnionRenderers\"},{\"attributes\":{},\"id\":\"54632\",\"type\":\"UnionRenderers\"},{\"attributes\":{},\"id\":\"54671\",\"type\":\"Selection\"},{\"attributes\":{},\"id\":\"54676\",\"type\":\"UnionRenderers\"},{\"attributes\":{},\"id\":\"54439\",\"type\":\"CategoricalTickFormatter\"},{\"attributes\":{\"coordinates\":null,\"group\":null,\"text\":\"Dwelling types in Toronto in 2016\",\"text_color\":\"black\",\"text_font_size\":\"12pt\"},\"id\":\"53966\",\"type\":\"Title\"},{\"attributes\":{\"callback\":null,\"renderers\":[{\"id\":\"54435\"}],\"tags\":[\"hv_created\"],\"tooltips\":[[\"neighbourhood\",\"@{neighbourhood}\"],[\"average_house_value\",\"@{average_house_value}\"]]},\"id\":\"54399\",\"type\":\"HoverTool\"},{\"attributes\":{},\"id\":\"54688\",\"type\":\"UnionRenderers\"},{\"attributes\":{},\"id\":\"54629\",\"type\":\"Selection\"},{\"attributes\":{\"data\":{\"lat\":[{\"__ndarray__\":\"4j0HlqPbRUA=\",\"dtype\":\"float64\",\"order\":\"little\",\"shape\":[1]}],\"lon\":[{\"__ndarray__\":\"9ZJSEkrVU8A=\",\"dtype\":\"float64\",\"order\":\"little\",\"shape\":[1]}],\"marker.size\":[{\"__ndarray__\":\"AAAAALhdCUE=\",\"dtype\":\"float64\",\"order\":\"little\",\"shape\":[1]}]},\"selected\":{\"id\":\"54709\"},\"selection_policy\":{\"id\":\"54708\"}},\"id\":\"54509\",\"type\":\"ColumnDataSource\"},{\"attributes\":{},\"id\":\"54674\",\"type\":\"UnionRenderers\"},{\"attributes\":{\"below\":[{\"id\":\"54409\"}],\"center\":[{\"id\":\"54411\"},{\"id\":\"54415\"}],\"height\":300,\"left\":[{\"id\":\"54412\"}],\"margin\":[5,5,5,5],\"min_border_bottom\":10,\"min_border_left\":10,\"min_border_right\":10,\"min_border_top\":10,\"renderers\":[{\"id\":\"54435\"}],\"sizing_mode\":\"fixed\",\"title\":{\"id\":\"54401\"},\"toolbar\":{\"id\":\"54422\"},\"width\":700,\"x_range\":{\"id\":\"54397\"},\"x_scale\":{\"id\":\"54405\"},\"y_range\":{\"id\":\"54171\"},\"y_scale\":{\"id\":\"54407\"}},\"id\":\"54400\",\"subtype\":\"Figure\",\"type\":\"Plot\"},{\"attributes\":{},\"id\":\"54683\",\"type\":\"Selection\"},{\"attributes\":{},\"id\":\"54731\",\"type\":\"Selection\"},{\"attributes\":{},\"id\":\"54878\",\"type\":\"UnionRenderers\"},{\"attributes\":{},\"id\":\"54682\",\"type\":\"UnionRenderers\"},{\"attributes\":{},\"id\":\"54899\",\"type\":\"Selection\"},{\"attributes\":{},\"id\":\"54689\",\"type\":\"Selection\"},{\"attributes\":{},\"id\":\"54881\",\"type\":\"Selection\"},{\"attributes\":{},\"id\":\"54900\",\"type\":\"UnionRenderers\"},{\"attributes\":{},\"id\":\"53917\",\"type\":\"ResetTool\"},{\"attributes\":{},\"id\":\"54879\",\"type\":\"Selection\"},{\"attributes\":{},\"id\":\"54894\",\"type\":\"UnionRenderers\"},{\"attributes\":{\"overlay\":{\"id\":\"53918\"}},\"id\":\"53916\",\"type\":\"BoxZoomTool\"},{\"attributes\":{\"client_comm_id\":\"8fe89f6756b44acba6b48be426e958bf\",\"comm_id\":\"429f39d957f641778fac1c5fed1a3f49\",\"plot_id\":\"53750\"},\"id\":\"56948\",\"type\":\"panel.models.comm_manager.CommManager\"},{\"attributes\":{},\"id\":\"54630\",\"type\":\"UnionRenderers\"},{\"attributes\":{},\"id\":\"54695\",\"type\":\"Selection\"},{\"attributes\":{},\"id\":\"54732\",\"type\":\"UnionRenderers\"},{\"attributes\":{},\"id\":\"54902\",\"type\":\"UnionRenderers\"},{\"attributes\":{},\"id\":\"54675\",\"type\":\"Selection\"},{\"attributes\":{\"fill_color\":{\"value\":\"green\"},\"hatch_color\":{\"value\":\"green\"},\"top\":{\"field\":\"average_house_value\"},\"width\":{\"value\":0.8},\"x\":{\"field\":\"neighbourhood\"}},\"id\":\"54432\",\"type\":\"VBar\"},{\"attributes\":{},\"id\":\"54880\",\"type\":\"UnionRenderers\"},{\"attributes\":{},\"id\":\"54897\",\"type\":\"Selection\"},{\"attributes\":{\"data\":{\"lat\":[{\"__ndarray__\":\"2X/4VCnURUA=\",\"dtype\":\"float64\",\"order\":\"little\",\"shape\":[1]}],\"lon\":[{\"__ndarray__\":\"04cuqK/YU8A=\",\"dtype\":\"float64\",\"order\":\"little\",\"shape\":[1]}],\"marker.size\":[{\"__ndarray__\":\"AAAAAJbbGUE=\",\"dtype\":\"float64\",\"order\":\"little\",\"shape\":[1]}]},\"selected\":{\"id\":\"54637\"},\"selection_policy\":{\"id\":\"54636\"}},\"id\":\"54473\",\"type\":\"ColumnDataSource\"},{\"attributes\":{},\"id\":\"54684\",\"type\":\"UnionRenderers\"},{\"attributes\":{},\"id\":\"54896\",\"type\":\"UnionRenderers\"},{\"attributes\":{},\"id\":\"54854\",\"type\":\"UnionRenderers\"},{\"attributes\":{},\"id\":\"54004\",\"type\":\"CategoricalTickFormatter\"},{\"attributes\":{},\"id\":\"54886\",\"type\":\"UnionRenderers\"},{\"attributes\":{},\"id\":\"54430\",\"type\":\"Selection\"},{\"attributes\":{},\"id\":\"54681\",\"type\":\"Selection\"},{\"attributes\":{},\"id\":\"54677\",\"type\":\"Selection\"},{\"attributes\":{},\"id\":\"54876\",\"type\":\"UnionRenderers\"},{\"attributes\":{},\"id\":\"54680\",\"type\":\"UnionRenderers\"},{\"attributes\":{},\"id\":\"54693\",\"type\":\"Selection\"},{\"attributes\":{},\"id\":\"54679\",\"type\":\"Selection\"},{\"attributes\":{},\"id\":\"54888\",\"type\":\"UnionRenderers\"},{\"attributes\":{},\"id\":\"54890\",\"type\":\"UnionRenderers\"},{\"attributes\":{},\"id\":\"54687\",\"type\":\"Selection\"},{\"attributes\":{},\"id\":\"54875\",\"type\":\"Selection\"},{\"attributes\":{},\"id\":\"54901\",\"type\":\"Selection\"},{\"attributes\":{},\"id\":\"54673\",\"type\":\"Selection\"},{\"attributes\":{},\"id\":\"54686\",\"type\":\"UnionRenderers\"},{\"attributes\":{},\"id\":\"54892\",\"type\":\"UnionRenderers\"},{\"attributes\":{},\"id\":\"54877\",\"type\":\"Selection\"},{\"attributes\":{},\"id\":\"54685\",\"type\":\"Selection\"},{\"attributes\":{},\"id\":\"54631\",\"type\":\"Selection\"},{\"attributes\":{},\"id\":\"54678\",\"type\":\"UnionRenderers\"},{\"attributes\":{},\"id\":\"54893\",\"type\":\"Selection\"},{\"attributes\":{},\"id\":\"54857\",\"type\":\"Selection\"},{\"attributes\":{},\"id\":\"54887\",\"type\":\"Selection\"},{\"attributes\":{},\"id\":\"54903\",\"type\":\"Selection\"},{\"attributes\":{\"data\":{\"lat\":[{\"__ndarray__\":\"+aOHJY7XRUA=\",\"dtype\":\"float64\",\"order\":\"little\",\"shape\":[1]}],\"lon\":[{\"__ndarray__\":\"TuLewhvVU8A=\",\"dtype\":\"float64\",\"order\":\"little\",\"shape\":[1]}],\"marker.size\":[{\"__ndarray__\":\"AAAAAPx/HEE=\",\"dtype\":\"float64\",\"order\":\"little\",\"shape\":[1]}]},\"selected\":{\"id\":\"54681\"},\"selection_policy\":{\"id\":\"54680\"}},\"id\":\"54495\",\"type\":\"ColumnDataSource\"},{\"attributes\":{},\"id\":\"54895\",\"type\":\"Selection\"},{\"attributes\":{},\"id\":\"54692\",\"type\":\"UnionRenderers\"},{\"attributes\":{},\"id\":\"54670\",\"type\":\"UnionRenderers\"},{\"attributes\":{\"data\":{\"lat\":[{\"__ndarray__\":\"HKcRyF/jRUA=\",\"dtype\":\"float64\",\"order\":\"little\",\"shape\":[1]}],\"lon\":[{\"__ndarray__\":\"GB7BriLYU8A=\",\"dtype\":\"float64\",\"order\":\"little\",\"shape\":[1]}],\"marker.size\":[{\"__ndarray__\":\"AAAAgPV0IEE=\",\"dtype\":\"float64\",\"order\":\"little\",\"shape\":[1]}]},\"selected\":{\"id\":\"54639\"},\"selection_policy\":{\"id\":\"54638\"}},\"id\":\"54474\",\"type\":\"ColumnDataSource\"},{\"attributes\":{},\"id\":\"54852\",\"type\":\"UnionRenderers\"},{\"attributes\":{},\"id\":\"54405\",\"type\":\"CategoricalScale\"},{\"attributes\":{\"data\":{\"lat\":[{\"__ndarray__\":\"dJqBoXnZRUA=\",\"dtype\":\"float64\",\"order\":\"little\",\"shape\":[1]}],\"lon\":[{\"__ndarray__\":\"39wEhPvcU8A=\",\"dtype\":\"float64\",\"order\":\"little\",\"shape\":[1]}],\"marker.size\":[{\"__ndarray__\":\"AAAAAFJPFkE=\",\"dtype\":\"float64\",\"order\":\"little\",\"shape\":[1]}]},\"selected\":{\"id\":\"54655\"},\"selection_policy\":{\"id\":\"54654\"}},\"id\":\"54482\",\"type\":\"ColumnDataSource\"},{\"attributes\":{},\"id\":\"54853\",\"type\":\"Selection\"},{\"attributes\":{},\"id\":\"54873\",\"type\":\"Selection\"},{\"attributes\":{},\"id\":\"54891\",\"type\":\"Selection\"},{\"attributes\":{\"data\":{\"lat\":[{\"__ndarray__\":\"v2N47OfhRUA=\",\"dtype\":\"float64\",\"order\":\"little\",\"shape\":[1]}],\"lon\":[{\"__ndarray__\":\"pyXzG2jhU8A=\",\"dtype\":\"float64\",\"order\":\"little\",\"shape\":[1]}],\"marker.size\":[{\"__ndarray__\":\"AAAAAE7XD0E=\",\"dtype\":\"float64\",\"order\":\"little\",\"shape\":[1]}]},\"selected\":{\"id\":\"54651\"},\"selection_policy\":{\"id\":\"54650\"}},\"id\":\"54480\",\"type\":\"ColumnDataSource\"},{\"attributes\":{},\"id\":\"54856\",\"type\":\"UnionRenderers\"},{\"attributes\":{},\"id\":\"54882\",\"type\":\"UnionRenderers\"},{\"attributes\":{},\"id\":\"54694\",\"type\":\"UnionRenderers\"},{\"attributes\":{},\"id\":\"54691\",\"type\":\"Selection\"},{\"attributes\":{\"overlay\":{\"id\":\"53986\"}},\"id\":\"53984\",\"type\":\"BoxZoomTool\"},{\"attributes\":{},\"id\":\"54672\",\"type\":\"UnionRenderers\"},{\"attributes\":{\"coordinates\":null,\"data_source\":{\"id\":\"54065\"},\"glyph\":{\"id\":\"54068\"},\"group\":null,\"hover_glyph\":null,\"muted_glyph\":{\"id\":\"54070\"},\"nonselection_glyph\":{\"id\":\"54069\"},\"selection_glyph\":{\"id\":\"54073\"},\"view\":{\"id\":\"54072\"}},\"id\":\"54071\",\"type\":\"GlyphRenderer\"},{\"attributes\":{\"data\":{\"lat\":[{\"__ndarray__\":\"wReJfUDYRUA=\",\"dtype\":\"float64\",\"order\":\"little\",\"shape\":[1]}],\"lon\":[{\"__ndarray__\":\"kbiFtjXVU8A=\",\"dtype\":\"float64\",\"order\":\"little\",\"shape\":[1]}],\"marker.size\":[{\"__ndarray__\":\"AAAAAL28GUE=\",\"dtype\":\"float64\",\"order\":\"little\",\"shape\":[1]}]},\"selected\":{\"id\":\"54683\"},\"selection_policy\":{\"id\":\"54682\"}},\"id\":\"54496\",\"type\":\"ColumnDataSource\"},{\"attributes\":{},\"id\":\"54696\",\"type\":\"UnionRenderers\"},{\"attributes\":{},\"id\":\"54874\",\"type\":\"UnionRenderers\"},{\"attributes\":{\"data\":{\"lat\":[{\"__ndarray__\":\"OpzQVuvYRUA=\",\"dtype\":\"float64\",\"order\":\"little\",\"shape\":[1]}],\"lon\":[{\"__ndarray__\":\"kB3pRvfQU8A=\",\"dtype\":\"float64\",\"order\":\"little\",\"shape\":[1]}],\"marker.size\":[{\"__ndarray__\":\"AAAAAAyxGkE=\",\"dtype\":\"float64\",\"order\":\"little\",\"shape\":[1]}]},\"selected\":{\"id\":\"54649\"},\"selection_policy\":{\"id\":\"54648\"}},\"id\":\"54479\",\"type\":\"ColumnDataSource\"},{\"attributes\":{},\"id\":\"54885\",\"type\":\"Selection\"},{\"attributes\":{\"data\":{\"lat\":[{\"__ndarray__\":\"ZQU71YzWRUA=\",\"dtype\":\"float64\",\"order\":\"little\",\"shape\":[1]}],\"lon\":[{\"__ndarray__\":\"tYC33ZfVU8A=\",\"dtype\":\"float64\",\"order\":\"little\",\"shape\":[1]}],\"marker.size\":[{\"__ndarray__\":\"AAAAADQ3H0E=\",\"dtype\":\"float64\",\"order\":\"little\",\"shape\":[1]}]},\"selected\":{\"id\":\"54653\"},\"selection_policy\":{\"id\":\"54652\"}},\"id\":\"54481\",\"type\":\"ColumnDataSource\"},{\"attributes\":{},\"id\":\"54690\",\"type\":\"UnionRenderers\"},{\"attributes\":{},\"id\":\"54872\",\"type\":\"UnionRenderers\"},{\"attributes\":{},\"id\":\"54858\",\"type\":\"UnionRenderers\"},{\"attributes\":{},\"id\":\"54883\",\"type\":\"Selection\"},{\"attributes\":{},\"id\":\"54338\",\"type\":\"SaveTool\"},{\"attributes\":{},\"id\":\"54633\",\"type\":\"Selection\"},{\"attributes\":{\"margin\":[5,5,5,5],\"name\":\"VSpacer33705\",\"sizing_mode\":\"stretch_height\"},\"id\":\"54396\",\"type\":\"Spacer\"},{\"attributes\":{\"data\":{\"lat\":[{\"__ndarray__\":\"ETfprlPhRUA=\",\"dtype\":\"float64\",\"order\":\"little\",\"shape\":[1]}],\"lon\":[{\"__ndarray__\":\"NshmP3nQU8A=\",\"dtype\":\"float64\",\"order\":\"little\",\"shape\":[1]}],\"marker.size\":[{\"__ndarray__\":\"AAAAAA1hEkE=\",\"dtype\":\"float64\",\"order\":\"little\",\"shape\":[1]}]},\"selected\":{\"id\":\"54647\"},\"selection_policy\":{\"id\":\"54646\"}},\"id\":\"54478\",\"type\":\"ColumnDataSource\"},{\"attributes\":{},\"id\":\"54855\",\"type\":\"Selection\"},{\"attributes\":{\"data\":{\"lat\":[{\"__ndarray__\":\"6srKo9nfRUA=\",\"dtype\":\"float64\",\"order\":\"little\",\"shape\":[1]}],\"lon\":[{\"__ndarray__\":\"O0pvyXvMU8A=\",\"dtype\":\"float64\",\"order\":\"little\",\"shape\":[1]}],\"marker.size\":[{\"__ndarray__\":\"AAAAAHaLFkE=\",\"dtype\":\"float64\",\"order\":\"little\",\"shape\":[1]}]},\"selected\":{\"id\":\"54719\"},\"selection_policy\":{\"id\":\"54718\"}},\"id\":\"54514\",\"type\":\"ColumnDataSource\"},{\"attributes\":{\"data\":{\"lat\":[{\"__ndarray__\":\"JLJRzn7YRUA=\",\"dtype\":\"float64\",\"order\":\"little\",\"shape\":[1]}],\"lon\":[{\"__ndarray__\":\"zFL8KV/bU8A=\",\"dtype\":\"float64\",\"order\":\"little\",\"shape\":[1]}],\"marker.size\":[{\"__ndarray__\":\"AAAAAPtFJUE=\",\"dtype\":\"float64\",\"order\":\"little\",\"shape\":[1]}]},\"selected\":{\"id\":\"54737\"},\"selection_policy\":{\"id\":\"54736\"}},\"id\":\"54523\",\"type\":\"ColumnDataSource\"},{\"attributes\":{},\"id\":\"54659\",\"type\":\"Selection\"},{\"attributes\":{},\"id\":\"54144\",\"type\":\"BasicTickFormatter\"},{\"attributes\":{},\"id\":\"54796\",\"type\":\"UnionRenderers\"},{\"attributes\":{},\"id\":\"53871\",\"type\":\"BasicTickFormatter\"},{\"attributes\":{},\"id\":\"54698\",\"type\":\"UnionRenderers\"},{\"attributes\":{},\"id\":\"54668\",\"type\":\"UnionRenderers\"},{\"attributes\":{},\"id\":\"54797\",\"type\":\"Selection\"},{\"attributes\":{\"overlay\":{\"id\":\"54126\"}},\"id\":\"54124\",\"type\":\"BoxZoomTool\"},{\"attributes\":{\"data\":{\"lat\":[{\"__ndarray__\":\"PblDFivURUA=\",\"dtype\":\"float64\",\"order\":\"little\",\"shape\":[1]}],\"lon\":[{\"__ndarray__\":\"DI0O5dfdU8A=\",\"dtype\":\"float64\",\"order\":\"little\",\"shape\":[1]}],\"marker.size\":[{\"__ndarray__\":\"AAAAACJAIEE=\",\"dtype\":\"float64\",\"order\":\"little\",\"shape\":[1]}]},\"selected\":{\"id\":\"54723\"},\"selection_policy\":{\"id\":\"54722\"}},\"id\":\"54516\",\"type\":\"ColumnDataSource\"},{\"attributes\":{},\"id\":\"54214\",\"type\":\"AllLabels\"},{\"attributes\":{\"data\":{\"lat\":[{\"__ndarray__\":\"IysBKRjWRUA=\",\"dtype\":\"float64\",\"order\":\"little\",\"shape\":[1]}],\"lon\":[{\"__ndarray__\":\"01leoMHUU8A=\",\"dtype\":\"float64\",\"order\":\"little\",\"shape\":[1]}],\"marker.size\":[{\"__ndarray__\":\"AAAAAL6fF0E=\",\"dtype\":\"float64\",\"order\":\"little\",\"shape\":[1]}]},\"selected\":{\"id\":\"54717\"},\"selection_policy\":{\"id\":\"54716\"}},\"id\":\"54513\",\"type\":\"ColumnDataSource\"},{\"attributes\":{\"data\":{\"lat\":[{\"__ndarray__\":\"PX0E/nDfRUA=\",\"dtype\":\"float64\",\"order\":\"little\",\"shape\":[1]}],\"lon\":[{\"__ndarray__\":\"7kGlndzgU8A=\",\"dtype\":\"float64\",\"order\":\"little\",\"shape\":[1]}],\"marker.size\":[{\"__ndarray__\":\"AAAAALf+E0E=\",\"dtype\":\"float64\",\"order\":\"little\",\"shape\":[1]}]},\"selected\":{\"id\":\"54715\"},\"selection_policy\":{\"id\":\"54714\"}},\"id\":\"54512\",\"type\":\"ColumnDataSource\"},{\"attributes\":{\"overlay\":{\"id\":\"54195\"}},\"id\":\"54193\",\"type\":\"BoxZoomTool\"},{\"attributes\":{},\"id\":\"54148\",\"type\":\"AllLabels\"},{\"attributes\":{\"css_classes\":[\"markdown\"],\"margin\":[5,5,5,5],\"name\":\"Markdown33712\",\"text\":\"&lt;h2&gt;Average for each year&lt;/h2&gt;\"},\"id\":\"54464\",\"type\":\"panel.models.markup.HTML\"},{\"attributes\":{\"data\":{\"lat\":[{\"__ndarray__\":\"7URJSCThRUA=\",\"dtype\":\"float64\",\"order\":\"little\",\"shape\":[1]}],\"lon\":[{\"__ndarray__\":\"U8rvXZjjU8A=\",\"dtype\":\"float64\",\"order\":\"little\",\"shape\":[1]}],\"marker.size\":[{\"__ndarray__\":\"AAAAAEp9FUE=\",\"dtype\":\"float64\",\"order\":\"little\",\"shape\":[1]}]},\"selected\":{\"id\":\"54733\"},\"selection_policy\":{\"id\":\"54732\"}},\"id\":\"54521\",\"type\":\"ColumnDataSource\"},{\"attributes\":{\"data\":{\"lat\":[{\"__ndarray__\":\"96PRsijfRUA=\",\"dtype\":\"float64\",\"order\":\"little\",\"shape\":[1]}],\"lon\":[{\"__ndarray__\":\"2LSUJLbiU8A=\",\"dtype\":\"float64\",\"order\":\"little\",\"shape\":[1]}],\"marker.size\":[{\"__ndarray__\":\"AAAAAJ+EE0E=\",\"dtype\":\"float64\",\"order\":\"little\",\"shape\":[1]}]},\"selected\":{\"id\":\"54735\"},\"selection_policy\":{\"id\":\"54734\"}},\"id\":\"54522\",\"type\":\"ColumnDataSource\"},{\"attributes\":{},\"id\":\"54118\",\"type\":\"BasicTicker\"},{\"attributes\":{},\"id\":\"54066\",\"type\":\"Selection\"},{\"attributes\":{\"data\":{\"lat\":[{\"__ndarray__\":\"BCaqlnjZRUA=\",\"dtype\":\"float64\",\"order\":\"little\",\"shape\":[1]}],\"lon\":[{\"__ndarray__\":\"NshFMRDjU8A=\",\"dtype\":\"float64\",\"order\":\"little\",\"shape\":[1]}],\"marker.size\":[{\"__ndarray__\":\"AAAAAKOmFEE=\",\"dtype\":\"float64\",\"order\":\"little\",\"shape\":[1]}]},\"selected\":{\"id\":\"54751\"},\"selection_policy\":{\"id\":\"54750\"}},\"id\":\"54530\",\"type\":\"ColumnDataSource\"},{\"attributes\":{\"bottom_units\":\"screen\",\"coordinates\":null,\"fill_alpha\":0.5,\"fill_color\":\"lightgrey\",\"group\":null,\"left_units\":\"screen\",\"level\":\"overlay\",\"line_alpha\":1.0,\"line_color\":\"black\",\"line_dash\":[4,4],\"line_width\":2,\"right_units\":\"screen\",\"syncable\":false,\"top_units\":\"screen\"},\"id\":\"54126\",\"type\":\"BoxAnnotation\"},{\"attributes\":{},\"id\":\"54657\",\"type\":\"Selection\"},{\"attributes\":{},\"id\":\"54122\",\"type\":\"PanTool\"},{\"attributes\":{},\"id\":\"54859\",\"type\":\"Selection\"},{\"attributes\":{\"coordinates\":null,\"data_source\":{\"id\":\"54134\"},\"glyph\":{\"id\":\"54137\"},\"group\":null,\"hover_glyph\":null,\"muted_glyph\":{\"id\":\"54139\"},\"nonselection_glyph\":{\"id\":\"54138\"},\"selection_glyph\":{\"id\":\"54142\"},\"view\":{\"id\":\"54141\"}},\"id\":\"54140\",\"type\":\"GlyphRenderer\"},{\"attributes\":{},\"id\":\"54697\",\"type\":\"Selection\"},{\"attributes\":{\"axis_label\":\"2016\",\"coordinates\":null,\"formatter\":{\"id\":\"54004\"},\"group\":null,\"major_label_orientation\":1.5707963267948966,\"major_label_policy\":{\"id\":\"54005\"},\"ticker\":{\"id\":\"53975\"}},\"id\":\"53974\",\"type\":\"CategoricalAxis\"},{\"attributes\":{},\"id\":\"54667\",\"type\":\"Selection\"},{\"attributes\":{\"line_color\":\"#30a2da\",\"line_width\":2,\"x\":{\"field\":\"year\"},\"y\":{\"field\":\"average_house_value\"}},\"id\":\"54211\",\"type\":\"Line\"},{\"attributes\":{},\"id\":\"54709\",\"type\":\"Selection\"},{\"attributes\":{\"data\":{\"lat\":[{\"__ndarray__\":\"BEJnqafTRUA=\",\"dtype\":\"float64\",\"order\":\"little\",\"shape\":[1]}],\"lon\":[{\"__ndarray__\":\"FlHRYGzZU8A=\",\"dtype\":\"float64\",\"order\":\"little\",\"shape\":[1]}],\"marker.size\":[{\"__ndarray__\":\"AAAAAJfiGkE=\",\"dtype\":\"float64\",\"order\":\"little\",\"shape\":[1]}]},\"selected\":{\"id\":\"54749\"},\"selection_policy\":{\"id\":\"54748\"}},\"id\":\"54529\",\"type\":\"ColumnDataSource\"},{\"attributes\":{},\"id\":\"54183\",\"type\":\"BasicTicker\"},{\"attributes\":{},\"id\":\"54656\",\"type\":\"UnionRenderers\"},{\"attributes\":{},\"id\":\"54121\",\"type\":\"SaveTool\"},{\"attributes\":{},\"id\":\"54250\",\"type\":\"LinearScale\"},{\"attributes\":{},\"id\":\"54861\",\"type\":\"Selection\"},{\"attributes\":{\"line_alpha\":0.2,\"line_color\":\"orange\",\"line_width\":2,\"x\":{\"field\":\"year\"},\"y\":{\"field\":\"shelter_costs_rented\"}},\"id\":\"54139\",\"type\":\"Line\"},{\"attributes\":{\"data\":{\"lat\":[{\"__ndarray__\":\"ctOPGzjlRUA=\",\"dtype\":\"float64\",\"order\":\"little\",\"shape\":[1]}],\"lon\":[{\"__ndarray__\":\"yKV9tVvLU8A=\",\"dtype\":\"float64\",\"order\":\"little\",\"shape\":[1]}],\"marker.size\":[{\"__ndarray__\":\"AAAAAJosGkE=\",\"dtype\":\"float64\",\"order\":\"little\",\"shape\":[1]}]},\"selected\":{\"id\":\"54727\"},\"selection_policy\":{\"id\":\"54726\"}},\"id\":\"54518\",\"type\":\"ColumnDataSource\"},{\"attributes\":{\"source\":{\"id\":\"54203\"}},\"id\":\"54210\",\"type\":\"CDSView\"},{\"attributes\":{\"line_alpha\":0.1,\"line_color\":\"orange\",\"line_width\":2,\"x\":{\"field\":\"year\"},\"y\":{\"field\":\"shelter_costs_rented\"}},\"id\":\"54138\",\"type\":\"Line\"},{\"attributes\":{},\"id\":\"54660\",\"type\":\"UnionRenderers\"},{\"attributes\":{},\"id\":\"54707\",\"type\":\"Selection\"},{\"attributes\":{},\"id\":\"54187\",\"type\":\"BasicTicker\"},{\"attributes\":{\"coordinates\":null,\"group\":null,\"text\":\"Average Monthly Shelter Cost for Rented Dwellings in Toronto\",\"text_color\":\"black\",\"text_font_size\":\"12pt\"},\"id\":\"54105\",\"type\":\"Title\"},{\"attributes\":{\"tools\":[{\"id\":\"54172\"},{\"id\":\"54190\"},{\"id\":\"54191\"},{\"id\":\"54192\"},{\"id\":\"54193\"},{\"id\":\"54194\"}]},\"id\":\"54196\",\"type\":\"Toolbar\"},{\"attributes\":{},\"id\":\"54712\",\"type\":\"UnionRenderers\"},{\"attributes\":{},\"id\":\"54860\",\"type\":\"UnionRenderers\"},{\"attributes\":{},\"id\":\"54180\",\"type\":\"LinearScale\"},{\"attributes\":{},\"id\":\"54658\",\"type\":\"UnionRenderers\"},{\"attributes\":{\"tools\":[{\"id\":\"54103\"},{\"id\":\"54121\"},{\"id\":\"54122\"},{\"id\":\"54123\"},{\"id\":\"54124\"},{\"id\":\"54125\"}]},\"id\":\"54127\",\"type\":\"Toolbar\"},{\"attributes\":{},\"id\":\"54669\",\"type\":\"Selection\"},{\"attributes\":{},\"id\":\"54701\",\"type\":\"Selection\"},{\"attributes\":{},\"id\":\"54109\",\"type\":\"LinearScale\"},{\"attributes\":{\"axis\":{\"id\":\"54186\"},\"coordinates\":null,\"dimension\":1,\"grid_line_color\":null,\"group\":null,\"ticker\":null},\"id\":\"54189\",\"type\":\"Grid\"},{\"attributes\":{\"data\":{\"lat\":[{\"__ndarray__\":\"OXTleZHSRUA=\",\"dtype\":\"float64\",\"order\":\"little\",\"shape\":[1]}],\"lon\":[{\"__ndarray__\":\"2OZSnvHdU8A=\",\"dtype\":\"float64\",\"order\":\"little\",\"shape\":[1]}],\"marker.size\":[{\"__ndarray__\":\"AAAAgIPKIUE=\",\"dtype\":\"float64\",\"order\":\"little\",\"shape\":[1]}]},\"selected\":{\"id\":\"54725\"},\"selection_policy\":{\"id\":\"54724\"}},\"id\":\"54517\",\"type\":\"ColumnDataSource\"},{\"attributes\":{},\"id\":\"54145\",\"type\":\"AllLabels\"},{\"attributes\":{\"line_alpha\":0.2,\"line_color\":\"#30a2da\",\"line_width\":2,\"x\":{\"field\":\"year\"},\"y\":{\"field\":\"average_house_value\"}},\"id\":\"54208\",\"type\":\"Line\"},{\"attributes\":{},\"id\":\"54125\",\"type\":\"ResetTool\"},{\"attributes\":{},\"id\":\"54661\",\"type\":\"Selection\"},{\"attributes\":{\"margin\":[0,0,0,0],\"tabs\":[{\"id\":\"54100\"},{\"id\":\"54169\"}]},\"id\":\"54031\",\"type\":\"Tabs\"},{\"attributes\":{},\"id\":\"54665\",\"type\":\"Selection\"},{\"attributes\":{\"line_color\":\"orange\",\"line_width\":2,\"x\":{\"field\":\"year\"},\"y\":{\"field\":\"shelter_costs_rented\"}},\"id\":\"54142\",\"type\":\"Line\"},{\"attributes\":{\"coordinates\":null,\"group\":null,\"text\":\"Average House Value in Toronto\",\"text_color\":\"black\",\"text_font_size\":\"12pt\"},\"id\":\"54174\",\"type\":\"Title\"},{\"attributes\":{},\"id\":\"54663\",\"type\":\"Selection\"},{\"attributes\":{\"data\":{\"lat\":[{\"__ndarray__\":\"0svFayDeRUA=\",\"dtype\":\"float64\",\"order\":\"little\",\"shape\":[1]}],\"lon\":[{\"__ndarray__\":\"NesQKHDRU8A=\",\"dtype\":\"float64\",\"order\":\"little\",\"shape\":[1]}],\"marker.size\":[{\"__ndarray__\":\"AAAAABePEUE=\",\"dtype\":\"float64\",\"order\":\"little\",\"shape\":[1]}]},\"selected\":{\"id\":\"54739\"},\"selection_policy\":{\"id\":\"54738\"}},\"id\":\"54524\",\"type\":\"ColumnDataSource\"},{\"attributes\":{},\"id\":\"54862\",\"type\":\"UnionRenderers\"},{\"attributes\":{\"axis\":{\"id\":\"54182\"},\"coordinates\":null,\"grid_line_color\":null,\"group\":null,\"ticker\":null},\"id\":\"54185\",\"type\":\"Grid\"},{\"attributes\":{\"data\":{\"lat\":[{\"__ndarray__\":\"z3ciTsjmRUA=\",\"dtype\":\"float64\",\"order\":\"little\",\"shape\":[1]}],\"lon\":[{\"__ndarray__\":\"XB/WG7XWU8A=\",\"dtype\":\"float64\",\"order\":\"little\",\"shape\":[1]}],\"marker.size\":[{\"__ndarray__\":\"AAAAADwcGEE=\",\"dtype\":\"float64\",\"order\":\"little\",\"shape\":[1]}]},\"selected\":{\"id\":\"54729\"},\"selection_policy\":{\"id\":\"54728\"}},\"id\":\"54519\",\"type\":\"ColumnDataSource\"},{\"attributes\":{},\"id\":\"53975\",\"type\":\"CategoricalTicker\"},{\"attributes\":{},\"id\":\"54699\",\"type\":\"Selection\"},{\"attributes\":{\"axis_label\":\"\",\"coordinates\":null,\"formatter\":{\"id\":\"54216\"},\"group\":null,\"major_label_policy\":{\"id\":\"54217\"},\"ticker\":{\"id\":\"54187\"}},\"id\":\"54186\",\"type\":\"LinearAxis\"},{\"attributes\":{},\"id\":\"54662\",\"type\":\"UnionRenderers\"},{\"attributes\":{\"data\":{\"lat\":[{\"__ndarray__\":\"smmEAt/cRUA=\",\"dtype\":\"float64\",\"order\":\"little\",\"shape\":[1]}],\"lon\":[{\"__ndarray__\":\"QRolGqrQU8A=\",\"dtype\":\"float64\",\"order\":\"little\",\"shape\":[1]}],\"marker.size\":[{\"__ndarray__\":\"AAAAAAaIEUE=\",\"dtype\":\"float64\",\"order\":\"little\",\"shape\":[1]}]},\"selected\":{\"id\":\"54747\"},\"selection_policy\":{\"id\":\"54746\"}},\"id\":\"54528\",\"type\":\"ColumnDataSource\"},{\"attributes\":{\"bottom_units\":\"screen\",\"coordinates\":null,\"fill_alpha\":0.5,\"fill_color\":\"lightgrey\",\"group\":null,\"left_units\":\"screen\",\"level\":\"overlay\",\"line_alpha\":1.0,\"line_color\":\"black\",\"line_dash\":[4,4],\"line_width\":2,\"right_units\":\"screen\",\"syncable\":false,\"top_units\":\"screen\"},\"id\":\"54195\",\"type\":\"BoxAnnotation\"},{\"attributes\":{\"source\":{\"id\":\"54134\"}},\"id\":\"54141\",\"type\":\"CDSView\"},{\"attributes\":{\"axis_label\":\"year\",\"coordinates\":null,\"formatter\":{\"id\":\"54213\"},\"group\":null,\"major_label_policy\":{\"id\":\"54214\"},\"ticker\":{\"id\":\"54183\"}},\"id\":\"54182\",\"type\":\"LinearAxis\"},{\"attributes\":{\"data\":{\"lat\":[{\"__ndarray__\":\"+JuaFZvYRUA=\",\"dtype\":\"float64\",\"order\":\"little\",\"shape\":[1]}],\"lon\":[{\"__ndarray__\":\"o3lbRG/hU8A=\",\"dtype\":\"float64\",\"order\":\"little\",\"shape\":[1]}],\"marker.size\":[{\"__ndarray__\":\"AAAAAPppG0E=\",\"dtype\":\"float64\",\"order\":\"little\",\"shape\":[1]}]},\"selected\":{\"id\":\"54731\"},\"selection_policy\":{\"id\":\"54730\"}},\"id\":\"54520\",\"type\":\"ColumnDataSource\"},{\"attributes\":{},\"id\":\"54704\",\"type\":\"UnionRenderers\"},{\"attributes\":{},\"id\":\"54123\",\"type\":\"WheelZoomTool\"},{\"attributes\":{\"child\":{\"id\":\"54104\"},\"name\":\"Rented Dwellings\",\"title\":\"Rented Dwellings\"},\"id\":\"54169\",\"type\":\"Panel\"},{\"attributes\":{\"data\":{\"lat\":[{\"__ndarray__\":\"0r13aX3VRUA=\",\"dtype\":\"float64\",\"order\":\"little\",\"shape\":[1]}],\"lon\":[{\"__ndarray__\":\"jeshEizeU8A=\",\"dtype\":\"float64\",\"order\":\"little\",\"shape\":[1]}],\"marker.size\":[{\"__ndarray__\":\"AAAAANVxGkE=\",\"dtype\":\"float64\",\"order\":\"little\",\"shape\":[1]}]},\"selected\":{\"id\":\"54743\"},\"selection_policy\":{\"id\":\"54742\"}},\"id\":\"54526\",\"type\":\"ColumnDataSource\"},{\"attributes\":{},\"id\":\"54191\",\"type\":\"PanTool\"},{\"attributes\":{},\"id\":\"54666\",\"type\":\"UnionRenderers\"},{\"attributes\":{},\"id\":\"54194\",\"type\":\"ResetTool\"},{\"attributes\":{},\"id\":\"54664\",\"type\":\"UnionRenderers\"},{\"attributes\":{},\"id\":\"54702\",\"type\":\"UnionRenderers\"},{\"attributes\":{\"data\":{\"lat\":[{\"__ndarray__\":\"eLu5UxXRRUA=\",\"dtype\":\"float64\",\"order\":\"little\",\"shape\":[1]}],\"lon\":[{\"__ndarray__\":\"Qqu8ssXiU8A=\",\"dtype\":\"float64\",\"order\":\"little\",\"shape\":[1]}],\"marker.size\":[{\"__ndarray__\":\"AAAAAJWRG0E=\",\"dtype\":\"float64\",\"order\":\"little\",\"shape\":[1]}]},\"selected\":{\"id\":\"54741\"},\"selection_policy\":{\"id\":\"54740\"}},\"id\":\"54525\",\"type\":\"ColumnDataSource\"},{\"attributes\":{\"axis_label\":\"shelter_costs_rented\",\"coordinates\":null,\"formatter\":{\"id\":\"54147\"},\"group\":null,\"major_label_policy\":{\"id\":\"54148\"},\"ticker\":{\"id\":\"54118\"}},\"id\":\"54117\",\"type\":\"LinearAxis\"},{\"attributes\":{},\"id\":\"54703\",\"type\":\"Selection\"},{\"attributes\":{\"axis_label\":\"year\",\"coordinates\":null,\"formatter\":{\"id\":\"54144\"},\"group\":null,\"major_label_policy\":{\"id\":\"54145\"},\"ticker\":{\"id\":\"54114\"}},\"id\":\"54113\",\"type\":\"LinearAxis\"},{\"attributes\":{},\"id\":\"54190\",\"type\":\"SaveTool\"},{\"attributes\":{},\"id\":\"54706\",\"type\":\"UnionRenderers\"},{\"attributes\":{\"line_alpha\":0.1,\"line_color\":\"#30a2da\",\"line_width\":2,\"x\":{\"field\":\"year\"},\"y\":{\"field\":\"average_house_value\"}},\"id\":\"54207\",\"type\":\"Line\"},{\"attributes\":{},\"id\":\"54700\",\"type\":\"UnionRenderers\"},{\"attributes\":{},\"id\":\"53914\",\"type\":\"PanTool\"},{\"attributes\":{\"coordinates\":null,\"data_source\":{\"id\":\"54203\"},\"glyph\":{\"id\":\"54206\"},\"group\":null,\"hover_glyph\":null,\"muted_glyph\":{\"id\":\"54208\"},\"nonselection_glyph\":{\"id\":\"54207\"},\"selection_glyph\":{\"id\":\"54211\"},\"view\":{\"id\":\"54210\"}},\"id\":\"54209\",\"type\":\"GlyphRenderer\"},{\"attributes\":{},\"id\":\"54710\",\"type\":\"UnionRenderers\"},{\"attributes\":{},\"id\":\"54711\",\"type\":\"Selection\"},{\"attributes\":{\"axis\":{\"id\":\"54113\"},\"coordinates\":null,\"grid_line_color\":null,\"group\":null,\"ticker\":null},\"id\":\"54116\",\"type\":\"Grid\"},{\"attributes\":{\"data\":{\"lat\":[{\"__ndarray__\":\"qebm2bTiRUA=\",\"dtype\":\"float64\",\"order\":\"little\",\"shape\":[1]}],\"lon\":[{\"__ndarray__\":\"xW0b49bVU8A=\",\"dtype\":\"float64\",\"order\":\"little\",\"shape\":[1]}],\"marker.size\":[{\"__ndarray__\":\"AAAAAJiUFkE=\",\"dtype\":\"float64\",\"order\":\"little\",\"shape\":[1]}]},\"selected\":{\"id\":\"54721\"},\"selection_policy\":{\"id\":\"54720\"}},\"id\":\"54515\",\"type\":\"ColumnDataSource\"},{\"attributes\":{\"data\":{\"lat\":[{\"__ndarray__\":\"Ns/w6sXXRUA=\",\"dtype\":\"float64\",\"order\":\"little\",\"shape\":[1]}],\"lon\":[{\"__ndarray__\":\"h2SOBizeU8A=\",\"dtype\":\"float64\",\"order\":\"little\",\"shape\":[1]}],\"marker.size\":[{\"__ndarray__\":\"AAAAAFuzE0E=\",\"dtype\":\"float64\",\"order\":\"little\",\"shape\":[1]}]},\"selected\":{\"id\":\"54745\"},\"selection_policy\":{\"id\":\"54744\"}},\"id\":\"54527\",\"type\":\"ColumnDataSource\"},{\"attributes\":{},\"id\":\"54192\",\"type\":\"WheelZoomTool\"},{\"attributes\":{},\"id\":\"54713\",\"type\":\"Selection\"},{\"attributes\":{},\"id\":\"54708\",\"type\":\"UnionRenderers\"},{\"attributes\":{},\"id\":\"54705\",\"type\":\"Selection\"},{\"attributes\":{},\"id\":\"54798\",\"type\":\"UnionRenderers\"},{\"attributes\":{},\"id\":\"54111\",\"type\":\"LinearScale\"},{\"attributes\":{},\"id\":\"54178\",\"type\":\"LinearScale\"},{\"attributes\":{},\"id\":\"54114\",\"type\":\"BasicTicker\"},{\"attributes\":{\"data\":{\"lat\":[{\"__ndarray__\":\"Fg+1jqbTRUA=\",\"dtype\":\"float64\",\"order\":\"little\",\"shape\":[1]}],\"lon\":[{\"__ndarray__\":\"KoZQSq3gU8A=\",\"dtype\":\"float64\",\"order\":\"little\",\"shape\":[1]}],\"marker.size\":[{\"__ndarray__\":\"AAAAgMS7KUE=\",\"dtype\":\"float64\",\"order\":\"little\",\"shape\":[1]}]},\"selected\":{\"id\":\"54753\"},\"selection_policy\":{\"id\":\"54752\"}},\"id\":\"54531\",\"type\":\"ColumnDataSource\"},{\"attributes\":{},\"id\":\"54213\",\"type\":\"BasicTickFormatter\"},{\"attributes\":{\"axis\":{\"id\":\"54117\"},\"coordinates\":null,\"dimension\":1,\"grid_line_color\":null,\"group\":null,\"ticker\":null},\"id\":\"54120\",\"type\":\"Grid\"},{\"attributes\":{\"fill_alpha\":{\"value\":0.2},\"fill_color\":{\"value\":\"green\"},\"hatch_alpha\":{\"value\":0.2},\"hatch_color\":{\"value\":\"green\"},\"line_alpha\":{\"value\":0.2},\"top\":{\"field\":\"average_house_value\"},\"width\":{\"value\":0.8},\"x\":{\"field\":\"neighbourhood\"}},\"id\":\"54434\",\"type\":\"VBar\"},{\"attributes\":{},\"id\":\"54650\",\"type\":\"UnionRenderers\"},{\"attributes\":{\"axis_label\":\"2011\",\"coordinates\":null,\"formatter\":{\"id\":\"53936\"},\"group\":null,\"major_label_orientation\":1.5707963267948966,\"major_label_policy\":{\"id\":\"53937\"},\"ticker\":{\"id\":\"53907\"}},\"id\":\"53906\",\"type\":\"CategoricalAxis\"},{\"attributes\":{\"children\":[{\"id\":\"53751\"},{\"id\":\"53754\"},{\"id\":\"53756\"},{\"id\":\"53757\"},{\"id\":\"54030\"},{\"id\":\"54031\"},{\"id\":\"54173\"},{\"id\":\"54238\"},{\"id\":\"54239\"},{\"id\":\"54318\"},{\"id\":\"54400\"},{\"id\":\"54464\"},{\"id\":\"54465\"},{\"id\":\"54466\"},{\"id\":\"54607\"}],\"margin\":[0,0,0,0],\"name\":\"Column33720\"},\"id\":\"53750\",\"type\":\"Column\"},{\"attributes\":{},\"id\":\"54416\",\"type\":\"SaveTool\"},{\"attributes\":{},\"id\":\"54042\",\"type\":\"LinearScale\"},{\"attributes\":{\"fill_alpha\":{\"value\":0.1},\"fill_color\":{\"value\":\"red\"},\"hatch_alpha\":{\"value\":0.1},\"hatch_color\":{\"value\":\"red\"},\"line_alpha\":{\"value\":0.1},\"top\":{\"field\":\"A_2001\"},\"width\":{\"value\":0.8},\"x\":{\"field\":\"index\"}},\"id\":\"53794\",\"type\":\"VBar\"},{\"attributes\":{},\"id\":\"54407\",\"type\":\"LinearScale\"},{\"attributes\":{\"data\":{\"lat\":[{\"__ndarray__\":\"LlVpi2veRUA=\",\"dtype\":\"float64\",\"order\":\"little\",\"shape\":[1]}],\"lon\":[{\"__ndarray__\":\"FbuFx2HWU8A=\",\"dtype\":\"float64\",\"order\":\"little\",\"shape\":[1]}],\"marker.size\":[{\"__ndarray__\":\"AAAAAI6tIkE=\",\"dtype\":\"float64\",\"order\":\"little\",\"shape\":[1]}]},\"selected\":{\"id\":\"54633\"},\"selection_policy\":{\"id\":\"54632\"}},\"id\":\"54471\",\"type\":\"ColumnDataSource\"},{\"attributes\":{\"callback\":null,\"renderers\":[{\"id\":\"54358\"}],\"tags\":[\"hv_created\"],\"tooltips\":[[\"year\",\"@{year}\"],[\"Variable\",\"@{Variable}\"],[\"value\",\"@{value}\"]]},\"id\":\"54321\",\"type\":\"HoverTool\"},{\"attributes\":{\"line_color\":\"green\",\"line_width\":2,\"x\":{\"field\":\"year\"},\"y\":{\"field\":\"shelter_costs_owned\"}},\"id\":\"54073\",\"type\":\"Line\"},{\"attributes\":{},\"id\":\"54335\",\"type\":\"BasicTicker\"},{\"attributes\":{\"css_classes\":[\"markdown\"],\"margin\":[5,5,5,5],\"name\":\"Markdown33680\",\"text\":\"&lt;h2&gt;Average Monthly Shelter Cost for Owned Dwellings in Toronto&lt;/h2&gt;\"},\"id\":\"54030\",\"type\":\"panel.models.markup.HTML\"},{\"attributes\":{\"axis\":{\"id\":\"54331\"},\"coordinates\":null,\"grid_line_color\":null,\"group\":null,\"ticker\":null},\"id\":\"54333\",\"type\":\"Grid\"},{\"attributes\":{\"bottom\":{\"value\":0},\"fill_alpha\":{\"value\":1.0},\"fill_color\":{\"value\":\"green\"},\"hatch_alpha\":{\"value\":1.0},\"hatch_color\":{\"value\":\"green\"},\"hatch_scale\":{\"value\":12.0},\"hatch_weight\":{\"value\":1.0},\"line_alpha\":{\"value\":1.0},\"line_cap\":{\"value\":\"butt\"},\"line_color\":{\"value\":\"black\"},\"line_dash\":{\"value\":[]},\"line_dash_offset\":{\"value\":0},\"line_join\":{\"value\":\"bevel\"},\"line_width\":{\"value\":1},\"top\":{\"field\":\"average_house_value\"},\"width\":{\"value\":0.8},\"x\":{\"field\":\"neighbourhood\"}},\"id\":\"54437\",\"type\":\"VBar\"},{\"attributes\":{},\"id\":\"53915\",\"type\":\"WheelZoomTool\"},{\"attributes\":{},\"id\":\"53948\",\"type\":\"UnionRenderers\"},{\"attributes\":{\"end\":1597812.3,\"reset_end\":701486.8728571428,\"reset_start\":252464.34142857144,\"start\":0.0,\"tags\":[[[\"average_house_value\",\"average_house_value\",null]]]},\"id\":\"54171\",\"type\":\"Range1d\"},{\"attributes\":{\"axis_label\":\"number of dwelling types\",\"coordinates\":null,\"formatter\":{\"id\":\"54365\"},\"group\":null,\"major_label_policy\":{\"id\":\"54366\"},\"ticker\":{\"id\":\"54335\"}},\"id\":\"54334\",\"type\":\"LinearAxis\"},{\"attributes\":{},\"id\":\"53907\",\"type\":\"CategoricalTicker\"},{\"attributes\":{\"coordinates\":null,\"data_source\":{\"id\":\"54352\"},\"glyph\":{\"id\":\"54355\"},\"group\":null,\"hover_glyph\":null,\"muted_glyph\":{\"id\":\"54357\"},\"nonselection_glyph\":{\"id\":\"54356\"},\"selection_glyph\":{\"id\":\"54360\"},\"view\":{\"id\":\"54359\"}},\"id\":\"54358\",\"type\":\"GlyphRenderer\"},{\"attributes\":{},\"id\":\"54365\",\"type\":\"BasicTickFormatter\"},{\"attributes\":{},\"id\":\"53777\",\"type\":\"SaveTool\"},{\"attributes\":{\"margin\":[0,0,0,0],\"tabs\":[{\"id\":\"53825\"},{\"id\":\"53893\"},{\"id\":\"53961\"},{\"id\":\"54029\"}]},\"id\":\"53757\",\"type\":\"Tabs\"},{\"attributes\":{},\"id\":\"54649\",\"type\":\"Selection\"},{\"attributes\":{},\"id\":\"54332\",\"type\":\"CategoricalTicker\"},{\"attributes\":{\"callback\":null,\"renderers\":[{\"id\":\"53796\"}],\"tags\":[\"hv_created\"],\"tooltips\":[[\"index\",\"@{index}\"],[\"2001\",\"@{A_2001}\"]]},\"id\":\"53760\",\"type\":\"HoverTool\"},{\"attributes\":{\"coordinates\":null,\"group\":null,\"text\":\"neighbourhood: Agincourt North\",\"text_color\":\"black\",\"text_font_size\":\"12pt\"},\"id\":\"54323\",\"type\":\"Title\"},{\"attributes\":{},\"id\":\"53902\",\"type\":\"CategoricalScale\"},{\"attributes\":{},\"id\":\"54362\",\"type\":\"CategoricalTickFormatter\"},{\"attributes\":{\"fill_alpha\":{\"value\":0.1},\"fill_color\":{\"value\":\"green\"},\"hatch_alpha\":{\"value\":0.1},\"hatch_color\":{\"value\":\"green\"},\"line_alpha\":{\"value\":0.1},\"top\":{\"field\":\"average_house_value\"},\"width\":{\"value\":0.8},\"x\":{\"field\":\"neighbourhood\"}},\"id\":\"54433\",\"type\":\"VBar\"},{\"attributes\":{},\"id\":\"54641\",\"type\":\"Selection\"},{\"attributes\":{\"fill_alpha\":{\"value\":0.2},\"fill_color\":{\"field\":\"Variable\",\"transform\":{\"id\":\"54351\"}},\"hatch_alpha\":{\"value\":0.2},\"hatch_color\":{\"field\":\"Variable\",\"transform\":{\"id\":\"54351\"}},\"line_alpha\":{\"value\":0.2},\"top\":{\"field\":\"value\"},\"width\":{\"value\":0.8},\"x\":{\"field\":\"xoffsets\"}},\"id\":\"54357\",\"type\":\"VBar\"},{\"attributes\":{\"axis_label\":\"Neighbourhoods\",\"coordinates\":null,\"formatter\":{\"id\":\"54439\"},\"group\":null,\"major_label_orientation\":0.5235987755982988,\"major_label_policy\":{\"id\":\"54440\"},\"ticker\":{\"id\":\"54410\"}},\"id\":\"54409\",\"type\":\"CategoricalAxis\"},{\"attributes\":{},\"id\":\"54216\",\"type\":\"BasicTickFormatter\"},{\"attributes\":{\"coordinates\":null,\"data_source\":{\"id\":\"53994\"},\"glyph\":{\"id\":\"53997\"},\"group\":null,\"hover_glyph\":null,\"muted_glyph\":{\"id\":\"53999\"},\"nonselection_glyph\":{\"id\":\"53998\"},\"selection_glyph\":{\"id\":\"54002\"},\"view\":{\"id\":\"54001\"}},\"id\":\"54000\",\"type\":\"GlyphRenderer\"},{\"attributes\":{},\"id\":\"54640\",\"type\":\"UnionRenderers\"},{\"attributes\":{},\"id\":\"53937\",\"type\":\"AllLabels\"},{\"attributes\":{},\"id\":\"54638\",\"type\":\"UnionRenderers\"},{\"attributes\":{},\"id\":\"54653\",\"type\":\"Selection\"},{\"attributes\":{\"source\":{\"id\":\"53790\"}},\"id\":\"53797\",\"type\":\"CDSView\"},{\"attributes\":{\"below\":[{\"id\":\"54331\"}],\"center\":[{\"id\":\"54333\"},{\"id\":\"54337\"}],\"height\":300,\"left\":[{\"id\":\"54334\"}],\"margin\":[5,5,5,5],\"min_border_bottom\":10,\"min_border_left\":10,\"min_border_right\":10,\"min_border_top\":10,\"renderers\":[{\"id\":\"54358\"}],\"sizing_mode\":\"fixed\",\"title\":{\"id\":\"54323\"},\"toolbar\":{\"id\":\"54344\"},\"width\":700,\"x_range\":{\"id\":\"54319\"},\"x_scale\":{\"id\":\"54327\"},\"y_range\":{\"id\":\"54320\"},\"y_scale\":{\"id\":\"54329\"}},\"id\":\"54322\",\"subtype\":\"Figure\",\"type\":\"Plot\"},{\"attributes\":{},\"id\":\"54410\",\"type\":\"CategoricalTicker\"},{\"attributes\":{\"coordinates\":null,\"data_source\":{\"id\":\"54429\"},\"glyph\":{\"id\":\"54432\"},\"group\":null,\"hover_glyph\":null,\"muted_glyph\":{\"id\":\"54434\"},\"nonselection_glyph\":{\"id\":\"54433\"},\"selection_glyph\":{\"id\":\"54437\"},\"view\":{\"id\":\"54436\"}},\"id\":\"54435\",\"type\":\"GlyphRenderer\"},{\"attributes\":{},\"id\":\"54645\",\"type\":\"Selection\"},{\"attributes\":{\"source\":{\"id\":\"54352\"}},\"id\":\"54359\",\"type\":\"CDSView\"},{\"attributes\":{\"child\":{\"id\":\"53829\"},\"name\":\"2006\",\"title\":\"2006\"},\"id\":\"53893\",\"type\":\"Panel\"},{\"attributes\":{\"axis_label\":\"Average House Value(Price)\",\"coordinates\":null,\"formatter\":{\"id\":\"54442\"},\"group\":null,\"major_label_policy\":{\"id\":\"54443\"},\"ticker\":{\"id\":\"54413\"}},\"id\":\"54412\",\"type\":\"LinearAxis\"},{\"attributes\":{},\"id\":\"54642\",\"type\":\"UnionRenderers\"},{\"attributes\":{\"coordinates\":null,\"group\":null,\"text\":\"Dwelling types in Toronto in 2011\",\"text_color\":\"black\",\"text_font_size\":\"12pt\"},\"id\":\"53898\",\"type\":\"Title\"},{\"attributes\":{},\"id\":\"54655\",\"type\":\"Selection\"},{\"attributes\":{\"axis_label\":\"2001\",\"coordinates\":null,\"formatter\":{\"id\":\"53800\"},\"group\":null,\"major_label_orientation\":1.5707963267948966,\"major_label_policy\":{\"id\":\"53801\"},\"ticker\":{\"id\":\"53771\"}},\"id\":\"53770\",\"type\":\"CategoricalAxis\"},{\"attributes\":{\"fill_alpha\":{\"value\":0.1},\"fill_color\":{\"field\":\"Variable\",\"transform\":{\"id\":\"54351\"}},\"hatch_alpha\":{\"value\":0.1},\"hatch_color\":{\"field\":\"Variable\",\"transform\":{\"id\":\"54351\"}},\"line_alpha\":{\"value\":0.1},\"top\":{\"field\":\"value\"},\"width\":{\"value\":0.8},\"x\":{\"field\":\"xoffsets\"}},\"id\":\"54356\",\"type\":\"VBar\"},{\"attributes\":{},\"id\":\"54639\",\"type\":\"Selection\"},{\"attributes\":{},\"id\":\"54647\",\"type\":\"Selection\"},{\"attributes\":{\"end\":472132.0,\"reset_end\":472132.0,\"reset_start\":0.0,\"tags\":[[[\"2011\",\"2011\",null]]]},\"id\":\"53895\",\"type\":\"Range1d\"},{\"attributes\":{\"overlay\":{\"id\":\"54421\"}},\"id\":\"54419\",\"type\":\"BoxZoomTool\"},{\"attributes\":{},\"id\":\"53771\",\"type\":\"CategoricalTicker\"},{\"attributes\":{},\"id\":\"54420\",\"type\":\"ResetTool\"},{\"attributes\":{},\"id\":\"54651\",\"type\":\"Selection\"},{\"attributes\":{\"margin\":[20,20,20,20],\"min_width\":250,\"options\":[\"Agincourt North\",\"Agincourt South-Malvern West\",\"Alderwood\",\"Annex\",\"Banbury-Don Mills\",\"Bathurst Manor\",\"Bay Street Corridor\",\"Bayview Village\",\"Bayview Woods-Steeles\",\"Bedford Park-Nortown\",\"Beechborough-Greenbrook\",\"Bendale\",\"Birchcliffe-Cliffside\",\"Black Creek\",\"Blake-Jones\",\"Briar Hill-Belgravia\",\"Bridle Path-Sunnybrook-York Mills\",\"Broadview North\",\"Brookhaven-Amesbury\",\"Cabbagetown-South St.James Town\",\"Caledonia-Fairbank\",\"Casa Loma\",\"Centennial Scarborough\",\"Church-Yonge Corridor\",\"Clairlea-Birchmount\",\"Clanton Park\",\"Cliffcrest\",\"Corso Italia-Davenport\",\"Danforth\",\"Danforth-East York\",\"Don Valley Village\",\"Dorset Park\",\"Dovercourt-Wallace Emerson-Juncti\",\"Downsview-Roding-CFB\",\"Dufferin Grove\",\"East End-Danforth\",\"Edenbridge-Humber Valley\",\"Eglinton East\",\"Elms-Old Rexdale\",\"Englemount-Lawrence\",\"Eringate-Centennial-West Deane\",\"Etobicoke West Mall\",\"Flemingdon Park\",\"Forest Hill North\",\"Forest Hill South\",\"Glenfield-Jane Heights\",\"Greenwood-Coxwell\",\"Guildwood\",\"Henry Farm\",\"High Park North\",\"High Park-Swansea\",\"Highland Creek\",\"Hillcrest Village\",\"Humber Heights-Westmount\",\"Humber Summit\",\"Humbermede\",\"Humewood-Cedarvale\",\"Ionview\",\"Islington-City Centre West\",\"Junction Area\",\"Keelesdale-Eglinton West\",\"Kennedy Park\",\"Kensington-Chinatown\",\"Kingsview Village-The Westway\",\"Kingsway South\",\"L'Amoreaux\",\"Lambton Baby Point\",\"Lansing-Westgate\",\"Lawrence Park North\",\"Lawrence Park South\",\"Leaside-Bennington\",\"Little Portugal\",\"Long Branch\",\"Malvern\",\"Maple Leaf\",\"Markland Wood\",\"Milliken\",\"Mimico\",\"Morningside\",\"Moss Park\",\"Mount Dennis\",\"Mount Olive-Silverstone-Jamestown\",\"Mount Pleasant East\",\"Mount Pleasant West\",\"New Toronto\",\"Newtonbrook East\",\"Newtonbrook West\",\"Niagara\",\"North Riverdale\",\"North St.James Town\",\"O'Connor-Parkview\",\"Oakridge\",\"Oakwood Village\",\"Old East York\",\"Palmerston-Little Italy\",\"Parkwoods-Donalda\",\"Pelmo Park-Humberlea\",\"Playter Estates-Danforth\",\"Pleasant View\",\"Princess-Rosethorn\",\"Regent Park\",\"Rexdale-Kipling\",\"Rockcliffe-Smythe\",\"Roncesvalles\",\"Rosedale-Moore Park\",\"Rouge\",\"Runnymede-Bloor West Village\",\"Rustic\",\"Scarborough Village\",\"South Parkdale\",\"South Riverdale\",\"St.Andrew-Windfields\",\"Steeles\",\"Stonegate-Queensway\",\"Tam O'Shanter-Sullivan\",\"Taylor-Massey\",\"The Beaches\",\"Thistletown-Beaumond Heights\",\"Thorncliffe Park\",\"Trinity-Bellwoods\",\"University\",\"Victoria Village\",\"Waterfront Communities-The Island\",\"West Hill\",\"West Humber-Clairville\",\"Westminster-Branson\",\"Weston\",\"Weston-Pellam Park\",\"Wexford/Maryvale\",\"Willowdale East\",\"Willowdale West\",\"Willowridge-Martingrove-Richview\",\"Woburn\",\"Woodbine Corridor\",\"Woodbine-Lumsden\",\"Wychwood\",\"Yonge-Eglinton\",\"Yonge-St.Clair\",\"York University Heights\",\"Yorkdale-Glen Park\"],\"title\":\"neighbourhood\",\"value\":\"Agincourt North\",\"width\":250},\"id\":\"54316\",\"type\":\"Select\"},{\"attributes\":{\"axis\":{\"id\":\"54412\"},\"coordinates\":null,\"dimension\":1,\"grid_line_color\":null,\"group\":null,\"ticker\":null},\"id\":\"54415\",\"type\":\"Grid\"},{\"attributes\":{\"axis\":{\"id\":\"53977\"},\"coordinates\":null,\"dimension\":1,\"grid_line_color\":null,\"group\":null,\"ticker\":null},\"id\":\"53980\",\"type\":\"Grid\"},{\"attributes\":{},\"id\":\"54643\",\"type\":\"Selection\"},{\"attributes\":{},\"id\":\"54366\",\"type\":\"AllLabels\"},{\"attributes\":{\"below\":[{\"id\":\"53770\"}],\"center\":[{\"id\":\"53772\"},{\"id\":\"53776\"}],\"height\":400,\"left\":[{\"id\":\"53773\"}],\"margin\":[5,5,5,5],\"min_border_bottom\":10,\"min_border_left\":10,\"min_border_right\":10,\"min_border_top\":10,\"renderers\":[{\"id\":\"53796\"}],\"sizing_mode\":\"fixed\",\"title\":{\"id\":\"53762\"},\"toolbar\":{\"id\":\"53783\"},\"width\":500,\"x_range\":{\"id\":\"53758\"},\"x_scale\":{\"id\":\"53766\"},\"y_range\":{\"id\":\"53759\"},\"y_scale\":{\"id\":\"53768\"}},\"id\":\"53761\",\"subtype\":\"Figure\",\"type\":\"Plot\"},{\"attributes\":{\"coordinates\":null,\"data_source\":{\"id\":\"53790\"},\"glyph\":{\"id\":\"53793\"},\"group\":null,\"hover_glyph\":null,\"muted_glyph\":{\"id\":\"53795\"},\"nonselection_glyph\":{\"id\":\"53794\"},\"selection_glyph\":{\"id\":\"53798\"},\"view\":{\"id\":\"53797\"}},\"id\":\"53796\",\"type\":\"GlyphRenderer\"},{\"attributes\":{},\"id\":\"54363\",\"type\":\"AllLabels\"},{\"attributes\":{\"callback\":null,\"renderers\":[{\"id\":\"53932\"}],\"tags\":[\"hv_created\"],\"tooltips\":[[\"index\",\"@{index}\"],[\"2011\",\"@{A_2011}\"]]},\"id\":\"53896\",\"type\":\"HoverTool\"},{\"attributes\":{},\"id\":\"54413\",\"type\":\"BasicTicker\"},{\"attributes\":{},\"id\":\"54648\",\"type\":\"UnionRenderers\"},{\"attributes\":{\"tools\":[{\"id\":\"54399\"},{\"id\":\"54416\"},{\"id\":\"54417\"},{\"id\":\"54418\"},{\"id\":\"54419\"},{\"id\":\"54420\"}]},\"id\":\"54422\",\"type\":\"Toolbar\"},{\"attributes\":{},\"id\":\"54417\",\"type\":\"PanTool\"},{\"attributes\":{},\"id\":\"53904\",\"type\":\"LinearScale\"},{\"attributes\":{\"below\":[{\"id\":\"53906\"}],\"center\":[{\"id\":\"53908\"},{\"id\":\"53912\"}],\"height\":400,\"left\":[{\"id\":\"53909\"}],\"margin\":[5,5,5,5],\"min_border_bottom\":10,\"min_border_left\":10,\"min_border_right\":10,\"min_border_top\":10,\"renderers\":[{\"id\":\"53932\"}],\"sizing_mode\":\"fixed\",\"title\":{\"id\":\"53898\"},\"toolbar\":{\"id\":\"53919\"},\"width\":500,\"x_range\":{\"id\":\"53758\"},\"x_scale\":{\"id\":\"53902\"},\"y_range\":{\"id\":\"53895\"},\"y_scale\":{\"id\":\"53904\"}},\"id\":\"53897\",\"subtype\":\"Figure\",\"type\":\"Plot\"},{\"attributes\":{\"coordinates\":null,\"group\":null,\"text\":\"Average Monthly Shelter Cost for Owned Dwellings in Toronto\",\"text_color\":\"black\",\"text_font_size\":\"12pt\"},\"id\":\"54036\",\"type\":\"Title\"},{\"attributes\":{\"callback\":null,\"renderers\":[{\"id\":\"54209\"}],\"tags\":[\"hv_created\"],\"tooltips\":[[\"year\",\"@{year}\"],[\"average_house_value\",\"@{average_house_value}\"]]},\"id\":\"54172\",\"type\":\"HoverTool\"},{\"attributes\":{\"overlay\":{\"id\":\"53782\"}},\"id\":\"53780\",\"type\":\"BoxZoomTool\"},{\"attributes\":{\"data\":{\"average_house_value\":{\"__ndarray__\":\"i6/4imuxEUGogzqo7uEZQfEVX3HxLyBBqIM6qAhEJEE=\",\"dtype\":\"float64\",\"order\":\"little\",\"shape\":[4]},\"year\":[2001,2006,2011,2016]},\"selected\":{\"id\":\"54204\"},\"selection_policy\":{\"id\":\"54225\"}},\"id\":\"54203\",\"type\":\"ColumnDataSource\"},{\"attributes\":{},\"id\":\"54329\",\"type\":\"LinearScale\"},{\"attributes\":{\"bottom_units\":\"screen\",\"coordinates\":null,\"fill_alpha\":0.5,\"fill_color\":\"lightgrey\",\"group\":null,\"left_units\":\"screen\",\"level\":\"overlay\",\"line_alpha\":1.0,\"line_color\":\"black\",\"line_dash\":[4,4],\"line_width\":2,\"right_units\":\"screen\",\"syncable\":false,\"top_units\":\"screen\"},\"id\":\"54421\",\"type\":\"BoxAnnotation\"},{\"attributes\":{},\"id\":\"53778\",\"type\":\"PanTool\"},{\"attributes\":{\"axis\":{\"id\":\"54334\"},\"coordinates\":null,\"dimension\":1,\"grid_line_color\":null,\"group\":null,\"ticker\":null},\"id\":\"54337\",\"type\":\"Grid\"},{\"attributes\":{},\"id\":\"54654\",\"type\":\"UnionRenderers\"},{\"attributes\":{\"factors\":[\"single_detached_house\",\"apartment_five_storeys_plus\",\"movable_dwelling\",\"semi_detached_house\",\"row_house\",\"duplex\",\"apartment_five_storeys_less\",\"other_house\"],\"tags\":[[[\"index\",\"index\",null]]]},\"id\":\"53758\",\"type\":\"FactorRange\"},{\"attributes\":{},\"id\":\"54644\",\"type\":\"UnionRenderers\"},{\"attributes\":{\"coordinates\":null,\"group\":null,\"text\":\"Dwelling types in Toronto in 2001\",\"text_color\":\"black\",\"text_font_size\":\"12pt\"},\"id\":\"53762\",\"type\":\"Title\"},{\"attributes\":{},\"id\":\"53768\",\"type\":\"LinearScale\"},{\"attributes\":{},\"id\":\"53779\",\"type\":\"WheelZoomTool\"},{\"attributes\":{\"source\":{\"id\":\"54429\"}},\"id\":\"54436\",\"type\":\"CDSView\"},{\"attributes\":{\"tools\":[{\"id\":\"53896\"},{\"id\":\"53913\"},{\"id\":\"53914\"},{\"id\":\"53915\"},{\"id\":\"53916\"},{\"id\":\"53917\"}]},\"id\":\"53919\",\"type\":\"Toolbar\"},{\"attributes\":{},\"id\":\"54652\",\"type\":\"UnionRenderers\"},{\"attributes\":{\"axis\":{\"id\":\"53773\"},\"coordinates\":null,\"dimension\":1,\"grid_line_color\":null,\"group\":null,\"ticker\":null},\"id\":\"53776\",\"type\":\"Grid\"},{\"attributes\":{},\"id\":\"53939\",\"type\":\"BasicTickFormatter\"},{\"attributes\":{\"axis\":{\"id\":\"54409\"},\"coordinates\":null,\"grid_line_color\":null,\"group\":null,\"ticker\":null},\"id\":\"54411\",\"type\":\"Grid\"},{\"attributes\":{},\"id\":\"54327\",\"type\":\"CategoricalScale\"},{\"attributes\":{\"axis_label\":\"year\",\"coordinates\":null,\"formatter\":{\"id\":\"54362\"},\"group\":null,\"major_label_orientation\":1.5707963267948966,\"major_label_policy\":{\"id\":\"54363\"},\"ticker\":{\"id\":\"54332\"}},\"id\":\"54331\",\"type\":\"CategoricalAxis\"},{\"attributes\":{},\"id\":\"53774\",\"type\":\"BasicTicker\"},{\"attributes\":{},\"id\":\"54418\",\"type\":\"WheelZoomTool\"},{\"attributes\":{\"fill_color\":{\"value\":\"red\"},\"hatch_color\":{\"value\":\"red\"},\"top\":{\"field\":\"A_2001\"},\"width\":{\"value\":0.8},\"x\":{\"field\":\"index\"}},\"id\":\"53793\",\"type\":\"VBar\"},{\"attributes\":{\"css_classes\":[\"markdown\"],\"margin\":[5,5,5,5],\"name\":\"Markdown33678\",\"text\":\"&lt;h2&gt;Number of Dwelling Types Per Year&lt;/h2&gt;\"},\"id\":\"53756\",\"type\":\"panel.models.markup.HTML\"},{\"attributes\":{\"coordinates\":null,\"group\":null,\"text\":\"Most Expensive Neighbourhoods by House Value\",\"text_color\":\"black\",\"text_font_size\":\"12pt\"},\"id\":\"54401\",\"type\":\"Title\"},{\"attributes\":{\"axis\":{\"id\":\"53770\"},\"coordinates\":null,\"grid_line_color\":null,\"group\":null,\"ticker\":null},\"id\":\"53772\",\"type\":\"Grid\"},{\"attributes\":{},\"id\":\"54646\",\"type\":\"UnionRenderers\"},{\"attributes\":{\"line_alpha\":0.1,\"line_color\":\"green\",\"line_width\":2,\"x\":{\"field\":\"year\"},\"y\":{\"field\":\"shelter_costs_owned\"}},\"id\":\"54069\",\"type\":\"Line\"},{\"attributes\":{\"children\":[{\"id\":\"53752\"},{\"id\":\"53753\"}],\"margin\":[0,0,0,0],\"name\":\"Column33008\"},\"id\":\"53751\",\"type\":\"Column\"},{\"attributes\":{\"axis_label\":\"dwelling type units\",\"coordinates\":null,\"formatter\":{\"id\":\"53803\"},\"group\":null,\"major_label_policy\":{\"id\":\"53804\"},\"ticker\":{\"id\":\"53774\"}},\"id\":\"53773\",\"type\":\"LinearAxis\"},{\"attributes\":{\"child\":{\"id\":\"53761\"},\"name\":\"2001\",\"title\":\"2001\"},\"id\":\"53825\",\"type\":\"Panel\"},{\"attributes\":{},\"id\":\"53791\",\"type\":\"Selection\"}],\"root_ids\":[\"53750\",\"56948\",\"58089\"]},\"title\":\"Bokeh Application\",\"version\":\"2.4.1\"}};\n",
       "    var render_items = [{\"docid\":\"641ba3c7-13f0-4407-bbd3-9955eee9f1ec\",\"root_ids\":[\"53750\"],\"roots\":{\"53750\":\"d3657737-4d44-4018-979d-78df90685317\"}}];\n",
       "    root.Bokeh.embed.embed_items_notebook(docs_json, render_items);\n",
       "  }\n",
       "  if (root.Bokeh !== undefined && root.Bokeh.Panel !== undefined && ( root['Plotly'] !== undefined)) {\n",
       "    embed_document(root);\n",
       "  } else {\n",
       "    var attempts = 0;\n",
       "    var timer = setInterval(function(root) {\n",
       "      if (root.Bokeh !== undefined && root.Bokeh.Panel !== undefined && (root['Plotly'] !== undefined)) {\n",
       "        clearInterval(timer);\n",
       "        embed_document(root);\n",
       "      } else if (document.readyState == \"complete\") {\n",
       "        attempts++;\n",
       "        if (attempts > 200) {\n",
       "          clearInterval(timer);\n",
       "          console.log(\"Bokeh: ERROR: Unable to run BokehJS code because BokehJS library is missing\");\n",
       "        }\n",
       "      }\n",
       "    }, 25, root)\n",
       "  }\n",
       "})(window);</script>"
      ],
      "text/plain": [
       "Column\n",
       "    [0] Column\n",
       "        [0] Markdown(str)\n",
       "        [1] Markdown(str)\n",
       "    [1] Column\n",
       "        [0] Markdown(str)\n",
       "    [2] Markdown(str)\n",
       "    [3] Tabs\n",
       "        [0] HoloViews(Bars, name='2001')\n",
       "        [1] HoloViews(Bars, name='2006')\n",
       "        [2] HoloViews(Bars, name='2011')\n",
       "        [3] HoloViews(Bars, name='2016')\n",
       "    [4] Markdown(str)\n",
       "    [5] Tabs\n",
       "        [0] HoloViews(Curve, name='Owned Dwellings')\n",
       "        [1] HoloViews(Curve, name='Rented Dwellings')\n",
       "    [6] HoloViews(Curve)\n",
       "    [7] Markdown(str)\n",
       "    [8] Row\n",
       "        [0] HoloViews(DynamicMap)\n",
       "        [1] Column\n",
       "            [0] WidgetBox\n",
       "                [0] Select(margin=(20, 20, 20, 20), name='neighbourhood', options=['Agincourt North', ...], value='Agincourt North', width=250)\n",
       "            [1] VSpacer()\n",
       "    [9] Row\n",
       "        [0] HoloViews(DynamicMap)\n",
       "        [1] Column\n",
       "            [0] WidgetBox\n",
       "                [0] Select(margin=(20, 20, 20, 20), name='neighbourhood', options=['Agincourt North', ...], value='Agincourt North', width=250)\n",
       "            [1] VSpacer()\n",
       "    [10] HoloViews(Bars)\n",
       "    [11] Markdown(str)\n",
       "    [12] DataFrame(DataFrame)\n",
       "    [13] Markdown(str)\n",
       "    [14] Plotly(Figure)"
      ]
     },
     "execution_count": 196,
     "metadata": {
      "application/vnd.holoviews_exec.v0+json": {
       "id": "53750"
      }
     },
     "output_type": "execute_result"
    }
   ],
   "source": [
    "dashboard.servable()"
   ]
  },
  {
   "cell_type": "markdown",
   "metadata": {},
   "source": [
    "# Debugging\n",
    "\n",
    "Note: Some of the Plotly express plots may not render in the notebook through the panel functions.\n",
    "\n",
    "However, you can test each plot by uncommenting the following code"
   ]
  },
  {
   "cell_type": "code",
   "execution_count": 113,
   "metadata": {},
   "outputs": [
    {
     "data": {
      "application/vnd.plotly.v1+json": {
       "config": {
        "plotlyServerURL": "https://plot.ly"
       },
       "data": [
        {
         "hovertemplate": "neighbourhood=Agincourt North<br>average_house_value=%{marker.size}<br>lat=%{lat}<br>lon=%{lon}<extra></extra>",
         "lat": [
          43.80544058
         ],
         "legendgroup": "Agincourt North",
         "lon": [
          -79.26671217
         ],
         "marker": {
          "color": "#636efa",
          "size": [
           329811.5
          ],
          "sizemode": "area",
          "sizeref": 3816.214375
         },
         "mode": "markers",
         "name": "Agincourt North",
         "showlegend": true,
         "subplot": "mapbox",
         "type": "scattermapbox"
        },
        {
         "hovertemplate": "neighbourhood=Agincourt South-Malvern West<br>average_house_value=%{marker.size}<br>lat=%{lat}<br>lon=%{lon}<extra></extra>",
         "lat": [
          43.78865755
         ],
         "legendgroup": "Agincourt South-Malvern West",
         "lon": [
          -79.2656118
         ],
         "marker": {
          "color": "#EF553B",
          "size": [
           334189
          ],
          "sizemode": "area",
          "sizeref": 3816.214375
         },
         "mode": "markers",
         "name": "Agincourt South-Malvern West",
         "showlegend": true,
         "subplot": "mapbox",
         "type": "scattermapbox"
        },
        {
         "hovertemplate": "neighbourhood=Alderwood<br>average_house_value=%{marker.size}<br>lat=%{lat}<br>lon=%{lon}<extra></extra>",
         "lat": [
          43.6049369
         ],
         "legendgroup": "Alderwood",
         "lon": [
          -79.54161093
         ],
         "marker": {
          "color": "#00cc96",
          "size": [
           427922.5
          ],
          "sizemode": "area",
          "sizeref": 3816.214375
         },
         "mode": "markers",
         "name": "Alderwood",
         "showlegend": true,
         "subplot": "mapbox",
         "type": "scattermapbox"
        },
        {
         "hovertemplate": "neighbourhood=Annex<br>average_house_value=%{marker.size}<br>lat=%{lat}<br>lon=%{lon}<extra></extra>",
         "lat": [
          43.67158544
         ],
         "legendgroup": "Annex",
         "lon": [
          -79.40400062
         ],
         "marker": {
          "color": "#ab63fa",
          "size": [
           746977
          ],
          "sizemode": "area",
          "sizeref": 3816.214375
         },
         "mode": "markers",
         "name": "Annex",
         "showlegend": true,
         "subplot": "mapbox",
         "type": "scattermapbox"
        },
        {
         "hovertemplate": "neighbourhood=Banbury-Don Mills<br>average_house_value=%{marker.size}<br>lat=%{lat}<br>lon=%{lon}<extra></extra>",
         "lat": [
          43.737657
         ],
         "legendgroup": "Banbury-Don Mills",
         "lon": [
          -79.34971798
         ],
         "marker": {
          "color": "#FFA15A",
          "size": [
           612039
          ],
          "sizemode": "area",
          "sizeref": 3816.214375
         },
         "mode": "markers",
         "name": "Banbury-Don Mills",
         "showlegend": true,
         "subplot": "mapbox",
         "type": "scattermapbox"
        },
        {
         "hovertemplate": "neighbourhood=Bathurst Manor<br>average_house_value=%{marker.size}<br>lat=%{lat}<br>lon=%{lon}<extra></extra>",
         "lat": [
          43.76481331
         ],
         "legendgroup": "Bathurst Manor",
         "lon": [
          -79.45605516
         ],
         "marker": {
          "color": "#19d3f3",
          "size": [
           501576.75
          ],
          "sizemode": "area",
          "sizeref": 3816.214375
         },
         "mode": "markers",
         "name": "Bathurst Manor",
         "showlegend": true,
         "subplot": "mapbox",
         "type": "scattermapbox"
        },
        {
         "hovertemplate": "neighbourhood=Bay Street Corridor<br>average_house_value=%{marker.size}<br>lat=%{lat}<br>lon=%{lon}<extra></extra>",
         "lat": [
          43.65751135
         ],
         "legendgroup": "Bay Street Corridor",
         "lon": [
          -79.38572125
         ],
         "marker": {
          "color": "#FF6692",
          "size": [
           423653.5
          ],
          "sizemode": "area",
          "sizeref": 3816.214375
         },
         "mode": "markers",
         "name": "Bay Street Corridor",
         "showlegend": true,
         "subplot": "mapbox",
         "type": "scattermapbox"
        },
        {
         "hovertemplate": "neighbourhood=Bayview Village<br>average_house_value=%{marker.size}<br>lat=%{lat}<br>lon=%{lon}<extra></extra>",
         "lat": [
          43.77636052
         ],
         "legendgroup": "Bayview Village",
         "lon": [
          -79.37711686
         ],
         "marker": {
          "color": "#B6E880",
          "size": [
           539258.75
          ],
          "sizemode": "area",
          "sizeref": 3816.214375
         },
         "mode": "markers",
         "name": "Bayview Village",
         "showlegend": true,
         "subplot": "mapbox",
         "type": "scattermapbox"
        },
        {
         "hovertemplate": "neighbourhood=Bayview Woods-Steeles<br>average_house_value=%{marker.size}<br>lat=%{lat}<br>lon=%{lon}<extra></extra>",
         "lat": [
          43.79680187
         ],
         "legendgroup": "Bayview Woods-Steeles",
         "lon": [
          -79.38211795
         ],
         "marker": {
          "color": "#FF97FF",
          "size": [
           565413.5
          ],
          "sizemode": "area",
          "sizeref": 3816.214375
         },
         "mode": "markers",
         "name": "Bayview Woods-Steeles",
         "showlegend": true,
         "subplot": "mapbox",
         "type": "scattermapbox"
        },
        {
         "hovertemplate": "neighbourhood=Bedford Park-Nortown<br>average_house_value=%{marker.size}<br>lat=%{lat}<br>lon=%{lon}<extra></extra>",
         "lat": [
          43.73148623
         ],
         "legendgroup": "Bedford Park-Nortown",
         "lon": [
          -79.42022735
         ],
         "marker": {
          "color": "#FECB52",
          "size": [
           930415.25
          ],
          "sizemode": "area",
          "sizeref": 3816.214375
         },
         "mode": "markers",
         "name": "Bedford Park-Nortown",
         "showlegend": true,
         "subplot": "mapbox",
         "type": "scattermapbox"
        },
        {
         "hovertemplate": "neighbourhood=Beechborough-Greenbrook<br>average_house_value=%{marker.size}<br>lat=%{lat}<br>lon=%{lon}<extra></extra>",
         "lat": [
          43.69321649
         ],
         "legendgroup": "Beechborough-Greenbrook",
         "lon": [
          -79.47947251
         ],
         "marker": {
          "color": "#636efa",
          "size": [
           370927.75
          ],
          "sizemode": "area",
          "sizeref": 3816.214375
         },
         "mode": "markers",
         "name": "Beechborough-Greenbrook",
         "showlegend": true,
         "subplot": "mapbox",
         "type": "scattermapbox"
        },
        {
         "hovertemplate": "neighbourhood=Bendale<br>average_house_value=%{marker.size}<br>lat=%{lat}<br>lon=%{lon}<extra></extra>",
         "lat": [
          43.76036631
         ],
         "legendgroup": "Bendale",
         "lon": [
          -79.25740037
         ],
         "marker": {
          "color": "#EF553B",
          "size": [
           301123.25
          ],
          "sizemode": "area",
          "sizeref": 3816.214375
         },
         "mode": "markers",
         "name": "Bendale",
         "showlegend": true,
         "subplot": "mapbox",
         "type": "scattermapbox"
        },
        {
         "hovertemplate": "neighbourhood=Birchcliffe-Cliffside<br>average_house_value=%{marker.size}<br>lat=%{lat}<br>lon=%{lon}<extra></extra>",
         "lat": [
          43.69468198
         ],
         "legendgroup": "Birchcliffe-Cliffside",
         "lon": [
          -79.26509259
         ],
         "marker": {
          "color": "#00cc96",
          "size": [
           437315
          ],
          "sizemode": "area",
          "sizeref": 3816.214375
         },
         "mode": "markers",
         "name": "Birchcliffe-Cliffside",
         "showlegend": true,
         "subplot": "mapbox",
         "type": "scattermapbox"
        },
        {
         "hovertemplate": "neighbourhood=Black Creek<br>average_house_value=%{marker.size}<br>lat=%{lat}<br>lon=%{lon}<extra></extra>",
         "lat": [
          43.76489025
         ],
         "legendgroup": "Black Creek",
         "lon": [
          -79.52197932
         ],
         "marker": {
          "color": "#ab63fa",
          "size": [
           260841.75
          ],
          "sizemode": "area",
          "sizeref": 3816.214375
         },
         "mode": "markers",
         "name": "Black Creek",
         "showlegend": true,
         "subplot": "mapbox",
         "type": "scattermapbox"
        },
        {
         "hovertemplate": "neighbourhood=Blake-Jones<br>average_house_value=%{marker.size}<br>lat=%{lat}<br>lon=%{lon}<extra></extra>",
         "lat": [
          43.67617288
         ],
         "legendgroup": "Blake-Jones",
         "lon": [
          -79.33739417
         ],
         "marker": {
          "color": "#FFA15A",
          "size": [
           511437
          ],
          "sizemode": "area",
          "sizeref": 3816.214375
         },
         "mode": "markers",
         "name": "Blake-Jones",
         "showlegend": true,
         "subplot": "mapbox",
         "type": "scattermapbox"
        },
        {
         "hovertemplate": "neighbourhood=Briar Hill-Belgravia<br>average_house_value=%{marker.size}<br>lat=%{lat}<br>lon=%{lon}<extra></extra>",
         "lat": [
          43.69902438
         ],
         "legendgroup": "Briar Hill-Belgravia",
         "lon": [
          -79.4528513
         ],
         "marker": {
          "color": "#19d3f3",
          "size": [
           365524.5
          ],
          "sizemode": "area",
          "sizeref": 3816.214375
         },
         "mode": "markers",
         "name": "Briar Hill-Belgravia",
         "showlegend": true,
         "subplot": "mapbox",
         "type": "scattermapbox"
        },
        {
         "hovertemplate": "neighbourhood=Bridle Path-Sunnybrook-York Mills<br>average_house_value=%{marker.size}<br>lat=%{lat}<br>lon=%{lon}<extra></extra>",
         "lat": [
          43.73101314
         ],
         "legendgroup": "Bridle Path-Sunnybrook-York Mills",
         "lon": [
          -79.37890418
         ],
         "marker": {
          "color": "#FF6692",
          "size": [
           1526485.75
          ],
          "sizemode": "area",
          "sizeref": 3816.214375
         },
         "mode": "markers",
         "name": "Bridle Path-Sunnybrook-York Mills",
         "showlegend": true,
         "subplot": "mapbox",
         "type": "scattermapbox"
        },
        {
         "hovertemplate": "neighbourhood=Broadview North<br>average_house_value=%{marker.size}<br>lat=%{lat}<br>lon=%{lon}<extra></extra>",
         "lat": [
          43.68882512
         ],
         "legendgroup": "Broadview North",
         "lon": [
          -79.35562951
         ],
         "marker": {
          "color": "#B6E880",
          "size": [
           443373.25
          ],
          "sizemode": "area",
          "sizeref": 3816.214375
         },
         "mode": "markers",
         "name": "Broadview North",
         "showlegend": true,
         "subplot": "mapbox",
         "type": "scattermapbox"
        },
        {
         "hovertemplate": "neighbourhood=Brookhaven-Amesbury<br>average_house_value=%{marker.size}<br>lat=%{lat}<br>lon=%{lon}<extra></extra>",
         "lat": [
          43.70132631
         ],
         "legendgroup": "Brookhaven-Amesbury",
         "lon": [
          -79.48558926
         ],
         "marker": {
          "color": "#FF97FF",
          "size": [
           350943
          ],
          "sizemode": "area",
          "sizeref": 3816.214375
         },
         "mode": "markers",
         "name": "Brookhaven-Amesbury",
         "showlegend": true,
         "subplot": "mapbox",
         "type": "scattermapbox"
        },
        {
         "hovertemplate": "neighbourhood=Cabbagetown-South St.James Town<br>average_house_value=%{marker.size}<br>lat=%{lat}<br>lon=%{lon}<extra></extra>",
         "lat": [
          43.66764773
         ],
         "legendgroup": "Cabbagetown-South St.James Town",
         "lon": [
          -79.36610666
         ],
         "marker": {
          "color": "#FECB52",
          "size": [
           494110.5
          ],
          "sizemode": "area",
          "sizeref": 3816.214375
         },
         "mode": "markers",
         "name": "Cabbagetown-South St.James Town",
         "showlegend": true,
         "subplot": "mapbox",
         "type": "scattermapbox"
        },
        {
         "hovertemplate": "neighbourhood=Caledonia-Fairbank<br>average_house_value=%{marker.size}<br>lat=%{lat}<br>lon=%{lon}<extra></extra>",
         "lat": [
          43.68856865
         ],
         "legendgroup": "Caledonia-Fairbank",
         "lon": [
          -79.45521208
         ],
         "marker": {
          "color": "#636efa",
          "size": [
           361714.25
          ],
          "sizemode": "area",
          "sizeref": 3816.214375
         },
         "mode": "markers",
         "name": "Caledonia-Fairbank",
         "showlegend": true,
         "subplot": "mapbox",
         "type": "scattermapbox"
        },
        {
         "hovertemplate": "neighbourhood=Casa Loma<br>average_house_value=%{marker.size}<br>lat=%{lat}<br>lon=%{lon}<extra></extra>",
         "lat": [
          43.6818521
         ],
         "legendgroup": "Casa Loma",
         "lon": [
          -79.40800665
         ],
         "marker": {
          "color": "#EF553B",
          "size": [
           981064.25
          ],
          "sizemode": "area",
          "sizeref": 3816.214375
         },
         "mode": "markers",
         "name": "Casa Loma",
         "showlegend": true,
         "subplot": "mapbox",
         "type": "scattermapbox"
        },
        {
         "hovertemplate": "neighbourhood=Centennial Scarborough<br>average_house_value=%{marker.size}<br>lat=%{lat}<br>lon=%{lon}<extra></extra>",
         "lat": [
          43.7823765
         ],
         "legendgroup": "Centennial Scarborough",
         "lon": [
          -79.15084327
         ],
         "marker": {
          "color": "#00cc96",
          "size": [
           409862.75
          ],
          "sizemode": "area",
          "sizeref": 3816.214375
         },
         "mode": "markers",
         "name": "Centennial Scarborough",
         "showlegend": true,
         "subplot": "mapbox",
         "type": "scattermapbox"
        },
        {
         "hovertemplate": "neighbourhood=Church-Yonge Corridor<br>average_house_value=%{marker.size}<br>lat=%{lat}<br>lon=%{lon}<extra></extra>",
         "lat": [
          43.65964886
         ],
         "legendgroup": "Church-Yonge Corridor",
         "lon": [
          -79.37901717
         ],
         "marker": {
          "color": "#ab63fa",
          "size": [
           406117.5
          ],
          "sizemode": "area",
          "sizeref": 3816.214375
         },
         "mode": "markers",
         "name": "Church-Yonge Corridor",
         "showlegend": true,
         "subplot": "mapbox",
         "type": "scattermapbox"
        },
        {
         "hovertemplate": "neighbourhood=Clairlea-Birchmount<br>average_house_value=%{marker.size}<br>lat=%{lat}<br>lon=%{lon}<extra></extra>",
         "lat": [
          43.71359238
         ],
         "legendgroup": "Clairlea-Birchmount",
         "lon": [
          -79.28138178
         ],
         "marker": {
          "color": "#FFA15A",
          "size": [
           354555.25
          ],
          "sizemode": "area",
          "sizeref": 3816.214375
         },
         "mode": "markers",
         "name": "Clairlea-Birchmount",
         "showlegend": true,
         "subplot": "mapbox",
         "type": "scattermapbox"
        },
        {
         "hovertemplate": "neighbourhood=Clanton Park<br>average_house_value=%{marker.size}<br>lat=%{lat}<br>lon=%{lon}<extra></extra>",
         "lat": [
          43.74197843
         ],
         "legendgroup": "Clanton Park",
         "lon": [
          -79.44630258
         ],
         "marker": {
          "color": "#19d3f3",
          "size": [
           551561.25
          ],
          "sizemode": "area",
          "sizeref": 3816.214375
         },
         "mode": "markers",
         "name": "Clanton Park",
         "showlegend": true,
         "subplot": "mapbox",
         "type": "scattermapbox"
        },
        {
         "hovertemplate": "neighbourhood=Cliffcrest<br>average_house_value=%{marker.size}<br>lat=%{lat}<br>lon=%{lon}<extra></extra>",
         "lat": [
          43.72112117
         ],
         "legendgroup": "Cliffcrest",
         "lon": [
          -79.23552957
         ],
         "marker": {
          "color": "#FF6692",
          "size": [
           417422
          ],
          "sizemode": "area",
          "sizeref": 3816.214375
         },
         "mode": "markers",
         "name": "Cliffcrest",
         "showlegend": true,
         "subplot": "mapbox",
         "type": "scattermapbox"
        },
        {
         "hovertemplate": "neighbourhood=Corso Italia-Davenport<br>average_house_value=%{marker.size}<br>lat=%{lat}<br>lon=%{lon}<extra></extra>",
         "lat": [
          43.67766091
         ],
         "legendgroup": "Corso Italia-Davenport",
         "lon": [
          -79.44746933
         ],
         "marker": {
          "color": "#B6E880",
          "size": [
           419930.5
          ],
          "sizemode": "area",
          "sizeref": 3816.214375
         },
         "mode": "markers",
         "name": "Corso Italia-Davenport",
         "showlegend": true,
         "subplot": "mapbox",
         "type": "scattermapbox"
        },
        {
         "hovertemplate": "neighbourhood=Danforth<br>average_house_value=%{marker.size}<br>lat=%{lat}<br>lon=%{lon}<extra></extra>",
         "lat": [
          43.68402547
         ],
         "legendgroup": "Danforth",
         "lon": [
          -79.32981941
         ],
         "marker": {
          "color": "#FF97FF",
          "size": [
           466943
          ],
          "sizemode": "area",
          "sizeref": 3816.214375
         },
         "mode": "markers",
         "name": "Danforth",
         "showlegend": true,
         "subplot": "mapbox",
         "type": "scattermapbox"
        },
        {
         "hovertemplate": "neighbourhood=Danforth-East York<br>average_house_value=%{marker.size}<br>lat=%{lat}<br>lon=%{lon}<extra></extra>",
         "lat": [
          43.68946809
         ],
         "legendgroup": "Danforth-East York",
         "lon": [
          -79.33140338
         ],
         "marker": {
          "color": "#FECB52",
          "size": [
           421679.25
          ],
          "sizemode": "area",
          "sizeref": 3816.214375
         },
         "mode": "markers",
         "name": "Danforth-East York",
         "showlegend": true,
         "subplot": "mapbox",
         "type": "scattermapbox"
        },
        {
         "hovertemplate": "neighbourhood=Don Valley Village<br>average_house_value=%{marker.size}<br>lat=%{lat}<br>lon=%{lon}<extra></extra>",
         "lat": [
          43.78329369
         ],
         "legendgroup": "Don Valley Village",
         "lon": [
          -79.35364413
         ],
         "marker": {
          "color": "#636efa",
          "size": [
           398010.25
          ],
          "sizemode": "area",
          "sizeref": 3816.214375
         },
         "mode": "markers",
         "name": "Don Valley Village",
         "showlegend": true,
         "subplot": "mapbox",
         "type": "scattermapbox"
        },
        {
         "hovertemplate": "neighbourhood=Dorset Park<br>average_house_value=%{marker.size}<br>lat=%{lat}<br>lon=%{lon}<extra></extra>",
         "lat": [
          43.75927437
         ],
         "legendgroup": "Dorset Park",
         "lon": [
          -79.27890794
         ],
         "marker": {
          "color": "#EF553B",
          "size": [
           262000.25
          ],
          "sizemode": "area",
          "sizeref": 3816.214375
         },
         "mode": "markers",
         "name": "Dorset Park",
         "showlegend": true,
         "subplot": "mapbox",
         "type": "scattermapbox"
        },
        {
         "hovertemplate": "neighbourhood=Dovercourt-Wallace Emerson-Juncti<br>average_house_value=%{marker.size}<br>lat=%{lat}<br>lon=%{lon}<extra></extra>",
         "lat": [
          43.66567693
         ],
         "legendgroup": "Dovercourt-Wallace Emerson-Juncti",
         "lon": [
          -79.4385407
         ],
         "marker": {
          "color": "#00cc96",
          "size": [
           434699.5
          ],
          "sizemode": "area",
          "sizeref": 3816.214375
         },
         "mode": "markers",
         "name": "Dovercourt-Wallace Emerson-Juncti",
         "showlegend": true,
         "subplot": "mapbox",
         "type": "scattermapbox"
        },
        {
         "hovertemplate": "neighbourhood=Downsview-Roding-CFB<br>average_house_value=%{marker.size}<br>lat=%{lat}<br>lon=%{lon}<extra></extra>",
         "lat": [
          43.73329235
         ],
         "legendgroup": "Downsview-Roding-CFB",
         "lon": [
          -79.49049735
         ],
         "marker": {
          "color": "#ab63fa",
          "size": [
           381415.5
          ],
          "sizemode": "area",
          "sizeref": 3816.214375
         },
         "mode": "markers",
         "name": "Downsview-Roding-CFB",
         "showlegend": true,
         "subplot": "mapbox",
         "type": "scattermapbox"
        },
        {
         "hovertemplate": "neighbourhood=Dufferin Grove<br>average_house_value=%{marker.size}<br>lat=%{lat}<br>lon=%{lon}<extra></extra>",
         "lat": [
          43.65542833
         ],
         "legendgroup": "Dufferin Grove",
         "lon": [
          -79.43734104
         ],
         "marker": {
          "color": "#FFA15A",
          "size": [
           457588.75
          ],
          "sizemode": "area",
          "sizeref": 3816.214375
         },
         "mode": "markers",
         "name": "Dufferin Grove",
         "showlegend": true,
         "subplot": "mapbox",
         "type": "scattermapbox"
        },
        {
         "hovertemplate": "neighbourhood=East End-Danforth<br>average_house_value=%{marker.size}<br>lat=%{lat}<br>lon=%{lon}<extra></extra>",
         "lat": [
          43.68417388
         ],
         "legendgroup": "East End-Danforth",
         "lon": [
          -79.29935867
         ],
         "marker": {
          "color": "#19d3f3",
          "size": [
           478054.25
          ],
          "sizemode": "area",
          "sizeref": 3816.214375
         },
         "mode": "markers",
         "name": "East End-Danforth",
         "showlegend": true,
         "subplot": "mapbox",
         "type": "scattermapbox"
        },
        {
         "hovertemplate": "neighbourhood=Edenbridge-Humber Valley<br>average_house_value=%{marker.size}<br>lat=%{lat}<br>lon=%{lon}<extra></extra>",
         "lat": [
          43.67088591
         ],
         "legendgroup": "Edenbridge-Humber Valley",
         "lon": [
          -79.52245776
         ],
         "marker": {
          "color": "#FF6692",
          "size": [
           796162.5
          ],
          "sizemode": "area",
          "sizeref": 3816.214375
         },
         "mode": "markers",
         "name": "Edenbridge-Humber Valley",
         "showlegend": true,
         "subplot": "mapbox",
         "type": "scattermapbox"
        },
        {
         "hovertemplate": "neighbourhood=Eglinton East<br>average_house_value=%{marker.size}<br>lat=%{lat}<br>lon=%{lon}<extra></extra>",
         "lat": [
          43.7409223
         ],
         "legendgroup": "Eglinton East",
         "lon": [
          -79.24559804
         ],
         "marker": {
          "color": "#B6E880",
          "size": [
           268966.5
          ],
          "sizemode": "area",
          "sizeref": 3816.214375
         },
         "mode": "markers",
         "name": "Eglinton East",
         "showlegend": true,
         "subplot": "mapbox",
         "type": "scattermapbox"
        },
        {
         "hovertemplate": "neighbourhood=Elms-Old Rexdale<br>average_house_value=%{marker.size}<br>lat=%{lat}<br>lon=%{lon}<extra></extra>",
         "lat": [
          43.72151887
         ],
         "legendgroup": "Elms-Old Rexdale",
         "lon": [
          -79.54898272
         ],
         "marker": {
          "color": "#FF97FF",
          "size": [
           268341.25
          ],
          "sizemode": "area",
          "sizeref": 3816.214375
         },
         "mode": "markers",
         "name": "Elms-Old Rexdale",
         "showlegend": true,
         "subplot": "mapbox",
         "type": "scattermapbox"
        },
        {
         "hovertemplate": "neighbourhood=Englemount-Lawrence<br>average_house_value=%{marker.size}<br>lat=%{lat}<br>lon=%{lon}<extra></extra>",
         "lat": [
          43.72034467
         ],
         "legendgroup": "Englemount-Lawrence",
         "lon": [
          -79.43740855
         ],
         "marker": {
          "color": "#FECB52",
          "size": [
           568936.75
          ],
          "sizemode": "area",
          "sizeref": 3816.214375
         },
         "mode": "markers",
         "name": "Englemount-Lawrence",
         "showlegend": true,
         "subplot": "mapbox",
         "type": "scattermapbox"
        },
        {
         "hovertemplate": "neighbourhood=Eringate-Centennial-West Deane<br>average_house_value=%{marker.size}<br>lat=%{lat}<br>lon=%{lon}<extra></extra>",
         "lat": [
          43.65801676
         ],
         "legendgroup": "Eringate-Centennial-West Deane",
         "lon": [
          -79.58044524
         ],
         "marker": {
          "color": "#636efa",
          "size": [
           397781.75
          ],
          "sizemode": "area",
          "sizeref": 3816.214375
         },
         "mode": "markers",
         "name": "Eringate-Centennial-West Deane",
         "showlegend": true,
         "subplot": "mapbox",
         "type": "scattermapbox"
        },
        {
         "hovertemplate": "neighbourhood=Etobicoke West Mall<br>average_house_value=%{marker.size}<br>lat=%{lat}<br>lon=%{lon}<extra></extra>",
         "lat": [
          43.64506262
         ],
         "legendgroup": "Etobicoke West Mall",
         "lon": [
          -79.56893877
         ],
         "marker": {
          "color": "#EF553B",
          "size": [
           309412
          ],
          "sizemode": "area",
          "sizeref": 3816.214375
         },
         "mode": "markers",
         "name": "Etobicoke West Mall",
         "showlegend": true,
         "subplot": "mapbox",
         "type": "scattermapbox"
        },
        {
         "hovertemplate": "neighbourhood=Flemingdon Park<br>average_house_value=%{marker.size}<br>lat=%{lat}<br>lon=%{lon}<extra></extra>",
         "lat": [
          43.71592975
         ],
         "legendgroup": "Flemingdon Park",
         "lon": [
          -79.33264597
         ],
         "marker": {
          "color": "#00cc96",
          "size": [
           207799
          ],
          "sizemode": "area",
          "sizeref": 3816.214375
         },
         "mode": "markers",
         "name": "Flemingdon Park",
         "showlegend": true,
         "subplot": "mapbox",
         "type": "scattermapbox"
        },
        {
         "hovertemplate": "neighbourhood=Forest Hill North<br>average_house_value=%{marker.size}<br>lat=%{lat}<br>lon=%{lon}<extra></extra>",
         "lat": [
          43.70421756
         ],
         "legendgroup": "Forest Hill North",
         "lon": [
          -79.42814316
         ],
         "marker": {
          "color": "#ab63fa",
          "size": [
           851680.5
          ],
          "sizemode": "area",
          "sizeref": 3816.214375
         },
         "mode": "markers",
         "name": "Forest Hill North",
         "showlegend": true,
         "subplot": "mapbox",
         "type": "scattermapbox"
        },
        {
         "hovertemplate": "neighbourhood=Forest Hill South<br>average_house_value=%{marker.size}<br>lat=%{lat}<br>lon=%{lon}<extra></extra>",
         "lat": [
          43.69452576
         ],
         "legendgroup": "Forest Hill South",
         "lon": [
          -79.41431786
         ],
         "marker": {
          "color": "#FFA15A",
          "size": [
           1195992.5
          ],
          "sizemode": "area",
          "sizeref": 3816.214375
         },
         "mode": "markers",
         "name": "Forest Hill South",
         "showlegend": true,
         "subplot": "mapbox",
         "type": "scattermapbox"
        },
        {
         "hovertemplate": "neighbourhood=Glenfield-Jane Heights<br>average_house_value=%{marker.size}<br>lat=%{lat}<br>lon=%{lon}<extra></extra>",
         "lat": [
          43.74563575
         ],
         "legendgroup": "Glenfield-Jane Heights",
         "lon": [
          -79.51346532
         ],
         "marker": {
          "color": "#19d3f3",
          "size": [
           327597.75
          ],
          "sizemode": "area",
          "sizeref": 3816.214375
         },
         "mode": "markers",
         "name": "Glenfield-Jane Heights",
         "showlegend": true,
         "subplot": "mapbox",
         "type": "scattermapbox"
        },
        {
         "hovertemplate": "neighbourhood=Greenwood-Coxwell<br>average_house_value=%{marker.size}<br>lat=%{lat}<br>lon=%{lon}<extra></extra>",
         "lat": [
          43.67261231
         ],
         "legendgroup": "Greenwood-Coxwell",
         "lon": [
          -79.32431802
         ],
         "marker": {
          "color": "#FF6692",
          "size": [
           387055.5
          ],
          "sizemode": "area",
          "sizeref": 3816.214375
         },
         "mode": "markers",
         "name": "Greenwood-Coxwell",
         "showlegend": true,
         "subplot": "mapbox",
         "type": "scattermapbox"
        },
        {
         "hovertemplate": "neighbourhood=Guildwood<br>average_house_value=%{marker.size}<br>lat=%{lat}<br>lon=%{lon}<extra></extra>",
         "lat": [
          43.74882934
         ],
         "legendgroup": "Guildwood",
         "lon": [
          -79.19505535
         ],
         "marker": {
          "color": "#B6E880",
          "size": [
           369373.5
          ],
          "sizemode": "area",
          "sizeref": 3816.214375
         },
         "mode": "markers",
         "name": "Guildwood",
         "showlegend": true,
         "subplot": "mapbox",
         "type": "scattermapbox"
        },
        {
         "hovertemplate": "neighbourhood=Henry Farm<br>average_house_value=%{marker.size}<br>lat=%{lat}<br>lon=%{lon}<extra></extra>",
         "lat": [
          43.77114414
         ],
         "legendgroup": "Henry Farm",
         "lon": [
          -79.34124067
         ],
         "marker": {
          "color": "#FF97FF",
          "size": [
           369958
          ],
          "sizemode": "area",
          "sizeref": 3816.214375
         },
         "mode": "markers",
         "name": "Henry Farm",
         "showlegend": true,
         "subplot": "mapbox",
         "type": "scattermapbox"
        },
        {
         "hovertemplate": "neighbourhood=High Park North<br>average_house_value=%{marker.size}<br>lat=%{lat}<br>lon=%{lon}<extra></extra>",
         "lat": [
          43.65756491
         ],
         "legendgroup": "High Park North",
         "lon": [
          -79.46630217
         ],
         "marker": {
          "color": "#FECB52",
          "size": [
           532497
          ],
          "sizemode": "area",
          "sizeref": 3816.214375
         },
         "mode": "markers",
         "name": "High Park North",
         "showlegend": true,
         "subplot": "mapbox",
         "type": "scattermapbox"
        },
        {
         "hovertemplate": "neighbourhood=High Park-Swansea<br>average_house_value=%{marker.size}<br>lat=%{lat}<br>lon=%{lon}<extra></extra>",
         "lat": [
          43.64506458
         ],
         "legendgroup": "High Park-Swansea",
         "lon": [
          -79.46787222
         ],
         "marker": {
          "color": "#636efa",
          "size": [
           582977.75
          ],
          "sizemode": "area",
          "sizeref": 3816.214375
         },
         "mode": "markers",
         "name": "High Park-Swansea",
         "showlegend": true,
         "subplot": "mapbox",
         "type": "scattermapbox"
        },
        {
         "hovertemplate": "neighbourhood=Highland Creek<br>average_house_value=%{marker.size}<br>lat=%{lat}<br>lon=%{lon}<extra></extra>",
         "lat": [
          43.79077477
         ],
         "legendgroup": "Highland Creek",
         "lon": [
          -79.17747247
         ],
         "marker": {
          "color": "#EF553B",
          "size": [
           428838.5
          ],
          "sizemode": "area",
          "sizeref": 3816.214375
         },
         "mode": "markers",
         "name": "Highland Creek",
         "showlegend": true,
         "subplot": "mapbox",
         "type": "scattermapbox"
        },
        {
         "hovertemplate": "neighbourhood=Hillcrest Village<br>average_house_value=%{marker.size}<br>lat=%{lat}<br>lon=%{lon}<extra></extra>",
         "lat": [
          43.80298783
         ],
         "legendgroup": "Hillcrest Village",
         "lon": [
          -79.354804
         ],
         "marker": {
          "color": "#00cc96",
          "size": [
           395023
          ],
          "sizemode": "area",
          "sizeref": 3816.214375
         },
         "mode": "markers",
         "name": "Hillcrest Village",
         "showlegend": true,
         "subplot": "mapbox",
         "type": "scattermapbox"
        },
        {
         "hovertemplate": "neighbourhood=Humber Heights-Westmount<br>average_house_value=%{marker.size}<br>lat=%{lat}<br>lon=%{lon}<extra></extra>",
         "lat": [
          43.6922328
         ],
         "legendgroup": "Humber Heights-Westmount",
         "lon": [
          -79.5224162
         ],
         "marker": {
          "color": "#ab63fa",
          "size": [
           449150.5
          ],
          "sizemode": "area",
          "sizeref": 3816.214375
         },
         "mode": "markers",
         "name": "Humber Heights-Westmount",
         "showlegend": true,
         "subplot": "mapbox",
         "type": "scattermapbox"
        },
        {
         "hovertemplate": "neighbourhood=Humber Summit<br>average_house_value=%{marker.size}<br>lat=%{lat}<br>lon=%{lon}<extra></extra>",
         "lat": [
          43.75891975
         ],
         "legendgroup": "Humber Summit",
         "lon": [
          -79.55617474
         ],
         "marker": {
          "color": "#FFA15A",
          "size": [
           352082.5
          ],
          "sizemode": "area",
          "sizeref": 3816.214375
         },
         "mode": "markers",
         "name": "Humber Summit",
         "showlegend": true,
         "subplot": "mapbox",
         "type": "scattermapbox"
        },
        {
         "hovertemplate": "neighbourhood=Humbermede<br>average_house_value=%{marker.size}<br>lat=%{lat}<br>lon=%{lon}<extra></extra>",
         "lat": [
          43.74342952
         ],
         "legendgroup": "Humbermede",
         "lon": [
          -79.54236712
         ],
         "marker": {
          "color": "#19d3f3",
          "size": [
           319783.75
          ],
          "sizemode": "area",
          "sizeref": 3816.214375
         },
         "mode": "markers",
         "name": "Humbermede",
         "showlegend": true,
         "subplot": "mapbox",
         "type": "scattermapbox"
        },
        {
         "hovertemplate": "neighbourhood=Humewood-Cedarvale<br>average_house_value=%{marker.size}<br>lat=%{lat}<br>lon=%{lon}<extra></extra>",
         "lat": [
          43.69136981
         ],
         "legendgroup": "Humewood-Cedarvale",
         "lon": [
          -79.42768335
         ],
         "marker": {
          "color": "#FF6692",
          "size": [
           697085.5
          ],
          "sizemode": "area",
          "sizeref": 3816.214375
         },
         "mode": "markers",
         "name": "Humewood-Cedarvale",
         "showlegend": true,
         "subplot": "mapbox",
         "type": "scattermapbox"
        },
        {
         "hovertemplate": "neighbourhood=Ionview<br>average_house_value=%{marker.size}<br>lat=%{lat}<br>lon=%{lon}<extra></extra>",
         "lat": [
          43.73536441
         ],
         "legendgroup": "Ionview",
         "lon": [
          -79.27247049
         ],
         "marker": {
          "color": "#B6E880",
          "size": [
           287685.75
          ],
          "sizemode": "area",
          "sizeref": 3816.214375
         },
         "mode": "markers",
         "name": "Ionview",
         "showlegend": true,
         "subplot": "mapbox",
         "type": "scattermapbox"
        },
        {
         "hovertemplate": "neighbourhood=Islington-City Centre West<br>average_house_value=%{marker.size}<br>lat=%{lat}<br>lon=%{lon}<extra></extra>",
         "lat": [
          43.63346335
         ],
         "legendgroup": "Islington-City Centre West",
         "lon": [
          -79.54331654
         ],
         "marker": {
          "color": "#FF97FF",
          "size": [
           451685.25
          ],
          "sizemode": "area",
          "sizeref": 3816.214375
         },
         "mode": "markers",
         "name": "Islington-City Centre West",
         "showlegend": true,
         "subplot": "mapbox",
         "type": "scattermapbox"
        },
        {
         "hovertemplate": "neighbourhood=Junction Area<br>average_house_value=%{marker.size}<br>lat=%{lat}<br>lon=%{lon}<extra></extra>",
         "lat": [
          43.66788977
         ],
         "legendgroup": "Junction Area",
         "lon": [
          -79.47143987
         ],
         "marker": {
          "color": "#FECB52",
          "size": [
           433269.25
          ],
          "sizemode": "area",
          "sizeref": 3816.214375
         },
         "mode": "markers",
         "name": "Junction Area",
         "showlegend": true,
         "subplot": "mapbox",
         "type": "scattermapbox"
        },
        {
         "hovertemplate": "neighbourhood=Keelesdale-Eglinton West<br>average_house_value=%{marker.size}<br>lat=%{lat}<br>lon=%{lon}<extra></extra>",
         "lat": [
          43.68572747
         ],
         "legendgroup": "Keelesdale-Eglinton West",
         "lon": [
          -79.47143711
         ],
         "marker": {
          "color": "#636efa",
          "size": [
           322774.75
          ],
          "sizemode": "area",
          "sizeref": 3816.214375
         },
         "mode": "markers",
         "name": "Keelesdale-Eglinton West",
         "showlegend": true,
         "subplot": "mapbox",
         "type": "scattermapbox"
        },
        {
         "hovertemplate": "neighbourhood=Kennedy Park<br>average_house_value=%{marker.size}<br>lat=%{lat}<br>lon=%{lon}<extra></extra>",
         "lat": [
          43.72555572
         ],
         "legendgroup": "Kennedy Park",
         "lon": [
          -79.26038221
         ],
         "marker": {
          "color": "#EF553B",
          "size": [
           287233.5
          ],
          "sizemode": "area",
          "sizeref": 3816.214375
         },
         "mode": "markers",
         "name": "Kennedy Park",
         "showlegend": true,
         "subplot": "mapbox",
         "type": "scattermapbox"
        },
        {
         "hovertemplate": "neighbourhood=Kensington-Chinatown<br>average_house_value=%{marker.size}<br>lat=%{lat}<br>lon=%{lon}<extra></extra>",
         "lat": [
          43.65355413
         ],
         "legendgroup": "Kensington-Chinatown",
         "lon": [
          -79.39723988
         ],
         "marker": {
          "color": "#00cc96",
          "size": [
           440485.75
          ],
          "sizemode": "area",
          "sizeref": 3816.214375
         },
         "mode": "markers",
         "name": "Kensington-Chinatown",
         "showlegend": true,
         "subplot": "mapbox",
         "type": "scattermapbox"
        },
        {
         "hovertemplate": "neighbourhood=Kingsview Village-The Westway<br>average_house_value=%{marker.size}<br>lat=%{lat}<br>lon=%{lon}<extra></extra>",
         "lat": [
          43.69899257
         ],
         "legendgroup": "Kingsview Village-The Westway",
         "lon": [
          -79.54786331
         ],
         "marker": {
          "color": "#ab63fa",
          "size": [
           338344.75
          ],
          "sizemode": "area",
          "sizeref": 3816.214375
         },
         "mode": "markers",
         "name": "Kingsview Village-The Westway",
         "showlegend": true,
         "subplot": "mapbox",
         "type": "scattermapbox"
        },
        {
         "hovertemplate": "neighbourhood=Kingsway South<br>average_house_value=%{marker.size}<br>lat=%{lat}<br>lon=%{lon}<extra></extra>",
         "lat": [
          43.65352043
         ],
         "legendgroup": "Kingsway South",
         "lon": [
          -79.5105768
         ],
         "marker": {
          "color": "#FFA15A",
          "size": [
           843234.25
          ],
          "sizemode": "area",
          "sizeref": 3816.214375
         },
         "mode": "markers",
         "name": "Kingsway South",
         "showlegend": true,
         "subplot": "mapbox",
         "type": "scattermapbox"
        },
        {
         "hovertemplate": "neighbourhood=L'Amoreaux<br>average_house_value=%{marker.size}<br>lat=%{lat}<br>lon=%{lon}<extra></extra>",
         "lat": [
          43.79571603
         ],
         "legendgroup": "L'Amoreaux",
         "lon": [
          -79.31408424
         ],
         "marker": {
          "color": "#19d3f3",
          "size": [
           650307.75
          ],
          "sizemode": "area",
          "sizeref": 3816.214375
         },
         "mode": "markers",
         "name": "L'Amoreaux",
         "showlegend": true,
         "subplot": "mapbox",
         "type": "scattermapbox"
        },
        {
         "hovertemplate": "neighbourhood=Lambton Baby Point<br>average_house_value=%{marker.size}<br>lat=%{lat}<br>lon=%{lon}<extra></extra>",
         "lat": [
          43.65742013
         ],
         "legendgroup": "Lambton Baby Point",
         "lon": [
          -79.49604526
         ],
         "marker": {
          "color": "#FF6692",
          "size": [
           336617.75
          ],
          "sizemode": "area",
          "sizeref": 3816.214375
         },
         "mode": "markers",
         "name": "Lambton Baby Point",
         "showlegend": true,
         "subplot": "mapbox",
         "type": "scattermapbox"
        },
        {
         "hovertemplate": "neighbourhood=Lansing-Westgate<br>average_house_value=%{marker.size}<br>lat=%{lat}<br>lon=%{lon}<extra></extra>",
         "lat": [
          43.75427115
         ],
         "legendgroup": "Lansing-Westgate",
         "lon": [
          -79.42474772
         ],
         "marker": {
          "color": "#B6E880",
          "size": [
           613216.5
          ],
          "sizemode": "area",
          "sizeref": 3816.214375
         },
         "mode": "markers",
         "name": "Lansing-Westgate",
         "showlegend": true,
         "subplot": "mapbox",
         "type": "scattermapbox"
        },
        {
         "hovertemplate": "neighbourhood=Lawrence Park North<br>average_house_value=%{marker.size}<br>lat=%{lat}<br>lon=%{lon}<extra></extra>",
         "lat": [
          43.73006017
         ],
         "legendgroup": "Lawrence Park North",
         "lon": [
          -79.40397836
         ],
         "marker": {
          "color": "#FF97FF",
          "size": [
           759392.5
          ],
          "sizemode": "area",
          "sizeref": 3816.214375
         },
         "mode": "markers",
         "name": "Lawrence Park North",
         "showlegend": true,
         "subplot": "mapbox",
         "type": "scattermapbox"
        },
        {
         "hovertemplate": "neighbourhood=Lawrence Park South<br>average_house_value=%{marker.size}<br>lat=%{lat}<br>lon=%{lon}<extra></extra>",
         "lat": [
          43.7172117
         ],
         "legendgroup": "Lawrence Park South",
         "lon": [
          -79.40603941
         ],
         "marker": {
          "color": "#FECB52",
          "size": [
           1094027.75
          ],
          "sizemode": "area",
          "sizeref": 3816.214375
         },
         "mode": "markers",
         "name": "Lawrence Park South",
         "showlegend": true,
         "subplot": "mapbox",
         "type": "scattermapbox"
        },
        {
         "hovertemplate": "neighbourhood=Leaside-Bennington<br>average_house_value=%{marker.size}<br>lat=%{lat}<br>lon=%{lon}<extra></extra>",
         "lat": [
          43.70379663
         ],
         "legendgroup": "Leaside-Bennington",
         "lon": [
          -79.36607234
         ],
         "marker": {
          "color": "#636efa",
          "size": [
           806471.75
          ],
          "sizemode": "area",
          "sizeref": 3816.214375
         },
         "mode": "markers",
         "name": "Leaside-Bennington",
         "showlegend": true,
         "subplot": "mapbox",
         "type": "scattermapbox"
        },
        {
         "hovertemplate": "neighbourhood=Little Portugal<br>average_house_value=%{marker.size}<br>lat=%{lat}<br>lon=%{lon}<extra></extra>",
         "lat": [
          43.64753593
         ],
         "legendgroup": "Little Portugal",
         "lon": [
          -79.43032271
         ],
         "marker": {
          "color": "#EF553B",
          "size": [
           540192.5
          ],
          "sizemode": "area",
          "sizeref": 3816.214375
         },
         "mode": "markers",
         "name": "Little Portugal",
         "showlegend": true,
         "subplot": "mapbox",
         "type": "scattermapbox"
        },
        {
         "hovertemplate": "neighbourhood=Long Branch<br>average_house_value=%{marker.size}<br>lat=%{lat}<br>lon=%{lon}<extra></extra>",
         "lat": [
          43.59236169
         ],
         "legendgroup": "Long Branch",
         "lon": [
          -79.53334545
         ],
         "marker": {
          "color": "#00cc96",
          "size": [
           385830.25
          ],
          "sizemode": "area",
          "sizeref": 3816.214375
         },
         "mode": "markers",
         "name": "Long Branch",
         "showlegend": true,
         "subplot": "mapbox",
         "type": "scattermapbox"
        },
        {
         "hovertemplate": "neighbourhood=Malvern<br>average_house_value=%{marker.size}<br>lat=%{lat}<br>lon=%{lon}<extra></extra>",
         "lat": [
          43.8036582
         ],
         "legendgroup": "Malvern",
         "lon": [
          -79.22251662
         ],
         "marker": {
          "color": "#ab63fa",
          "size": [
           256880.25
          ],
          "sizemode": "area",
          "sizeref": 3816.214375
         },
         "mode": "markers",
         "name": "Malvern",
         "showlegend": true,
         "subplot": "mapbox",
         "type": "scattermapbox"
        },
        {
         "hovertemplate": "neighbourhood=Maple Leaf<br>average_house_value=%{marker.size}<br>lat=%{lat}<br>lon=%{lon}<extra></extra>",
         "lat": [
          43.71557394
         ],
         "legendgroup": "Maple Leaf",
         "lon": [
          -79.48075802
         ],
         "marker": {
          "color": "#FFA15A",
          "size": [
           453229
          ],
          "sizemode": "area",
          "sizeref": 3816.214375
         },
         "mode": "markers",
         "name": "Maple Leaf",
         "showlegend": true,
         "subplot": "mapbox",
         "type": "scattermapbox"
        },
        {
         "hovertemplate": "neighbourhood=Markland Wood<br>average_house_value=%{marker.size}<br>lat=%{lat}<br>lon=%{lon}<extra></extra>",
         "lat": [
          43.63354175
         ],
         "legendgroup": "Markland Wood",
         "lon": [
          -79.57343155
         ],
         "marker": {
          "color": "#19d3f3",
          "size": [
           443974.75
          ],
          "sizemode": "area",
          "sizeref": 3816.214375
         },
         "mode": "markers",
         "name": "Markland Wood",
         "showlegend": true,
         "subplot": "mapbox",
         "type": "scattermapbox"
        },
        {
         "hovertemplate": "neighbourhood=Milliken<br>average_house_value=%{marker.size}<br>lat=%{lat}<br>lon=%{lon}<extra></extra>",
         "lat": [
          43.82069079
         ],
         "legendgroup": "Milliken",
         "lon": [
          -79.27500892
         ],
         "marker": {
          "color": "#FF6692",
          "size": [
           344988.25
          ],
          "sizemode": "area",
          "sizeref": 3816.214375
         },
         "mode": "markers",
         "name": "Milliken",
         "showlegend": true,
         "subplot": "mapbox",
         "type": "scattermapbox"
        },
        {
         "hovertemplate": "neighbourhood=Mimico<br>average_house_value=%{marker.size}<br>lat=%{lat}<br>lon=%{lon}<extra></extra>",
         "lat": [
          43.61592386
         ],
         "legendgroup": "Mimico",
         "lon": [
          -79.50013664
         ],
         "marker": {
          "color": "#B6E880",
          "size": [
           393490.5
          ],
          "sizemode": "area",
          "sizeref": 3816.214375
         },
         "mode": "markers",
         "name": "Mimico",
         "showlegend": true,
         "subplot": "mapbox",
         "type": "scattermapbox"
        },
        {
         "hovertemplate": "neighbourhood=Morningside<br>average_house_value=%{marker.size}<br>lat=%{lat}<br>lon=%{lon}<extra></extra>",
         "lat": [
          43.78239861
         ],
         "legendgroup": "Morningside",
         "lon": [
          -79.20704119
         ],
         "marker": {
          "color": "#FF97FF",
          "size": [
           285013.5
          ],
          "sizemode": "area",
          "sizeref": 3816.214375
         },
         "mode": "markers",
         "name": "Morningside",
         "showlegend": true,
         "subplot": "mapbox",
         "type": "scattermapbox"
        },
        {
         "hovertemplate": "neighbourhood=Moss Park<br>average_house_value=%{marker.size}<br>lat=%{lat}<br>lon=%{lon}<extra></extra>",
         "lat": [
          43.65651762
         ],
         "legendgroup": "Moss Park",
         "lon": [
          -79.36729703
         ],
         "marker": {
          "color": "#FECB52",
          "size": [
           409456
          ],
          "sizemode": "area",
          "sizeref": 3816.214375
         },
         "mode": "markers",
         "name": "Moss Park",
         "showlegend": true,
         "subplot": "mapbox",
         "type": "scattermapbox"
        },
        {
         "hovertemplate": "neighbourhood=Mount Dennis<br>average_house_value=%{marker.size}<br>lat=%{lat}<br>lon=%{lon}<extra></extra>",
         "lat": [
          43.68814409
         ],
         "legendgroup": "Mount Dennis",
         "lon": [
          -79.49998906
         ],
         "marker": {
          "color": "#636efa",
          "size": [
           262308.75
          ],
          "sizemode": "area",
          "sizeref": 3816.214375
         },
         "mode": "markers",
         "name": "Mount Dennis",
         "showlegend": true,
         "subplot": "mapbox",
         "type": "scattermapbox"
        },
        {
         "hovertemplate": "neighbourhood=Mount Olive-Silverstone-Jamestown<br>average_house_value=%{marker.size}<br>lat=%{lat}<br>lon=%{lon}<extra></extra>",
         "lat": [
          43.7468678
         ],
         "legendgroup": "Mount Olive-Silverstone-Jamestown",
         "lon": [
          -79.58725926
         ],
         "marker": {
          "color": "#EF553B",
          "size": [
           253182.25
          ],
          "sizemode": "area",
          "sizeref": 3816.214375
         },
         "mode": "markers",
         "name": "Mount Olive-Silverstone-Jamestown",
         "showlegend": true,
         "subplot": "mapbox",
         "type": "scattermapbox"
        },
        {
         "hovertemplate": "neighbourhood=Mount Pleasant East<br>average_house_value=%{marker.size}<br>lat=%{lat}<br>lon=%{lon}<extra></extra>",
         "lat": [
          43.70485217
         ],
         "legendgroup": "Mount Pleasant East",
         "lon": [
          -79.38492395
         ],
         "marker": {
          "color": "#00cc96",
          "size": [
           677370.25
          ],
          "sizemode": "area",
          "sizeref": 3816.214375
         },
         "mode": "markers",
         "name": "Mount Pleasant East",
         "showlegend": true,
         "subplot": "mapbox",
         "type": "scattermapbox"
        },
        {
         "hovertemplate": "neighbourhood=Mount Pleasant West<br>average_house_value=%{marker.size}<br>lat=%{lat}<br>lon=%{lon}<extra></extra>",
         "lat": [
          43.70443517
         ],
         "legendgroup": "Mount Pleasant West",
         "lon": [
          -79.39335955
         ],
         "marker": {
          "color": "#ab63fa",
          "size": [
           468181.75
          ],
          "sizemode": "area",
          "sizeref": 3816.214375
         },
         "mode": "markers",
         "name": "Mount Pleasant West",
         "showlegend": true,
         "subplot": "mapbox",
         "type": "scattermapbox"
        },
        {
         "hovertemplate": "neighbourhood=New Toronto<br>average_house_value=%{marker.size}<br>lat=%{lat}<br>lon=%{lon}<extra></extra>",
         "lat": [
          43.6005886
         ],
         "legendgroup": "New Toronto",
         "lon": [
          -79.51035809
         ],
         "marker": {
          "color": "#FFA15A",
          "size": [
           407812
          ],
          "sizemode": "area",
          "sizeref": 3816.214375
         },
         "mode": "markers",
         "name": "New Toronto",
         "showlegend": true,
         "subplot": "mapbox",
         "type": "scattermapbox"
        },
        {
         "hovertemplate": "neighbourhood=Newtonbrook East<br>average_house_value=%{marker.size}<br>lat=%{lat}<br>lon=%{lon}<extra></extra>",
         "lat": [
          43.79153579
         ],
         "legendgroup": "Newtonbrook East",
         "lon": [
          -79.40593745
         ],
         "marker": {
          "color": "#19d3f3",
          "size": [
           559573.25
          ],
          "sizemode": "area",
          "sizeref": 3816.214375
         },
         "mode": "markers",
         "name": "Newtonbrook East",
         "showlegend": true,
         "subplot": "mapbox",
         "type": "scattermapbox"
        },
        {
         "hovertemplate": "neighbourhood=Newtonbrook West<br>average_house_value=%{marker.size}<br>lat=%{lat}<br>lon=%{lon}<extra></extra>",
         "lat": [
          43.78582994
         ],
         "legendgroup": "Newtonbrook West",
         "lon": [
          -79.43142151
         ],
         "marker": {
          "color": "#FF6692",
          "size": [
           460568.5
          ],
          "sizemode": "area",
          "sizeref": 3816.214375
         },
         "mode": "markers",
         "name": "Newtonbrook West",
         "showlegend": true,
         "subplot": "mapbox",
         "type": "scattermapbox"
        },
        {
         "hovertemplate": "neighbourhood=Niagara<br>average_house_value=%{marker.size}<br>lat=%{lat}<br>lon=%{lon}<extra></extra>",
         "lat": [
          43.63668088
         ],
         "legendgroup": "Niagara",
         "lon": [
          -79.4124204
         ],
         "marker": {
          "color": "#B6E880",
          "size": [
           369993
          ],
          "sizemode": "area",
          "sizeref": 3816.214375
         },
         "mode": "markers",
         "name": "Niagara",
         "showlegend": true,
         "subplot": "mapbox",
         "type": "scattermapbox"
        },
        {
         "hovertemplate": "neighbourhood=North Riverdale<br>average_house_value=%{marker.size}<br>lat=%{lat}<br>lon=%{lon}<extra></extra>",
         "lat": [
          43.67199515
         ],
         "legendgroup": "North Riverdale",
         "lon": [
          -79.35126041
         ],
         "marker": {
          "color": "#FF97FF",
          "size": [
           703063.25
          ],
          "sizemode": "area",
          "sizeref": 3816.214375
         },
         "mode": "markers",
         "name": "North Riverdale",
         "showlegend": true,
         "subplot": "mapbox",
         "type": "scattermapbox"
        },
        {
         "hovertemplate": "neighbourhood=North St.James Town<br>average_house_value=%{marker.size}<br>lat=%{lat}<br>lon=%{lon}<extra></extra>",
         "lat": [
          43.66962341
         ],
         "legendgroup": "North St.James Town",
         "lon": [
          -79.37524658
         ],
         "marker": {
          "color": "#FECB52",
          "size": [
           411455.75
          ],
          "sizemode": "area",
          "sizeref": 3816.214375
         },
         "mode": "markers",
         "name": "North St.James Town",
         "showlegend": true,
         "subplot": "mapbox",
         "type": "scattermapbox"
        },
        {
         "hovertemplate": "neighbourhood=O'Connor-Parkview<br>average_house_value=%{marker.size}<br>lat=%{lat}<br>lon=%{lon}<extra></extra>",
         "lat": [
          43.70680049
         ],
         "legendgroup": "O'Connor-Parkview",
         "lon": [
          -79.31222777
         ],
         "marker": {
          "color": "#636efa",
          "size": [
           298315.75
          ],
          "sizemode": "area",
          "sizeref": 3816.214375
         },
         "mode": "markers",
         "name": "O'Connor-Parkview",
         "showlegend": true,
         "subplot": "mapbox",
         "type": "scattermapbox"
        },
        {
         "hovertemplate": "neighbourhood=Oakridge<br>average_house_value=%{marker.size}<br>lat=%{lat}<br>lon=%{lon}<extra></extra>",
         "lat": [
          43.69740813
         ],
         "legendgroup": "Oakridge",
         "lon": [
          -79.27970834
         ],
         "marker": {
          "color": "#EF553B",
          "size": [
           422257.5
          ],
          "sizemode": "area",
          "sizeref": 3816.214375
         },
         "mode": "markers",
         "name": "Oakridge",
         "showlegend": true,
         "subplot": "mapbox",
         "type": "scattermapbox"
        },
        {
         "hovertemplate": "neighbourhood=Oakwood Village<br>average_house_value=%{marker.size}<br>lat=%{lat}<br>lon=%{lon}<extra></extra>",
         "lat": [
          43.68856556
         ],
         "legendgroup": "Oakwood Village",
         "lon": [
          -79.43978548
         ],
         "marker": {
          "color": "#00cc96",
          "size": [
           441202.75
          ],
          "sizemode": "area",
          "sizeref": 3816.214375
         },
         "mode": "markers",
         "name": "Oakwood Village",
         "showlegend": true,
         "subplot": "mapbox",
         "type": "scattermapbox"
        },
        {
         "hovertemplate": "neighbourhood=Old East York<br>average_house_value=%{marker.size}<br>lat=%{lat}<br>lon=%{lon}<extra></extra>",
         "lat": [
          43.69678127
         ],
         "legendgroup": "Old East York",
         "lon": [
          -79.33548836
         ],
         "marker": {
          "color": "#ab63fa",
          "size": [
           443413.5
          ],
          "sizemode": "area",
          "sizeref": 3816.214375
         },
         "mode": "markers",
         "name": "Old East York",
         "showlegend": true,
         "subplot": "mapbox",
         "type": "scattermapbox"
        },
        {
         "hovertemplate": "neighbourhood=Palmerston-Little Italy<br>average_house_value=%{marker.size}<br>lat=%{lat}<br>lon=%{lon}<extra></extra>",
         "lat": [
          43.6591571
         ],
         "legendgroup": "Palmerston-Little Italy",
         "lon": [
          -79.41840873
         ],
         "marker": {
          "color": "#FFA15A",
          "size": [
           622191.75
          ],
          "sizemode": "area",
          "sizeref": 3816.214375
         },
         "mode": "markers",
         "name": "Palmerston-Little Italy",
         "showlegend": true,
         "subplot": "mapbox",
         "type": "scattermapbox"
        },
        {
         "hovertemplate": "neighbourhood=Parkwoods-Donalda<br>average_house_value=%{marker.size}<br>lat=%{lat}<br>lon=%{lon}<extra></extra>",
         "lat": [
          43.75503347
         ],
         "legendgroup": "Parkwoods-Donalda",
         "lon": [
          -79.33017952
         ],
         "marker": {
          "color": "#19d3f3",
          "size": [
           454652.5
          ],
          "sizemode": "area",
          "sizeref": 3816.214375
         },
         "mode": "markers",
         "name": "Parkwoods-Donalda",
         "showlegend": true,
         "subplot": "mapbox",
         "type": "scattermapbox"
        },
        {
         "hovertemplate": "neighbourhood=Pelmo Park-Humberlea<br>average_house_value=%{marker.size}<br>lat=%{lat}<br>lon=%{lon}<extra></extra>",
         "lat": [
          43.7175146
         ],
         "legendgroup": "Pelmo Park-Humberlea",
         "lon": [
          -79.5282822
         ],
         "marker": {
          "color": "#FF6692",
          "size": [
           405431.25
          ],
          "sizemode": "area",
          "sizeref": 3816.214375
         },
         "mode": "markers",
         "name": "Pelmo Park-Humberlea",
         "showlegend": true,
         "subplot": "mapbox",
         "type": "scattermapbox"
        },
        {
         "hovertemplate": "neighbourhood=Playter Estates-Danforth<br>average_house_value=%{marker.size}<br>lat=%{lat}<br>lon=%{lon}<extra></extra>",
         "lat": [
          43.67970047
         ],
         "legendgroup": "Playter Estates-Danforth",
         "lon": [
          -79.35488729
         ],
         "marker": {
          "color": "#B6E880",
          "size": [
           648859.25
          ],
          "sizemode": "area",
          "sizeref": 3816.214375
         },
         "mode": "markers",
         "name": "Playter Estates-Danforth",
         "showlegend": true,
         "subplot": "mapbox",
         "type": "scattermapbox"
        },
        {
         "hovertemplate": "neighbourhood=Pleasant View<br>average_house_value=%{marker.size}<br>lat=%{lat}<br>lon=%{lon}<extra></extra>",
         "lat": [
          43.78698176
         ],
         "legendgroup": "Pleasant View",
         "lon": [
          -79.33494843
         ],
         "marker": {
          "color": "#FF97FF",
          "size": [
           373375.25
          ],
          "sizemode": "area",
          "sizeref": 3816.214375
         },
         "mode": "markers",
         "name": "Pleasant View",
         "showlegend": true,
         "subplot": "mapbox",
         "type": "scattermapbox"
        },
        {
         "hovertemplate": "neighbourhood=Princess-Rosethorn<br>average_house_value=%{marker.size}<br>lat=%{lat}<br>lon=%{lon}<extra></extra>",
         "lat": [
          43.6660506
         ],
         "legendgroup": "Princess-Rosethorn",
         "lon": [
          -79.54455929
         ],
         "marker": {
          "color": "#FECB52",
          "size": [
           765746.5
          ],
          "sizemode": "area",
          "sizeref": 3816.214375
         },
         "mode": "markers",
         "name": "Princess-Rosethorn",
         "showlegend": true,
         "subplot": "mapbox",
         "type": "scattermapbox"
        },
        {
         "hovertemplate": "neighbourhood=Regent Park<br>average_house_value=%{marker.size}<br>lat=%{lat}<br>lon=%{lon}<extra></extra>",
         "lat": [
          43.65999214
         ],
         "legendgroup": "Regent Park",
         "lon": [
          -79.36050881
         ],
         "marker": {
          "color": "#636efa",
          "size": [
           392578.25
          ],
          "sizemode": "area",
          "sizeref": 3816.214375
         },
         "mode": "markers",
         "name": "Regent Park",
         "showlegend": true,
         "subplot": "mapbox",
         "type": "scattermapbox"
        },
        {
         "hovertemplate": "neighbourhood=Rexdale-Kipling<br>average_house_value=%{marker.size}<br>lat=%{lat}<br>lon=%{lon}<extra></extra>",
         "lat": [
          43.72372548
         ],
         "legendgroup": "Rexdale-Kipling",
         "lon": [
          -79.56622841
         ],
         "marker": {
          "color": "#EF553B",
          "size": [
           360999.25
          ],
          "sizemode": "area",
          "sizeref": 3816.214375
         },
         "mode": "markers",
         "name": "Rexdale-Kipling",
         "showlegend": true,
         "subplot": "mapbox",
         "type": "scattermapbox"
        },
        {
         "hovertemplate": "neighbourhood=Rockcliffe-Smythe<br>average_house_value=%{marker.size}<br>lat=%{lat}<br>lon=%{lon}<extra></extra>",
         "lat": [
          43.67479045
         ],
         "legendgroup": "Rockcliffe-Smythe",
         "lon": [
          -79.49442045
         ],
         "marker": {
          "color": "#00cc96",
          "size": [
           345660.25
          ],
          "sizemode": "area",
          "sizeref": 3816.214375
         },
         "mode": "markers",
         "name": "Rockcliffe-Smythe",
         "showlegend": true,
         "subplot": "mapbox",
         "type": "scattermapbox"
        },
        {
         "hovertemplate": "neighbourhood=Roncesvalles<br>average_house_value=%{marker.size}<br>lat=%{lat}<br>lon=%{lon}<extra></extra>",
         "lat": [
          43.64612299
         ],
         "legendgroup": "Roncesvalles",
         "lon": [
          -79.44299245
         ],
         "marker": {
          "color": "#ab63fa",
          "size": [
           508937.25
          ],
          "sizemode": "area",
          "sizeref": 3816.214375
         },
         "mode": "markers",
         "name": "Roncesvalles",
         "showlegend": true,
         "subplot": "mapbox",
         "type": "scattermapbox"
        },
        {
         "hovertemplate": "neighbourhood=Rosedale-Moore Park<br>average_house_value=%{marker.size}<br>lat=%{lat}<br>lon=%{lon}<extra></extra>",
         "lat": [
          43.68282043
         ],
         "legendgroup": "Rosedale-Moore Park",
         "lon": [
          -79.3796694
         ],
         "marker": {
          "color": "#FFA15A",
          "size": [
           1093640
          ],
          "sizemode": "area",
          "sizeref": 3816.214375
         },
         "mode": "markers",
         "name": "Rosedale-Moore Park",
         "showlegend": true,
         "subplot": "mapbox",
         "type": "scattermapbox"
        },
        {
         "hovertemplate": "neighbourhood=Rouge<br>average_house_value=%{marker.size}<br>lat=%{lat}<br>lon=%{lon}<extra></extra>",
         "lat": [
          43.82120126
         ],
         "legendgroup": "Rouge",
         "lon": [
          -79.18634345
         ],
         "marker": {
          "color": "#19d3f3",
          "size": [
           376286.75
          ],
          "sizemode": "area",
          "sizeref": 3816.214375
         },
         "mode": "markers",
         "name": "Rouge",
         "showlegend": true,
         "subplot": "mapbox",
         "type": "scattermapbox"
        },
        {
         "hovertemplate": "neighbourhood=Runnymede-Bloor West Village<br>average_house_value=%{marker.size}<br>lat=%{lat}<br>lon=%{lon}<extra></extra>",
         "lat": [
          43.65926882
         ],
         "legendgroup": "Runnymede-Bloor West Village",
         "lon": [
          -79.48570818
         ],
         "marker": {
          "color": "#FF6692",
          "size": [
           552082
          ],
          "sizemode": "area",
          "sizeref": 3816.214375
         },
         "mode": "markers",
         "name": "Runnymede-Bloor West Village",
         "showlegend": true,
         "subplot": "mapbox",
         "type": "scattermapbox"
        },
        {
         "hovertemplate": "neighbourhood=Rustic<br>average_house_value=%{marker.size}<br>lat=%{lat}<br>lon=%{lon}<extra></extra>",
         "lat": [
          43.71160912
         ],
         "legendgroup": "Rustic",
         "lon": [
          -79.49809147
         ],
         "marker": {
          "color": "#B6E880",
          "size": [
           431090.5
          ],
          "sizemode": "area",
          "sizeref": 3816.214375
         },
         "mode": "markers",
         "name": "Rustic",
         "showlegend": true,
         "subplot": "mapbox",
         "type": "scattermapbox"
        },
        {
         "hovertemplate": "neighbourhood=Scarborough Village<br>average_house_value=%{marker.size}<br>lat=%{lat}<br>lon=%{lon}<extra></extra>",
         "lat": [
          43.73865186
         ],
         "legendgroup": "Scarborough Village",
         "lon": [
          -79.21681262
         ],
         "marker": {
          "color": "#FF97FF",
          "size": [
           329835.75
          ],
          "sizemode": "area",
          "sizeref": 3816.214375
         },
         "mode": "markers",
         "name": "Scarborough Village",
         "showlegend": true,
         "subplot": "mapbox",
         "type": "scattermapbox"
        },
        {
         "hovertemplate": "neighbourhood=South Parkdale<br>average_house_value=%{marker.size}<br>lat=%{lat}<br>lon=%{lon}<extra></extra>",
         "lat": [
          43.63669952
         ],
         "legendgroup": "South Parkdale",
         "lon": [
          -79.43933783
         ],
         "marker": {
          "color": "#FECB52",
          "size": [
           447478.5
          ],
          "sizemode": "area",
          "sizeref": 3816.214375
         },
         "mode": "markers",
         "name": "South Parkdale",
         "showlegend": true,
         "subplot": "mapbox",
         "type": "scattermapbox"
        },
        {
         "hovertemplate": "neighbourhood=South Riverdale<br>average_house_value=%{marker.size}<br>lat=%{lat}<br>lon=%{lon}<extra></extra>",
         "lat": [
          43.64929206
         ],
         "legendgroup": "South Riverdale",
         "lon": [
          -79.33565132
         ],
         "marker": {
          "color": "#636efa",
          "size": [
           455020.5
          ],
          "sizemode": "area",
          "sizeref": 3816.214375
         },
         "mode": "markers",
         "name": "South Riverdale",
         "showlegend": true,
         "subplot": "mapbox",
         "type": "scattermapbox"
        },
        {
         "hovertemplate": "neighbourhood=St.Andrew-Windfields<br>average_house_value=%{marker.size}<br>lat=%{lat}<br>lon=%{lon}<extra></extra>",
         "lat": [
          43.75624583
         ],
         "legendgroup": "St.Andrew-Windfields",
         "lon": [
          -79.37903709
         ],
         "marker": {
          "color": "#EF553B",
          "size": [
           999107
          ],
          "sizemode": "area",
          "sizeref": 3816.214375
         },
         "mode": "markers",
         "name": "St.Andrew-Windfields",
         "showlegend": true,
         "subplot": "mapbox",
         "type": "scattermapbox"
        },
        {
         "hovertemplate": "neighbourhood=Steeles<br>average_house_value=%{marker.size}<br>lat=%{lat}<br>lon=%{lon}<extra></extra>",
         "lat": [
          43.81295883
         ],
         "legendgroup": "Steeles",
         "lon": [
          -79.32120701
         ],
         "marker": {
          "color": "#00cc96",
          "size": [
           376014.5
          ],
          "sizemode": "area",
          "sizeref": 3816.214375
         },
         "mode": "markers",
         "name": "Steeles",
         "showlegend": true,
         "subplot": "mapbox",
         "type": "scattermapbox"
        },
        {
         "hovertemplate": "neighbourhood=Stonegate-Queensway<br>average_house_value=%{marker.size}<br>lat=%{lat}<br>lon=%{lon}<extra></extra>",
         "lat": [
          43.63551813
         ],
         "legendgroup": "Stonegate-Queensway",
         "lon": [
          -79.50112821
         ],
         "marker": {
          "color": "#ab63fa",
          "size": [
           550432.25
          ],
          "sizemode": "area",
          "sizeref": 3816.214375
         },
         "mode": "markers",
         "name": "Stonegate-Queensway",
         "showlegend": true,
         "subplot": "mapbox",
         "type": "scattermapbox"
        },
        {
         "hovertemplate": "neighbourhood=Tam O'Shanter-Sullivan<br>average_house_value=%{marker.size}<br>lat=%{lat}<br>lon=%{lon}<extra></extra>",
         "lat": [
          43.78012985
         ],
         "legendgroup": "Tam O'Shanter-Sullivan",
         "lon": [
          -79.30291871
         ],
         "marker": {
          "color": "#FFA15A",
          "size": [
           353926.5
          ],
          "sizemode": "area",
          "sizeref": 3816.214375
         },
         "mode": "markers",
         "name": "Tam O'Shanter-Sullivan",
         "showlegend": true,
         "subplot": "mapbox",
         "type": "scattermapbox"
        },
        {
         "hovertemplate": "neighbourhood=Taylor-Massey<br>average_house_value=%{marker.size}<br>lat=%{lat}<br>lon=%{lon}<extra></extra>",
         "lat": [
          43.69499819
         ],
         "legendgroup": "Taylor-Massey",
         "lon": [
          -79.29590112
         ],
         "marker": {
          "color": "#19d3f3",
          "size": [
           239414
          ],
          "sizemode": "area",
          "sizeref": 3816.214375
         },
         "mode": "markers",
         "name": "Taylor-Massey",
         "showlegend": true,
         "subplot": "mapbox",
         "type": "scattermapbox"
        },
        {
         "hovertemplate": "neighbourhood=The Beaches<br>average_house_value=%{marker.size}<br>lat=%{lat}<br>lon=%{lon}<extra></extra>",
         "lat": [
          43.67104999
         ],
         "legendgroup": "The Beaches",
         "lon": [
          -79.2996013
         ],
         "marker": {
          "color": "#FF6692",
          "size": [
           666306
          ],
          "sizemode": "area",
          "sizeref": 3816.214375
         },
         "mode": "markers",
         "name": "The Beaches",
         "showlegend": true,
         "subplot": "mapbox",
         "type": "scattermapbox"
        },
        {
         "hovertemplate": "neighbourhood=Thistletown-Beaumond Heights<br>average_house_value=%{marker.size}<br>lat=%{lat}<br>lon=%{lon}<extra></extra>",
         "lat": [
          43.73798792
         ],
         "legendgroup": "Thistletown-Beaumond Heights",
         "lon": [
          -79.56349102
         ],
         "marker": {
          "color": "#B6E880",
          "size": [
           375864
          ],
          "sizemode": "area",
          "sizeref": 3816.214375
         },
         "mode": "markers",
         "name": "Thistletown-Beaumond Heights",
         "showlegend": true,
         "subplot": "mapbox",
         "type": "scattermapbox"
        },
        {
         "hovertemplate": "neighbourhood=Thorncliffe Park<br>average_house_value=%{marker.size}<br>lat=%{lat}<br>lon=%{lon}<extra></extra>",
         "lat": [
          43.70774921
         ],
         "legendgroup": "Thorncliffe Park",
         "lon": [
          -79.34998361
         ],
         "marker": {
          "color": "#FF97FF",
          "size": [
           255264.75
          ],
          "sizemode": "area",
          "sizeref": 3816.214375
         },
         "mode": "markers",
         "name": "Thorncliffe Park",
         "showlegend": true,
         "subplot": "mapbox",
         "type": "scattermapbox"
        },
        {
         "hovertemplate": "neighbourhood=Trinity-Bellwoods<br>average_house_value=%{marker.size}<br>lat=%{lat}<br>lon=%{lon}<extra></extra>",
         "lat": [
          43.6501763
         ],
         "legendgroup": "Trinity-Bellwoods",
         "lon": [
          -79.41534216
         ],
         "marker": {
          "color": "#FECB52",
          "size": [
           534465.75
          ],
          "sizemode": "area",
          "sizeref": 3816.214375
         },
         "mode": "markers",
         "name": "Trinity-Bellwoods",
         "showlegend": true,
         "subplot": "mapbox",
         "type": "scattermapbox"
        },
        {
         "hovertemplate": "neighbourhood=University<br>average_house_value=%{marker.size}<br>lat=%{lat}<br>lon=%{lon}<extra></extra>",
         "lat": [
          43.6625062
         ],
         "legendgroup": "University",
         "lon": [
          -79.40117975
         ],
         "marker": {
          "color": "#636efa",
          "size": [
           618316.75
          ],
          "sizemode": "area",
          "sizeref": 3816.214375
         },
         "mode": "markers",
         "name": "University",
         "showlegend": true,
         "subplot": "mapbox",
         "type": "scattermapbox"
        },
        {
         "hovertemplate": "neighbourhood=Victoria Village<br>average_house_value=%{marker.size}<br>lat=%{lat}<br>lon=%{lon}<extra></extra>",
         "lat": [
          43.72848902
         ],
         "legendgroup": "Victoria Village",
         "lon": [
          -79.31487383
         ],
         "marker": {
          "color": "#EF553B",
          "size": [
           352133
          ],
          "sizemode": "area",
          "sizeref": 3816.214375
         },
         "mode": "markers",
         "name": "Victoria Village",
         "showlegend": true,
         "subplot": "mapbox",
         "type": "scattermapbox"
        },
        {
         "hovertemplate": "neighbourhood=Waterfront Communities-The Island<br>average_house_value=%{marker.size}<br>lat=%{lat}<br>lon=%{lon}<extra></extra>",
         "lat": [
          43.63388036
         ],
         "legendgroup": "Waterfront Communities-The Island",
         "lon": [
          -79.37720231
         ],
         "marker": {
          "color": "#00cc96",
          "size": [
           376863
          ],
          "sizemode": "area",
          "sizeref": 3816.214375
         },
         "mode": "markers",
         "name": "Waterfront Communities-The Island",
         "showlegend": true,
         "subplot": "mapbox",
         "type": "scattermapbox"
        },
        {
         "hovertemplate": "neighbourhood=West Hill<br>average_house_value=%{marker.size}<br>lat=%{lat}<br>lon=%{lon}<extra></extra>",
         "lat": [
          43.76749026
         ],
         "legendgroup": "West Hill",
         "lon": [
          -79.17667603
         ],
         "marker": {
          "color": "#ab63fa",
          "size": [
           284647.5
          ],
          "sizemode": "area",
          "sizeref": 3816.214375
         },
         "mode": "markers",
         "name": "West Hill",
         "showlegend": true,
         "subplot": "mapbox",
         "type": "scattermapbox"
        },
        {
         "hovertemplate": "neighbourhood=West Humber-Clairville<br>average_house_value=%{marker.size}<br>lat=%{lat}<br>lon=%{lon}<extra></extra>",
         "lat": [
          43.7161804
         ],
         "legendgroup": "West Humber-Clairville",
         "lon": [
          -79.59635645
         ],
         "marker": {
          "color": "#FFA15A",
          "size": [
           343254.25
          ],
          "sizemode": "area",
          "sizeref": 3816.214375
         },
         "mode": "markers",
         "name": "West Humber-Clairville",
         "showlegend": true,
         "subplot": "mapbox",
         "type": "scattermapbox"
        },
        {
         "hovertemplate": "neighbourhood=Westminster-Branson<br>average_house_value=%{marker.size}<br>lat=%{lat}<br>lon=%{lon}<extra></extra>",
         "lat": [
          43.77881322
         ],
         "legendgroup": "Westminster-Branson",
         "lon": [
          -79.45241823
         ],
         "marker": {
          "color": "#19d3f3",
          "size": [
           349320.25
          ],
          "sizemode": "area",
          "sizeref": 3816.214375
         },
         "mode": "markers",
         "name": "Westminster-Branson",
         "showlegend": true,
         "subplot": "mapbox",
         "type": "scattermapbox"
        },
        {
         "hovertemplate": "neighbourhood=Weston<br>average_house_value=%{marker.size}<br>lat=%{lat}<br>lon=%{lon}<extra></extra>",
         "lat": [
          43.70271605
         ],
         "legendgroup": "Weston",
         "lon": [
          -79.51572255
         ],
         "marker": {
          "color": "#FF6692",
          "size": [
           308007.75
          ],
          "sizemode": "area",
          "sizeref": 3816.214375
         },
         "mode": "markers",
         "name": "Weston",
         "showlegend": true,
         "subplot": "mapbox",
         "type": "scattermapbox"
        },
        {
         "hovertemplate": "neighbourhood=Weston-Pellam Park<br>average_house_value=%{marker.size}<br>lat=%{lat}<br>lon=%{lon}<extra></extra>",
         "lat": [
          43.67396204
         ],
         "legendgroup": "Weston-Pellam Park",
         "lon": [
          -79.46024391
         ],
         "marker": {
          "color": "#B6E880",
          "size": [
           351802
          ],
          "sizemode": "area",
          "sizeref": 3816.214375
         },
         "mode": "markers",
         "name": "Weston-Pellam Park",
         "showlegend": true,
         "subplot": "mapbox",
         "type": "scattermapbox"
        },
        {
         "hovertemplate": "neighbourhood=Wexford/Maryvale<br>average_house_value=%{marker.size}<br>lat=%{lat}<br>lon=%{lon}<extra></extra>",
         "lat": [
          43.74857214
         ],
         "legendgroup": "Wexford/Maryvale",
         "lon": [
          -79.29863657
         ],
         "marker": {
          "color": "#FF97FF",
          "size": [
           348319.25
          ],
          "sizemode": "area",
          "sizeref": 3816.214375
         },
         "mode": "markers",
         "name": "Wexford/Maryvale",
         "showlegend": true,
         "subplot": "mapbox",
         "type": "scattermapbox"
        },
        {
         "hovertemplate": "neighbourhood=Willowdale East<br>average_house_value=%{marker.size}<br>lat=%{lat}<br>lon=%{lon}<extra></extra>",
         "lat": [
          43.77060226
         ],
         "legendgroup": "Willowdale East",
         "lon": [
          -79.40148379
         ],
         "marker": {
          "color": "#FECB52",
          "size": [
           469045.5
          ],
          "sizemode": "area",
          "sizeref": 3816.214375
         },
         "mode": "markers",
         "name": "Willowdale East",
         "showlegend": true,
         "subplot": "mapbox",
         "type": "scattermapbox"
        },
        {
         "hovertemplate": "neighbourhood=Willowdale West<br>average_house_value=%{marker.size}<br>lat=%{lat}<br>lon=%{lon}<extra></extra>",
         "lat": [
          43.77121049
         ],
         "legendgroup": "Willowdale West",
         "lon": [
          -79.4275578
         ],
         "marker": {
          "color": "#636efa",
          "size": [
           466134.75
          ],
          "sizemode": "area",
          "sizeref": 3816.214375
         },
         "mode": "markers",
         "name": "Willowdale West",
         "showlegend": true,
         "subplot": "mapbox",
         "type": "scattermapbox"
        },
        {
         "hovertemplate": "neighbourhood=Willowridge-Martingrove-Richview<br>average_house_value=%{marker.size}<br>lat=%{lat}<br>lon=%{lon}<extra></extra>",
         "lat": [
          43.68364496
         ],
         "legendgroup": "Willowridge-Martingrove-Richview",
         "lon": [
          -79.55422105
         ],
         "marker": {
          "color": "#EF553B",
          "size": [
           464278
          ],
          "sizemode": "area",
          "sizeref": 3816.214375
         },
         "mode": "markers",
         "name": "Willowridge-Martingrove-Richview",
         "showlegend": true,
         "subplot": "mapbox",
         "type": "scattermapbox"
        },
        {
         "hovertemplate": "neighbourhood=Woburn<br>average_house_value=%{marker.size}<br>lat=%{lat}<br>lon=%{lon}<extra></extra>",
         "lat": [
          43.76674024
         ],
         "legendgroup": "Woburn",
         "lon": [
          -79.22858577
         ],
         "marker": {
          "color": "#00cc96",
          "size": [
           298505.75
          ],
          "sizemode": "area",
          "sizeref": 3816.214375
         },
         "mode": "markers",
         "name": "Woburn",
         "showlegend": true,
         "subplot": "mapbox",
         "type": "scattermapbox"
        },
        {
         "hovertemplate": "neighbourhood=Woodbine Corridor<br>average_house_value=%{marker.size}<br>lat=%{lat}<br>lon=%{lon}<extra></extra>",
         "lat": [
          43.67677292
         ],
         "legendgroup": "Woodbine Corridor",
         "lon": [
          -79.31540738
         ],
         "marker": {
          "color": "#ab63fa",
          "size": [
           445382.75
          ],
          "sizemode": "area",
          "sizeref": 3816.214375
         },
         "mode": "markers",
         "name": "Woodbine Corridor",
         "showlegend": true,
         "subplot": "mapbox",
         "type": "scattermapbox"
        },
        {
         "hovertemplate": "neighbourhood=Woodbine-Lumsden<br>average_house_value=%{marker.size}<br>lat=%{lat}<br>lon=%{lon}<extra></extra>",
         "lat": [
          43.69410674
         ],
         "legendgroup": "Woodbine-Lumsden",
         "lon": [
          -79.31116353
         ],
         "marker": {
          "color": "#FFA15A",
          "size": [
           369918.5
          ],
          "sizemode": "area",
          "sizeref": 3816.214375
         },
         "mode": "markers",
         "name": "Woodbine-Lumsden",
         "showlegend": true,
         "subplot": "mapbox",
         "type": "scattermapbox"
        },
        {
         "hovertemplate": "neighbourhood=Wychwood<br>average_house_value=%{marker.size}<br>lat=%{lat}<br>lon=%{lon}<extra></extra>",
         "lat": [
          43.67691927
         ],
         "legendgroup": "Wychwood",
         "lon": [
          -79.42551495
         ],
         "marker": {
          "color": "#19d3f3",
          "size": [
           565976.5
          ],
          "sizemode": "area",
          "sizeref": 3816.214375
         },
         "mode": "markers",
         "name": "Wychwood",
         "showlegend": true,
         "subplot": "mapbox",
         "type": "scattermapbox"
        },
        {
         "hovertemplate": "neighbourhood=Yonge-Eglinton<br>average_house_value=%{marker.size}<br>lat=%{lat}<br>lon=%{lon}<extra></extra>",
         "lat": [
          43.70468937
         ],
         "legendgroup": "Yonge-Eglinton",
         "lon": [
          -79.40359017
         ],
         "marker": {
          "color": "#FF6692",
          "size": [
           809745.75
          ],
          "sizemode": "area",
          "sizeref": 3816.214375
         },
         "mode": "markers",
         "name": "Yonge-Eglinton",
         "showlegend": true,
         "subplot": "mapbox",
         "type": "scattermapbox"
        },
        {
         "hovertemplate": "neighbourhood=Yonge-St.Clair<br>average_house_value=%{marker.size}<br>lat=%{lat}<br>lon=%{lon}<extra></extra>",
         "lat": [
          43.68785887
         ],
         "legendgroup": "Yonge-St.Clair",
         "lon": [
          -79.39787077
         ],
         "marker": {
          "color": "#B6E880",
          "size": [
           813220.25
          ],
          "sizemode": "area",
          "sizeref": 3816.214375
         },
         "mode": "markers",
         "name": "Yonge-St.Clair",
         "showlegend": true,
         "subplot": "mapbox",
         "type": "scattermapbox"
        },
        {
         "hovertemplate": "neighbourhood=York University Heights<br>average_house_value=%{marker.size}<br>lat=%{lat}<br>lon=%{lon}<extra></extra>",
         "lat": [
          43.76573649
         ],
         "legendgroup": "York University Heights",
         "lon": [
          -79.48888293
         ],
         "marker": {
          "color": "#FF97FF",
          "size": [
           305899.5
          ],
          "sizemode": "area",
          "sizeref": 3816.214375
         },
         "mode": "markers",
         "name": "York University Heights",
         "showlegend": true,
         "subplot": "mapbox",
         "type": "scattermapbox"
        },
        {
         "hovertemplate": "neighbourhood=Yorkdale-Glen Park<br>average_house_value=%{marker.size}<br>lat=%{lat}<br>lon=%{lon}<extra></extra>",
         "lat": [
          43.71467153
         ],
         "legendgroup": "Yorkdale-Glen Park",
         "lon": [
          -79.45710807
         ],
         "marker": {
          "color": "#FECB52",
          "size": [
           430861.25
          ],
          "sizemode": "area",
          "sizeref": 3816.214375
         },
         "mode": "markers",
         "name": "Yorkdale-Glen Park",
         "showlegend": true,
         "subplot": "mapbox",
         "type": "scattermapbox"
        }
       ],
       "layout": {
        "autosize": true,
        "legend": {
         "itemsizing": "constant",
         "title": {
          "text": "neighbourhood"
         },
         "tracegroupgap": 0
        },
        "mapbox": {
         "accesstoken": "pk.eyJ1IjoibWFuc29ua2VhbnUiLCJhIjoiY2wwcm1zdTJhMDUwczNkbnh3M29kYTR1ZSJ9.s2CKIZH91gp-Zh0R6GtZxg",
         "bearing": 0,
         "center": {
          "lat": 41.22434878084883,
          "lon": -82.52331672862704
         },
         "domain": {
          "x": [
           0,
           1
          ],
          "y": [
           0,
           1
          ]
         },
         "pitch": 0,
         "zoom": 4.484590584530378
        },
        "margin": {
         "t": 60
        },
        "template": {
         "data": {
          "bar": [
           {
            "error_x": {
             "color": "#2a3f5f"
            },
            "error_y": {
             "color": "#2a3f5f"
            },
            "marker": {
             "line": {
              "color": "#E5ECF6",
              "width": 0.5
             },
             "pattern": {
              "fillmode": "overlay",
              "size": 10,
              "solidity": 0.2
             }
            },
            "type": "bar"
           }
          ],
          "barpolar": [
           {
            "marker": {
             "line": {
              "color": "#E5ECF6",
              "width": 0.5
             },
             "pattern": {
              "fillmode": "overlay",
              "size": 10,
              "solidity": 0.2
             }
            },
            "type": "barpolar"
           }
          ],
          "carpet": [
           {
            "aaxis": {
             "endlinecolor": "#2a3f5f",
             "gridcolor": "white",
             "linecolor": "white",
             "minorgridcolor": "white",
             "startlinecolor": "#2a3f5f"
            },
            "baxis": {
             "endlinecolor": "#2a3f5f",
             "gridcolor": "white",
             "linecolor": "white",
             "minorgridcolor": "white",
             "startlinecolor": "#2a3f5f"
            },
            "type": "carpet"
           }
          ],
          "choropleth": [
           {
            "colorbar": {
             "outlinewidth": 0,
             "ticks": ""
            },
            "type": "choropleth"
           }
          ],
          "contour": [
           {
            "colorbar": {
             "outlinewidth": 0,
             "ticks": ""
            },
            "colorscale": [
             [
              0,
              "#0d0887"
             ],
             [
              0.1111111111111111,
              "#46039f"
             ],
             [
              0.2222222222222222,
              "#7201a8"
             ],
             [
              0.3333333333333333,
              "#9c179e"
             ],
             [
              0.4444444444444444,
              "#bd3786"
             ],
             [
              0.5555555555555556,
              "#d8576b"
             ],
             [
              0.6666666666666666,
              "#ed7953"
             ],
             [
              0.7777777777777778,
              "#fb9f3a"
             ],
             [
              0.8888888888888888,
              "#fdca26"
             ],
             [
              1,
              "#f0f921"
             ]
            ],
            "type": "contour"
           }
          ],
          "contourcarpet": [
           {
            "colorbar": {
             "outlinewidth": 0,
             "ticks": ""
            },
            "type": "contourcarpet"
           }
          ],
          "heatmap": [
           {
            "colorbar": {
             "outlinewidth": 0,
             "ticks": ""
            },
            "colorscale": [
             [
              0,
              "#0d0887"
             ],
             [
              0.1111111111111111,
              "#46039f"
             ],
             [
              0.2222222222222222,
              "#7201a8"
             ],
             [
              0.3333333333333333,
              "#9c179e"
             ],
             [
              0.4444444444444444,
              "#bd3786"
             ],
             [
              0.5555555555555556,
              "#d8576b"
             ],
             [
              0.6666666666666666,
              "#ed7953"
             ],
             [
              0.7777777777777778,
              "#fb9f3a"
             ],
             [
              0.8888888888888888,
              "#fdca26"
             ],
             [
              1,
              "#f0f921"
             ]
            ],
            "type": "heatmap"
           }
          ],
          "heatmapgl": [
           {
            "colorbar": {
             "outlinewidth": 0,
             "ticks": ""
            },
            "colorscale": [
             [
              0,
              "#0d0887"
             ],
             [
              0.1111111111111111,
              "#46039f"
             ],
             [
              0.2222222222222222,
              "#7201a8"
             ],
             [
              0.3333333333333333,
              "#9c179e"
             ],
             [
              0.4444444444444444,
              "#bd3786"
             ],
             [
              0.5555555555555556,
              "#d8576b"
             ],
             [
              0.6666666666666666,
              "#ed7953"
             ],
             [
              0.7777777777777778,
              "#fb9f3a"
             ],
             [
              0.8888888888888888,
              "#fdca26"
             ],
             [
              1,
              "#f0f921"
             ]
            ],
            "type": "heatmapgl"
           }
          ],
          "histogram": [
           {
            "marker": {
             "pattern": {
              "fillmode": "overlay",
              "size": 10,
              "solidity": 0.2
             }
            },
            "type": "histogram"
           }
          ],
          "histogram2d": [
           {
            "colorbar": {
             "outlinewidth": 0,
             "ticks": ""
            },
            "colorscale": [
             [
              0,
              "#0d0887"
             ],
             [
              0.1111111111111111,
              "#46039f"
             ],
             [
              0.2222222222222222,
              "#7201a8"
             ],
             [
              0.3333333333333333,
              "#9c179e"
             ],
             [
              0.4444444444444444,
              "#bd3786"
             ],
             [
              0.5555555555555556,
              "#d8576b"
             ],
             [
              0.6666666666666666,
              "#ed7953"
             ],
             [
              0.7777777777777778,
              "#fb9f3a"
             ],
             [
              0.8888888888888888,
              "#fdca26"
             ],
             [
              1,
              "#f0f921"
             ]
            ],
            "type": "histogram2d"
           }
          ],
          "histogram2dcontour": [
           {
            "colorbar": {
             "outlinewidth": 0,
             "ticks": ""
            },
            "colorscale": [
             [
              0,
              "#0d0887"
             ],
             [
              0.1111111111111111,
              "#46039f"
             ],
             [
              0.2222222222222222,
              "#7201a8"
             ],
             [
              0.3333333333333333,
              "#9c179e"
             ],
             [
              0.4444444444444444,
              "#bd3786"
             ],
             [
              0.5555555555555556,
              "#d8576b"
             ],
             [
              0.6666666666666666,
              "#ed7953"
             ],
             [
              0.7777777777777778,
              "#fb9f3a"
             ],
             [
              0.8888888888888888,
              "#fdca26"
             ],
             [
              1,
              "#f0f921"
             ]
            ],
            "type": "histogram2dcontour"
           }
          ],
          "mesh3d": [
           {
            "colorbar": {
             "outlinewidth": 0,
             "ticks": ""
            },
            "type": "mesh3d"
           }
          ],
          "parcoords": [
           {
            "line": {
             "colorbar": {
              "outlinewidth": 0,
              "ticks": ""
             }
            },
            "type": "parcoords"
           }
          ],
          "pie": [
           {
            "automargin": true,
            "type": "pie"
           }
          ],
          "scatter": [
           {
            "marker": {
             "colorbar": {
              "outlinewidth": 0,
              "ticks": ""
             }
            },
            "type": "scatter"
           }
          ],
          "scatter3d": [
           {
            "line": {
             "colorbar": {
              "outlinewidth": 0,
              "ticks": ""
             }
            },
            "marker": {
             "colorbar": {
              "outlinewidth": 0,
              "ticks": ""
             }
            },
            "type": "scatter3d"
           }
          ],
          "scattercarpet": [
           {
            "marker": {
             "colorbar": {
              "outlinewidth": 0,
              "ticks": ""
             }
            },
            "type": "scattercarpet"
           }
          ],
          "scattergeo": [
           {
            "marker": {
             "colorbar": {
              "outlinewidth": 0,
              "ticks": ""
             }
            },
            "type": "scattergeo"
           }
          ],
          "scattergl": [
           {
            "marker": {
             "colorbar": {
              "outlinewidth": 0,
              "ticks": ""
             }
            },
            "type": "scattergl"
           }
          ],
          "scattermapbox": [
           {
            "marker": {
             "colorbar": {
              "outlinewidth": 0,
              "ticks": ""
             }
            },
            "type": "scattermapbox"
           }
          ],
          "scatterpolar": [
           {
            "marker": {
             "colorbar": {
              "outlinewidth": 0,
              "ticks": ""
             }
            },
            "type": "scatterpolar"
           }
          ],
          "scatterpolargl": [
           {
            "marker": {
             "colorbar": {
              "outlinewidth": 0,
              "ticks": ""
             }
            },
            "type": "scatterpolargl"
           }
          ],
          "scatterternary": [
           {
            "marker": {
             "colorbar": {
              "outlinewidth": 0,
              "ticks": ""
             }
            },
            "type": "scatterternary"
           }
          ],
          "surface": [
           {
            "colorbar": {
             "outlinewidth": 0,
             "ticks": ""
            },
            "colorscale": [
             [
              0,
              "#0d0887"
             ],
             [
              0.1111111111111111,
              "#46039f"
             ],
             [
              0.2222222222222222,
              "#7201a8"
             ],
             [
              0.3333333333333333,
              "#9c179e"
             ],
             [
              0.4444444444444444,
              "#bd3786"
             ],
             [
              0.5555555555555556,
              "#d8576b"
             ],
             [
              0.6666666666666666,
              "#ed7953"
             ],
             [
              0.7777777777777778,
              "#fb9f3a"
             ],
             [
              0.8888888888888888,
              "#fdca26"
             ],
             [
              1,
              "#f0f921"
             ]
            ],
            "type": "surface"
           }
          ],
          "table": [
           {
            "cells": {
             "fill": {
              "color": "#EBF0F8"
             },
             "line": {
              "color": "white"
             }
            },
            "header": {
             "fill": {
              "color": "#C8D4E3"
             },
             "line": {
              "color": "white"
             }
            },
            "type": "table"
           }
          ]
         },
         "layout": {
          "annotationdefaults": {
           "arrowcolor": "#2a3f5f",
           "arrowhead": 0,
           "arrowwidth": 1
          },
          "autotypenumbers": "strict",
          "coloraxis": {
           "colorbar": {
            "outlinewidth": 0,
            "ticks": ""
           }
          },
          "colorscale": {
           "diverging": [
            [
             0,
             "#8e0152"
            ],
            [
             0.1,
             "#c51b7d"
            ],
            [
             0.2,
             "#de77ae"
            ],
            [
             0.3,
             "#f1b6da"
            ],
            [
             0.4,
             "#fde0ef"
            ],
            [
             0.5,
             "#f7f7f7"
            ],
            [
             0.6,
             "#e6f5d0"
            ],
            [
             0.7,
             "#b8e186"
            ],
            [
             0.8,
             "#7fbc41"
            ],
            [
             0.9,
             "#4d9221"
            ],
            [
             1,
             "#276419"
            ]
           ],
           "sequential": [
            [
             0,
             "#0d0887"
            ],
            [
             0.1111111111111111,
             "#46039f"
            ],
            [
             0.2222222222222222,
             "#7201a8"
            ],
            [
             0.3333333333333333,
             "#9c179e"
            ],
            [
             0.4444444444444444,
             "#bd3786"
            ],
            [
             0.5555555555555556,
             "#d8576b"
            ],
            [
             0.6666666666666666,
             "#ed7953"
            ],
            [
             0.7777777777777778,
             "#fb9f3a"
            ],
            [
             0.8888888888888888,
             "#fdca26"
            ],
            [
             1,
             "#f0f921"
            ]
           ],
           "sequentialminus": [
            [
             0,
             "#0d0887"
            ],
            [
             0.1111111111111111,
             "#46039f"
            ],
            [
             0.2222222222222222,
             "#7201a8"
            ],
            [
             0.3333333333333333,
             "#9c179e"
            ],
            [
             0.4444444444444444,
             "#bd3786"
            ],
            [
             0.5555555555555556,
             "#d8576b"
            ],
            [
             0.6666666666666666,
             "#ed7953"
            ],
            [
             0.7777777777777778,
             "#fb9f3a"
            ],
            [
             0.8888888888888888,
             "#fdca26"
            ],
            [
             1,
             "#f0f921"
            ]
           ]
          },
          "colorway": [
           "#636efa",
           "#EF553B",
           "#00cc96",
           "#ab63fa",
           "#FFA15A",
           "#19d3f3",
           "#FF6692",
           "#B6E880",
           "#FF97FF",
           "#FECB52"
          ],
          "font": {
           "color": "#2a3f5f"
          },
          "geo": {
           "bgcolor": "white",
           "lakecolor": "white",
           "landcolor": "#E5ECF6",
           "showlakes": true,
           "showland": true,
           "subunitcolor": "white"
          },
          "hoverlabel": {
           "align": "left"
          },
          "hovermode": "closest",
          "mapbox": {
           "style": "light"
          },
          "paper_bgcolor": "white",
          "plot_bgcolor": "#E5ECF6",
          "polar": {
           "angularaxis": {
            "gridcolor": "white",
            "linecolor": "white",
            "ticks": ""
           },
           "bgcolor": "#E5ECF6",
           "radialaxis": {
            "gridcolor": "white",
            "linecolor": "white",
            "ticks": ""
           }
          },
          "scene": {
           "xaxis": {
            "backgroundcolor": "#E5ECF6",
            "gridcolor": "white",
            "gridwidth": 2,
            "linecolor": "white",
            "showbackground": true,
            "ticks": "",
            "zerolinecolor": "white"
           },
           "yaxis": {
            "backgroundcolor": "#E5ECF6",
            "gridcolor": "white",
            "gridwidth": 2,
            "linecolor": "white",
            "showbackground": true,
            "ticks": "",
            "zerolinecolor": "white"
           },
           "zaxis": {
            "backgroundcolor": "#E5ECF6",
            "gridcolor": "white",
            "gridwidth": 2,
            "linecolor": "white",
            "showbackground": true,
            "ticks": "",
            "zerolinecolor": "white"
           }
          },
          "shapedefaults": {
           "line": {
            "color": "#2a3f5f"
           }
          },
          "ternary": {
           "aaxis": {
            "gridcolor": "white",
            "linecolor": "white",
            "ticks": ""
           },
           "baxis": {
            "gridcolor": "white",
            "linecolor": "white",
            "ticks": ""
           },
           "bgcolor": "#E5ECF6",
           "caxis": {
            "gridcolor": "white",
            "linecolor": "white",
            "ticks": ""
           }
          },
          "title": {
           "x": 0.05
          },
          "xaxis": {
           "automargin": true,
           "gridcolor": "white",
           "linecolor": "white",
           "ticks": "",
           "title": {
            "standoff": 15
           },
           "zerolinecolor": "white",
           "zerolinewidth": 2
          },
          "yaxis": {
           "automargin": true,
           "gridcolor": "white",
           "linecolor": "white",
           "ticks": "",
           "title": {
            "standoff": 15
           },
           "zerolinecolor": "white",
           "zerolinewidth": 2
          }
         }
        }
       }
      },
      "image/png": "[encoded data removed]",
      "text/html": [
       "<div>                            <div id=\"f50d94b0-6749-4f4f-803d-5564c675c16c\" class=\"plotly-graph-div\" style=\"height:525px; width:100%;\"></div>            <script type=\"text/javascript\">                require([\"plotly\"], function(Plotly) {                    window.PLOTLYENV=window.PLOTLYENV || {};                                    if (document.getElementById(\"f50d94b0-6749-4f4f-803d-5564c675c16c\")) {                    Plotly.newPlot(                        \"f50d94b0-6749-4f4f-803d-5564c675c16c\",                        [{\"hovertemplate\":\"neighbourhood=Agincourt North<br>average_house_value=%{marker.size}<br>lat=%{lat}<br>lon=%{lon}<extra></extra>\",\"lat\":[43.80544058],\"legendgroup\":\"Agincourt North\",\"lon\":[-79.26671217],\"marker\":{\"color\":\"#636efa\",\"size\":[329811.5],\"sizemode\":\"area\",\"sizeref\":3816.214375},\"mode\":\"markers\",\"name\":\"Agincourt North\",\"showlegend\":true,\"subplot\":\"mapbox\",\"type\":\"scattermapbox\"},{\"hovertemplate\":\"neighbourhood=Agincourt South-Malvern West<br>average_house_value=%{marker.size}<br>lat=%{lat}<br>lon=%{lon}<extra></extra>\",\"lat\":[43.78865755],\"legendgroup\":\"Agincourt South-Malvern West\",\"lon\":[-79.2656118],\"marker\":{\"color\":\"#EF553B\",\"size\":[334189.0],\"sizemode\":\"area\",\"sizeref\":3816.214375},\"mode\":\"markers\",\"name\":\"Agincourt South-Malvern West\",\"showlegend\":true,\"subplot\":\"mapbox\",\"type\":\"scattermapbox\"},{\"hovertemplate\":\"neighbourhood=Alderwood<br>average_house_value=%{marker.size}<br>lat=%{lat}<br>lon=%{lon}<extra></extra>\",\"lat\":[43.6049369],\"legendgroup\":\"Alderwood\",\"lon\":[-79.54161093],\"marker\":{\"color\":\"#00cc96\",\"size\":[427922.5],\"sizemode\":\"area\",\"sizeref\":3816.214375},\"mode\":\"markers\",\"name\":\"Alderwood\",\"showlegend\":true,\"subplot\":\"mapbox\",\"type\":\"scattermapbox\"},{\"hovertemplate\":\"neighbourhood=Annex<br>average_house_value=%{marker.size}<br>lat=%{lat}<br>lon=%{lon}<extra></extra>\",\"lat\":[43.67158544],\"legendgroup\":\"Annex\",\"lon\":[-79.40400062],\"marker\":{\"color\":\"#ab63fa\",\"size\":[746977.0],\"sizemode\":\"area\",\"sizeref\":3816.214375},\"mode\":\"markers\",\"name\":\"Annex\",\"showlegend\":true,\"subplot\":\"mapbox\",\"type\":\"scattermapbox\"},{\"hovertemplate\":\"neighbourhood=Banbury-Don Mills<br>average_house_value=%{marker.size}<br>lat=%{lat}<br>lon=%{lon}<extra></extra>\",\"lat\":[43.737657],\"legendgroup\":\"Banbury-Don Mills\",\"lon\":[-79.34971798],\"marker\":{\"color\":\"#FFA15A\",\"size\":[612039.0],\"sizemode\":\"area\",\"sizeref\":3816.214375},\"mode\":\"markers\",\"name\":\"Banbury-Don Mills\",\"showlegend\":true,\"subplot\":\"mapbox\",\"type\":\"scattermapbox\"},{\"hovertemplate\":\"neighbourhood=Bathurst Manor<br>average_house_value=%{marker.size}<br>lat=%{lat}<br>lon=%{lon}<extra></extra>\",\"lat\":[43.76481331],\"legendgroup\":\"Bathurst Manor\",\"lon\":[-79.45605516],\"marker\":{\"color\":\"#19d3f3\",\"size\":[501576.75],\"sizemode\":\"area\",\"sizeref\":3816.214375},\"mode\":\"markers\",\"name\":\"Bathurst Manor\",\"showlegend\":true,\"subplot\":\"mapbox\",\"type\":\"scattermapbox\"},{\"hovertemplate\":\"neighbourhood=Bay Street Corridor<br>average_house_value=%{marker.size}<br>lat=%{lat}<br>lon=%{lon}<extra></extra>\",\"lat\":[43.65751135],\"legendgroup\":\"Bay Street Corridor\",\"lon\":[-79.38572125],\"marker\":{\"color\":\"#FF6692\",\"size\":[423653.5],\"sizemode\":\"area\",\"sizeref\":3816.214375},\"mode\":\"markers\",\"name\":\"Bay Street Corridor\",\"showlegend\":true,\"subplot\":\"mapbox\",\"type\":\"scattermapbox\"},{\"hovertemplate\":\"neighbourhood=Bayview Village<br>average_house_value=%{marker.size}<br>lat=%{lat}<br>lon=%{lon}<extra></extra>\",\"lat\":[43.77636052],\"legendgroup\":\"Bayview Village\",\"lon\":[-79.37711686],\"marker\":{\"color\":\"#B6E880\",\"size\":[539258.75],\"sizemode\":\"area\",\"sizeref\":3816.214375},\"mode\":\"markers\",\"name\":\"Bayview Village\",\"showlegend\":true,\"subplot\":\"mapbox\",\"type\":\"scattermapbox\"},{\"hovertemplate\":\"neighbourhood=Bayview Woods-Steeles<br>average_house_value=%{marker.size}<br>lat=%{lat}<br>lon=%{lon}<extra></extra>\",\"lat\":[43.79680187],\"legendgroup\":\"Bayview Woods-Steeles\",\"lon\":[-79.38211795],\"marker\":{\"color\":\"#FF97FF\",\"size\":[565413.5],\"sizemode\":\"area\",\"sizeref\":3816.214375},\"mode\":\"markers\",\"name\":\"Bayview Woods-Steeles\",\"showlegend\":true,\"subplot\":\"mapbox\",\"type\":\"scattermapbox\"},{\"hovertemplate\":\"neighbourhood=Bedford Park-Nortown<br>average_house_value=%{marker.size}<br>lat=%{lat}<br>lon=%{lon}<extra></extra>\",\"lat\":[43.73148623],\"legendgroup\":\"Bedford Park-Nortown\",\"lon\":[-79.42022735],\"marker\":{\"color\":\"#FECB52\",\"size\":[930415.25],\"sizemode\":\"area\",\"sizeref\":3816.214375},\"mode\":\"markers\",\"name\":\"Bedford Park-Nortown\",\"showlegend\":true,\"subplot\":\"mapbox\",\"type\":\"scattermapbox\"},{\"hovertemplate\":\"neighbourhood=Beechborough-Greenbrook<br>average_house_value=%{marker.size}<br>lat=%{lat}<br>lon=%{lon}<extra></extra>\",\"lat\":[43.69321649],\"legendgroup\":\"Beechborough-Greenbrook\",\"lon\":[-79.47947251],\"marker\":{\"color\":\"#636efa\",\"size\":[370927.75],\"sizemode\":\"area\",\"sizeref\":3816.214375},\"mode\":\"markers\",\"name\":\"Beechborough-Greenbrook\",\"showlegend\":true,\"subplot\":\"mapbox\",\"type\":\"scattermapbox\"},{\"hovertemplate\":\"neighbourhood=Bendale<br>average_house_value=%{marker.size}<br>lat=%{lat}<br>lon=%{lon}<extra></extra>\",\"lat\":[43.76036631],\"legendgroup\":\"Bendale\",\"lon\":[-79.25740037],\"marker\":{\"color\":\"#EF553B\",\"size\":[301123.25],\"sizemode\":\"area\",\"sizeref\":3816.214375},\"mode\":\"markers\",\"name\":\"Bendale\",\"showlegend\":true,\"subplot\":\"mapbox\",\"type\":\"scattermapbox\"},{\"hovertemplate\":\"neighbourhood=Birchcliffe-Cliffside<br>average_house_value=%{marker.size}<br>lat=%{lat}<br>lon=%{lon}<extra></extra>\",\"lat\":[43.69468198],\"legendgroup\":\"Birchcliffe-Cliffside\",\"lon\":[-79.26509259],\"marker\":{\"color\":\"#00cc96\",\"size\":[437315.0],\"sizemode\":\"area\",\"sizeref\":3816.214375},\"mode\":\"markers\",\"name\":\"Birchcliffe-Cliffside\",\"showlegend\":true,\"subplot\":\"mapbox\",\"type\":\"scattermapbox\"},{\"hovertemplate\":\"neighbourhood=Black Creek<br>average_house_value=%{marker.size}<br>lat=%{lat}<br>lon=%{lon}<extra></extra>\",\"lat\":[43.76489025],\"legendgroup\":\"Black Creek\",\"lon\":[-79.52197932],\"marker\":{\"color\":\"#ab63fa\",\"size\":[260841.75],\"sizemode\":\"area\",\"sizeref\":3816.214375},\"mode\":\"markers\",\"name\":\"Black Creek\",\"showlegend\":true,\"subplot\":\"mapbox\",\"type\":\"scattermapbox\"},{\"hovertemplate\":\"neighbourhood=Blake-Jones<br>average_house_value=%{marker.size}<br>lat=%{lat}<br>lon=%{lon}<extra></extra>\",\"lat\":[43.67617288],\"legendgroup\":\"Blake-Jones\",\"lon\":[-79.33739417],\"marker\":{\"color\":\"#FFA15A\",\"size\":[511437.0],\"sizemode\":\"area\",\"sizeref\":3816.214375},\"mode\":\"markers\",\"name\":\"Blake-Jones\",\"showlegend\":true,\"subplot\":\"mapbox\",\"type\":\"scattermapbox\"},{\"hovertemplate\":\"neighbourhood=Briar Hill-Belgravia<br>average_house_value=%{marker.size}<br>lat=%{lat}<br>lon=%{lon}<extra></extra>\",\"lat\":[43.69902438],\"legendgroup\":\"Briar Hill-Belgravia\",\"lon\":[-79.4528513],\"marker\":{\"color\":\"#19d3f3\",\"size\":[365524.5],\"sizemode\":\"area\",\"sizeref\":3816.214375},\"mode\":\"markers\",\"name\":\"Briar Hill-Belgravia\",\"showlegend\":true,\"subplot\":\"mapbox\",\"type\":\"scattermapbox\"},{\"hovertemplate\":\"neighbourhood=Bridle Path-Sunnybrook-York Mills<br>average_house_value=%{marker.size}<br>lat=%{lat}<br>lon=%{lon}<extra></extra>\",\"lat\":[43.73101314],\"legendgroup\":\"Bridle Path-Sunnybrook-York Mills\",\"lon\":[-79.37890418],\"marker\":{\"color\":\"#FF6692\",\"size\":[1526485.75],\"sizemode\":\"area\",\"sizeref\":3816.214375},\"mode\":\"markers\",\"name\":\"Bridle Path-Sunnybrook-York Mills\",\"showlegend\":true,\"subplot\":\"mapbox\",\"type\":\"scattermapbox\"},{\"hovertemplate\":\"neighbourhood=Broadview North<br>average_house_value=%{marker.size}<br>lat=%{lat}<br>lon=%{lon}<extra></extra>\",\"lat\":[43.68882512],\"legendgroup\":\"Broadview North\",\"lon\":[-79.35562951],\"marker\":{\"color\":\"#B6E880\",\"size\":[443373.25],\"sizemode\":\"area\",\"sizeref\":3816.214375},\"mode\":\"markers\",\"name\":\"Broadview North\",\"showlegend\":true,\"subplot\":\"mapbox\",\"type\":\"scattermapbox\"},{\"hovertemplate\":\"neighbourhood=Brookhaven-Amesbury<br>average_house_value=%{marker.size}<br>lat=%{lat}<br>lon=%{lon}<extra></extra>\",\"lat\":[43.70132631],\"legendgroup\":\"Brookhaven-Amesbury\",\"lon\":[-79.48558926],\"marker\":{\"color\":\"#FF97FF\",\"size\":[350943.0],\"sizemode\":\"area\",\"sizeref\":3816.214375},\"mode\":\"markers\",\"name\":\"Brookhaven-Amesbury\",\"showlegend\":true,\"subplot\":\"mapbox\",\"type\":\"scattermapbox\"},{\"hovertemplate\":\"neighbourhood=Cabbagetown-South St.James Town<br>average_house_value=%{marker.size}<br>lat=%{lat}<br>lon=%{lon}<extra></extra>\",\"lat\":[43.66764773],\"legendgroup\":\"Cabbagetown-South St.James Town\",\"lon\":[-79.36610666],\"marker\":{\"color\":\"#FECB52\",\"size\":[494110.5],\"sizemode\":\"area\",\"sizeref\":3816.214375},\"mode\":\"markers\",\"name\":\"Cabbagetown-South St.James Town\",\"showlegend\":true,\"subplot\":\"mapbox\",\"type\":\"scattermapbox\"},{\"hovertemplate\":\"neighbourhood=Caledonia-Fairbank<br>average_house_value=%{marker.size}<br>lat=%{lat}<br>lon=%{lon}<extra></extra>\",\"lat\":[43.68856865],\"legendgroup\":\"Caledonia-Fairbank\",\"lon\":[-79.45521208],\"marker\":{\"color\":\"#636efa\",\"size\":[361714.25],\"sizemode\":\"area\",\"sizeref\":3816.214375},\"mode\":\"markers\",\"name\":\"Caledonia-Fairbank\",\"showlegend\":true,\"subplot\":\"mapbox\",\"type\":\"scattermapbox\"},{\"hovertemplate\":\"neighbourhood=Casa Loma<br>average_house_value=%{marker.size}<br>lat=%{lat}<br>lon=%{lon}<extra></extra>\",\"lat\":[43.6818521],\"legendgroup\":\"Casa Loma\",\"lon\":[-79.40800665],\"marker\":{\"color\":\"#EF553B\",\"size\":[981064.25],\"sizemode\":\"area\",\"sizeref\":3816.214375},\"mode\":\"markers\",\"name\":\"Casa Loma\",\"showlegend\":true,\"subplot\":\"mapbox\",\"type\":\"scattermapbox\"},{\"hovertemplate\":\"neighbourhood=Centennial Scarborough<br>average_house_value=%{marker.size}<br>lat=%{lat}<br>lon=%{lon}<extra></extra>\",\"lat\":[43.7823765],\"legendgroup\":\"Centennial Scarborough\",\"lon\":[-79.15084327],\"marker\":{\"color\":\"#00cc96\",\"size\":[409862.75],\"sizemode\":\"area\",\"sizeref\":3816.214375},\"mode\":\"markers\",\"name\":\"Centennial Scarborough\",\"showlegend\":true,\"subplot\":\"mapbox\",\"type\":\"scattermapbox\"},{\"hovertemplate\":\"neighbourhood=Church-Yonge Corridor<br>average_house_value=%{marker.size}<br>lat=%{lat}<br>lon=%{lon}<extra></extra>\",\"lat\":[43.65964886],\"legendgroup\":\"Church-Yonge Corridor\",\"lon\":[-79.37901717],\"marker\":{\"color\":\"#ab63fa\",\"size\":[406117.5],\"sizemode\":\"area\",\"sizeref\":3816.214375},\"mode\":\"markers\",\"name\":\"Church-Yonge Corridor\",\"showlegend\":true,\"subplot\":\"mapbox\",\"type\":\"scattermapbox\"},{\"hovertemplate\":\"neighbourhood=Clairlea-Birchmount<br>average_house_value=%{marker.size}<br>lat=%{lat}<br>lon=%{lon}<extra></extra>\",\"lat\":[43.71359238],\"legendgroup\":\"Clairlea-Birchmount\",\"lon\":[-79.28138178],\"marker\":{\"color\":\"#FFA15A\",\"size\":[354555.25],\"sizemode\":\"area\",\"sizeref\":3816.214375},\"mode\":\"markers\",\"name\":\"Clairlea-Birchmount\",\"showlegend\":true,\"subplot\":\"mapbox\",\"type\":\"scattermapbox\"},{\"hovertemplate\":\"neighbourhood=Clanton Park<br>average_house_value=%{marker.size}<br>lat=%{lat}<br>lon=%{lon}<extra></extra>\",\"lat\":[43.74197843],\"legendgroup\":\"Clanton Park\",\"lon\":[-79.44630258],\"marker\":{\"color\":\"#19d3f3\",\"size\":[551561.25],\"sizemode\":\"area\",\"sizeref\":3816.214375},\"mode\":\"markers\",\"name\":\"Clanton Park\",\"showlegend\":true,\"subplot\":\"mapbox\",\"type\":\"scattermapbox\"},{\"hovertemplate\":\"neighbourhood=Cliffcrest<br>average_house_value=%{marker.size}<br>lat=%{lat}<br>lon=%{lon}<extra></extra>\",\"lat\":[43.72112117],\"legendgroup\":\"Cliffcrest\",\"lon\":[-79.23552957],\"marker\":{\"color\":\"#FF6692\",\"size\":[417422.0],\"sizemode\":\"area\",\"sizeref\":3816.214375},\"mode\":\"markers\",\"name\":\"Cliffcrest\",\"showlegend\":true,\"subplot\":\"mapbox\",\"type\":\"scattermapbox\"},{\"hovertemplate\":\"neighbourhood=Corso Italia-Davenport<br>average_house_value=%{marker.size}<br>lat=%{lat}<br>lon=%{lon}<extra></extra>\",\"lat\":[43.67766091],\"legendgroup\":\"Corso Italia-Davenport\",\"lon\":[-79.44746933],\"marker\":{\"color\":\"#B6E880\",\"size\":[419930.5],\"sizemode\":\"area\",\"sizeref\":3816.214375},\"mode\":\"markers\",\"name\":\"Corso Italia-Davenport\",\"showlegend\":true,\"subplot\":\"mapbox\",\"type\":\"scattermapbox\"},{\"hovertemplate\":\"neighbourhood=Danforth<br>average_house_value=%{marker.size}<br>lat=%{lat}<br>lon=%{lon}<extra></extra>\",\"lat\":[43.68402547],\"legendgroup\":\"Danforth\",\"lon\":[-79.32981941],\"marker\":{\"color\":\"#FF97FF\",\"size\":[466943.0],\"sizemode\":\"area\",\"sizeref\":3816.214375},\"mode\":\"markers\",\"name\":\"Danforth\",\"showlegend\":true,\"subplot\":\"mapbox\",\"type\":\"scattermapbox\"},{\"hovertemplate\":\"neighbourhood=Danforth-East York<br>average_house_value=%{marker.size}<br>lat=%{lat}<br>lon=%{lon}<extra></extra>\",\"lat\":[43.68946809],\"legendgroup\":\"Danforth-East York\",\"lon\":[-79.33140338],\"marker\":{\"color\":\"#FECB52\",\"size\":[421679.25],\"sizemode\":\"area\",\"sizeref\":3816.214375},\"mode\":\"markers\",\"name\":\"Danforth-East York\",\"showlegend\":true,\"subplot\":\"mapbox\",\"type\":\"scattermapbox\"},{\"hovertemplate\":\"neighbourhood=Don Valley Village<br>average_house_value=%{marker.size}<br>lat=%{lat}<br>lon=%{lon}<extra></extra>\",\"lat\":[43.78329369],\"legendgroup\":\"Don Valley Village\",\"lon\":[-79.35364413],\"marker\":{\"color\":\"#636efa\",\"size\":[398010.25],\"sizemode\":\"area\",\"sizeref\":3816.214375},\"mode\":\"markers\",\"name\":\"Don Valley Village\",\"showlegend\":true,\"subplot\":\"mapbox\",\"type\":\"scattermapbox\"},{\"hovertemplate\":\"neighbourhood=Dorset Park<br>average_house_value=%{marker.size}<br>lat=%{lat}<br>lon=%{lon}<extra></extra>\",\"lat\":[43.75927437],\"legendgroup\":\"Dorset Park\",\"lon\":[-79.27890794],\"marker\":{\"color\":\"#EF553B\",\"size\":[262000.25],\"sizemode\":\"area\",\"sizeref\":3816.214375},\"mode\":\"markers\",\"name\":\"Dorset Park\",\"showlegend\":true,\"subplot\":\"mapbox\",\"type\":\"scattermapbox\"},{\"hovertemplate\":\"neighbourhood=Dovercourt-Wallace Emerson-Juncti<br>average_house_value=%{marker.size}<br>lat=%{lat}<br>lon=%{lon}<extra></extra>\",\"lat\":[43.66567693],\"legendgroup\":\"Dovercourt-Wallace Emerson-Juncti\",\"lon\":[-79.4385407],\"marker\":{\"color\":\"#00cc96\",\"size\":[434699.5],\"sizemode\":\"area\",\"sizeref\":3816.214375},\"mode\":\"markers\",\"name\":\"Dovercourt-Wallace Emerson-Juncti\",\"showlegend\":true,\"subplot\":\"mapbox\",\"type\":\"scattermapbox\"},{\"hovertemplate\":\"neighbourhood=Downsview-Roding-CFB<br>average_house_value=%{marker.size}<br>lat=%{lat}<br>lon=%{lon}<extra></extra>\",\"lat\":[43.73329235],\"legendgroup\":\"Downsview-Roding-CFB\",\"lon\":[-79.49049735],\"marker\":{\"color\":\"#ab63fa\",\"size\":[381415.5],\"sizemode\":\"area\",\"sizeref\":3816.214375},\"mode\":\"markers\",\"name\":\"Downsview-Roding-CFB\",\"showlegend\":true,\"subplot\":\"mapbox\",\"type\":\"scattermapbox\"},{\"hovertemplate\":\"neighbourhood=Dufferin Grove<br>average_house_value=%{marker.size}<br>lat=%{lat}<br>lon=%{lon}<extra></extra>\",\"lat\":[43.65542833],\"legendgroup\":\"Dufferin Grove\",\"lon\":[-79.43734104],\"marker\":{\"color\":\"#FFA15A\",\"size\":[457588.75],\"sizemode\":\"area\",\"sizeref\":3816.214375},\"mode\":\"markers\",\"name\":\"Dufferin Grove\",\"showlegend\":true,\"subplot\":\"mapbox\",\"type\":\"scattermapbox\"},{\"hovertemplate\":\"neighbourhood=East End-Danforth<br>average_house_value=%{marker.size}<br>lat=%{lat}<br>lon=%{lon}<extra></extra>\",\"lat\":[43.68417388],\"legendgroup\":\"East End-Danforth\",\"lon\":[-79.29935867],\"marker\":{\"color\":\"#19d3f3\",\"size\":[478054.25],\"sizemode\":\"area\",\"sizeref\":3816.214375},\"mode\":\"markers\",\"name\":\"East End-Danforth\",\"showlegend\":true,\"subplot\":\"mapbox\",\"type\":\"scattermapbox\"},{\"hovertemplate\":\"neighbourhood=Edenbridge-Humber Valley<br>average_house_value=%{marker.size}<br>lat=%{lat}<br>lon=%{lon}<extra></extra>\",\"lat\":[43.67088591],\"legendgroup\":\"Edenbridge-Humber Valley\",\"lon\":[-79.52245776],\"marker\":{\"color\":\"#FF6692\",\"size\":[796162.5],\"sizemode\":\"area\",\"sizeref\":3816.214375},\"mode\":\"markers\",\"name\":\"Edenbridge-Humber Valley\",\"showlegend\":true,\"subplot\":\"mapbox\",\"type\":\"scattermapbox\"},{\"hovertemplate\":\"neighbourhood=Eglinton East<br>average_house_value=%{marker.size}<br>lat=%{lat}<br>lon=%{lon}<extra></extra>\",\"lat\":[43.7409223],\"legendgroup\":\"Eglinton East\",\"lon\":[-79.24559804],\"marker\":{\"color\":\"#B6E880\",\"size\":[268966.5],\"sizemode\":\"area\",\"sizeref\":3816.214375},\"mode\":\"markers\",\"name\":\"Eglinton East\",\"showlegend\":true,\"subplot\":\"mapbox\",\"type\":\"scattermapbox\"},{\"hovertemplate\":\"neighbourhood=Elms-Old Rexdale<br>average_house_value=%{marker.size}<br>lat=%{lat}<br>lon=%{lon}<extra></extra>\",\"lat\":[43.72151887],\"legendgroup\":\"Elms-Old Rexdale\",\"lon\":[-79.54898272],\"marker\":{\"color\":\"#FF97FF\",\"size\":[268341.25],\"sizemode\":\"area\",\"sizeref\":3816.214375},\"mode\":\"markers\",\"name\":\"Elms-Old Rexdale\",\"showlegend\":true,\"subplot\":\"mapbox\",\"type\":\"scattermapbox\"},{\"hovertemplate\":\"neighbourhood=Englemount-Lawrence<br>average_house_value=%{marker.size}<br>lat=%{lat}<br>lon=%{lon}<extra></extra>\",\"lat\":[43.72034467],\"legendgroup\":\"Englemount-Lawrence\",\"lon\":[-79.43740855],\"marker\":{\"color\":\"#FECB52\",\"size\":[568936.75],\"sizemode\":\"area\",\"sizeref\":3816.214375},\"mode\":\"markers\",\"name\":\"Englemount-Lawrence\",\"showlegend\":true,\"subplot\":\"mapbox\",\"type\":\"scattermapbox\"},{\"hovertemplate\":\"neighbourhood=Eringate-Centennial-West Deane<br>average_house_value=%{marker.size}<br>lat=%{lat}<br>lon=%{lon}<extra></extra>\",\"lat\":[43.65801676],\"legendgroup\":\"Eringate-Centennial-West Deane\",\"lon\":[-79.58044524],\"marker\":{\"color\":\"#636efa\",\"size\":[397781.75],\"sizemode\":\"area\",\"sizeref\":3816.214375},\"mode\":\"markers\",\"name\":\"Eringate-Centennial-West Deane\",\"showlegend\":true,\"subplot\":\"mapbox\",\"type\":\"scattermapbox\"},{\"hovertemplate\":\"neighbourhood=Etobicoke West Mall<br>average_house_value=%{marker.size}<br>lat=%{lat}<br>lon=%{lon}<extra></extra>\",\"lat\":[43.64506262],\"legendgroup\":\"Etobicoke West Mall\",\"lon\":[-79.56893877],\"marker\":{\"color\":\"#EF553B\",\"size\":[309412.0],\"sizemode\":\"area\",\"sizeref\":3816.214375},\"mode\":\"markers\",\"name\":\"Etobicoke West Mall\",\"showlegend\":true,\"subplot\":\"mapbox\",\"type\":\"scattermapbox\"},{\"hovertemplate\":\"neighbourhood=Flemingdon Park<br>average_house_value=%{marker.size}<br>lat=%{lat}<br>lon=%{lon}<extra></extra>\",\"lat\":[43.71592975],\"legendgroup\":\"Flemingdon Park\",\"lon\":[-79.33264597],\"marker\":{\"color\":\"#00cc96\",\"size\":[207799.0],\"sizemode\":\"area\",\"sizeref\":3816.214375},\"mode\":\"markers\",\"name\":\"Flemingdon Park\",\"showlegend\":true,\"subplot\":\"mapbox\",\"type\":\"scattermapbox\"},{\"hovertemplate\":\"neighbourhood=Forest Hill North<br>average_house_value=%{marker.size}<br>lat=%{lat}<br>lon=%{lon}<extra></extra>\",\"lat\":[43.70421756],\"legendgroup\":\"Forest Hill North\",\"lon\":[-79.42814316],\"marker\":{\"color\":\"#ab63fa\",\"size\":[851680.5],\"sizemode\":\"area\",\"sizeref\":3816.214375},\"mode\":\"markers\",\"name\":\"Forest Hill North\",\"showlegend\":true,\"subplot\":\"mapbox\",\"type\":\"scattermapbox\"},{\"hovertemplate\":\"neighbourhood=Forest Hill South<br>average_house_value=%{marker.size}<br>lat=%{lat}<br>lon=%{lon}<extra></extra>\",\"lat\":[43.69452576],\"legendgroup\":\"Forest Hill South\",\"lon\":[-79.41431786],\"marker\":{\"color\":\"#FFA15A\",\"size\":[1195992.5],\"sizemode\":\"area\",\"sizeref\":3816.214375},\"mode\":\"markers\",\"name\":\"Forest Hill South\",\"showlegend\":true,\"subplot\":\"mapbox\",\"type\":\"scattermapbox\"},{\"hovertemplate\":\"neighbourhood=Glenfield-Jane Heights<br>average_house_value=%{marker.size}<br>lat=%{lat}<br>lon=%{lon}<extra></extra>\",\"lat\":[43.74563575],\"legendgroup\":\"Glenfield-Jane Heights\",\"lon\":[-79.51346532],\"marker\":{\"color\":\"#19d3f3\",\"size\":[327597.75],\"sizemode\":\"area\",\"sizeref\":3816.214375},\"mode\":\"markers\",\"name\":\"Glenfield-Jane Heights\",\"showlegend\":true,\"subplot\":\"mapbox\",\"type\":\"scattermapbox\"},{\"hovertemplate\":\"neighbourhood=Greenwood-Coxwell<br>average_house_value=%{marker.size}<br>lat=%{lat}<br>lon=%{lon}<extra></extra>\",\"lat\":[43.67261231],\"legendgroup\":\"Greenwood-Coxwell\",\"lon\":[-79.32431802],\"marker\":{\"color\":\"#FF6692\",\"size\":[387055.5],\"sizemode\":\"area\",\"sizeref\":3816.214375},\"mode\":\"markers\",\"name\":\"Greenwood-Coxwell\",\"showlegend\":true,\"subplot\":\"mapbox\",\"type\":\"scattermapbox\"},{\"hovertemplate\":\"neighbourhood=Guildwood<br>average_house_value=%{marker.size}<br>lat=%{lat}<br>lon=%{lon}<extra></extra>\",\"lat\":[43.74882934],\"legendgroup\":\"Guildwood\",\"lon\":[-79.19505535],\"marker\":{\"color\":\"#B6E880\",\"size\":[369373.5],\"sizemode\":\"area\",\"sizeref\":3816.214375},\"mode\":\"markers\",\"name\":\"Guildwood\",\"showlegend\":true,\"subplot\":\"mapbox\",\"type\":\"scattermapbox\"},{\"hovertemplate\":\"neighbourhood=Henry Farm<br>average_house_value=%{marker.size}<br>lat=%{lat}<br>lon=%{lon}<extra></extra>\",\"lat\":[43.77114414],\"legendgroup\":\"Henry Farm\",\"lon\":[-79.34124067],\"marker\":{\"color\":\"#FF97FF\",\"size\":[369958.0],\"sizemode\":\"area\",\"sizeref\":3816.214375},\"mode\":\"markers\",\"name\":\"Henry Farm\",\"showlegend\":true,\"subplot\":\"mapbox\",\"type\":\"scattermapbox\"},{\"hovertemplate\":\"neighbourhood=High Park North<br>average_house_value=%{marker.size}<br>lat=%{lat}<br>lon=%{lon}<extra></extra>\",\"lat\":[43.65756491],\"legendgroup\":\"High Park North\",\"lon\":[-79.46630217],\"marker\":{\"color\":\"#FECB52\",\"size\":[532497.0],\"sizemode\":\"area\",\"sizeref\":3816.214375},\"mode\":\"markers\",\"name\":\"High Park North\",\"showlegend\":true,\"subplot\":\"mapbox\",\"type\":\"scattermapbox\"},{\"hovertemplate\":\"neighbourhood=High Park-Swansea<br>average_house_value=%{marker.size}<br>lat=%{lat}<br>lon=%{lon}<extra></extra>\",\"lat\":[43.64506458],\"legendgroup\":\"High Park-Swansea\",\"lon\":[-79.46787222],\"marker\":{\"color\":\"#636efa\",\"size\":[582977.75],\"sizemode\":\"area\",\"sizeref\":3816.214375},\"mode\":\"markers\",\"name\":\"High Park-Swansea\",\"showlegend\":true,\"subplot\":\"mapbox\",\"type\":\"scattermapbox\"},{\"hovertemplate\":\"neighbourhood=Highland Creek<br>average_house_value=%{marker.size}<br>lat=%{lat}<br>lon=%{lon}<extra></extra>\",\"lat\":[43.79077477],\"legendgroup\":\"Highland Creek\",\"lon\":[-79.17747247],\"marker\":{\"color\":\"#EF553B\",\"size\":[428838.5],\"sizemode\":\"area\",\"sizeref\":3816.214375},\"mode\":\"markers\",\"name\":\"Highland Creek\",\"showlegend\":true,\"subplot\":\"mapbox\",\"type\":\"scattermapbox\"},{\"hovertemplate\":\"neighbourhood=Hillcrest Village<br>average_house_value=%{marker.size}<br>lat=%{lat}<br>lon=%{lon}<extra></extra>\",\"lat\":[43.80298783],\"legendgroup\":\"Hillcrest Village\",\"lon\":[-79.354804],\"marker\":{\"color\":\"#00cc96\",\"size\":[395023.0],\"sizemode\":\"area\",\"sizeref\":3816.214375},\"mode\":\"markers\",\"name\":\"Hillcrest Village\",\"showlegend\":true,\"subplot\":\"mapbox\",\"type\":\"scattermapbox\"},{\"hovertemplate\":\"neighbourhood=Humber Heights-Westmount<br>average_house_value=%{marker.size}<br>lat=%{lat}<br>lon=%{lon}<extra></extra>\",\"lat\":[43.6922328],\"legendgroup\":\"Humber Heights-Westmount\",\"lon\":[-79.5224162],\"marker\":{\"color\":\"#ab63fa\",\"size\":[449150.5],\"sizemode\":\"area\",\"sizeref\":3816.214375},\"mode\":\"markers\",\"name\":\"Humber Heights-Westmount\",\"showlegend\":true,\"subplot\":\"mapbox\",\"type\":\"scattermapbox\"},{\"hovertemplate\":\"neighbourhood=Humber Summit<br>average_house_value=%{marker.size}<br>lat=%{lat}<br>lon=%{lon}<extra></extra>\",\"lat\":[43.75891975],\"legendgroup\":\"Humber Summit\",\"lon\":[-79.55617474],\"marker\":{\"color\":\"#FFA15A\",\"size\":[352082.5],\"sizemode\":\"area\",\"sizeref\":3816.214375},\"mode\":\"markers\",\"name\":\"Humber Summit\",\"showlegend\":true,\"subplot\":\"mapbox\",\"type\":\"scattermapbox\"},{\"hovertemplate\":\"neighbourhood=Humbermede<br>average_house_value=%{marker.size}<br>lat=%{lat}<br>lon=%{lon}<extra></extra>\",\"lat\":[43.74342952],\"legendgroup\":\"Humbermede\",\"lon\":[-79.54236712],\"marker\":{\"color\":\"#19d3f3\",\"size\":[319783.75],\"sizemode\":\"area\",\"sizeref\":3816.214375},\"mode\":\"markers\",\"name\":\"Humbermede\",\"showlegend\":true,\"subplot\":\"mapbox\",\"type\":\"scattermapbox\"},{\"hovertemplate\":\"neighbourhood=Humewood-Cedarvale<br>average_house_value=%{marker.size}<br>lat=%{lat}<br>lon=%{lon}<extra></extra>\",\"lat\":[43.69136981],\"legendgroup\":\"Humewood-Cedarvale\",\"lon\":[-79.42768335],\"marker\":{\"color\":\"#FF6692\",\"size\":[697085.5],\"sizemode\":\"area\",\"sizeref\":3816.214375},\"mode\":\"markers\",\"name\":\"Humewood-Cedarvale\",\"showlegend\":true,\"subplot\":\"mapbox\",\"type\":\"scattermapbox\"},{\"hovertemplate\":\"neighbourhood=Ionview<br>average_house_value=%{marker.size}<br>lat=%{lat}<br>lon=%{lon}<extra></extra>\",\"lat\":[43.73536441],\"legendgroup\":\"Ionview\",\"lon\":[-79.27247049],\"marker\":{\"color\":\"#B6E880\",\"size\":[287685.75],\"sizemode\":\"area\",\"sizeref\":3816.214375},\"mode\":\"markers\",\"name\":\"Ionview\",\"showlegend\":true,\"subplot\":\"mapbox\",\"type\":\"scattermapbox\"},{\"hovertemplate\":\"neighbourhood=Islington-City Centre West<br>average_house_value=%{marker.size}<br>lat=%{lat}<br>lon=%{lon}<extra></extra>\",\"lat\":[43.63346335],\"legendgroup\":\"Islington-City Centre West\",\"lon\":[-79.54331654],\"marker\":{\"color\":\"#FF97FF\",\"size\":[451685.25],\"sizemode\":\"area\",\"sizeref\":3816.214375},\"mode\":\"markers\",\"name\":\"Islington-City Centre West\",\"showlegend\":true,\"subplot\":\"mapbox\",\"type\":\"scattermapbox\"},{\"hovertemplate\":\"neighbourhood=Junction Area<br>average_house_value=%{marker.size}<br>lat=%{lat}<br>lon=%{lon}<extra></extra>\",\"lat\":[43.66788977],\"legendgroup\":\"Junction Area\",\"lon\":[-79.47143987],\"marker\":{\"color\":\"#FECB52\",\"size\":[433269.25],\"sizemode\":\"area\",\"sizeref\":3816.214375},\"mode\":\"markers\",\"name\":\"Junction Area\",\"showlegend\":true,\"subplot\":\"mapbox\",\"type\":\"scattermapbox\"},{\"hovertemplate\":\"neighbourhood=Keelesdale-Eglinton West<br>average_house_value=%{marker.size}<br>lat=%{lat}<br>lon=%{lon}<extra></extra>\",\"lat\":[43.68572747],\"legendgroup\":\"Keelesdale-Eglinton West\",\"lon\":[-79.47143711],\"marker\":{\"color\":\"#636efa\",\"size\":[322774.75],\"sizemode\":\"area\",\"sizeref\":3816.214375},\"mode\":\"markers\",\"name\":\"Keelesdale-Eglinton West\",\"showlegend\":true,\"subplot\":\"mapbox\",\"type\":\"scattermapbox\"},{\"hovertemplate\":\"neighbourhood=Kennedy Park<br>average_house_value=%{marker.size}<br>lat=%{lat}<br>lon=%{lon}<extra></extra>\",\"lat\":[43.72555572],\"legendgroup\":\"Kennedy Park\",\"lon\":[-79.26038221],\"marker\":{\"color\":\"#EF553B\",\"size\":[287233.5],\"sizemode\":\"area\",\"sizeref\":3816.214375},\"mode\":\"markers\",\"name\":\"Kennedy Park\",\"showlegend\":true,\"subplot\":\"mapbox\",\"type\":\"scattermapbox\"},{\"hovertemplate\":\"neighbourhood=Kensington-Chinatown<br>average_house_value=%{marker.size}<br>lat=%{lat}<br>lon=%{lon}<extra></extra>\",\"lat\":[43.65355413],\"legendgroup\":\"Kensington-Chinatown\",\"lon\":[-79.39723988],\"marker\":{\"color\":\"#00cc96\",\"size\":[440485.75],\"sizemode\":\"area\",\"sizeref\":3816.214375},\"mode\":\"markers\",\"name\":\"Kensington-Chinatown\",\"showlegend\":true,\"subplot\":\"mapbox\",\"type\":\"scattermapbox\"},{\"hovertemplate\":\"neighbourhood=Kingsview Village-The Westway<br>average_house_value=%{marker.size}<br>lat=%{lat}<br>lon=%{lon}<extra></extra>\",\"lat\":[43.69899257],\"legendgroup\":\"Kingsview Village-The Westway\",\"lon\":[-79.54786331],\"marker\":{\"color\":\"#ab63fa\",\"size\":[338344.75],\"sizemode\":\"area\",\"sizeref\":3816.214375},\"mode\":\"markers\",\"name\":\"Kingsview Village-The Westway\",\"showlegend\":true,\"subplot\":\"mapbox\",\"type\":\"scattermapbox\"},{\"hovertemplate\":\"neighbourhood=Kingsway South<br>average_house_value=%{marker.size}<br>lat=%{lat}<br>lon=%{lon}<extra></extra>\",\"lat\":[43.65352043],\"legendgroup\":\"Kingsway South\",\"lon\":[-79.5105768],\"marker\":{\"color\":\"#FFA15A\",\"size\":[843234.25],\"sizemode\":\"area\",\"sizeref\":3816.214375},\"mode\":\"markers\",\"name\":\"Kingsway South\",\"showlegend\":true,\"subplot\":\"mapbox\",\"type\":\"scattermapbox\"},{\"hovertemplate\":\"neighbourhood=L'Amoreaux<br>average_house_value=%{marker.size}<br>lat=%{lat}<br>lon=%{lon}<extra></extra>\",\"lat\":[43.79571603],\"legendgroup\":\"L'Amoreaux\",\"lon\":[-79.31408424],\"marker\":{\"color\":\"#19d3f3\",\"size\":[650307.75],\"sizemode\":\"area\",\"sizeref\":3816.214375},\"mode\":\"markers\",\"name\":\"L'Amoreaux\",\"showlegend\":true,\"subplot\":\"mapbox\",\"type\":\"scattermapbox\"},{\"hovertemplate\":\"neighbourhood=Lambton Baby Point<br>average_house_value=%{marker.size}<br>lat=%{lat}<br>lon=%{lon}<extra></extra>\",\"lat\":[43.65742013],\"legendgroup\":\"Lambton Baby Point\",\"lon\":[-79.49604526],\"marker\":{\"color\":\"#FF6692\",\"size\":[336617.75],\"sizemode\":\"area\",\"sizeref\":3816.214375},\"mode\":\"markers\",\"name\":\"Lambton Baby Point\",\"showlegend\":true,\"subplot\":\"mapbox\",\"type\":\"scattermapbox\"},{\"hovertemplate\":\"neighbourhood=Lansing-Westgate<br>average_house_value=%{marker.size}<br>lat=%{lat}<br>lon=%{lon}<extra></extra>\",\"lat\":[43.75427115],\"legendgroup\":\"Lansing-Westgate\",\"lon\":[-79.42474772],\"marker\":{\"color\":\"#B6E880\",\"size\":[613216.5],\"sizemode\":\"area\",\"sizeref\":3816.214375},\"mode\":\"markers\",\"name\":\"Lansing-Westgate\",\"showlegend\":true,\"subplot\":\"mapbox\",\"type\":\"scattermapbox\"},{\"hovertemplate\":\"neighbourhood=Lawrence Park North<br>average_house_value=%{marker.size}<br>lat=%{lat}<br>lon=%{lon}<extra></extra>\",\"lat\":[43.73006017],\"legendgroup\":\"Lawrence Park North\",\"lon\":[-79.40397836],\"marker\":{\"color\":\"#FF97FF\",\"size\":[759392.5],\"sizemode\":\"area\",\"sizeref\":3816.214375},\"mode\":\"markers\",\"name\":\"Lawrence Park North\",\"showlegend\":true,\"subplot\":\"mapbox\",\"type\":\"scattermapbox\"},{\"hovertemplate\":\"neighbourhood=Lawrence Park South<br>average_house_value=%{marker.size}<br>lat=%{lat}<br>lon=%{lon}<extra></extra>\",\"lat\":[43.7172117],\"legendgroup\":\"Lawrence Park South\",\"lon\":[-79.40603941],\"marker\":{\"color\":\"#FECB52\",\"size\":[1094027.75],\"sizemode\":\"area\",\"sizeref\":3816.214375},\"mode\":\"markers\",\"name\":\"Lawrence Park South\",\"showlegend\":true,\"subplot\":\"mapbox\",\"type\":\"scattermapbox\"},{\"hovertemplate\":\"neighbourhood=Leaside-Bennington<br>average_house_value=%{marker.size}<br>lat=%{lat}<br>lon=%{lon}<extra></extra>\",\"lat\":[43.70379663],\"legendgroup\":\"Leaside-Bennington\",\"lon\":[-79.36607234],\"marker\":{\"color\":\"#636efa\",\"size\":[806471.75],\"sizemode\":\"area\",\"sizeref\":3816.214375},\"mode\":\"markers\",\"name\":\"Leaside-Bennington\",\"showlegend\":true,\"subplot\":\"mapbox\",\"type\":\"scattermapbox\"},{\"hovertemplate\":\"neighbourhood=Little Portugal<br>average_house_value=%{marker.size}<br>lat=%{lat}<br>lon=%{lon}<extra></extra>\",\"lat\":[43.64753593],\"legendgroup\":\"Little Portugal\",\"lon\":[-79.43032271],\"marker\":{\"color\":\"#EF553B\",\"size\":[540192.5],\"sizemode\":\"area\",\"sizeref\":3816.214375},\"mode\":\"markers\",\"name\":\"Little Portugal\",\"showlegend\":true,\"subplot\":\"mapbox\",\"type\":\"scattermapbox\"},{\"hovertemplate\":\"neighbourhood=Long Branch<br>average_house_value=%{marker.size}<br>lat=%{lat}<br>lon=%{lon}<extra></extra>\",\"lat\":[43.59236169],\"legendgroup\":\"Long Branch\",\"lon\":[-79.53334545],\"marker\":{\"color\":\"#00cc96\",\"size\":[385830.25],\"sizemode\":\"area\",\"sizeref\":3816.214375},\"mode\":\"markers\",\"name\":\"Long Branch\",\"showlegend\":true,\"subplot\":\"mapbox\",\"type\":\"scattermapbox\"},{\"hovertemplate\":\"neighbourhood=Malvern<br>average_house_value=%{marker.size}<br>lat=%{lat}<br>lon=%{lon}<extra></extra>\",\"lat\":[43.8036582],\"legendgroup\":\"Malvern\",\"lon\":[-79.22251662],\"marker\":{\"color\":\"#ab63fa\",\"size\":[256880.25],\"sizemode\":\"area\",\"sizeref\":3816.214375},\"mode\":\"markers\",\"name\":\"Malvern\",\"showlegend\":true,\"subplot\":\"mapbox\",\"type\":\"scattermapbox\"},{\"hovertemplate\":\"neighbourhood=Maple Leaf<br>average_house_value=%{marker.size}<br>lat=%{lat}<br>lon=%{lon}<extra></extra>\",\"lat\":[43.71557394],\"legendgroup\":\"Maple Leaf\",\"lon\":[-79.48075802],\"marker\":{\"color\":\"#FFA15A\",\"size\":[453229.0],\"sizemode\":\"area\",\"sizeref\":3816.214375},\"mode\":\"markers\",\"name\":\"Maple Leaf\",\"showlegend\":true,\"subplot\":\"mapbox\",\"type\":\"scattermapbox\"},{\"hovertemplate\":\"neighbourhood=Markland Wood<br>average_house_value=%{marker.size}<br>lat=%{lat}<br>lon=%{lon}<extra></extra>\",\"lat\":[43.63354175],\"legendgroup\":\"Markland Wood\",\"lon\":[-79.57343155],\"marker\":{\"color\":\"#19d3f3\",\"size\":[443974.75],\"sizemode\":\"area\",\"sizeref\":3816.214375},\"mode\":\"markers\",\"name\":\"Markland Wood\",\"showlegend\":true,\"subplot\":\"mapbox\",\"type\":\"scattermapbox\"},{\"hovertemplate\":\"neighbourhood=Milliken<br>average_house_value=%{marker.size}<br>lat=%{lat}<br>lon=%{lon}<extra></extra>\",\"lat\":[43.82069079],\"legendgroup\":\"Milliken\",\"lon\":[-79.27500892],\"marker\":{\"color\":\"#FF6692\",\"size\":[344988.25],\"sizemode\":\"area\",\"sizeref\":3816.214375},\"mode\":\"markers\",\"name\":\"Milliken\",\"showlegend\":true,\"subplot\":\"mapbox\",\"type\":\"scattermapbox\"},{\"hovertemplate\":\"neighbourhood=Mimico<br>average_house_value=%{marker.size}<br>lat=%{lat}<br>lon=%{lon}<extra></extra>\",\"lat\":[43.61592386],\"legendgroup\":\"Mimico\",\"lon\":[-79.50013664],\"marker\":{\"color\":\"#B6E880\",\"size\":[393490.5],\"sizemode\":\"area\",\"sizeref\":3816.214375},\"mode\":\"markers\",\"name\":\"Mimico\",\"showlegend\":true,\"subplot\":\"mapbox\",\"type\":\"scattermapbox\"},{\"hovertemplate\":\"neighbourhood=Morningside<br>average_house_value=%{marker.size}<br>lat=%{lat}<br>lon=%{lon}<extra></extra>\",\"lat\":[43.78239861],\"legendgroup\":\"Morningside\",\"lon\":[-79.20704119],\"marker\":{\"color\":\"#FF97FF\",\"size\":[285013.5],\"sizemode\":\"area\",\"sizeref\":3816.214375},\"mode\":\"markers\",\"name\":\"Morningside\",\"showlegend\":true,\"subplot\":\"mapbox\",\"type\":\"scattermapbox\"},{\"hovertemplate\":\"neighbourhood=Moss Park<br>average_house_value=%{marker.size}<br>lat=%{lat}<br>lon=%{lon}<extra></extra>\",\"lat\":[43.65651762],\"legendgroup\":\"Moss Park\",\"lon\":[-79.36729703],\"marker\":{\"color\":\"#FECB52\",\"size\":[409456.0],\"sizemode\":\"area\",\"sizeref\":3816.214375},\"mode\":\"markers\",\"name\":\"Moss Park\",\"showlegend\":true,\"subplot\":\"mapbox\",\"type\":\"scattermapbox\"},{\"hovertemplate\":\"neighbourhood=Mount Dennis<br>average_house_value=%{marker.size}<br>lat=%{lat}<br>lon=%{lon}<extra></extra>\",\"lat\":[43.68814409],\"legendgroup\":\"Mount Dennis\",\"lon\":[-79.49998906],\"marker\":{\"color\":\"#636efa\",\"size\":[262308.75],\"sizemode\":\"area\",\"sizeref\":3816.214375},\"mode\":\"markers\",\"name\":\"Mount Dennis\",\"showlegend\":true,\"subplot\":\"mapbox\",\"type\":\"scattermapbox\"},{\"hovertemplate\":\"neighbourhood=Mount Olive-Silverstone-Jamestown<br>average_house_value=%{marker.size}<br>lat=%{lat}<br>lon=%{lon}<extra></extra>\",\"lat\":[43.7468678],\"legendgroup\":\"Mount Olive-Silverstone-Jamestown\",\"lon\":[-79.58725926],\"marker\":{\"color\":\"#EF553B\",\"size\":[253182.25],\"sizemode\":\"area\",\"sizeref\":3816.214375},\"mode\":\"markers\",\"name\":\"Mount Olive-Silverstone-Jamestown\",\"showlegend\":true,\"subplot\":\"mapbox\",\"type\":\"scattermapbox\"},{\"hovertemplate\":\"neighbourhood=Mount Pleasant East<br>average_house_value=%{marker.size}<br>lat=%{lat}<br>lon=%{lon}<extra></extra>\",\"lat\":[43.70485217],\"legendgroup\":\"Mount Pleasant East\",\"lon\":[-79.38492395],\"marker\":{\"color\":\"#00cc96\",\"size\":[677370.25],\"sizemode\":\"area\",\"sizeref\":3816.214375},\"mode\":\"markers\",\"name\":\"Mount Pleasant East\",\"showlegend\":true,\"subplot\":\"mapbox\",\"type\":\"scattermapbox\"},{\"hovertemplate\":\"neighbourhood=Mount Pleasant West<br>average_house_value=%{marker.size}<br>lat=%{lat}<br>lon=%{lon}<extra></extra>\",\"lat\":[43.70443517],\"legendgroup\":\"Mount Pleasant West\",\"lon\":[-79.39335955],\"marker\":{\"color\":\"#ab63fa\",\"size\":[468181.75],\"sizemode\":\"area\",\"sizeref\":3816.214375},\"mode\":\"markers\",\"name\":\"Mount Pleasant West\",\"showlegend\":true,\"subplot\":\"mapbox\",\"type\":\"scattermapbox\"},{\"hovertemplate\":\"neighbourhood=New Toronto<br>average_house_value=%{marker.size}<br>lat=%{lat}<br>lon=%{lon}<extra></extra>\",\"lat\":[43.6005886],\"legendgroup\":\"New Toronto\",\"lon\":[-79.51035809],\"marker\":{\"color\":\"#FFA15A\",\"size\":[407812.0],\"sizemode\":\"area\",\"sizeref\":3816.214375},\"mode\":\"markers\",\"name\":\"New Toronto\",\"showlegend\":true,\"subplot\":\"mapbox\",\"type\":\"scattermapbox\"},{\"hovertemplate\":\"neighbourhood=Newtonbrook East<br>average_house_value=%{marker.size}<br>lat=%{lat}<br>lon=%{lon}<extra></extra>\",\"lat\":[43.79153579],\"legendgroup\":\"Newtonbrook East\",\"lon\":[-79.40593745],\"marker\":{\"color\":\"#19d3f3\",\"size\":[559573.25],\"sizemode\":\"area\",\"sizeref\":3816.214375},\"mode\":\"markers\",\"name\":\"Newtonbrook East\",\"showlegend\":true,\"subplot\":\"mapbox\",\"type\":\"scattermapbox\"},{\"hovertemplate\":\"neighbourhood=Newtonbrook West<br>average_house_value=%{marker.size}<br>lat=%{lat}<br>lon=%{lon}<extra></extra>\",\"lat\":[43.78582994],\"legendgroup\":\"Newtonbrook West\",\"lon\":[-79.43142151],\"marker\":{\"color\":\"#FF6692\",\"size\":[460568.5],\"sizemode\":\"area\",\"sizeref\":3816.214375},\"mode\":\"markers\",\"name\":\"Newtonbrook West\",\"showlegend\":true,\"subplot\":\"mapbox\",\"type\":\"scattermapbox\"},{\"hovertemplate\":\"neighbourhood=Niagara<br>average_house_value=%{marker.size}<br>lat=%{lat}<br>lon=%{lon}<extra></extra>\",\"lat\":[43.63668088],\"legendgroup\":\"Niagara\",\"lon\":[-79.4124204],\"marker\":{\"color\":\"#B6E880\",\"size\":[369993.0],\"sizemode\":\"area\",\"sizeref\":3816.214375},\"mode\":\"markers\",\"name\":\"Niagara\",\"showlegend\":true,\"subplot\":\"mapbox\",\"type\":\"scattermapbox\"},{\"hovertemplate\":\"neighbourhood=North Riverdale<br>average_house_value=%{marker.size}<br>lat=%{lat}<br>lon=%{lon}<extra></extra>\",\"lat\":[43.67199515],\"legendgroup\":\"North Riverdale\",\"lon\":[-79.35126041],\"marker\":{\"color\":\"#FF97FF\",\"size\":[703063.25],\"sizemode\":\"area\",\"sizeref\":3816.214375},\"mode\":\"markers\",\"name\":\"North Riverdale\",\"showlegend\":true,\"subplot\":\"mapbox\",\"type\":\"scattermapbox\"},{\"hovertemplate\":\"neighbourhood=North St.James Town<br>average_house_value=%{marker.size}<br>lat=%{lat}<br>lon=%{lon}<extra></extra>\",\"lat\":[43.66962341],\"legendgroup\":\"North St.James Town\",\"lon\":[-79.37524658],\"marker\":{\"color\":\"#FECB52\",\"size\":[411455.75],\"sizemode\":\"area\",\"sizeref\":3816.214375},\"mode\":\"markers\",\"name\":\"North St.James Town\",\"showlegend\":true,\"subplot\":\"mapbox\",\"type\":\"scattermapbox\"},{\"hovertemplate\":\"neighbourhood=O'Connor-Parkview<br>average_house_value=%{marker.size}<br>lat=%{lat}<br>lon=%{lon}<extra></extra>\",\"lat\":[43.70680049],\"legendgroup\":\"O'Connor-Parkview\",\"lon\":[-79.31222777],\"marker\":{\"color\":\"#636efa\",\"size\":[298315.75],\"sizemode\":\"area\",\"sizeref\":3816.214375},\"mode\":\"markers\",\"name\":\"O'Connor-Parkview\",\"showlegend\":true,\"subplot\":\"mapbox\",\"type\":\"scattermapbox\"},{\"hovertemplate\":\"neighbourhood=Oakridge<br>average_house_value=%{marker.size}<br>lat=%{lat}<br>lon=%{lon}<extra></extra>\",\"lat\":[43.69740813],\"legendgroup\":\"Oakridge\",\"lon\":[-79.27970834],\"marker\":{\"color\":\"#EF553B\",\"size\":[422257.5],\"sizemode\":\"area\",\"sizeref\":3816.214375},\"mode\":\"markers\",\"name\":\"Oakridge\",\"showlegend\":true,\"subplot\":\"mapbox\",\"type\":\"scattermapbox\"},{\"hovertemplate\":\"neighbourhood=Oakwood Village<br>average_house_value=%{marker.size}<br>lat=%{lat}<br>lon=%{lon}<extra></extra>\",\"lat\":[43.68856556],\"legendgroup\":\"Oakwood Village\",\"lon\":[-79.43978548],\"marker\":{\"color\":\"#00cc96\",\"size\":[441202.75],\"sizemode\":\"area\",\"sizeref\":3816.214375},\"mode\":\"markers\",\"name\":\"Oakwood Village\",\"showlegend\":true,\"subplot\":\"mapbox\",\"type\":\"scattermapbox\"},{\"hovertemplate\":\"neighbourhood=Old East York<br>average_house_value=%{marker.size}<br>lat=%{lat}<br>lon=%{lon}<extra></extra>\",\"lat\":[43.69678127],\"legendgroup\":\"Old East York\",\"lon\":[-79.33548836],\"marker\":{\"color\":\"#ab63fa\",\"size\":[443413.5],\"sizemode\":\"area\",\"sizeref\":3816.214375},\"mode\":\"markers\",\"name\":\"Old East York\",\"showlegend\":true,\"subplot\":\"mapbox\",\"type\":\"scattermapbox\"},{\"hovertemplate\":\"neighbourhood=Palmerston-Little Italy<br>average_house_value=%{marker.size}<br>lat=%{lat}<br>lon=%{lon}<extra></extra>\",\"lat\":[43.6591571],\"legendgroup\":\"Palmerston-Little Italy\",\"lon\":[-79.41840873],\"marker\":{\"color\":\"#FFA15A\",\"size\":[622191.75],\"sizemode\":\"area\",\"sizeref\":3816.214375},\"mode\":\"markers\",\"name\":\"Palmerston-Little Italy\",\"showlegend\":true,\"subplot\":\"mapbox\",\"type\":\"scattermapbox\"},{\"hovertemplate\":\"neighbourhood=Parkwoods-Donalda<br>average_house_value=%{marker.size}<br>lat=%{lat}<br>lon=%{lon}<extra></extra>\",\"lat\":[43.75503347],\"legendgroup\":\"Parkwoods-Donalda\",\"lon\":[-79.33017952],\"marker\":{\"color\":\"#19d3f3\",\"size\":[454652.5],\"sizemode\":\"area\",\"sizeref\":3816.214375},\"mode\":\"markers\",\"name\":\"Parkwoods-Donalda\",\"showlegend\":true,\"subplot\":\"mapbox\",\"type\":\"scattermapbox\"},{\"hovertemplate\":\"neighbourhood=Pelmo Park-Humberlea<br>average_house_value=%{marker.size}<br>lat=%{lat}<br>lon=%{lon}<extra></extra>\",\"lat\":[43.7175146],\"legendgroup\":\"Pelmo Park-Humberlea\",\"lon\":[-79.5282822],\"marker\":{\"color\":\"#FF6692\",\"size\":[405431.25],\"sizemode\":\"area\",\"sizeref\":3816.214375},\"mode\":\"markers\",\"name\":\"Pelmo Park-Humberlea\",\"showlegend\":true,\"subplot\":\"mapbox\",\"type\":\"scattermapbox\"},{\"hovertemplate\":\"neighbourhood=Playter Estates-Danforth<br>average_house_value=%{marker.size}<br>lat=%{lat}<br>lon=%{lon}<extra></extra>\",\"lat\":[43.67970047],\"legendgroup\":\"Playter Estates-Danforth\",\"lon\":[-79.35488729],\"marker\":{\"color\":\"#B6E880\",\"size\":[648859.25],\"sizemode\":\"area\",\"sizeref\":3816.214375},\"mode\":\"markers\",\"name\":\"Playter Estates-Danforth\",\"showlegend\":true,\"subplot\":\"mapbox\",\"type\":\"scattermapbox\"},{\"hovertemplate\":\"neighbourhood=Pleasant View<br>average_house_value=%{marker.size}<br>lat=%{lat}<br>lon=%{lon}<extra></extra>\",\"lat\":[43.78698176],\"legendgroup\":\"Pleasant View\",\"lon\":[-79.33494843],\"marker\":{\"color\":\"#FF97FF\",\"size\":[373375.25],\"sizemode\":\"area\",\"sizeref\":3816.214375},\"mode\":\"markers\",\"name\":\"Pleasant View\",\"showlegend\":true,\"subplot\":\"mapbox\",\"type\":\"scattermapbox\"},{\"hovertemplate\":\"neighbourhood=Princess-Rosethorn<br>average_house_value=%{marker.size}<br>lat=%{lat}<br>lon=%{lon}<extra></extra>\",\"lat\":[43.6660506],\"legendgroup\":\"Princess-Rosethorn\",\"lon\":[-79.54455929],\"marker\":{\"color\":\"#FECB52\",\"size\":[765746.5],\"sizemode\":\"area\",\"sizeref\":3816.214375},\"mode\":\"markers\",\"name\":\"Princess-Rosethorn\",\"showlegend\":true,\"subplot\":\"mapbox\",\"type\":\"scattermapbox\"},{\"hovertemplate\":\"neighbourhood=Regent Park<br>average_house_value=%{marker.size}<br>lat=%{lat}<br>lon=%{lon}<extra></extra>\",\"lat\":[43.65999214],\"legendgroup\":\"Regent Park\",\"lon\":[-79.36050881],\"marker\":{\"color\":\"#636efa\",\"size\":[392578.25],\"sizemode\":\"area\",\"sizeref\":3816.214375},\"mode\":\"markers\",\"name\":\"Regent Park\",\"showlegend\":true,\"subplot\":\"mapbox\",\"type\":\"scattermapbox\"},{\"hovertemplate\":\"neighbourhood=Rexdale-Kipling<br>average_house_value=%{marker.size}<br>lat=%{lat}<br>lon=%{lon}<extra></extra>\",\"lat\":[43.72372548],\"legendgroup\":\"Rexdale-Kipling\",\"lon\":[-79.56622841],\"marker\":{\"color\":\"#EF553B\",\"size\":[360999.25],\"sizemode\":\"area\",\"sizeref\":3816.214375},\"mode\":\"markers\",\"name\":\"Rexdale-Kipling\",\"showlegend\":true,\"subplot\":\"mapbox\",\"type\":\"scattermapbox\"},{\"hovertemplate\":\"neighbourhood=Rockcliffe-Smythe<br>average_house_value=%{marker.size}<br>lat=%{lat}<br>lon=%{lon}<extra></extra>\",\"lat\":[43.67479045],\"legendgroup\":\"Rockcliffe-Smythe\",\"lon\":[-79.49442045],\"marker\":{\"color\":\"#00cc96\",\"size\":[345660.25],\"sizemode\":\"area\",\"sizeref\":3816.214375},\"mode\":\"markers\",\"name\":\"Rockcliffe-Smythe\",\"showlegend\":true,\"subplot\":\"mapbox\",\"type\":\"scattermapbox\"},{\"hovertemplate\":\"neighbourhood=Roncesvalles<br>average_house_value=%{marker.size}<br>lat=%{lat}<br>lon=%{lon}<extra></extra>\",\"lat\":[43.64612299],\"legendgroup\":\"Roncesvalles\",\"lon\":[-79.44299245],\"marker\":{\"color\":\"#ab63fa\",\"size\":[508937.25],\"sizemode\":\"area\",\"sizeref\":3816.214375},\"mode\":\"markers\",\"name\":\"Roncesvalles\",\"showlegend\":true,\"subplot\":\"mapbox\",\"type\":\"scattermapbox\"},{\"hovertemplate\":\"neighbourhood=Rosedale-Moore Park<br>average_house_value=%{marker.size}<br>lat=%{lat}<br>lon=%{lon}<extra></extra>\",\"lat\":[43.68282043],\"legendgroup\":\"Rosedale-Moore Park\",\"lon\":[-79.3796694],\"marker\":{\"color\":\"#FFA15A\",\"size\":[1093640.0],\"sizemode\":\"area\",\"sizeref\":3816.214375},\"mode\":\"markers\",\"name\":\"Rosedale-Moore Park\",\"showlegend\":true,\"subplot\":\"mapbox\",\"type\":\"scattermapbox\"},{\"hovertemplate\":\"neighbourhood=Rouge<br>average_house_value=%{marker.size}<br>lat=%{lat}<br>lon=%{lon}<extra></extra>\",\"lat\":[43.82120126],\"legendgroup\":\"Rouge\",\"lon\":[-79.18634345],\"marker\":{\"color\":\"#19d3f3\",\"size\":[376286.75],\"sizemode\":\"area\",\"sizeref\":3816.214375},\"mode\":\"markers\",\"name\":\"Rouge\",\"showlegend\":true,\"subplot\":\"mapbox\",\"type\":\"scattermapbox\"},{\"hovertemplate\":\"neighbourhood=Runnymede-Bloor West Village<br>average_house_value=%{marker.size}<br>lat=%{lat}<br>lon=%{lon}<extra></extra>\",\"lat\":[43.65926882],\"legendgroup\":\"Runnymede-Bloor West Village\",\"lon\":[-79.48570818],\"marker\":{\"color\":\"#FF6692\",\"size\":[552082.0],\"sizemode\":\"area\",\"sizeref\":3816.214375},\"mode\":\"markers\",\"name\":\"Runnymede-Bloor West Village\",\"showlegend\":true,\"subplot\":\"mapbox\",\"type\":\"scattermapbox\"},{\"hovertemplate\":\"neighbourhood=Rustic<br>average_house_value=%{marker.size}<br>lat=%{lat}<br>lon=%{lon}<extra></extra>\",\"lat\":[43.71160912],\"legendgroup\":\"Rustic\",\"lon\":[-79.49809147],\"marker\":{\"color\":\"#B6E880\",\"size\":[431090.5],\"sizemode\":\"area\",\"sizeref\":3816.214375},\"mode\":\"markers\",\"name\":\"Rustic\",\"showlegend\":true,\"subplot\":\"mapbox\",\"type\":\"scattermapbox\"},{\"hovertemplate\":\"neighbourhood=Scarborough Village<br>average_house_value=%{marker.size}<br>lat=%{lat}<br>lon=%{lon}<extra></extra>\",\"lat\":[43.73865186],\"legendgroup\":\"Scarborough Village\",\"lon\":[-79.21681262],\"marker\":{\"color\":\"#FF97FF\",\"size\":[329835.75],\"sizemode\":\"area\",\"sizeref\":3816.214375},\"mode\":\"markers\",\"name\":\"Scarborough Village\",\"showlegend\":true,\"subplot\":\"mapbox\",\"type\":\"scattermapbox\"},{\"hovertemplate\":\"neighbourhood=South Parkdale<br>average_house_value=%{marker.size}<br>lat=%{lat}<br>lon=%{lon}<extra></extra>\",\"lat\":[43.63669952],\"legendgroup\":\"South Parkdale\",\"lon\":[-79.43933783],\"marker\":{\"color\":\"#FECB52\",\"size\":[447478.5],\"sizemode\":\"area\",\"sizeref\":3816.214375},\"mode\":\"markers\",\"name\":\"South Parkdale\",\"showlegend\":true,\"subplot\":\"mapbox\",\"type\":\"scattermapbox\"},{\"hovertemplate\":\"neighbourhood=South Riverdale<br>average_house_value=%{marker.size}<br>lat=%{lat}<br>lon=%{lon}<extra></extra>\",\"lat\":[43.64929206],\"legendgroup\":\"South Riverdale\",\"lon\":[-79.33565132],\"marker\":{\"color\":\"#636efa\",\"size\":[455020.5],\"sizemode\":\"area\",\"sizeref\":3816.214375},\"mode\":\"markers\",\"name\":\"South Riverdale\",\"showlegend\":true,\"subplot\":\"mapbox\",\"type\":\"scattermapbox\"},{\"hovertemplate\":\"neighbourhood=St.Andrew-Windfields<br>average_house_value=%{marker.size}<br>lat=%{lat}<br>lon=%{lon}<extra></extra>\",\"lat\":[43.75624583],\"legendgroup\":\"St.Andrew-Windfields\",\"lon\":[-79.37903709],\"marker\":{\"color\":\"#EF553B\",\"size\":[999107.0],\"sizemode\":\"area\",\"sizeref\":3816.214375},\"mode\":\"markers\",\"name\":\"St.Andrew-Windfields\",\"showlegend\":true,\"subplot\":\"mapbox\",\"type\":\"scattermapbox\"},{\"hovertemplate\":\"neighbourhood=Steeles<br>average_house_value=%{marker.size}<br>lat=%{lat}<br>lon=%{lon}<extra></extra>\",\"lat\":[43.81295883],\"legendgroup\":\"Steeles\",\"lon\":[-79.32120701],\"marker\":{\"color\":\"#00cc96\",\"size\":[376014.5],\"sizemode\":\"area\",\"sizeref\":3816.214375},\"mode\":\"markers\",\"name\":\"Steeles\",\"showlegend\":true,\"subplot\":\"mapbox\",\"type\":\"scattermapbox\"},{\"hovertemplate\":\"neighbourhood=Stonegate-Queensway<br>average_house_value=%{marker.size}<br>lat=%{lat}<br>lon=%{lon}<extra></extra>\",\"lat\":[43.63551813],\"legendgroup\":\"Stonegate-Queensway\",\"lon\":[-79.50112821],\"marker\":{\"color\":\"#ab63fa\",\"size\":[550432.25],\"sizemode\":\"area\",\"sizeref\":3816.214375},\"mode\":\"markers\",\"name\":\"Stonegate-Queensway\",\"showlegend\":true,\"subplot\":\"mapbox\",\"type\":\"scattermapbox\"},{\"hovertemplate\":\"neighbourhood=Tam O'Shanter-Sullivan<br>average_house_value=%{marker.size}<br>lat=%{lat}<br>lon=%{lon}<extra></extra>\",\"lat\":[43.78012985],\"legendgroup\":\"Tam O'Shanter-Sullivan\",\"lon\":[-79.30291871],\"marker\":{\"color\":\"#FFA15A\",\"size\":[353926.5],\"sizemode\":\"area\",\"sizeref\":3816.214375},\"mode\":\"markers\",\"name\":\"Tam O'Shanter-Sullivan\",\"showlegend\":true,\"subplot\":\"mapbox\",\"type\":\"scattermapbox\"},{\"hovertemplate\":\"neighbourhood=Taylor-Massey<br>average_house_value=%{marker.size}<br>lat=%{lat}<br>lon=%{lon}<extra></extra>\",\"lat\":[43.69499819],\"legendgroup\":\"Taylor-Massey\",\"lon\":[-79.29590112],\"marker\":{\"color\":\"#19d3f3\",\"size\":[239414.0],\"sizemode\":\"area\",\"sizeref\":3816.214375},\"mode\":\"markers\",\"name\":\"Taylor-Massey\",\"showlegend\":true,\"subplot\":\"mapbox\",\"type\":\"scattermapbox\"},{\"hovertemplate\":\"neighbourhood=The Beaches<br>average_house_value=%{marker.size}<br>lat=%{lat}<br>lon=%{lon}<extra></extra>\",\"lat\":[43.67104999],\"legendgroup\":\"The Beaches\",\"lon\":[-79.2996013],\"marker\":{\"color\":\"#FF6692\",\"size\":[666306.0],\"sizemode\":\"area\",\"sizeref\":3816.214375},\"mode\":\"markers\",\"name\":\"The Beaches\",\"showlegend\":true,\"subplot\":\"mapbox\",\"type\":\"scattermapbox\"},{\"hovertemplate\":\"neighbourhood=Thistletown-Beaumond Heights<br>average_house_value=%{marker.size}<br>lat=%{lat}<br>lon=%{lon}<extra></extra>\",\"lat\":[43.73798792],\"legendgroup\":\"Thistletown-Beaumond Heights\",\"lon\":[-79.56349102],\"marker\":{\"color\":\"#B6E880\",\"size\":[375864.0],\"sizemode\":\"area\",\"sizeref\":3816.214375},\"mode\":\"markers\",\"name\":\"Thistletown-Beaumond Heights\",\"showlegend\":true,\"subplot\":\"mapbox\",\"type\":\"scattermapbox\"},{\"hovertemplate\":\"neighbourhood=Thorncliffe Park<br>average_house_value=%{marker.size}<br>lat=%{lat}<br>lon=%{lon}<extra></extra>\",\"lat\":[43.70774921],\"legendgroup\":\"Thorncliffe Park\",\"lon\":[-79.34998361],\"marker\":{\"color\":\"#FF97FF\",\"size\":[255264.75],\"sizemode\":\"area\",\"sizeref\":3816.214375},\"mode\":\"markers\",\"name\":\"Thorncliffe Park\",\"showlegend\":true,\"subplot\":\"mapbox\",\"type\":\"scattermapbox\"},{\"hovertemplate\":\"neighbourhood=Trinity-Bellwoods<br>average_house_value=%{marker.size}<br>lat=%{lat}<br>lon=%{lon}<extra></extra>\",\"lat\":[43.6501763],\"legendgroup\":\"Trinity-Bellwoods\",\"lon\":[-79.41534216],\"marker\":{\"color\":\"#FECB52\",\"size\":[534465.75],\"sizemode\":\"area\",\"sizeref\":3816.214375},\"mode\":\"markers\",\"name\":\"Trinity-Bellwoods\",\"showlegend\":true,\"subplot\":\"mapbox\",\"type\":\"scattermapbox\"},{\"hovertemplate\":\"neighbourhood=University<br>average_house_value=%{marker.size}<br>lat=%{lat}<br>lon=%{lon}<extra></extra>\",\"lat\":[43.6625062],\"legendgroup\":\"University\",\"lon\":[-79.40117975],\"marker\":{\"color\":\"#636efa\",\"size\":[618316.75],\"sizemode\":\"area\",\"sizeref\":3816.214375},\"mode\":\"markers\",\"name\":\"University\",\"showlegend\":true,\"subplot\":\"mapbox\",\"type\":\"scattermapbox\"},{\"hovertemplate\":\"neighbourhood=Victoria Village<br>average_house_value=%{marker.size}<br>lat=%{lat}<br>lon=%{lon}<extra></extra>\",\"lat\":[43.72848902],\"legendgroup\":\"Victoria Village\",\"lon\":[-79.31487383],\"marker\":{\"color\":\"#EF553B\",\"size\":[352133.0],\"sizemode\":\"area\",\"sizeref\":3816.214375},\"mode\":\"markers\",\"name\":\"Victoria Village\",\"showlegend\":true,\"subplot\":\"mapbox\",\"type\":\"scattermapbox\"},{\"hovertemplate\":\"neighbourhood=Waterfront Communities-The Island<br>average_house_value=%{marker.size}<br>lat=%{lat}<br>lon=%{lon}<extra></extra>\",\"lat\":[43.63388036],\"legendgroup\":\"Waterfront Communities-The Island\",\"lon\":[-79.37720231],\"marker\":{\"color\":\"#00cc96\",\"size\":[376863.0],\"sizemode\":\"area\",\"sizeref\":3816.214375},\"mode\":\"markers\",\"name\":\"Waterfront Communities-The Island\",\"showlegend\":true,\"subplot\":\"mapbox\",\"type\":\"scattermapbox\"},{\"hovertemplate\":\"neighbourhood=West Hill<br>average_house_value=%{marker.size}<br>lat=%{lat}<br>lon=%{lon}<extra></extra>\",\"lat\":[43.76749026],\"legendgroup\":\"West Hill\",\"lon\":[-79.17667603],\"marker\":{\"color\":\"#ab63fa\",\"size\":[284647.5],\"sizemode\":\"area\",\"sizeref\":3816.214375},\"mode\":\"markers\",\"name\":\"West Hill\",\"showlegend\":true,\"subplot\":\"mapbox\",\"type\":\"scattermapbox\"},{\"hovertemplate\":\"neighbourhood=West Humber-Clairville<br>average_house_value=%{marker.size}<br>lat=%{lat}<br>lon=%{lon}<extra></extra>\",\"lat\":[43.7161804],\"legendgroup\":\"West Humber-Clairville\",\"lon\":[-79.59635645],\"marker\":{\"color\":\"#FFA15A\",\"size\":[343254.25],\"sizemode\":\"area\",\"sizeref\":3816.214375},\"mode\":\"markers\",\"name\":\"West Humber-Clairville\",\"showlegend\":true,\"subplot\":\"mapbox\",\"type\":\"scattermapbox\"},{\"hovertemplate\":\"neighbourhood=Westminster-Branson<br>average_house_value=%{marker.size}<br>lat=%{lat}<br>lon=%{lon}<extra></extra>\",\"lat\":[43.77881322],\"legendgroup\":\"Westminster-Branson\",\"lon\":[-79.45241823],\"marker\":{\"color\":\"#19d3f3\",\"size\":[349320.25],\"sizemode\":\"area\",\"sizeref\":3816.214375},\"mode\":\"markers\",\"name\":\"Westminster-Branson\",\"showlegend\":true,\"subplot\":\"mapbox\",\"type\":\"scattermapbox\"},{\"hovertemplate\":\"neighbourhood=Weston<br>average_house_value=%{marker.size}<br>lat=%{lat}<br>lon=%{lon}<extra></extra>\",\"lat\":[43.70271605],\"legendgroup\":\"Weston\",\"lon\":[-79.51572255],\"marker\":{\"color\":\"#FF6692\",\"size\":[308007.75],\"sizemode\":\"area\",\"sizeref\":3816.214375},\"mode\":\"markers\",\"name\":\"Weston\",\"showlegend\":true,\"subplot\":\"mapbox\",\"type\":\"scattermapbox\"},{\"hovertemplate\":\"neighbourhood=Weston-Pellam Park<br>average_house_value=%{marker.size}<br>lat=%{lat}<br>lon=%{lon}<extra></extra>\",\"lat\":[43.67396204],\"legendgroup\":\"Weston-Pellam Park\",\"lon\":[-79.46024391],\"marker\":{\"color\":\"#B6E880\",\"size\":[351802.0],\"sizemode\":\"area\",\"sizeref\":3816.214375},\"mode\":\"markers\",\"name\":\"Weston-Pellam Park\",\"showlegend\":true,\"subplot\":\"mapbox\",\"type\":\"scattermapbox\"},{\"hovertemplate\":\"neighbourhood=Wexford/Maryvale<br>average_house_value=%{marker.size}<br>lat=%{lat}<br>lon=%{lon}<extra></extra>\",\"lat\":[43.74857214],\"legendgroup\":\"Wexford/Maryvale\",\"lon\":[-79.29863657],\"marker\":{\"color\":\"#FF97FF\",\"size\":[348319.25],\"sizemode\":\"area\",\"sizeref\":3816.214375},\"mode\":\"markers\",\"name\":\"Wexford/Maryvale\",\"showlegend\":true,\"subplot\":\"mapbox\",\"type\":\"scattermapbox\"},{\"hovertemplate\":\"neighbourhood=Willowdale East<br>average_house_value=%{marker.size}<br>lat=%{lat}<br>lon=%{lon}<extra></extra>\",\"lat\":[43.77060226],\"legendgroup\":\"Willowdale East\",\"lon\":[-79.40148379],\"marker\":{\"color\":\"#FECB52\",\"size\":[469045.5],\"sizemode\":\"area\",\"sizeref\":3816.214375},\"mode\":\"markers\",\"name\":\"Willowdale East\",\"showlegend\":true,\"subplot\":\"mapbox\",\"type\":\"scattermapbox\"},{\"hovertemplate\":\"neighbourhood=Willowdale West<br>average_house_value=%{marker.size}<br>lat=%{lat}<br>lon=%{lon}<extra></extra>\",\"lat\":[43.77121049],\"legendgroup\":\"Willowdale West\",\"lon\":[-79.4275578],\"marker\":{\"color\":\"#636efa\",\"size\":[466134.75],\"sizemode\":\"area\",\"sizeref\":3816.214375},\"mode\":\"markers\",\"name\":\"Willowdale West\",\"showlegend\":true,\"subplot\":\"mapbox\",\"type\":\"scattermapbox\"},{\"hovertemplate\":\"neighbourhood=Willowridge-Martingrove-Richview<br>average_house_value=%{marker.size}<br>lat=%{lat}<br>lon=%{lon}<extra></extra>\",\"lat\":[43.68364496],\"legendgroup\":\"Willowridge-Martingrove-Richview\",\"lon\":[-79.55422105],\"marker\":{\"color\":\"#EF553B\",\"size\":[464278.0],\"sizemode\":\"area\",\"sizeref\":3816.214375},\"mode\":\"markers\",\"name\":\"Willowridge-Martingrove-Richview\",\"showlegend\":true,\"subplot\":\"mapbox\",\"type\":\"scattermapbox\"},{\"hovertemplate\":\"neighbourhood=Woburn<br>average_house_value=%{marker.size}<br>lat=%{lat}<br>lon=%{lon}<extra></extra>\",\"lat\":[43.76674024],\"legendgroup\":\"Woburn\",\"lon\":[-79.22858577],\"marker\":{\"color\":\"#00cc96\",\"size\":[298505.75],\"sizemode\":\"area\",\"sizeref\":3816.214375},\"mode\":\"markers\",\"name\":\"Woburn\",\"showlegend\":true,\"subplot\":\"mapbox\",\"type\":\"scattermapbox\"},{\"hovertemplate\":\"neighbourhood=Woodbine Corridor<br>average_house_value=%{marker.size}<br>lat=%{lat}<br>lon=%{lon}<extra></extra>\",\"lat\":[43.67677292],\"legendgroup\":\"Woodbine Corridor\",\"lon\":[-79.31540738],\"marker\":{\"color\":\"#ab63fa\",\"size\":[445382.75],\"sizemode\":\"area\",\"sizeref\":3816.214375},\"mode\":\"markers\",\"name\":\"Woodbine Corridor\",\"showlegend\":true,\"subplot\":\"mapbox\",\"type\":\"scattermapbox\"},{\"hovertemplate\":\"neighbourhood=Woodbine-Lumsden<br>average_house_value=%{marker.size}<br>lat=%{lat}<br>lon=%{lon}<extra></extra>\",\"lat\":[43.69410674],\"legendgroup\":\"Woodbine-Lumsden\",\"lon\":[-79.31116353],\"marker\":{\"color\":\"#FFA15A\",\"size\":[369918.5],\"sizemode\":\"area\",\"sizeref\":3816.214375},\"mode\":\"markers\",\"name\":\"Woodbine-Lumsden\",\"showlegend\":true,\"subplot\":\"mapbox\",\"type\":\"scattermapbox\"},{\"hovertemplate\":\"neighbourhood=Wychwood<br>average_house_value=%{marker.size}<br>lat=%{lat}<br>lon=%{lon}<extra></extra>\",\"lat\":[43.67691927],\"legendgroup\":\"Wychwood\",\"lon\":[-79.42551495],\"marker\":{\"color\":\"#19d3f3\",\"size\":[565976.5],\"sizemode\":\"area\",\"sizeref\":3816.214375},\"mode\":\"markers\",\"name\":\"Wychwood\",\"showlegend\":true,\"subplot\":\"mapbox\",\"type\":\"scattermapbox\"},{\"hovertemplate\":\"neighbourhood=Yonge-Eglinton<br>average_house_value=%{marker.size}<br>lat=%{lat}<br>lon=%{lon}<extra></extra>\",\"lat\":[43.70468937],\"legendgroup\":\"Yonge-Eglinton\",\"lon\":[-79.40359017],\"marker\":{\"color\":\"#FF6692\",\"size\":[809745.75],\"sizemode\":\"area\",\"sizeref\":3816.214375},\"mode\":\"markers\",\"name\":\"Yonge-Eglinton\",\"showlegend\":true,\"subplot\":\"mapbox\",\"type\":\"scattermapbox\"},{\"hovertemplate\":\"neighbourhood=Yonge-St.Clair<br>average_house_value=%{marker.size}<br>lat=%{lat}<br>lon=%{lon}<extra></extra>\",\"lat\":[43.68785887],\"legendgroup\":\"Yonge-St.Clair\",\"lon\":[-79.39787077],\"marker\":{\"color\":\"#B6E880\",\"size\":[813220.25],\"sizemode\":\"area\",\"sizeref\":3816.214375},\"mode\":\"markers\",\"name\":\"Yonge-St.Clair\",\"showlegend\":true,\"subplot\":\"mapbox\",\"type\":\"scattermapbox\"},{\"hovertemplate\":\"neighbourhood=York University Heights<br>average_house_value=%{marker.size}<br>lat=%{lat}<br>lon=%{lon}<extra></extra>\",\"lat\":[43.76573649],\"legendgroup\":\"York University Heights\",\"lon\":[-79.48888293],\"marker\":{\"color\":\"#FF97FF\",\"size\":[305899.5],\"sizemode\":\"area\",\"sizeref\":3816.214375},\"mode\":\"markers\",\"name\":\"York University Heights\",\"showlegend\":true,\"subplot\":\"mapbox\",\"type\":\"scattermapbox\"},{\"hovertemplate\":\"neighbourhood=Yorkdale-Glen Park<br>average_house_value=%{marker.size}<br>lat=%{lat}<br>lon=%{lon}<extra></extra>\",\"lat\":[43.71467153],\"legendgroup\":\"Yorkdale-Glen Park\",\"lon\":[-79.45710807],\"marker\":{\"color\":\"#FECB52\",\"size\":[430861.25],\"sizemode\":\"area\",\"sizeref\":3816.214375},\"mode\":\"markers\",\"name\":\"Yorkdale-Glen Park\",\"showlegend\":true,\"subplot\":\"mapbox\",\"type\":\"scattermapbox\"}],                        {\"template\":{\"data\":{\"bar\":[{\"error_x\":{\"color\":\"#2a3f5f\"},\"error_y\":{\"color\":\"#2a3f5f\"},\"marker\":{\"line\":{\"color\":\"#E5ECF6\",\"width\":0.5},\"pattern\":{\"fillmode\":\"overlay\",\"size\":10,\"solidity\":0.2}},\"type\":\"bar\"}],\"barpolar\":[{\"marker\":{\"line\":{\"color\":\"#E5ECF6\",\"width\":0.5},\"pattern\":{\"fillmode\":\"overlay\",\"size\":10,\"solidity\":0.2}},\"type\":\"barpolar\"}],\"carpet\":[{\"aaxis\":{\"endlinecolor\":\"#2a3f5f\",\"gridcolor\":\"white\",\"linecolor\":\"white\",\"minorgridcolor\":\"white\",\"startlinecolor\":\"#2a3f5f\"},\"baxis\":{\"endlinecolor\":\"#2a3f5f\",\"gridcolor\":\"white\",\"linecolor\":\"white\",\"minorgridcolor\":\"white\",\"startlinecolor\":\"#2a3f5f\"},\"type\":\"carpet\"}],\"choropleth\":[{\"colorbar\":{\"outlinewidth\":0,\"ticks\":\"\"},\"type\":\"choropleth\"}],\"contour\":[{\"colorbar\":{\"outlinewidth\":0,\"ticks\":\"\"},\"colorscale\":[[0.0,\"#0d0887\"],[0.1111111111111111,\"#46039f\"],[0.2222222222222222,\"#7201a8\"],[0.3333333333333333,\"#9c179e\"],[0.4444444444444444,\"#bd3786\"],[0.5555555555555556,\"#d8576b\"],[0.6666666666666666,\"#ed7953\"],[0.7777777777777778,\"#fb9f3a\"],[0.8888888888888888,\"#fdca26\"],[1.0,\"#f0f921\"]],\"type\":\"contour\"}],\"contourcarpet\":[{\"colorbar\":{\"outlinewidth\":0,\"ticks\":\"\"},\"type\":\"contourcarpet\"}],\"heatmap\":[{\"colorbar\":{\"outlinewidth\":0,\"ticks\":\"\"},\"colorscale\":[[0.0,\"#0d0887\"],[0.1111111111111111,\"#46039f\"],[0.2222222222222222,\"#7201a8\"],[0.3333333333333333,\"#9c179e\"],[0.4444444444444444,\"#bd3786\"],[0.5555555555555556,\"#d8576b\"],[0.6666666666666666,\"#ed7953\"],[0.7777777777777778,\"#fb9f3a\"],[0.8888888888888888,\"#fdca26\"],[1.0,\"#f0f921\"]],\"type\":\"heatmap\"}],\"heatmapgl\":[{\"colorbar\":{\"outlinewidth\":0,\"ticks\":\"\"},\"colorscale\":[[0.0,\"#0d0887\"],[0.1111111111111111,\"#46039f\"],[0.2222222222222222,\"#7201a8\"],[0.3333333333333333,\"#9c179e\"],[0.4444444444444444,\"#bd3786\"],[0.5555555555555556,\"#d8576b\"],[0.6666666666666666,\"#ed7953\"],[0.7777777777777778,\"#fb9f3a\"],[0.8888888888888888,\"#fdca26\"],[1.0,\"#f0f921\"]],\"type\":\"heatmapgl\"}],\"histogram\":[{\"marker\":{\"pattern\":{\"fillmode\":\"overlay\",\"size\":10,\"solidity\":0.2}},\"type\":\"histogram\"}],\"histogram2d\":[{\"colorbar\":{\"outlinewidth\":0,\"ticks\":\"\"},\"colorscale\":[[0.0,\"#0d0887\"],[0.1111111111111111,\"#46039f\"],[0.2222222222222222,\"#7201a8\"],[0.3333333333333333,\"#9c179e\"],[0.4444444444444444,\"#bd3786\"],[0.5555555555555556,\"#d8576b\"],[0.6666666666666666,\"#ed7953\"],[0.7777777777777778,\"#fb9f3a\"],[0.8888888888888888,\"#fdca26\"],[1.0,\"#f0f921\"]],\"type\":\"histogram2d\"}],\"histogram2dcontour\":[{\"colorbar\":{\"outlinewidth\":0,\"ticks\":\"\"},\"colorscale\":[[0.0,\"#0d0887\"],[0.1111111111111111,\"#46039f\"],[0.2222222222222222,\"#7201a8\"],[0.3333333333333333,\"#9c179e\"],[0.4444444444444444,\"#bd3786\"],[0.5555555555555556,\"#d8576b\"],[0.6666666666666666,\"#ed7953\"],[0.7777777777777778,\"#fb9f3a\"],[0.8888888888888888,\"#fdca26\"],[1.0,\"#f0f921\"]],\"type\":\"histogram2dcontour\"}],\"mesh3d\":[{\"colorbar\":{\"outlinewidth\":0,\"ticks\":\"\"},\"type\":\"mesh3d\"}],\"parcoords\":[{\"line\":{\"colorbar\":{\"outlinewidth\":0,\"ticks\":\"\"}},\"type\":\"parcoords\"}],\"pie\":[{\"automargin\":true,\"type\":\"pie\"}],\"scatter\":[{\"marker\":{\"colorbar\":{\"outlinewidth\":0,\"ticks\":\"\"}},\"type\":\"scatter\"}],\"scatter3d\":[{\"line\":{\"colorbar\":{\"outlinewidth\":0,\"ticks\":\"\"}},\"marker\":{\"colorbar\":{\"outlinewidth\":0,\"ticks\":\"\"}},\"type\":\"scatter3d\"}],\"scattercarpet\":[{\"marker\":{\"colorbar\":{\"outlinewidth\":0,\"ticks\":\"\"}},\"type\":\"scattercarpet\"}],\"scattergeo\":[{\"marker\":{\"colorbar\":{\"outlinewidth\":0,\"ticks\":\"\"}},\"type\":\"scattergeo\"}],\"scattergl\":[{\"marker\":{\"colorbar\":{\"outlinewidth\":0,\"ticks\":\"\"}},\"type\":\"scattergl\"}],\"scattermapbox\":[{\"marker\":{\"colorbar\":{\"outlinewidth\":0,\"ticks\":\"\"}},\"type\":\"scattermapbox\"}],\"scatterpolar\":[{\"marker\":{\"colorbar\":{\"outlinewidth\":0,\"ticks\":\"\"}},\"type\":\"scatterpolar\"}],\"scatterpolargl\":[{\"marker\":{\"colorbar\":{\"outlinewidth\":0,\"ticks\":\"\"}},\"type\":\"scatterpolargl\"}],\"scatterternary\":[{\"marker\":{\"colorbar\":{\"outlinewidth\":0,\"ticks\":\"\"}},\"type\":\"scatterternary\"}],\"surface\":[{\"colorbar\":{\"outlinewidth\":0,\"ticks\":\"\"},\"colorscale\":[[0.0,\"#0d0887\"],[0.1111111111111111,\"#46039f\"],[0.2222222222222222,\"#7201a8\"],[0.3333333333333333,\"#9c179e\"],[0.4444444444444444,\"#bd3786\"],[0.5555555555555556,\"#d8576b\"],[0.6666666666666666,\"#ed7953\"],[0.7777777777777778,\"#fb9f3a\"],[0.8888888888888888,\"#fdca26\"],[1.0,\"#f0f921\"]],\"type\":\"surface\"}],\"table\":[{\"cells\":{\"fill\":{\"color\":\"#EBF0F8\"},\"line\":{\"color\":\"white\"}},\"header\":{\"fill\":{\"color\":\"#C8D4E3\"},\"line\":{\"color\":\"white\"}},\"type\":\"table\"}]},\"layout\":{\"annotationdefaults\":{\"arrowcolor\":\"#2a3f5f\",\"arrowhead\":0,\"arrowwidth\":1},\"autotypenumbers\":\"strict\",\"coloraxis\":{\"colorbar\":{\"outlinewidth\":0,\"ticks\":\"\"}},\"colorscale\":{\"diverging\":[[0,\"#8e0152\"],[0.1,\"#c51b7d\"],[0.2,\"#de77ae\"],[0.3,\"#f1b6da\"],[0.4,\"#fde0ef\"],[0.5,\"#f7f7f7\"],[0.6,\"#e6f5d0\"],[0.7,\"#b8e186\"],[0.8,\"#7fbc41\"],[0.9,\"#4d9221\"],[1,\"#276419\"]],\"sequential\":[[0.0,\"#0d0887\"],[0.1111111111111111,\"#46039f\"],[0.2222222222222222,\"#7201a8\"],[0.3333333333333333,\"#9c179e\"],[0.4444444444444444,\"#bd3786\"],[0.5555555555555556,\"#d8576b\"],[0.6666666666666666,\"#ed7953\"],[0.7777777777777778,\"#fb9f3a\"],[0.8888888888888888,\"#fdca26\"],[1.0,\"#f0f921\"]],\"sequentialminus\":[[0.0,\"#0d0887\"],[0.1111111111111111,\"#46039f\"],[0.2222222222222222,\"#7201a8\"],[0.3333333333333333,\"#9c179e\"],[0.4444444444444444,\"#bd3786\"],[0.5555555555555556,\"#d8576b\"],[0.6666666666666666,\"#ed7953\"],[0.7777777777777778,\"#fb9f3a\"],[0.8888888888888888,\"#fdca26\"],[1.0,\"#f0f921\"]]},\"colorway\":[\"#636efa\",\"#EF553B\",\"#00cc96\",\"#ab63fa\",\"#FFA15A\",\"#19d3f3\",\"#FF6692\",\"#B6E880\",\"#FF97FF\",\"#FECB52\"],\"font\":{\"color\":\"#2a3f5f\"},\"geo\":{\"bgcolor\":\"white\",\"lakecolor\":\"white\",\"landcolor\":\"#E5ECF6\",\"showlakes\":true,\"showland\":true,\"subunitcolor\":\"white\"},\"hoverlabel\":{\"align\":\"left\"},\"hovermode\":\"closest\",\"mapbox\":{\"style\":\"light\"},\"paper_bgcolor\":\"white\",\"plot_bgcolor\":\"#E5ECF6\",\"polar\":{\"angularaxis\":{\"gridcolor\":\"white\",\"linecolor\":\"white\",\"ticks\":\"\"},\"bgcolor\":\"#E5ECF6\",\"radialaxis\":{\"gridcolor\":\"white\",\"linecolor\":\"white\",\"ticks\":\"\"}},\"scene\":{\"xaxis\":{\"backgroundcolor\":\"#E5ECF6\",\"gridcolor\":\"white\",\"gridwidth\":2,\"linecolor\":\"white\",\"showbackground\":true,\"ticks\":\"\",\"zerolinecolor\":\"white\"},\"yaxis\":{\"backgroundcolor\":\"#E5ECF6\",\"gridcolor\":\"white\",\"gridwidth\":2,\"linecolor\":\"white\",\"showbackground\":true,\"ticks\":\"\",\"zerolinecolor\":\"white\"},\"zaxis\":{\"backgroundcolor\":\"#E5ECF6\",\"gridcolor\":\"white\",\"gridwidth\":2,\"linecolor\":\"white\",\"showbackground\":true,\"ticks\":\"\",\"zerolinecolor\":\"white\"}},\"shapedefaults\":{\"line\":{\"color\":\"#2a3f5f\"}},\"ternary\":{\"aaxis\":{\"gridcolor\":\"white\",\"linecolor\":\"white\",\"ticks\":\"\"},\"baxis\":{\"gridcolor\":\"white\",\"linecolor\":\"white\",\"ticks\":\"\"},\"bgcolor\":\"#E5ECF6\",\"caxis\":{\"gridcolor\":\"white\",\"linecolor\":\"white\",\"ticks\":\"\"}},\"title\":{\"x\":0.05},\"xaxis\":{\"automargin\":true,\"gridcolor\":\"white\",\"linecolor\":\"white\",\"ticks\":\"\",\"title\":{\"standoff\":15},\"zerolinecolor\":\"white\",\"zerolinewidth\":2},\"yaxis\":{\"automargin\":true,\"gridcolor\":\"white\",\"linecolor\":\"white\",\"ticks\":\"\",\"title\":{\"standoff\":15},\"zerolinecolor\":\"white\",\"zerolinewidth\":2}}},\"mapbox\":{\"domain\":{\"x\":[0.0,1.0],\"y\":[0.0,1.0]},\"center\":{\"lat\":43.708840577642846,\"lon\":-79.4001855035},\"accesstoken\":\"pk.eyJ1IjoibWFuc29ua2VhbnUiLCJhIjoiY2wwcm1zdTJhMDUwczNkbnh3M29kYTR1ZSJ9.s2CKIZH91gp-Zh0R6GtZxg\",\"zoom\":4},\"legend\":{\"title\":{\"text\":\"neighbourhood\"},\"tracegroupgap\":0,\"itemsizing\":\"constant\"},\"margin\":{\"t\":60}},                        {\"responsive\": true}                    ).then(function(){\n",
       "                            \n",
       "var gd = document.getElementById('f50d94b0-6749-4f4f-803d-5564c675c16c');\n",
       "var x = new MutationObserver(function (mutations, observer) {{\n",
       "        var display = window.getComputedStyle(gd).display;\n",
       "        if (!display || display === 'none') {{\n",
       "            console.log([gd, 'removed!']);\n",
       "            Plotly.purge(gd);\n",
       "            observer.disconnect();\n",
       "        }}\n",
       "}});\n",
       "\n",
       "// Listen for the removal of the full notebook cells\n",
       "var notebookContainer = gd.closest('#notebook-container');\n",
       "if (notebookContainer) {{\n",
       "    x.observe(notebookContainer, {childList: true});\n",
       "}}\n",
       "\n",
       "// Listen for the clearing of the current output cell\n",
       "var outputEl = gd.closest('.output');\n",
       "if (outputEl) {{\n",
       "    x.observe(outputEl, {childList: true});\n",
       "}}\n",
       "\n",
       "                        })                };                });            </script>        </div>"
      ]
     },
     "metadata": {},
     "output_type": "display_data"
    }
   ],
   "source": [
    "neighbourhood_map().show()"
   ]
  },
  {
   "cell_type": "code",
   "execution_count": 97,
   "metadata": {},
   "outputs": [],
   "source": [
    "# create_bar_chart(data, title, xlabel, ylabel, color)\n",
    "\n",
    "# # Bar chart for 2001\n",
    "#create_bar_chart(num_dwel_per_yr.loc[2001], \"Dwelling Types in Toronto in 2001\", \"2001\", \"Dwelling Type Units\", \"red\")\n",
    "\n",
    "# # Bar chart for 2006\n",
    "# create_bar_chart(df_dwelling_units.loc[2006], \"Dwelling Types in Toronto in 2006\", \"2006\", \"Dwelling Type Units\", \"blue\")\n",
    "\n",
    "# # Bar chart for 2011\n",
    "# create_bar_chart(df_dwelling_units.loc[2011], \"Dwelling Types in Toronto in 2011\", \"2011\", \"Dwelling Type Units\", \"orange\")\n",
    "\n",
    "# # Bar chart for 2016\n",
    "# create_bar_chart(df_dwelling_units.loc[2016], \"Dwelling Types in Toronto in 2016\", \"2016\", \"Dwelling Type Units\", \"magenta\")"
   ]
  },
  {
   "cell_type": "code",
   "execution_count": 90,
   "metadata": {},
   "outputs": [],
   "source": [
    "# create_line_chart(data, title, xlabel, ylabel, color)\n",
    "\n",
    "# # Line chart for owned dwellings\n",
    "# create_line_chart(df_avg_costs[\"shelter_costs_owned\"], \"Average Monthly Shelter Cost for Owned Dwellings in Toronto\", \"Year\", \"Avg Monthly Shelter Costs\", \"blue\")\n",
    "\n",
    "# # Line chart for rented dwellings\n",
    "# create_line_chart(df_avg_costs[\"shelter_costs_rented\"], \"Average Monthly Shelter Cost for Rented Dwellings in Toronto\", \"Year\", \"Avg Monthly Shelter Costs\", \"orange\")"
   ]
  },
  {
   "cell_type": "code",
   "execution_count": 98,
   "metadata": {},
   "outputs": [],
   "source": [
    "#average_house_value()"
   ]
  },
  {
   "cell_type": "code",
   "execution_count": 92,
   "metadata": {},
   "outputs": [],
   "source": [
    "# average_value_by_neighbourhood()"
   ]
  },
  {
   "cell_type": "code",
   "execution_count": 99,
   "metadata": {},
   "outputs": [],
   "source": [
    "#number_dwelling_types()"
   ]
  },
  {
   "cell_type": "code",
   "execution_count": null,
   "metadata": {},
   "outputs": [],
   "source": [
    "# average_house_value_snapshot()"
   ]
  },
  {
   "cell_type": "code",
   "execution_count": 100,
   "metadata": {},
   "outputs": [],
   "source": [
    "#top_most_expensive_neighbourhoods()"
   ]
  },
  {
   "cell_type": "code",
   "execution_count": null,
   "metadata": {},
   "outputs": [],
   "source": [
    "# sunburts_cost_analysis()"
   ]
  }
 ],
 "metadata": {
  "file_extension": ".py",
  "kernelspec": {
   "display_name": "Python [conda env:pyvizenv] *",
   "language": "python",
   "name": "conda-env-pyvizenv-py"
  },
  "language_info": {
   "codemirror_mode": {
    "name": "ipython",
    "version": 3
   },
   "file_extension": ".py",
   "mimetype": "text/x-python",
   "name": "python",
   "nbconvert_exporter": "python",
   "pygments_lexer": "ipython3",
   "version": "3.7.11"
  },
  "mimetype": "text/x-python",
  "name": "python",
  "npconvert_exporter": "python",
  "pygments_lexer": "ipython3",
  "version": 3
 },
 "nbformat": 4,
 "nbformat_minor": 4
}
